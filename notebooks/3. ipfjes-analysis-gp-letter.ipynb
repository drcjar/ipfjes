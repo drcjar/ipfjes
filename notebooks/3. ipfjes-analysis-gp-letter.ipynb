{
 "cells": [
  {
   "cell_type": "code",
   "execution_count": 1,
   "metadata": {},
   "outputs": [],
   "source": [
    "# need to set up database first from most recent database dump - this should be scripted"
   ]
  },
  {
   "cell_type": "code",
   "execution_count": 2,
   "metadata": {},
   "outputs": [],
   "source": [
    "import pandas as pd\n",
    "import psycopg2 as pg\n",
    "import pandas.io.sql as psql\n",
    "import os.path"
   ]
  },
  {
   "cell_type": "code",
   "execution_count": 3,
   "metadata": {},
   "outputs": [],
   "source": [
    "conn = pg.connect(\"dbname='carlplaying' user='drcjar' password='drcjar_is_not_fake'\")"
   ]
  },
  {
   "cell_type": "code",
   "execution_count": 4,
   "metadata": {},
   "outputs": [],
   "source": [
    "df = psql.read_sql(\"SELECT * FROM ipfjes_demographics\", conn)"
   ]
  },
  {
   "cell_type": "code",
   "execution_count": 5,
   "metadata": {},
   "outputs": [
    {
     "data": {
      "text/plain": [
       "Index(['id', 'created', 'updated', 'consistency_token', 'hospital_number',\n",
       "       'nhs_number', 'surname', 'first_name', 'middle_name', 'date_of_birth',\n",
       "       'religion', 'date_of_death', 'post_code', 'gp_practice_code',\n",
       "       'death_indicator', 'title_ft', 'marital_status_ft', 'sex_ft',\n",
       "       'birth_place_ft', 'ethnicity_ft', 'birth_place_fk_id', 'created_by_id',\n",
       "       'ethnicity_fk_id', 'marital_status_fk_id', 'patient_id', 'sex_fk_id',\n",
       "       'title_fk_id', 'updated_by_id', 'contact_details', 'phone_number'],\n",
       "      dtype='object')"
      ]
     },
     "execution_count": 5,
     "metadata": {},
     "output_type": "execute_result"
    }
   ],
   "source": [
    "df.columns"
   ]
  },
  {
   "cell_type": "code",
   "execution_count": 6,
   "metadata": {},
   "outputs": [],
   "source": [
    "df = df[['contact_details', 'hospital_number', 'first_name', 'surname', 'date_of_birth']]"
   ]
  },
  {
   "cell_type": "code",
   "execution_count": 7,
   "metadata": {},
   "outputs": [],
   "source": [
    "df.contact_details = df.contact_details.str.replace('GP','')\n",
    "df.contact_details = df.contact_details.str.replace(':','')"
   ]
  },
  {
   "cell_type": "code",
   "execution_count": 8,
   "metadata": {},
   "outputs": [],
   "source": [
    "save_path = '/home/drcjar/Sync/ipfjes-pid/ipfjes-letters/letters'\n",
    "\n",
    "def make_letter(hospital_number, gpaddress, first_name, surname, date_of_birth):\n",
    "    with open('ipfjes-coverletter-gp.tex', 'r') as f:   # this is our template it also calls a .lco file\n",
    "        letter = f.read()\n",
    "        letter = letter.replace('gpaddress', gpaddress)\n",
    "        letter = letter.replace('first_name', first_name)\n",
    "        letter = letter.replace('surname', surname)\n",
    "        letter = letter.replace('date_of_birth', date_of_birth)\n",
    "    with open(os.path.join(save_path, hospital_number + \".tex\"), 'w') as f:\n",
    "        f.write(letter)"
   ]
  },
  {
   "cell_type": "code",
   "execution_count": 9,
   "metadata": {},
   "outputs": [],
   "source": [
    "for i in range(len(df)):\n",
    "    try:\n",
    "        hospital_number = df.iloc[i]['hospital_number']\n",
    "        gpaddress = df.iloc[i]['contact_details']\n",
    "        first_name = df.iloc[i]['first_name']\n",
    "        surname = df.iloc[i]['surname']\n",
    "        date_of_birth = str(df.iloc[i]['date_of_birth'].strftime('%d/%m/%Y'))\n",
    "        make_letter(hospital_number, gpaddress, first_name, surname, date_of_birth)\n",
    "    except (TypeError, AttributeError):\n",
    "        continue"
   ]
  },
  {
   "cell_type": "code",
   "execution_count": 10,
   "metadata": {},
   "outputs": [],
   "source": [
    "# to make all the pdf need to run: for file in *.tex; do xelatex -interaction nonstopmode \"$file\"; done "
   ]
  }
 ],
 "metadata": {
  "kernelspec": {
   "display_name": "Python 3",
   "language": "python",
   "name": "python3"
  },
  "language_info": {
   "codemirror_mode": {
    "name": "ipython",
    "version": 3
   },
   "file_extension": ".py",
   "mimetype": "text/x-python",
   "name": "python",
   "nbconvert_exporter": "python",
   "pygments_lexer": "ipython3",
   "version": "3.5.4"
  }
 },
 "nbformat": 4,
 "nbformat_minor": 2
}
