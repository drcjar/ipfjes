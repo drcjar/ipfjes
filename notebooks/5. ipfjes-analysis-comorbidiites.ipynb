{
 "cells": [
  {
   "cell_type": "code",
   "execution_count": 1,
   "metadata": {},
   "outputs": [],
   "source": [
    "import pandas as pd"
   ]
  },
  {
   "cell_type": "code",
   "execution_count": 2,
   "metadata": {},
   "outputs": [],
   "source": [
    "df = pd.read_csv('comorbidities.csv')"
   ]
  },
  {
   "cell_type": "code",
   "execution_count": 3,
   "metadata": {},
   "outputs": [],
   "source": [
    "df1 = pd.read_csv('flat_dataframe_with_genotypes.csv')"
   ]
  },
  {
   "cell_type": "code",
   "execution_count": 19,
   "metadata": {},
   "outputs": [
    {
     "data": {
      "text/plain": [
       "array([213, 207, 206, 267, 308, 351, 383, 395, 441, 556, 624, 643, 685,\n",
       "       733, 764, 784])"
      ]
     },
     "execution_count": 19,
     "metadata": {},
     "output_type": "execute_result"
    }
   ],
   "source": [
    "df[df.condition_ft == 'GORD'].episode_id.values"
   ]
  },
  {
   "cell_type": "code",
   "execution_count": 22,
   "metadata": {},
   "outputs": [
    {
     "data": {
      "text/plain": [
       "0.0    0.533333\n",
       "1.0    0.333333\n",
       "2.0    0.133333\n",
       "Name: genotype, dtype: float64"
      ]
     },
     "execution_count": 22,
     "metadata": {},
     "output_type": "execute_result"
    }
   ],
   "source": [
    "df1[df1.ipfjes_id.isin([ 213, 207, 206, 267, 308, 351, 383, 395, 441, 556, 624, 643, 685,\n",
    "       733, 764, 784])].genotype.value_counts(normalize=True)"
   ]
  },
  {
   "cell_type": "code",
   "execution_count": 24,
   "metadata": {},
   "outputs": [
    {
     "data": {
      "text/plain": [
       "case  genotype\n",
       "0     0.0         2\n",
       "1     0.0         6\n",
       "      1.0         5\n",
       "      2.0         2\n",
       "Name: genotype, dtype: int64"
      ]
     },
     "execution_count": 24,
     "metadata": {},
     "output_type": "execute_result"
    }
   ],
   "source": [
    "df1[df1.ipfjes_id.isin([ 213, 207, 206, 267, 308, 351, 383, 395, 441, 556, 624, 643, 685,\n",
    "       733, 764, 784])].groupby('case').genotype.value_counts()"
   ]
  },
  {
   "cell_type": "code",
   "execution_count": 23,
   "metadata": {},
   "outputs": [
    {
     "data": {
      "text/plain": [
       "case  genotype\n",
       "0     0.0         1.000000\n",
       "1     0.0         0.461538\n",
       "      1.0         0.384615\n",
       "      2.0         0.153846\n",
       "Name: genotype, dtype: float64"
      ]
     },
     "execution_count": 23,
     "metadata": {},
     "output_type": "execute_result"
    }
   ],
   "source": [
    "df1[df1.ipfjes_id.isin([ 213, 207, 206, 267, 308, 351, 383, 395, 441, 556, 624, 643, 685,\n",
    "       733, 764, 784])].groupby('case').genotype.value_counts(normalize=True)"
   ]
  },
  {
   "cell_type": "code",
   "execution_count": 29,
   "metadata": {},
   "outputs": [
    {
     "data": {
      "text/plain": [
       "case  mrc_score  genotype\n",
       "0     0.0        0.0         1.000000\n",
       "      2.0        0.0         1.000000\n",
       "1     1.0        0.0         0.600000\n",
       "                 1.0         0.400000\n",
       "      2.0        0.0         0.428571\n",
       "                 1.0         0.428571\n",
       "                 2.0         0.142857\n",
       "      3.0        2.0         1.000000\n",
       "Name: genotype, dtype: float64"
      ]
     },
     "execution_count": 29,
     "metadata": {},
     "output_type": "execute_result"
    }
   ],
   "source": [
    "df1[df1.ipfjes_id.isin([ 213, 207, 206, 267, 308, 351, 383, 395, 441, 556, 624, 643, 685,\n",
    "       733, 764, 784])].groupby(['case', 'mrc_score']).genotype.value_counts(normalize=True, sort=False)"
   ]
  },
  {
   "cell_type": "code",
   "execution_count": 17,
   "metadata": {},
   "outputs": [
    {
     "data": {
      "text/plain": [
       "0.0    0.585575\n",
       "1.0    0.370416\n",
       "2.0    0.044010\n",
       "Name: genotype, dtype: float64"
      ]
     },
     "execution_count": 17,
     "metadata": {},
     "output_type": "execute_result"
    }
   ],
   "source": [
    "df1.genotype.value_counts(normalize=True)"
   ]
  },
  {
   "cell_type": "code",
   "execution_count": 30,
   "metadata": {},
   "outputs": [
    {
     "data": {
      "text/plain": [
       "case  mrc_score  genotype\n",
       "0     0.0        0.0         0.782609\n",
       "                 1.0         0.208696\n",
       "                 2.0         0.008696\n",
       "      1.0        0.0         0.827586\n",
       "                 1.0         0.155172\n",
       "                 2.0         0.017241\n",
       "      2.0        0.0         0.626667\n",
       "                 1.0         0.346667\n",
       "                 2.0         0.026667\n",
       "      3.0        0.0         0.881356\n",
       "                 1.0         0.118644\n",
       "      4.0        1.0         1.000000\n",
       "1     0.0        0.0         0.555556\n",
       "                 1.0         0.333333\n",
       "                 2.0         0.111111\n",
       "      1.0        0.0         0.342466\n",
       "                 1.0         0.575342\n",
       "                 2.0         0.082192\n",
       "      2.0        0.0         0.367647\n",
       "                 1.0         0.566176\n",
       "                 2.0         0.066176\n",
       "      3.0        0.0         0.378571\n",
       "                 1.0         0.535714\n",
       "                 2.0         0.085714\n",
       "      4.0        0.0         0.473684\n",
       "                 1.0         0.473684\n",
       "                 2.0         0.052632\n",
       "Name: genotype, dtype: float64"
      ]
     },
     "execution_count": 30,
     "metadata": {},
     "output_type": "execute_result"
    }
   ],
   "source": [
    "df1.groupby(['case', 'mrc_score']).genotype.value_counts(normalize=True, sort=False)"
   ]
  },
  {
   "cell_type": "code",
   "execution_count": null,
   "metadata": {},
   "outputs": [],
   "source": []
  }
 ],
 "metadata": {
  "kernelspec": {
   "display_name": "Python 3",
   "language": "python",
   "name": "python3"
  },
  "language_info": {
   "codemirror_mode": {
    "name": "ipython",
    "version": 3
   },
   "file_extension": ".py",
   "mimetype": "text/x-python",
   "name": "python",
   "nbconvert_exporter": "python",
   "pygments_lexer": "ipython3",
   "version": "3.5.4"
  }
 },
 "nbformat": 4,
 "nbformat_minor": 2
}
