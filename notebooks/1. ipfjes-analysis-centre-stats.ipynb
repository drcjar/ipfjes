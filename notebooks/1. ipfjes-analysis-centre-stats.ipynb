{
 "cells": [
  {
   "cell_type": "markdown",
   "metadata": {},
   "source": [
    "# ipfjes monthly monitoring part 1"
   ]
  },
  {
   "cell_type": "code",
   "execution_count": 1,
   "metadata": {},
   "outputs": [],
   "source": [
    "import pandas as pd\n",
    "import psycopg2 as pg\n",
    "import pandas.io.sql as psql\n",
    "import datetime \n",
    "%matplotlib inline"
   ]
  },
  {
   "cell_type": "code",
   "execution_count": 2,
   "metadata": {},
   "outputs": [],
   "source": [
    "# todo automate all inc db prep bit and https://stackoverflow.com/questions/33181846/programmatically-convert-pandas-dataframe-to-markdown-table\n",
    "# need to update to not count participants that don't want to interview?"
   ]
  },
  {
   "cell_type": "code",
   "execution_count": 3,
   "metadata": {},
   "outputs": [],
   "source": [
    "conn = pg.connect(\"dbname='carlplaying' user='drcjar' password='drcjar_is_not_fake'\")"
   ]
  },
  {
   "cell_type": "code",
   "execution_count": 4,
   "metadata": {},
   "outputs": [],
   "source": [
    "df = psql.read_sql(\"SELECT * FROM ipfjes_demographics\", conn)"
   ]
  },
  {
   "cell_type": "code",
   "execution_count": 5,
   "metadata": {},
   "outputs": [],
   "source": [
    "df = df[df.updated.notnull()]"
   ]
  },
  {
   "cell_type": "code",
   "execution_count": 6,
   "metadata": {},
   "outputs": [
    {
     "data": {
      "text/plain": [
       "datetime.datetime(2019, 9, 23, 15, 0, 1, 552137, tzinfo=psycopg2.tz.FixedOffsetTimezone(offset=60, name=None))"
      ]
     },
     "execution_count": 6,
     "metadata": {},
     "output_type": "execute_result"
    }
   ],
   "source": [
    "df.updated.max()"
   ]
  },
  {
   "cell_type": "code",
   "execution_count": 7,
   "metadata": {},
   "outputs": [],
   "source": [
    "t = df.updated.dropna().max() # date of most recent record in db"
   ]
  },
  {
   "cell_type": "code",
   "execution_count": 8,
   "metadata": {},
   "outputs": [
    {
     "data": {
      "text/html": [
       "<div>\n",
       "<style scoped>\n",
       "    .dataframe tbody tr th:only-of-type {\n",
       "        vertical-align: middle;\n",
       "    }\n",
       "\n",
       "    .dataframe tbody tr th {\n",
       "        vertical-align: top;\n",
       "    }\n",
       "\n",
       "    .dataframe thead th {\n",
       "        text-align: right;\n",
       "    }\n",
       "</style>\n",
       "<table border=\"1\" class=\"dataframe\">\n",
       "  <thead>\n",
       "    <tr style=\"text-align: right;\">\n",
       "      <th></th>\n",
       "      <th>index</th>\n",
       "      <th>hospital_number</th>\n",
       "    </tr>\n",
       "  </thead>\n",
       "  <tbody>\n",
       "    <tr>\n",
       "      <th>0</th>\n",
       "      <td>04</td>\n",
       "      <td>109</td>\n",
       "    </tr>\n",
       "    <tr>\n",
       "      <th>1</th>\n",
       "      <td>10</td>\n",
       "      <td>106</td>\n",
       "    </tr>\n",
       "    <tr>\n",
       "      <th>2</th>\n",
       "      <td>01</td>\n",
       "      <td>89</td>\n",
       "    </tr>\n",
       "    <tr>\n",
       "      <th>3</th>\n",
       "      <td>08</td>\n",
       "      <td>84</td>\n",
       "    </tr>\n",
       "    <tr>\n",
       "      <th>4</th>\n",
       "      <td>06</td>\n",
       "      <td>80</td>\n",
       "    </tr>\n",
       "    <tr>\n",
       "      <th>5</th>\n",
       "      <td>03</td>\n",
       "      <td>80</td>\n",
       "    </tr>\n",
       "    <tr>\n",
       "      <th>6</th>\n",
       "      <td>05</td>\n",
       "      <td>74</td>\n",
       "    </tr>\n",
       "    <tr>\n",
       "      <th>7</th>\n",
       "      <td>20</td>\n",
       "      <td>64</td>\n",
       "    </tr>\n",
       "    <tr>\n",
       "      <th>8</th>\n",
       "      <td>09</td>\n",
       "      <td>64</td>\n",
       "    </tr>\n",
       "    <tr>\n",
       "      <th>9</th>\n",
       "      <td>16</td>\n",
       "      <td>42</td>\n",
       "    </tr>\n",
       "    <tr>\n",
       "      <th>10</th>\n",
       "      <td>14</td>\n",
       "      <td>37</td>\n",
       "    </tr>\n",
       "    <tr>\n",
       "      <th>11</th>\n",
       "      <td>07</td>\n",
       "      <td>32</td>\n",
       "    </tr>\n",
       "    <tr>\n",
       "      <th>12</th>\n",
       "      <td>15</td>\n",
       "      <td>31</td>\n",
       "    </tr>\n",
       "    <tr>\n",
       "      <th>13</th>\n",
       "      <td>13</td>\n",
       "      <td>30</td>\n",
       "    </tr>\n",
       "    <tr>\n",
       "      <th>14</th>\n",
       "      <td>02</td>\n",
       "      <td>25</td>\n",
       "    </tr>\n",
       "    <tr>\n",
       "      <th>15</th>\n",
       "      <td>11</td>\n",
       "      <td>22</td>\n",
       "    </tr>\n",
       "    <tr>\n",
       "      <th>16</th>\n",
       "      <td>19</td>\n",
       "      <td>19</td>\n",
       "    </tr>\n",
       "    <tr>\n",
       "      <th>17</th>\n",
       "      <td>18</td>\n",
       "      <td>16</td>\n",
       "    </tr>\n",
       "    <tr>\n",
       "      <th>18</th>\n",
       "      <td>17</td>\n",
       "      <td>12</td>\n",
       "    </tr>\n",
       "    <tr>\n",
       "      <th>19</th>\n",
       "      <td>21</td>\n",
       "      <td>9</td>\n",
       "    </tr>\n",
       "    <tr>\n",
       "      <th>20</th>\n",
       "      <td>12</td>\n",
       "      <td>7</td>\n",
       "    </tr>\n",
       "  </tbody>\n",
       "</table>\n",
       "</div>"
      ],
      "text/plain": [
       "   index  hospital_number\n",
       "0     04              109\n",
       "1     10              106\n",
       "2     01               89\n",
       "3     08               84\n",
       "4     06               80\n",
       "5     03               80\n",
       "6     05               74\n",
       "7     20               64\n",
       "8     09               64\n",
       "9     16               42\n",
       "10    14               37\n",
       "11    07               32\n",
       "12    15               31\n",
       "13    13               30\n",
       "14    02               25\n",
       "15    11               22\n",
       "16    19               19\n",
       "17    18               16\n",
       "18    17               12\n",
       "19    21                9\n",
       "20    12                7"
      ]
     },
     "execution_count": 8,
     "metadata": {},
     "output_type": "execute_result"
    }
   ],
   "source": [
    "df[~df.hospital_number.str.upper().str.contains('TEST')].hospital_number.str[:2].value_counts()[:21].reset_index()"
   ]
  },
  {
   "cell_type": "code",
   "execution_count": 9,
   "metadata": {},
   "outputs": [],
   "source": [
    "lookup = pd.read_csv('https://raw.githubusercontent.com/drcjar/ipfjes/master/docs/ipfjes-centre-ids.csv')\n",
    "centre_stats = df[~df.hospital_number.str.upper().str.contains('TEST')].hospital_number.str[:2].value_counts()[:21].reset_index()\n",
    "centre_stats.columns = ['Centre ID', 'Participants Recruited']\n",
    "centre_stats['Centre ID'] = centre_stats['Centre ID'].astype(int)\n",
    "centre_stats = pd.merge(centre_stats, lookup, on='Centre ID')\n",
    "centre_stats = centre_stats[['Principal Investigator', 'Organisation', 'Participants Recruited']]"
   ]
  },
  {
   "cell_type": "code",
   "execution_count": 10,
   "metadata": {
    "scrolled": true
   },
   "outputs": [
    {
     "name": "stdout",
     "output_type": "stream",
     "text": [
      "centre stats as of 23-09-19\n",
      "1032 enrolled in 845 days (9/week) \n",
      "-112 in -54 days to go (15/week)\n"
     ]
    },
    {
     "data": {
      "text/html": [
       "<div>\n",
       "<style scoped>\n",
       "    .dataframe tbody tr th:only-of-type {\n",
       "        vertical-align: middle;\n",
       "    }\n",
       "\n",
       "    .dataframe tbody tr th {\n",
       "        vertical-align: top;\n",
       "    }\n",
       "\n",
       "    .dataframe thead th {\n",
       "        text-align: right;\n",
       "    }\n",
       "</style>\n",
       "<table border=\"1\" class=\"dataframe\">\n",
       "  <thead>\n",
       "    <tr style=\"text-align: right;\">\n",
       "      <th></th>\n",
       "      <th>Principal Investigator</th>\n",
       "      <th>Organisation</th>\n",
       "      <th>Participants Recruited</th>\n",
       "    </tr>\n",
       "  </thead>\n",
       "  <tbody>\n",
       "    <tr>\n",
       "      <th>0</th>\n",
       "      <td>Sophie Fletcher</td>\n",
       "      <td>Southampton University Hospitals NHS Trust</td>\n",
       "      <td>109</td>\n",
       "    </tr>\n",
       "    <tr>\n",
       "      <th>1</th>\n",
       "      <td>Carl Reynolds</td>\n",
       "      <td>Imperial College Healthcare NHS Trust</td>\n",
       "      <td>106</td>\n",
       "    </tr>\n",
       "    <tr>\n",
       "      <th>2</th>\n",
       "      <td>Gareth Walters</td>\n",
       "      <td>Heart of England NHS Foundation Trust</td>\n",
       "      <td>89</td>\n",
       "    </tr>\n",
       "    <tr>\n",
       "      <th>3</th>\n",
       "      <td>Lisa Spencer</td>\n",
       "      <td>Aintree University Hospitals NHS Foundation Trust</td>\n",
       "      <td>84</td>\n",
       "    </tr>\n",
       "    <tr>\n",
       "      <th>4</th>\n",
       "      <td>Helen Parfrey</td>\n",
       "      <td>Papworth Hospital NHS Foundation Trust</td>\n",
       "      <td>80</td>\n",
       "    </tr>\n",
       "    <tr>\n",
       "      <th>5</th>\n",
       "      <td>Gauri Saini</td>\n",
       "      <td>Nottingham University Hospitals NHS Trust</td>\n",
       "      <td>80</td>\n",
       "    </tr>\n",
       "    <tr>\n",
       "      <th>6</th>\n",
       "      <td>Nazia Chaudhuri</td>\n",
       "      <td>University Hospital of South Manchester</td>\n",
       "      <td>74</td>\n",
       "    </tr>\n",
       "    <tr>\n",
       "      <th>7</th>\n",
       "      <td>Alex West</td>\n",
       "      <td>Guys’ and St Thomas’ NHS Foundation Trust</td>\n",
       "      <td>64</td>\n",
       "    </tr>\n",
       "    <tr>\n",
       "      <th>8</th>\n",
       "      <td>Huzaifa Adamali</td>\n",
       "      <td>North Bristol NHS Trust</td>\n",
       "      <td>64</td>\n",
       "    </tr>\n",
       "    <tr>\n",
       "      <th>9</th>\n",
       "      <td>Paul Beirne</td>\n",
       "      <td>Leeds Teaching Hospitals NHS Trust</td>\n",
       "      <td>42</td>\n",
       "    </tr>\n",
       "    <tr>\n",
       "      <th>10</th>\n",
       "      <td>Ian Forrest</td>\n",
       "      <td>The Newcastle Upon Tyne Hospitals NHS Foundati...</td>\n",
       "      <td>37</td>\n",
       "    </tr>\n",
       "    <tr>\n",
       "      <th>11</th>\n",
       "      <td>Michael Gibbons</td>\n",
       "      <td>Royal Devon and Exeter NHS Foundation Trust</td>\n",
       "      <td>32</td>\n",
       "    </tr>\n",
       "    <tr>\n",
       "      <th>12</th>\n",
       "      <td>Justin Pepperell</td>\n",
       "      <td>Taunton and Somerset NHS Foundation Trust</td>\n",
       "      <td>31</td>\n",
       "    </tr>\n",
       "    <tr>\n",
       "      <th>13</th>\n",
       "      <td>Nik Hirani</td>\n",
       "      <td>Royal Infirmary of Edinburgh</td>\n",
       "      <td>30</td>\n",
       "    </tr>\n",
       "    <tr>\n",
       "      <th>14</th>\n",
       "      <td>Kim Harrison</td>\n",
       "      <td>Morriston Hospital</td>\n",
       "      <td>25</td>\n",
       "    </tr>\n",
       "    <tr>\n",
       "      <th>15</th>\n",
       "      <td>Owen Dempsey</td>\n",
       "      <td>Aberdeen Royal Infirmary</td>\n",
       "      <td>22</td>\n",
       "    </tr>\n",
       "    <tr>\n",
       "      <th>16</th>\n",
       "      <td>Steve O’Hickey</td>\n",
       "      <td>Worcestershire Acute Hospitals NHS Trust</td>\n",
       "      <td>19</td>\n",
       "    </tr>\n",
       "    <tr>\n",
       "      <th>17</th>\n",
       "      <td>David Thickett</td>\n",
       "      <td>University Hospitals Birmingham NHS Foundation...</td>\n",
       "      <td>16</td>\n",
       "    </tr>\n",
       "    <tr>\n",
       "      <th>18</th>\n",
       "      <td>Suresh Babu</td>\n",
       "      <td>Portsmouth Hospitals NHS Trust</td>\n",
       "      <td>12</td>\n",
       "    </tr>\n",
       "    <tr>\n",
       "      <th>19</th>\n",
       "      <td>Andrew Wilson</td>\n",
       "      <td>Norfolk and Norwich University Hospitals NHS F...</td>\n",
       "      <td>9</td>\n",
       "    </tr>\n",
       "    <tr>\n",
       "      <th>20</th>\n",
       "      <td>George Chalmers</td>\n",
       "      <td>Glasgow Royal Infirmary</td>\n",
       "      <td>7</td>\n",
       "    </tr>\n",
       "  </tbody>\n",
       "</table>\n",
       "</div>"
      ],
      "text/plain": [
       "   Principal Investigator                                       Organisation  \\\n",
       "0         Sophie Fletcher         Southampton University Hospitals NHS Trust   \n",
       "1           Carl Reynolds              Imperial College Healthcare NHS Trust   \n",
       "2          Gareth Walters              Heart of England NHS Foundation Trust   \n",
       "3            Lisa Spencer  Aintree University Hospitals NHS Foundation Trust   \n",
       "4           Helen Parfrey             Papworth Hospital NHS Foundation Trust   \n",
       "5             Gauri Saini          Nottingham University Hospitals NHS Trust   \n",
       "6         Nazia Chaudhuri            University Hospital of South Manchester   \n",
       "7              Alex West           Guys’ and St Thomas’ NHS Foundation Trust   \n",
       "8         Huzaifa Adamali                            North Bristol NHS Trust   \n",
       "9             Paul Beirne                 Leeds Teaching Hospitals NHS Trust   \n",
       "10            Ian Forrest  The Newcastle Upon Tyne Hospitals NHS Foundati...   \n",
       "11        Michael Gibbons        Royal Devon and Exeter NHS Foundation Trust   \n",
       "12       Justin Pepperell          Taunton and Somerset NHS Foundation Trust   \n",
       "13             Nik Hirani                       Royal Infirmary of Edinburgh   \n",
       "14           Kim Harrison                                 Morriston Hospital   \n",
       "15           Owen Dempsey                           Aberdeen Royal Infirmary   \n",
       "16         Steve O’Hickey           Worcestershire Acute Hospitals NHS Trust   \n",
       "17         David Thickett  University Hospitals Birmingham NHS Foundation...   \n",
       "18            Suresh Babu                     Portsmouth Hospitals NHS Trust   \n",
       "19          Andrew Wilson  Norfolk and Norwich University Hospitals NHS F...   \n",
       "20        George Chalmers                            Glasgow Royal Infirmary   \n",
       "\n",
       "    Participants Recruited  \n",
       "0                      109  \n",
       "1                      106  \n",
       "2                       89  \n",
       "3                       84  \n",
       "4                       80  \n",
       "5                       80  \n",
       "6                       74  \n",
       "7                       64  \n",
       "8                       64  \n",
       "9                       42  \n",
       "10                      37  \n",
       "11                      32  \n",
       "12                      31  \n",
       "13                      30  \n",
       "14                      25  \n",
       "15                      22  \n",
       "16                      19  \n",
       "17                      16  \n",
       "18                      12  \n",
       "19                       9  \n",
       "20                       7  "
      ]
     },
     "execution_count": 10,
     "metadata": {},
     "output_type": "execute_result"
    }
   ],
   "source": [
    "start_date = datetime.date(2017, 6, 1)\n",
    "end_date = datetime.date(2019, 8, 1)\n",
    "elapsed = (datetime.date.today() - start_date).days\n",
    "remaining = (end_date - datetime.date.today()).days\n",
    "\n",
    "print('centre stats as of {}'.format(t.strftime('%d-%m-%y')))\n",
    "recruited = centre_stats['Participants Recruited'].sum()\n",
    "print('{} enrolled in {} days ({:.0f}/week) \\n{} in {} \\\n",
    "days to go ({:.0f}/week)'.format(recruited, elapsed, (recruited/elapsed*7),\n",
    "                                (920 - recruited), remaining, (920 - recruited)/remaining*7))\n",
    "centre_stats"
   ]
  },
  {
   "cell_type": "code",
   "execution_count": 11,
   "metadata": {},
   "outputs": [
    {
     "data": {
      "text/plain": [
       "21"
      ]
     },
     "execution_count": 11,
     "metadata": {},
     "output_type": "execute_result"
    }
   ],
   "source": [
    "len(centre_stats)"
   ]
  },
  {
   "cell_type": "code",
   "execution_count": 12,
   "metadata": {},
   "outputs": [
    {
     "data": {
      "text/html": [
       "<div>\n",
       "<style scoped>\n",
       "    .dataframe tbody tr th:only-of-type {\n",
       "        vertical-align: middle;\n",
       "    }\n",
       "\n",
       "    .dataframe tbody tr th {\n",
       "        vertical-align: top;\n",
       "    }\n",
       "\n",
       "    .dataframe thead th {\n",
       "        text-align: right;\n",
       "    }\n",
       "</style>\n",
       "<table border=\"1\" class=\"dataframe\">\n",
       "  <thead>\n",
       "    <tr style=\"text-align: right;\">\n",
       "      <th></th>\n",
       "      <th>Principal Investigator</th>\n",
       "      <th>Organisation</th>\n",
       "      <th>Centre ID</th>\n",
       "    </tr>\n",
       "  </thead>\n",
       "  <tbody>\n",
       "  </tbody>\n",
       "</table>\n",
       "</div>"
      ],
      "text/plain": [
       "Empty DataFrame\n",
       "Columns: [Principal Investigator, Organisation, Centre ID]\n",
       "Index: []"
      ]
     },
     "execution_count": 12,
     "metadata": {},
     "output_type": "execute_result"
    }
   ],
   "source": [
    "lookup[~lookup.Organisation.isin(centre_stats.Organisation)]"
   ]
  },
  {
   "cell_type": "code",
   "execution_count": 13,
   "metadata": {},
   "outputs": [],
   "source": [
    "centre_stats.to_csv('ipfjes-recruitment-{}.csv'.format(t.strftime('%d-%m-%y')), index=False)"
   ]
  },
  {
   "cell_type": "code",
   "execution_count": 14,
   "metadata": {},
   "outputs": [],
   "source": [
    "df.updated = pd.to_datetime(df.updated, utc=True)"
   ]
  },
  {
   "cell_type": "code",
   "execution_count": 15,
   "metadata": {},
   "outputs": [],
   "source": [
    "df.index = df.updated"
   ]
  },
  {
   "cell_type": "code",
   "execution_count": 16,
   "metadata": {},
   "outputs": [
    {
     "data": {
      "text/plain": [
       "updated\n",
       "2017-07-31 00:00:00+00:00      5\n",
       "2017-08-31 00:00:00+00:00     21\n",
       "2017-09-30 00:00:00+00:00     21\n",
       "2017-10-31 00:00:00+00:00     19\n",
       "2017-11-30 00:00:00+00:00     35\n",
       "2017-12-31 00:00:00+00:00     28\n",
       "2018-01-31 00:00:00+00:00     38\n",
       "2018-02-28 00:00:00+00:00     31\n",
       "2018-03-31 00:00:00+00:00     34\n",
       "2018-04-30 00:00:00+00:00     87\n",
       "2018-05-31 00:00:00+00:00     27\n",
       "2018-06-30 00:00:00+00:00     32\n",
       "2018-07-31 00:00:00+00:00    136\n",
       "2018-08-31 00:00:00+00:00     49\n",
       "2018-09-30 00:00:00+00:00     41\n",
       "2018-10-31 00:00:00+00:00     65\n",
       "2018-11-30 00:00:00+00:00     50\n",
       "2018-12-31 00:00:00+00:00     22\n",
       "2019-01-31 00:00:00+00:00     34\n",
       "2019-02-28 00:00:00+00:00     22\n",
       "2019-03-31 00:00:00+00:00     26\n",
       "2019-04-30 00:00:00+00:00     15\n",
       "2019-05-31 00:00:00+00:00     51\n",
       "2019-06-30 00:00:00+00:00     35\n",
       "2019-07-31 00:00:00+00:00     46\n",
       "2019-08-31 00:00:00+00:00     33\n",
       "2019-09-30 00:00:00+00:00     29\n",
       "Freq: M, Name: hospital_number, dtype: int64"
      ]
     },
     "execution_count": 16,
     "metadata": {},
     "output_type": "execute_result"
    }
   ],
   "source": [
    "df.resample('M').hospital_number.count()"
   ]
  },
  {
   "cell_type": "code",
   "execution_count": 17,
   "metadata": {},
   "outputs": [
    {
     "data": {
      "text/plain": [
       "<matplotlib.axes._subplots.AxesSubplot at 0x7fe6dc23fac8>"
      ]
     },
     "execution_count": 17,
     "metadata": {},
     "output_type": "execute_result"
    },
    {
     "data": {
      "image/png": "[encoded data removed]",
      "text/plain": [
       "<matplotlib.figure.Figure at 0x7fe6dc2a5f98>"
      ]
     },
     "metadata": {},
     "output_type": "display_data"
    }
   ],
   "source": [
    "df.resample('M').hospital_number.count().plot(kind='bar')"
   ]
  },
  {
   "cell_type": "code",
   "execution_count": 18,
   "metadata": {},
   "outputs": [
    {
     "data": {
      "text/plain": [
       "1032"
      ]
     },
     "execution_count": 18,
     "metadata": {},
     "output_type": "execute_result"
    }
   ],
   "source": [
    "df.hospital_number.nunique()"
   ]
  },
  {
   "cell_type": "code",
   "execution_count": null,
   "metadata": {},
   "outputs": [],
   "source": []
  },
  {
   "cell_type": "code",
   "execution_count": null,
   "metadata": {},
   "outputs": [],
   "source": []
  },
  {
   "cell_type": "code",
   "execution_count": null,
   "metadata": {},
   "outputs": [],
   "source": []
  },
  {
   "cell_type": "code",
   "execution_count": null,
   "metadata": {},
   "outputs": [],
   "source": []
  }
 ],
 "metadata": {
  "kernelspec": {
   "display_name": "Python 3",
   "language": "python",
   "name": "python3"
  },
  "language_info": {
   "codemirror_mode": {
    "name": "ipython",
    "version": 3
   },
   "file_extension": ".py",
   "mimetype": "text/x-python",
   "name": "python",
   "nbconvert_exporter": "python",
   "pygments_lexer": "ipython3",
   "version": "3.5.4"
  }
 },
 "nbformat": 4,
 "nbformat_minor": 2
}
