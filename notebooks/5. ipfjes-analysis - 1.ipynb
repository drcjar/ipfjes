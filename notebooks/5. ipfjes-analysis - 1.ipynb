{
 "cells": [
  {
   "cell_type": "code",
   "execution_count": 1,
   "metadata": {},
   "outputs": [],
   "source": [
    "import pandas as pd\n",
    "import psycopg2 as pg\n",
    "import pandas.io.sql as psql\n",
    "import datetime as dt\n",
    "import numpy as np\n",
    "import scipy.stats as stats\n",
    "from ukpostcodeutils import validation\n",
    "import geopy.distance\n",
    "import matplotlib.pyplot as plt\n",
    "import seaborn as sbn\n",
    "import collections\n",
    "from functools import reduce\n",
    "#from collections import OrderedDict\n",
    "%matplotlib inline\n",
    "# pd.options.display.float_format = '{:,.2f}'.format\n",
    "pd.options.mode.chained_assignment = 'raise'"
   ]
  },
  {
   "cell_type": "code",
   "execution_count": 2,
   "metadata": {},
   "outputs": [],
   "source": [
    "def dict_from_db():\n",
    "    \"\"\"\n",
    "    Returns a dict of dataframes from the database tables\n",
    "    which are populated by the study application\n",
    "    \"\"\"\n",
    "    conn = pg.connect(\"dbname='carlplaying' user='drcjar' password='drcjar_is_not_fake'\")\n",
    "\n",
    "    cursor = conn.cursor()\n",
    "    cursor.execute(\"select relname from pg_class where relkind='r' and relname !~ '^(pg_|sql_)';\")\n",
    "    e = cursor.fetchall()\n",
    "\n",
    "    table_name_list = [i[0] for i in e]\n",
    "\n",
    "    select_template = 'SELECT * FROM {table_name}'\n",
    "    frames_dict = {}\n",
    "    for tname in table_name_list:\n",
    "        query = select_template.format(table_name = tname)\n",
    "        frames_dict[tname] = pd.read_sql(query, conn)\n",
    "    return frames_dict\n",
    "\n",
    "def notepisodes():\n",
    "    \"\"\"\n",
    "    Returns a list of episode_ids that are not in fact episodes for analysis purposes\n",
    "    e.g patients who have not yet been interviewed\n",
    "    *** This list is made in the quality check notebook ***\n",
    "    \"\"\"\n",
    "    notepisodes = []\n",
    "\n",
    "    with open(\"notepisodes.txt\", \"r\") as f:\n",
    "        for line in f:\n",
    "            notepisodes.append(int(line.strip()))\n",
    "    return notepisodes\n",
    "\n",
    "def dist_from_centre(x): \n",
    "    \"\"\"\n",
    "    Calculate distance from patients GP practice to their\n",
    "    recruitment centre.\n",
    "    \"\"\"\n",
    "    return geopy.distance.vincenty(x.gp_coords, x.centre_coords).km"
   ]
  },
  {
   "cell_type": "code",
   "execution_count": 3,
   "metadata": {},
   "outputs": [],
   "source": [
    "ddf = dict_from_db() # dict of dataframes\n",
    "ne = notepisodes() # not episodes"
   ]
  },
  {
   "cell_type": "code",
   "execution_count": 4,
   "metadata": {},
   "outputs": [],
   "source": [
    "def study_df(df):\n",
    "    \"\"\"\n",
    "    Makes the main study dataframe from our occupational dataframe\n",
    "    \"\"\"\n",
    "    df = df.loc[:,['patient_id', 'soc_job_ft', 'soc_job_fk_id', 'id', 'job_tasks', \n",
    "                   'start_year', 'end_year','employer_output', 'address', 'company_name',\n",
    "                   'working_area_ft']].copy() # e.g for debugging\n",
    "    df = df[~df.patient_id.isin(notepisodes())] # discard not episodes\n",
    "    \n",
    "   # df = df[~df.patient_id.isin([24, 30, 202])] # exclude isle of man as don't have postcode \n",
    "                                                # centroid at present n=3,\n",
    "                                                # all from centre 8\n",
    "    \n",
    "    # we fix above isle of man issue with these details\n",
    "    \"\"\"\n",
    "    24, IM5 1HU, 54.2211357,-4.6912903\n",
    "\n",
    "    30, IM2 3TD 54.1693712,-4.4772768\n",
    "\n",
    "    202, IM2 7EA 54.171227,-4.492851\n",
    "    \n",
    "    \"\"\"\n",
    "    \n",
    "    # add participant_id\n",
    "    pid_lookup = ddf['ipfjes_demographics'].loc[:,['patient_id', 'hospital_number']].copy()\n",
    "    pid_lookup.index = pid_lookup['patient_id']\n",
    "    pid_lookup = pid_lookup['hospital_number'].to_dict()\n",
    "    df['participant_id'] = df['patient_id'].map(pid_lookup)\n",
    "    \n",
    "    # add participant type\n",
    "    pt_lookup = ddf['ipfjes_studyparticipantdetails'].loc[:,['episode_id', 'participant_type']].copy()\n",
    "    pt_lookup.index = pt_lookup['episode_id']\n",
    "    pt_lookup = pt_lookup['participant_type'].to_dict()\n",
    "    df['case'] = df['patient_id'].map(pt_lookup)\n",
    "    \n",
    "    # add job titles\n",
    "    # stick a NaN in missing soc_job_ft and replace with a job title from our lookup\n",
    "    df = df.replace('', np.nan) \n",
    "    job_lookup = ddf['ipfjes_socjob'].loc[:,['id','name']].copy()\n",
    "    job_lookup.index = job_lookup['id']\n",
    "    job_lookup = job_lookup['name'].to_dict()\n",
    "    df['jt'] = df['soc_job_fk_id'].map(job_lookup)\n",
    "    df.soc_job_ft.fillna(df.jt, inplace=True)\n",
    "    del df['jt']\n",
    "    del df['soc_job_fk_id']\n",
    "    \n",
    "    # add job duration\n",
    "    df['duration'] = df.end_year.astype(int) - df.start_year.astype(int) \n",
    "    \n",
    "    # add soc 90 code\n",
    "    soc90_lookup = ddf['ipfjes_soccode'].loc[:,['soc90', 'title']].copy()\n",
    "    soc90_lookup.index = soc90_lookup['title']\n",
    "    soc90_lookup = soc90_lookup['soc90'].to_dict()\n",
    "    df['soc90'] = df.soc_job_ft.map(soc90_lookup)\n",
    "    \n",
    "    # add soc 2000 code\n",
    "    soc2000_lookup = ddf['ipfjes_soccode'].loc[:,['soc2000', 'title']].copy()\n",
    "    soc2000_lookup.index = soc2000_lookup['title']\n",
    "    soc2000_lookup = soc2000_lookup['soc2000'].to_dict()\n",
    "    df['soc2000'] = df.soc_job_ft.map(soc2000_lookup)\n",
    "\n",
    "    # add socioeconomic code\n",
    "    ssec_lookup = pd.read_csv('nssec/nssecderivationtablessoc2000_tcm77-264822.csv') \n",
    "    # nb we're using sheet fm2kac even though we don't know what it means. we should know.\n",
    "    ssec_lookup = ssec_lookup[['SOC2000', 'ssec']] \n",
    "    # simplified socioeconomic classification using soc2000\n",
    "    ssec_lookup.index = ssec_lookup['SOC2000']\n",
    "    ssec_lookup = ssec_lookup['ssec'].to_dict()\n",
    "    df['ssec'] = df.soc2000.map(ssec_lookup)\n",
    "\n",
    "    # add dob\n",
    "    dob_lookup = ddf['ipfjes_demographics'].loc[:,['hospital_number', 'date_of_birth']].copy()\n",
    "    dob_lookup.index = dob_lookup['hospital_number']\n",
    "    dob_lookup = dob_lookup['date_of_birth'].to_dict()\n",
    "    df['dob'] = df.participant_id.map(dob_lookup)\n",
    "    \n",
    "    # add age in years and agegroup\n",
    "    df['age'] = ((dt.datetime.now() - pd.to_datetime(df.dob)).dt.days / 365).astype(int)\n",
    "    df['agegroup'] = pd.cut(df.age, range(25,100,5), \n",
    "                    labels=[\n",
    "                        '25 to 29',\n",
    "                        '30 to 34',\n",
    "                        '35 to 39',\n",
    "                        '40 to 44',\n",
    "                        '45 to 49',\n",
    "                        '50 to 54',\n",
    "                        '55 to 59',\n",
    "                        '60 to 64',\n",
    "                        '65 to 69',\n",
    "                        '70 to 74',\n",
    "                        '75 to 79',\n",
    "                        '80 to 84',\n",
    "                        '85 to 90',\n",
    "                        '90 to 94'],\n",
    "                    right=False) \n",
    "    \n",
    "    # add yob\n",
    "    df['dob'] = pd.to_datetime(df.dob)\n",
    "    df['yob'] = df['dob'].dt.strftime('%Y')\n",
    "    \n",
    "    # add ethnicity\n",
    "    eth_lookup = ddf['ipfjes_demographics'].loc[:,['patient_id', 'ethnicity_ft']].copy()\n",
    "    eth_lookup.index = eth_lookup['patient_id']\n",
    "    eth_lookup = eth_lookup['ethnicity_ft'].to_dict()\n",
    "    df['ethnicity'] = df.patient_id.map(eth_lookup)\n",
    "    \n",
    "    # add smoking\n",
    "    es_lookup = ddf['ipfjes_smokinghistory'].loc[:,['episode_id', 'ever_smoked']].copy()\n",
    "    es_lookup.index = es_lookup['episode_id']\n",
    "    es_lookup = es_lookup['ever_smoked'].to_dict()\n",
    "    df['ever_smoked'] = df.patient_id.map(es_lookup)\n",
    "    \n",
    "    cs_lookup = ddf['ipfjes_smokinghistory'].loc[:,['episode_id', 'current_smoker']].copy()\n",
    "    cs_lookup.index = cs_lookup['episode_id']\n",
    "    cs_lookup = cs_lookup['current_smoker'].to_dict()\n",
    "    df['current_smoker'] = df.patient_id.map(cs_lookup)\n",
    "    \n",
    "    # to calculate pack years we must consider ex-smokers and current smokers separately\n",
    "    age_lookup = df.loc[:,('patient_id','age')].copy()\n",
    "    age_lookup.index = age_lookup['patient_id']\n",
    "    age_lookup = age_lookup['age'].to_dict()\n",
    "\n",
    "    es = ddf['ipfjes_smokinghistory'][(ddf['ipfjes_smokinghistory']['ever_smoked'] == 'Yes') & (ddf['ipfjes_smokinghistory']['current_smoker'] == 'No')].copy() # ex-smokers\n",
    "    \n",
    "    es['years_smoked'] = es['stop_smoking_age'].astype('int') - es['start_smoking_age'].astype('int')\n",
    "    es.cigarettes_per_day = es.cigarettes_per_day.fillna(0) # because not all folks smoke cigarettes\n",
    "    es.cigarettes_per_day = es['cigarettes_per_day'].replace('',0)\n",
    "    es['pack_years'] = (es['cigarettes_per_day'].astype(float) / 20) * es['years_smoked']\n",
    "\n",
    "    cs = ddf['ipfjes_smokinghistory'][ddf['ipfjes_smokinghistory']['current_smoker'] == 'Yes'].copy() # current smokers\n",
    "    cs['age'] = cs['episode_id'].map(age_lookup)\n",
    "    cs['years_smoked'] = cs['age'] - cs['start_smoking_age'].astype('int')\n",
    "    cs.cigarettes_per_day = cs.cigarettes_per_day.fillna(0) # because not all folks smoke cigarettes\n",
    "    \n",
    "\n",
    "    \n",
    "    cs['pack_years'] = (cs['cigarettes_per_day'].astype(int) / 20) * cs['years_smoked']\n",
    "    del cs['age']\n",
    "    # n.b let's populate a cigarettes per day equivalent in the app later as a workaround\n",
    "    # using https://www.smokingpackyears.com/\n",
    "    # Lose tobacco estimates that 25 grams (1oz) has been approximated to the equivalent of 50 cigarettes.\n",
    "    \n",
    "    packyears = pd.concat([es, cs])\n",
    "    packyears.loc[:,['episode_id','pack_years']]\n",
    "    packyears.index = packyears['episode_id']\n",
    "    packyears = packyears['pack_years'].to_dict()\n",
    "    df['packyrs'] =  df['patient_id'].map(packyears)\n",
    "    \n",
    "    # add centre_id\n",
    "    # note that we encode centre id in first two digits of hospital number\n",
    "    # note patient_id == episode_id in the demographics table\n",
    "    df['centre'] = df['participant_id'].str[:2].astype(int) \n",
    "    \n",
    "    # add gp long/lat\n",
    "    centroids = pd.read_csv('ONS_Postcode_Directory_Latest_Centroids.csv', usecols=[0,1,3,4,5,12,13,44])\n",
    "    centroids['pcd'] = centroids['pcd'].str.strip()\n",
    "    centroids['pcd'] = centroids['pcd'].str.replace(\" \",\"\")\n",
    "    centroids['pcd'] = centroids['pcd'].str.replace(\"  \",\"\")\n",
    "    \n",
    "    gp_lookup = ddf['ipfjes_demographics'][ddf['ipfjes_demographics']['contact_details'].notna()].copy()\n",
    "    # quality issues with gp postcode addressed in quality notebook\n",
    "    gp_lookup = gp_lookup[['patient_id', 'contact_details']]\n",
    "    gp_lookup.index = gp_lookup.patient_id\n",
    "    gp_lookup['contact_details'] = gp_lookup['contact_details'].str[-8:]\n",
    "    gp_lookup['contact_details'] = gp_lookup['contact_details'].str.strip()\n",
    "    gp_lookup['contact_details'] = gp_lookup['contact_details'].str.replace(\",\",\"\")\n",
    "    gp_lookup['contact_details'] = gp_lookup['contact_details'].str.replace(\" \",\"\")\n",
    "    gp_lookup['contact_details'] = gp_lookup['contact_details'].str.replace(\"  \",\"\")\n",
    "    gp_lookup = gp_lookup[gp_lookup['contact_details'].map(lambda x: validation.is_valid_postcode(str(x)))]\n",
    "    gp_lookup.columns = ['patient_id', 'pcd']\n",
    "    gp_lookup_centroids = pd.merge(gp_lookup, centroids, on='pcd')\n",
    "    gp_lookup_centroids['gp_coords'] = list(zip(gp_lookup_centroids.Y, gp_lookup_centroids.X))\n",
    "    \n",
    "    gp_lookup_centroids = gp_lookup_centroids[['patient_id', 'gp_coords']].copy()\n",
    "    gp_lookup_centroids.index = gp_lookup_centroids['patient_id']\n",
    "    gp_lookup_centroids = gp_lookup_centroids['gp_coords'].to_dict()\n",
    "    df['gp_coords'] = df['patient_id'].map(gp_lookup_centroids)\n",
    "\n",
    "    # add hospital long/lat\n",
    "    trustpcds = pd.read_csv('trustpcd.csv')\n",
    "    trustpcds['pcd'] = trustpcds['pcd'].str.strip()\n",
    "    trustpcds['pcd'] = trustpcds['pcd'].str.replace(\" \",\"\")\n",
    "    trustpcds_centroids = pd.merge(trustpcds, centroids, on='pcd')\n",
    "    trustpcds_centroids['centre_coords'] = list(zip(trustpcds_centroids.Y, trustpcds_centroids.X))\n",
    "    \n",
    "    tp_lookup_centroids = trustpcds_centroids[[\"Centre ID\", \"centre_coords\"]].copy()\n",
    "    tp_lookup_centroids.index = tp_lookup_centroids['Centre ID']\n",
    "    tp_lookup_centroids = tp_lookup_centroids['centre_coords'].to_dict()\n",
    "    df['centre_coords'] = df['centre'].map(tp_lookup_centroids)\n",
    "    \n",
    "    # fixes missing isle of man gp long/lats\n",
    "    isle_of_man_gp_coords_lookup = {24:\"(54.2211357,-4.6912903)\",\n",
    "                      30:\"(54.1693712,-4.4772768)\",\n",
    "                      202:\"(54.171227,-4.492851)\"}\n",
    "    mask = df['gp_coords'].astype(str) == \"(nan, nan)\"\n",
    "    a = df[mask]\n",
    "    b = df[~mask]\n",
    "    a = a.copy()\n",
    "    a.loc[:,'gp_coords'] = a.loc[:,'patient_id'].map(isle_of_man_gp_coords_lookup)\n",
    "    df = pd.concat([a,b])\n",
    "\n",
    "    df['distfromcentre'] = df.apply(dist_from_centre, axis=1)\n",
    "    \n",
    "    # add ct\n",
    "    ct_lookup = ddf['ipfjes_ctandbiopsy'].loc[:,['episode_id', 'ct_findings']].copy()\n",
    "    ct_lookup.index = ct_lookup['episode_id']\n",
    "    ct_lookup = ct_lookup['ct_findings'].to_dict()\n",
    "    df['ct'] = df.patient_id.map(ct_lookup)\n",
    "\n",
    "    # add bx\n",
    "    bx_lookup = ddf['ipfjes_ctandbiopsy'].loc[:,['episode_id', 'biopsy_findings']].copy()\n",
    "    bx_lookup.index = bx_lookup['episode_id']\n",
    "    bx_lookup = bx_lookup['biopsy_findings'].to_dict()\n",
    "    df['bx'] = df.patient_id.map(bx_lookup)\n",
    "    \n",
    "    # add fhx scarring lung dis\n",
    "    fhx_lookup = ddf['ipfjes_bloodrelationhistory'].loc[:,['episode_id','scarring']].copy()\n",
    "    fhx_lookup.index = fhx_lookup['episode_id']\n",
    "    fhx_lookup = fhx_lookup['scarring'].to_dict()\n",
    "    df['fhx'] = df.patient_id.map(fhx_lookup)\n",
    "\n",
    "    # add scarring drugs\n",
    "    drugs = ddf['ipfjes_scarringdrugs'].loc[:,['episode_id', 'amiodarone', 'flecainade', 'nitrofurantoin', 'azathioprine', 'gefitinib', 'ifosfamide', 'melphalan', 'rituximab']].copy()\n",
    "    drugs['patient_id'] = drugs['episode_id']\n",
    "    del drugs['episode_id']\n",
    "    df = pd.merge(df, drugs , on='patient_id').copy()\n",
    "    \n",
    "    # add mmrc dyspnoea\n",
    "    mmrc = ddf['ipfjes_dyspnoea'].loc[:,['episode_id', 'breathless', 'short_of_breath', 'slower_than_most', 'stops_for_breath', 'dressing_undressing']].copy()\n",
    "    mmrc.columns = ['patient_id', 'mrc0', 'mrc1', 'mrc2', 'mrc3', 'mrc4']\n",
    "    df = pd.merge(df, mmrc, on='patient_id').copy()\n",
    "    \n",
    "    # symptoms leading to diagnosis\n",
    "    pc = ddf['ipfjes_diagnosishistory'].loc[:,['episode_id','breathlessness', 'cough', 'incidental', 'incidental_desc', 'other']].copy()\n",
    "    pc.columns = ['patient_id', 'pc_sob', 'pc_cough', 'pc_incidental', 'pc_incidental_desc', 'pc_other']\n",
    "    df = pd.merge(df, pc, on='patient_id').copy()\n",
    "\n",
    "    # add comments\n",
    "    comments = ddf['ipfjes_studyparticipantdetails'].loc[:,['episode_id', 'comments']].copy()\n",
    "    comments['patient_id'] = comments['episode_id']\n",
    "    del comments['episode_id']\n",
    "    df = pd.merge(df, comments, on='patient_id').copy()\n",
    "\n",
    "    # ddf['ipfjes_pastmedicalhistory'] # appears has special either name of condition with id - see how did for job titles\n",
    "    # also need to flatten / analyze separately\n",
    "\n",
    "    # let 'yes' 'no' be bool, then we can have an mmrc score among other things\n",
    "    df = df.replace({'Yes': True, 'No': False})\n",
    "    df['mrc_score'] = df.loc[:,['mrc1', 'mrc2', 'mrc3', 'mrc4']].sum(axis=1)\n",
    "    \n",
    "    return df"
   ]
  },
  {
   "cell_type": "code",
   "execution_count": 5,
   "metadata": {},
   "outputs": [
    {
     "name": "stderr",
     "output_type": "stream",
     "text": [
      "/home/drcjar/anaconda3/envs/ipfjes/lib/python3.5/site-packages/IPython/core/interactiveshell.py:2901: DtypeWarning: Columns (12,13) have mixed types. Specify dtype option on import or set low_memory=False.\n",
      "  if self.run_code(code, result):\n"
     ]
    }
   ],
   "source": [
    "df = study_df(ddf['ipfjes_occupationalhistory']) # main study dataframe"
   ]
  },
  {
   "cell_type": "code",
   "execution_count": 6,
   "metadata": {},
   "outputs": [],
   "source": [
    "def asbexposed():\n",
    "    \"\"\"\n",
    "    Returns a df of at asbestos exposed SOC2000 codes from David Coggon\n",
    "    Definition of asbestos-exposed job groups: \n",
    "    those groups with significantly elevated PMR for \n",
    "    pleural cancer during the whole period of 1979-80, 1982-2010\n",
    "    provided by email\n",
    "    \"\"\"\n",
    "    df = pd.read_csv('coggon_soc2000_meso_pmr.csv')\n",
    "    df.soc2000 = df.soc2000.astype(str)\n",
    "    return df\n",
    "\n",
    "def asbexposed2():\n",
    "    \"\"\"\n",
    "    Returns a df of at asbestos exposed SOC1990 codes from Julian Peto case-control\n",
    "    study paper.\n",
    "    \n",
    "    Table 2.3.1\n",
    "    Highest mesothelioma proportional mortality ratios (PMRs) for males aged\n",
    "    16-74 in Great Britain, 1991-2000 (PMR>200 with lower confidence interval >100 and\n",
    "    based on more than 30 deaths)\n",
    "    \n",
    "    Uses Mesothelioma proportional mortality ratios (PMRs) for males aged 16-74 \n",
    "    in Great Britain by Standard Occupational Classification (1990) unit group, 1991-2000 \n",
    "    data release.\n",
    "    \"\"\"\n",
    "    df = pd.read_excel('./data/occ80007.xls', skiprows=2) \n",
    "    df = df[(df.Lower > 100) & (df.Deaths > 30) & (df.PMR > 200)]\n",
    "    df['soc1990'] = df['SOC Occupation Code'].astype(str)\n",
    "    return df"
   ]
  },
  {
   "cell_type": "code",
   "execution_count": 7,
   "metadata": {},
   "outputs": [],
   "source": [
    "ae = asbexposed() # asbestos exposed soc2000 codes dataframen (coggan)\n",
    "ae2 = asbexposed2() # asbestos exposed soc1990 codes dataframe (peto)"
   ]
  },
  {
   "cell_type": "code",
   "execution_count": 8,
   "metadata": {},
   "outputs": [],
   "source": [
    "def clean_list(messylist):\n",
    "    \"\"\"\n",
    "    Cleans a list containing ranges by expanding ranges e.g 1-4 becomes 1,2,3,4. \n",
    "    like the ones we have in table 2.3.2 www.hse.gov.uk/research/rrpdf/rr696.pdf\n",
    "    \"\"\"\n",
    "\n",
    "    nums = []\n",
    "    expandnums = []\n",
    "\n",
    "    messylist = messylist.split(\",\")\n",
    "    messylist = [s.strip() for s in messylist]\n",
    "\n",
    "    for s in messylist:\n",
    "        if '-' in s:\n",
    "            s = s.split(\"-\")\n",
    "            s = [int(i) for i in s]\n",
    "            expandnums.append(range(s[0], s[1]+1))\n",
    "        else:\n",
    "            nums.append(int(s))\n",
    "        \n",
    "    expandnums = [item for sublist in expandnums for item in sublist]\n",
    "    cleanlist = nums + expandnums\n",
    "    cleanlist.sort()\n",
    "    return cleanlist\n",
    "\n",
    "def makejobclassification():\n",
    "    \"\"\"\n",
    "    makes a jobgroupclassification that maps soc codes to asbestos exposure group\n",
    "    from table 2.3.2 www.hse.gov.uk/research/rrpdf/rr696.pdf\n",
    "    \"\"\"\n",
    "\n",
    "    # office\n",
    "    jobclassification = ((5, clean_list(\"\"\"   \n",
    "    101, 120-127, 130-132, 139, 154, 155, 160, 169, 170, 172-179,\n",
    "    190, 191, 220-224, 230-235, 239-242, 250-253, 260,\n",
    "    261, 270, 271, 290-293, 320, 340-347, 361-363, 370, 371,\n",
    "    380, 381, 383-387, 390, 392, 399-401, 410-412, 420, 421,\n",
    "    430, 450-452, 459-462, 490, 556, 559, 560, 569, 580-582,\n",
    "    592, 594, 595, 598, 610, 619-622, 630, 640-644, 650-652,\n",
    "    659-661, 670, 671, 673, 690, 691, 699, 700-703, 710, 719-722,\n",
    "    730, 732, 790-792, 900-904, 950-956, 958\"\"\")),# from peto case control study table 2.3.2\n",
    "                                                  # should additionally include nec\n",
    "                                                              \n",
    "                         \n",
    "    # low risk industrial\n",
    "                        (4, clean_list(\"\"\"\n",
    "    540,\n",
    "    310,\n",
    "    210-219,\n",
    "    440-441,\n",
    "    150-151, 600-601,\n",
    "    731, 870-875,\n",
    "    113, 153, 171, 304, 348, 396, 531, 542-544, 553, 561, 569,\n",
    "    571, 590, 596, 597, 599, 611, 612, 615, 619, 631, 642, 672,\n",
    "    699, 733, 801, 809, 811, 820, 822, 824, 825, 829, 910, 911-913,\n",
    "    919, 923, 924, 931, 933, 934, 940, 941, 955, 956, 958,\n",
    "    990, 999\"\"\")),  # from peto case control study table 2.3.2\n",
    "                    # should additionally include nec & anyone spent >75% of time in heavy industry\n",
    "                    # (e.g. power station), factory or warehouse\n",
    "                         \n",
    "    # medium risk industrial\n",
    "                           (3, clean_list(\"\"\"\n",
    "    516, 913,  \n",
    "    881-884, 922,\n",
    "    200, 300-302, 309,\n",
    "    110, 260, 262, 311,\n",
    "    510-515, 517-519,\n",
    "    520, 522-529,\n",
    "    535-537,\n",
    "    830-844,\n",
    "    850-869,\n",
    "    887-892, 894, 897-899\"\"\")), # from peto case control study table 2.3.2 \n",
    "                                # 913 further categorised on job title\n",
    "                                   \n",
    "                         \n",
    "    # construction\n",
    "                           (2.3, clean_list(\"\"\"111, 500-506, 509, 885, 886, 895, 896, 921, 923, 924, 929, 990, 913\"\"\")),\n",
    "                           (2.2, clean_list(\"\"\"532, 521, 507, 913\"\"\")), \n",
    "                           (2.1, clean_list(\"\"\"570, 920\"\"\")), # from peto case control study table 2.3.2 \n",
    "                                                              # 532, plus 913 further categorised on job title\n",
    "                                                              # 521, plus 913 further categorised on job title\n",
    "                                                              # 111, 500-506, 509, 885, 886, 895, 896 (if not classified as\n",
    "                                                              # lagger, above), 921, 923, 924, 929 plus 990 & 913 further\n",
    "                                                              # categorised on job title\n",
    "                                   \n",
    "    \n",
    "    # high risk non-construction\n",
    "                         \n",
    "                        (1, clean_list(\"\"\"\n",
    "    533, 534,\n",
    "    541,\n",
    "    893, 896, 921, 929, 990,\n",
    "    880, 332, 903, 169, 173, 174, 239, 385, 463, 620, 621,\n",
    "    630, 900, 930, 952, 953\"\"\"))) # from peto case control study table 2.3.2\n",
    "                                  # 533, 534\n",
    "                                  # 541\n",
    "                                  # Hands-on making asbestos products in regulated industry\n",
    "                                  # 893 plus 896, 921, 929, 990 further categorised on job title\n",
    "                                  # 880, 332, 903 plus 169, 173, 174, 239, 385, 463, 620, 621,\n",
    "                                  # 630, 900, 930, 952, 953 further categorised on job title &\n",
    "                                  # anyone who spent >50% of time on board ship/in a shipyard\n",
    "                                  # “Royal Navy”, or equivalent, as employer\n",
    "\n",
    "\n",
    "    jobclassification = collections.OrderedDict(jobclassification)                    \n",
    "    return jobclassification\n",
    "\n",
    "def makejobcatlookup(jobclassification):\n",
    "    \"\"\"\n",
    "    makes a dict look up of our job classification\n",
    "    which supports multiple values e.g soc code 913\n",
    "    can belong to group 2.2, 2.3, 3, or 4 depending on\n",
    "    job title and job description\n",
    "    \"\"\"\n",
    "    \n",
    "    jobcatlookup = []\n",
    "    for key, value in reversed(jobclassification.items()):\n",
    "        for i, v in enumerate(value):\n",
    "            jobcatlookup.append((v, key))\n",
    "            \n",
    "    from collections import defaultdict\n",
    "    d = defaultdict(list)\n",
    "    for k, v in jobcatlookup:\n",
    "        d[k].append(v)\n",
    "\n",
    "    d = {k:tuple(v) for k, v in d.items()}\n",
    "    \n",
    "    return d"
   ]
  },
  {
   "cell_type": "code",
   "execution_count": 9,
   "metadata": {},
   "outputs": [
    {
     "data": {
      "text/plain": [
       "array([[954, nan, 4008,\n",
       "        'soldier - trained in combat & weaponry; defending the enemy & camp watch',\n",
       "        '1970', '1975', 'armed forces',\n",
       "        'Ireland, Europe, Cyprus, USA, Canada', 'British Army',\n",
       "        'military camp', '200060', 'control', 5, nan, nan, nan,\n",
       "        Timestamp('1953-05-15 00:00:00'), 66, '65 to 69', '1953',\n",
       "        'White', True, False, 165.0, 20,\n",
       "        (51.49721398000975, -0.08282023553136299),\n",
       "        (51.50464337186061, -0.08896381334533501), 0.9301735941574635,\n",
       "        'no CT', 'no Biopsy', False, False, False, False, False, False,\n",
       "        False, False, False, False, True, True, True, False, False,\n",
       "        False, False, '', 'follow up appointment',\n",
       "        'patient was exposed to asbestos, which he was unaware of & unable to quantify time spent on job',\n",
       "        3.0]], dtype=object)"
      ]
     },
     "execution_count": 9,
     "metadata": {},
     "output_type": "execute_result"
    }
   ],
   "source": [
    "df[df['soc90'].isnull()].values # check no null jobs"
   ]
  },
  {
   "cell_type": "code",
   "execution_count": 10,
   "metadata": {},
   "outputs": [],
   "source": [
    "df = df[df['soc90'].notnull()]"
   ]
  },
  {
   "cell_type": "code",
   "execution_count": 11,
   "metadata": {},
   "outputs": [],
   "source": [
    "soc90_lookup = ddf['ipfjes_soccode'].loc[:,['soc90', 'title']].copy()\n"
   ]
  },
  {
   "cell_type": "code",
   "execution_count": 12,
   "metadata": {},
   "outputs": [
    {
     "data": {
      "text/html": [
       "<div>\n",
       "<style scoped>\n",
       "    .dataframe tbody tr th:only-of-type {\n",
       "        vertical-align: middle;\n",
       "    }\n",
       "\n",
       "    .dataframe tbody tr th {\n",
       "        vertical-align: top;\n",
       "    }\n",
       "\n",
       "    .dataframe thead th {\n",
       "        text-align: right;\n",
       "    }\n",
       "</style>\n",
       "<table border=\"1\" class=\"dataframe\">\n",
       "  <thead>\n",
       "    <tr style=\"text-align: right;\">\n",
       "      <th></th>\n",
       "      <th>soc90</th>\n",
       "      <th>title</th>\n",
       "    </tr>\n",
       "  </thead>\n",
       "  <tbody>\n",
       "    <tr>\n",
       "      <th>239</th>\n",
       "      <td>}}}</td>\n",
       "      <td>Controller, technical</td>\n",
       "    </tr>\n",
       "    <tr>\n",
       "      <th>8910</th>\n",
       "      <td>}}}</td>\n",
       "      <td>Baister</td>\n",
       "    </tr>\n",
       "    <tr>\n",
       "      <th>10886</th>\n",
       "      <td>}}}</td>\n",
       "      <td>Assistant</td>\n",
       "    </tr>\n",
       "    <tr>\n",
       "      <th>11578</th>\n",
       "      <td>}}}</td>\n",
       "      <td>Operative, food</td>\n",
       "    </tr>\n",
       "    <tr>\n",
       "      <th>21036</th>\n",
       "      <td>}}}</td>\n",
       "      <td>Operative, foundry</td>\n",
       "    </tr>\n",
       "    <tr>\n",
       "      <th>21610</th>\n",
       "      <td>}}}</td>\n",
       "      <td>Operator, warehouse</td>\n",
       "    </tr>\n",
       "    <tr>\n",
       "      <th>21679</th>\n",
       "      <td>}}}</td>\n",
       "      <td>Operative, warehouse</td>\n",
       "    </tr>\n",
       "  </tbody>\n",
       "</table>\n",
       "</div>"
      ],
      "text/plain": [
       "      soc90                  title\n",
       "239     }}}  Controller, technical\n",
       "8910    }}}                Baister\n",
       "10886   }}}              Assistant\n",
       "11578   }}}        Operative, food\n",
       "21036   }}}     Operative, foundry\n",
       "21610   }}}    Operator, warehouse\n",
       "21679   }}}   Operative, warehouse"
      ]
     },
     "execution_count": 12,
     "metadata": {},
     "output_type": "execute_result"
    }
   ],
   "source": [
    "soc90_lookup[soc90_lookup.soc90 == '}}}']"
   ]
  },
  {
   "cell_type": "code",
   "execution_count": 13,
   "metadata": {},
   "outputs": [],
   "source": [
    "# temp hack\n",
    "df['soc90'] = df['soc90'].str.replace('}}}', '862') "
   ]
  },
  {
   "cell_type": "code",
   "execution_count": 14,
   "metadata": {},
   "outputs": [],
   "source": [
    "jobclassification = makejobclassification()\n",
    "jobcatlookup = makejobcatlookup(jobclassification)\n",
    "df['jobcats'] = df['soc90'].astype(int).map(jobcatlookup)"
   ]
  },
  {
   "cell_type": "code",
   "execution_count": 15,
   "metadata": {},
   "outputs": [],
   "source": [
    "# jobcats is assigned automagically from job title during the interview using the application\n",
    "# final_jobcat is assigned manually where necessary\n",
    "# jobcats are based on peto\n",
    "\n",
    "def assign_multi_jobs_a_category(df):\n",
    "    # need to assign jobs that match multiple categories to a category\n",
    "    # jobcats are based on peto\n",
    "    # dataframe of not null jobcats with more than one job cat\n",
    "    df[~df.final_jobcat.isnull()][df[~df.final_jobcat.isnull()].final_jobcat.map(lambda x: len(x)) > 1][['patient_id', 'id','soc90','soc_job_ft', 'job_tasks','final_jobcat']].to_csv('multi_reviews.csv', index=False)\n",
    "\n",
    "    # load multi reviews Carl did\n",
    "    multi_reviews = pd.read_csv('multi_reviews_carl.csv')\n",
    "    multi_reviews_lookup = multi_reviews[['id', 'final_jobcat']] \n",
    "    multi_reviews_lookup.index = multi_reviews_lookup ['id']\n",
    "    multi_reviews_lookup = multi_reviews_lookup['final_jobcat'].to_dict()\n",
    "    df.loc[(~df.final_jobcat.isnull()) & ((df[~df.final_jobcat.isnull()].final_jobcat.map(lambda x: len(x)) > 1)),'final_jobcat'] = df.loc[(~df.final_jobcat.isnull()) & ((df[~df.final_jobcat.isnull()].final_jobcat.map(lambda x: len(x)) > 1)),:].id.map(multi_reviews_lookup)\n",
    "    return df\n",
    "\n",
    "def assign_null_jobs_a_category(df):\n",
    "    # need to assign null jobs to a category\n",
    "    # dataframe of null jobcats \n",
    "    df[df.final_jobcat.isnull()][['patient_id', 'id','soc90','soc_job_ft', 'job_tasks','final_jobcat']].to_csv('null_reviews.csv', index=False)\n",
    "    null_reviews = pd.read_csv('null_reviews_carl.csv') # load null reviews Carl did\n",
    "    null_reviews_lookup = null_reviews[['id', 'final_jobcat']] \n",
    "    null_reviews_lookup.index = null_reviews_lookup ['id']\n",
    "    null_reviews_lookup = null_reviews_lookup['final_jobcat'].to_dict()\n",
    "    df.loc[df.final_jobcat.isnull(),'final_jobcat'] = df[df.final_jobcat.isnull()].id.map(null_reviews_lookup)\n",
    "    return df\n",
    "\n",
    "def flatten_tuples_that_contain_a_single_value(df):\n",
    "    # need to get rid of tuples we have left over which because we sorted all of the ones with multiple values\n",
    "    # the multi_reviews, now are all tuples of only a single value\n",
    "    # e.g (3,) -> 3\n",
    "    df.loc[~df.final_jobcat.str[0].isnull(), 'final_jobcat'] = df[~df.final_jobcat.str[0].isnull()].final_jobcat.apply(lambda x: x[0])\n",
    "\n",
    "    # make our jobcats floats\n",
    "    df.loc[:,'final_jobcat'] = df.final_jobcat.astype(float)\n",
    "    return df\n",
    "\n",
    "def assign_mariners_correct_category(df):\n",
    "    # need to assign those who spent >50% of time on board ship/in a shipyard\n",
    "    #“Royal Navy”, or equivalent, as employer\n",
    "    df['job_tasks'] = df['job_tasks'].str.upper().fillna('')\n",
    "    df[df['job_tasks'].str.upper().str.contains('SHIP|NAVY|MARINE|SEAMAN|BOAT|FERRY')][['patient_id', 'id','soc90','soc_job_ft', 'job_tasks','final_jobcat']].to_csv('ship_reviews.csv', index=False)\n",
    "    ship_reviews = pd.read_csv('ship_reviews_carl.csv') # load null reviews Carl did; try tasks first\n",
    "    ship_reviews_lookup = ship_reviews[['id', 'final_jobcat']] \n",
    "    ship_reviews_lookup.index = ship_reviews_lookup ['id']\n",
    "    ship_reviews_lookup = ship_reviews_lookup['final_jobcat'].to_dict()\n",
    "    df.loc[df['job_tasks'].str.upper().str.contains('SHIP|NAVY|MARINE|SEAMAN|BOAT|FERRY'),'final_jobcat'] = df[df['job_tasks'].str.upper().str.contains('SHIP|NAVY|MARINE|SEAMAN|BOAT|FERRY')].id.map(ship_reviews_lookup)\n",
    "    return df"
   ]
  },
  {
   "cell_type": "code",
   "execution_count": 16,
   "metadata": {},
   "outputs": [],
   "source": [
    "df['final_jobcat'] = df['jobcats']\n",
    "df = assign_multi_jobs_a_category(df) # fixes issue that some jobs can map to multiple risk categories\n",
    "df = assign_null_jobs_a_category(df) # fixes issue that some jobs don't map to any risk category\n",
    "df = flatten_tuples_that_contain_a_single_value(df) # fixes a problem our fixes make\n",
    "df = assign_mariners_correct_category(df) # makes sure people on boats get a 1"
   ]
  },
  {
   "cell_type": "code",
   "execution_count": 17,
   "metadata": {},
   "outputs": [],
   "source": [
    "# add peto job category and name\n",
    "\n",
    "jobgroups = ((1,'Non-construction high risk occupations'), \n",
    "             (2.1,'Carpenters'), \n",
    "             (2.2,'Plumber, electrician, painter or decorator'),(2.3, 'Other construction'),\n",
    "             (3,'Medium risk industrial'), (4,'Low risk industrial'),\n",
    "             (5,'Office and other low risk'))\n",
    "jobgroups = collections.OrderedDict(jobgroups)\n",
    "# jobcat names for our jobcats\n",
    "df['jobcatname'] = df.final_jobcat.map(jobgroups) # give our jobcats names\n",
    "\n",
    "def add_pmr_data(df):\n",
    "    \"\"\"\n",
    "    adds Mesothelioma proportional mortality ratios (PMRs) \n",
    "    for males aged 16-74 in Great Britain by Standard Occupational Classification (1990) unit group, 1991-2000 \n",
    "    \"\"\"\n",
    "    import xlrd\n",
    "    soc90pmrs = pd.read_excel('occ80007.xls', skiprows=2) \n",
    "    soc90pmrs = soc90pmrs.dropna()\n",
    "    soc90pmrs['soc90'] = soc90pmrs['SOC Occupation Code']\n",
    "    soc90pmrs['soc90'] = soc90pmrs['soc90'].astype(int)\n",
    "    df['soc90'] = df['soc90'].astype(int)\n",
    "    df = pd.merge(df, soc90pmrs, on='soc90')\n",
    "    df = df.rename(index=str, columns={\"Occupation description\": \"occ_desc\", \"Deaths\": \"meso_deaths\", \n",
    "                              \"Expected Deaths\":\"expected_meso_deaths\", \"PMR\":\"meso_pmr\", \"Lower\":\"meso_pmr_lci\", \"Upper\":\"meso_pmr_uci\"})\n",
    "    del df['SOC Occupation Code']\n",
    "    return df"
   ]
  },
  {
   "cell_type": "code",
   "execution_count": 18,
   "metadata": {},
   "outputs": [],
   "source": [
    "# add job exposures of interest\n",
    "\n",
    "df['coggan_shortlist'] = 0\n",
    "df['peto_shortlist'] = 0\n",
    "df['exposed_wood'] = 0\n",
    "df['exposed_metal'] = 0\n",
    "df['exposed_stone'] = 0\n",
    "df['exposed_asbestos'] = 0\n",
    "df['exposed_farm'] = 0\n",
    "\n",
    "# v crude needs to deal with e.g pleurals and synonyms\n",
    "df.loc[df.soc90.isin(ae.soc2000), 'coggan_shortlist'] = 1\n",
    "df.loc[df.soc90.isin(ae2.soc1990), 'peto_shortlist'] = 1\n",
    "df.loc[df['job_tasks'].str.contains('WOOD'),'exposed_wood'] = 1\n",
    "df.loc[df['job_tasks'].str.contains('METAL'),'exposed_metal'] = 1\n",
    "df.loc[df['job_tasks'].str.contains('STONE|SILICA'),'exposed_stone'] = 1\n",
    "df.loc[df['job_tasks'].str.contains('ASBESTOS'),'exposed_asbestos'] = 1\n",
    "df.loc[df['job_tasks'].str.contains('FARM'),'exposed_farm'] = 1\n",
    "\n",
    "df = add_pmr_data(df)\n",
    "\n",
    "# 'score' our jobcats so that we can later combine with duration of job to arrive at'dose'\n",
    "exposed = {1.:2 , 2.2:2, 3.:1 , 2.1:2, 2.3:2, 5.:0 , 4.:0}\n",
    "df['exposure_score'] = df.final_jobcat.map(exposed) # assigns exposure risk score \n",
    "df['dose'] = df['duration'] * df['exposure_score']\n",
    "df['meso_pmr_dose'] = df['duration'] * df['meso_pmr']\n",
    "df['exposed'] = df.exposure_score > 0 # i.r medium or high risk job. use for ever vs never."
   ]
  },
  {
   "cell_type": "code",
   "execution_count": 19,
   "metadata": {},
   "outputs": [],
   "source": [
    "def missing_data(df):\n",
    "    \"\"\"\n",
    "    check for missing data, fill it if we're prepared to accept it and alert us \n",
    "    to review\n",
    "    \"\"\"\n",
    "    print(df.isnull().sum().reset_index()[df.isnull().sum().reset_index()[0] > 0]) # dirty hack to see columns with null\n",
    "    print('\\n replacing some nulls as appropriate, r/v or ask Rupa to at later date if time \\n')\n",
    "    \n",
    "    df['employer_output'].fillna('', inplace=True)\n",
    "    df['company_name'].fillna('', inplace=True)\n",
    "    df['address'].fillna('', inplace=True)\n",
    "    df['working_area_ft'].fillna('', inplace=True)\n",
    "    \n",
    "    # if have never smoked can set null current smoker and packyears to 0\n",
    "    df.loc[(df['current_smoker'].isnull()) & (df['ever_smoked'] == 0), 'current_smoker'] = False\n",
    "    df.loc[(df['packyrs'].isnull()) & (df['ever_smoked'] == 0), 'packyrs'] = 0 \n",
    "    return df"
   ]
  },
  {
   "cell_type": "code",
   "execution_count": 20,
   "metadata": {},
   "outputs": [],
   "source": [
    "def check_data_is_sensible(df):\n",
    "    assert len(df[(df['start_year'] > df['yob']) == False]) == 0 # start year should always be after yob\n",
    "    assert len(df[(df['end_year'] > df['yob']) == False]) == 0 # end year should always be after yob\n",
    "    assert min((dt.datetime.now() - pd.to_datetime(df.end_year))) > pd.Timedelta('1 days') # now should always be after job end_year\n",
    "    assert len(df[df.yob.astype(int) < 1920]) == 0 # everyone is born after 1920\n",
    "    assert len(df[df.age.astype(int) < 30]) == 0 # no under 30s\n",
    "    assert len(df[df['duration'] < 0]) == 0 # no negative duration jobs\n",
    "    assert len(df[df.packyrs < 0]) == 0 # no negative pack year smoking histories"
   ]
  },
  {
   "cell_type": "code",
   "execution_count": 21,
   "metadata": {},
   "outputs": [],
   "source": [
    "# round up jobs that started and finished in same year to be one year in duration\n",
    "df.duration = df.duration.astype(str).replace('0','1')\n",
    "df.duration = df.duration.astype(int)\n",
    "\n",
    "# alternatively uncomment to throw that data away\n",
    "# df = df[df['duration'] > 0]\n"
   ]
  },
  {
   "cell_type": "code",
   "execution_count": 22,
   "metadata": {},
   "outputs": [],
   "source": [
    "# temporary hack if have smoking prob df = df[(df['packyrs'] >= 0) | (df['packyrs'].isnull()) ]\n",
    "check_data_is_sensible(df)"
   ]
  },
  {
   "cell_type": "code",
   "execution_count": 23,
   "metadata": {},
   "outputs": [
    {
     "name": "stdout",
     "output_type": "stream",
     "text": [
      "              index     0\n",
      "6   employer_output   331\n",
      "7           address   334\n",
      "8      company_name   128\n",
      "9   working_area_ft   243\n",
      "18         agegroup     3\n",
      "22   current_smoker  1022\n",
      "23          packyrs  1030\n",
      "29               bx    60\n",
      "30              fhx     9\n",
      "31       amiodarone     3\n",
      "32       flecainade     8\n",
      "33   nitrofurantoin    11\n",
      "40             mrc1     3\n",
      "41             mrc2     3\n",
      "42             mrc3     3\n",
      "43             mrc4     3\n",
      "44           pc_sob   137\n",
      "45         pc_cough   160\n",
      "46    pc_incidental   155\n",
      "51          jobcats   284\n",
      "52     final_jobcat     4\n",
      "53       jobcatname     4\n",
      "67   exposure_score     4\n",
      "68             dose     4\n",
      "\n",
      " replacing some nulls as appropriate, r/v or ask Rupa to at later date if time \n",
      "\n"
     ]
    }
   ],
   "source": [
    "df = missing_data(df) # nulls to be reviewed"
   ]
  },
  {
   "cell_type": "code",
   "execution_count": 24,
   "metadata": {},
   "outputs": [],
   "source": [
    "df.applymap(lambda x: type(x)).describe().to_csv('datatypes.csv')"
   ]
  },
  {
   "cell_type": "code",
   "execution_count": 25,
   "metadata": {},
   "outputs": [
    {
     "data": {
      "text/html": [
       "<div>\n",
       "<style scoped>\n",
       "    .dataframe tbody tr th:only-of-type {\n",
       "        vertical-align: middle;\n",
       "    }\n",
       "\n",
       "    .dataframe tbody tr th {\n",
       "        vertical-align: top;\n",
       "    }\n",
       "\n",
       "    .dataframe thead th {\n",
       "        text-align: right;\n",
       "    }\n",
       "</style>\n",
       "<table border=\"1\" class=\"dataframe\">\n",
       "  <thead>\n",
       "    <tr style=\"text-align: right;\">\n",
       "      <th></th>\n",
       "      <th>patient_id</th>\n",
       "      <th>soc_job_ft</th>\n",
       "      <th>id</th>\n",
       "      <th>job_tasks</th>\n",
       "      <th>start_year</th>\n",
       "      <th>end_year</th>\n",
       "      <th>employer_output</th>\n",
       "      <th>address</th>\n",
       "      <th>company_name</th>\n",
       "      <th>working_area_ft</th>\n",
       "      <th>...</th>\n",
       "      <th>occ_desc</th>\n",
       "      <th>meso_deaths</th>\n",
       "      <th>expected_meso_deaths</th>\n",
       "      <th>meso_pmr</th>\n",
       "      <th>meso_pmr_lci</th>\n",
       "      <th>meso_pmr_uci</th>\n",
       "      <th>exposure_score</th>\n",
       "      <th>dose</th>\n",
       "      <th>meso_pmr_dose</th>\n",
       "      <th>exposed</th>\n",
       "    </tr>\n",
       "  </thead>\n",
       "  <tbody>\n",
       "    <tr>\n",
       "      <th>0</th>\n",
       "      <td>24</td>\n",
       "      <td>Assistant, tailor's</td>\n",
       "      <td>94</td>\n",
       "      <td>ASSISTING THE TAILOR - CUTTING CLOTH FROM PATT...</td>\n",
       "      <td>1970</td>\n",
       "      <td>1972</td>\n",
       "      <td>Clothing Manufacturer</td>\n",
       "      <td>Nantwich, Cheshire</td>\n",
       "      <td>Baronia</td>\n",
       "      <td>inside</td>\n",
       "      <td>...</td>\n",
       "      <td>Tailors &amp; dressmakers</td>\n",
       "      <td>2.0</td>\n",
       "      <td>8.15</td>\n",
       "      <td>24.54</td>\n",
       "      <td>2.971779</td>\n",
       "      <td>88.646626</td>\n",
       "      <td>0.0</td>\n",
       "      <td>0.0</td>\n",
       "      <td>49.08</td>\n",
       "      <td>False</td>\n",
       "    </tr>\n",
       "    <tr>\n",
       "      <th>1</th>\n",
       "      <td>961</td>\n",
       "      <td>Tailor</td>\n",
       "      <td>3946</td>\n",
       "      <td>TAILOR - STITCHED LADIES COATS, JACKETS &amp; OTHE...</td>\n",
       "      <td>1955</td>\n",
       "      <td>2006</td>\n",
       "      <td>textile company</td>\n",
       "      <td>London</td>\n",
       "      <td>Self employed (Delwood Moats); Kojana, Lamberts,</td>\n",
       "      <td>factory/office based</td>\n",
       "      <td>...</td>\n",
       "      <td>Tailors &amp; dressmakers</td>\n",
       "      <td>2.0</td>\n",
       "      <td>8.15</td>\n",
       "      <td>24.54</td>\n",
       "      <td>2.971779</td>\n",
       "      <td>88.646626</td>\n",
       "      <td>0.0</td>\n",
       "      <td>0.0</td>\n",
       "      <td>1251.54</td>\n",
       "      <td>False</td>\n",
       "    </tr>\n",
       "    <tr>\n",
       "      <th>2</th>\n",
       "      <td>24</td>\n",
       "      <td>Layer, track</td>\n",
       "      <td>98</td>\n",
       "      <td>TRACK LAYER - WORKED ON THE STEAM RAILWAYS, LA...</td>\n",
       "      <td>1988</td>\n",
       "      <td>2009</td>\n",
       "      <td>Government</td>\n",
       "      <td>Isle of Man</td>\n",
       "      <td>Isle of Man Government</td>\n",
       "      <td>outside/inside</td>\n",
       "      <td>...</td>\n",
       "      <td>Mains &amp; service pipe layers, pipe jointers</td>\n",
       "      <td>5.0</td>\n",
       "      <td>12.01</td>\n",
       "      <td>41.64</td>\n",
       "      <td>13.517902</td>\n",
       "      <td>97.154871</td>\n",
       "      <td>2.0</td>\n",
       "      <td>42.0</td>\n",
       "      <td>874.44</td>\n",
       "      <td>True</td>\n",
       "    </tr>\n",
       "    <tr>\n",
       "      <th>3</th>\n",
       "      <td>24</td>\n",
       "      <td>Layer, track</td>\n",
       "      <td>97</td>\n",
       "      <td>TRACK LAYER - LAYING NEW TRACKS &amp; REPAIRING TH...</td>\n",
       "      <td>1979</td>\n",
       "      <td>1988</td>\n",
       "      <td>National Rail Company</td>\n",
       "      <td>Crewe</td>\n",
       "      <td>British Rail</td>\n",
       "      <td>outside</td>\n",
       "      <td>...</td>\n",
       "      <td>Mains &amp; service pipe layers, pipe jointers</td>\n",
       "      <td>5.0</td>\n",
       "      <td>12.01</td>\n",
       "      <td>41.64</td>\n",
       "      <td>13.517902</td>\n",
       "      <td>97.154871</td>\n",
       "      <td>2.0</td>\n",
       "      <td>18.0</td>\n",
       "      <td>374.76</td>\n",
       "      <td>True</td>\n",
       "    </tr>\n",
       "    <tr>\n",
       "      <th>4</th>\n",
       "      <td>544</td>\n",
       "      <td>Layer, track</td>\n",
       "      <td>2238</td>\n",
       "      <td>TRACK LAYER - RESPONSIBLE FOR LAYING NEW TRACK...</td>\n",
       "      <td>1986</td>\n",
       "      <td>2008</td>\n",
       "      <td>Rail Netwrok</td>\n",
       "      <td>London</td>\n",
       "      <td>British Rail</td>\n",
       "      <td>on site</td>\n",
       "      <td>...</td>\n",
       "      <td>Mains &amp; service pipe layers, pipe jointers</td>\n",
       "      <td>5.0</td>\n",
       "      <td>12.01</td>\n",
       "      <td>41.64</td>\n",
       "      <td>13.517902</td>\n",
       "      <td>97.154871</td>\n",
       "      <td>2.0</td>\n",
       "      <td>44.0</td>\n",
       "      <td>916.08</td>\n",
       "      <td>True</td>\n",
       "    </tr>\n",
       "  </tbody>\n",
       "</table>\n",
       "<p>5 rows × 71 columns</p>\n",
       "</div>"
      ],
      "text/plain": [
       "   patient_id           soc_job_ft    id  \\\n",
       "0          24  Assistant, tailor's    94   \n",
       "1         961               Tailor  3946   \n",
       "2          24         Layer, track    98   \n",
       "3          24         Layer, track    97   \n",
       "4         544         Layer, track  2238   \n",
       "\n",
       "                                           job_tasks start_year end_year  \\\n",
       "0  ASSISTING THE TAILOR - CUTTING CLOTH FROM PATT...       1970     1972   \n",
       "1  TAILOR - STITCHED LADIES COATS, JACKETS & OTHE...       1955     2006   \n",
       "2  TRACK LAYER - WORKED ON THE STEAM RAILWAYS, LA...       1988     2009   \n",
       "3  TRACK LAYER - LAYING NEW TRACKS & REPAIRING TH...       1979     1988   \n",
       "4  TRACK LAYER - RESPONSIBLE FOR LAYING NEW TRACK...       1986     2008   \n",
       "\n",
       "         employer_output             address  \\\n",
       "0  Clothing Manufacturer  Nantwich, Cheshire   \n",
       "1        textile company              London   \n",
       "2             Government         Isle of Man   \n",
       "3  National Rail Company               Crewe   \n",
       "4           Rail Netwrok              London   \n",
       "\n",
       "                                       company_name       working_area_ft  \\\n",
       "0                                           Baronia                inside   \n",
       "1  Self employed (Delwood Moats); Kojana, Lamberts,  factory/office based   \n",
       "2                            Isle of Man Government        outside/inside   \n",
       "3                                      British Rail               outside   \n",
       "4                                      British Rail               on site   \n",
       "\n",
       "    ...                                      occ_desc meso_deaths  \\\n",
       "0   ...                         Tailors & dressmakers         2.0   \n",
       "1   ...                         Tailors & dressmakers         2.0   \n",
       "2   ...    Mains & service pipe layers, pipe jointers         5.0   \n",
       "3   ...    Mains & service pipe layers, pipe jointers         5.0   \n",
       "4   ...    Mains & service pipe layers, pipe jointers         5.0   \n",
       "\n",
       "   expected_meso_deaths  meso_pmr meso_pmr_lci  meso_pmr_uci exposure_score  \\\n",
       "0                  8.15     24.54     2.971779     88.646626            0.0   \n",
       "1                  8.15     24.54     2.971779     88.646626            0.0   \n",
       "2                 12.01     41.64    13.517902     97.154871            2.0   \n",
       "3                 12.01     41.64    13.517902     97.154871            2.0   \n",
       "4                 12.01     41.64    13.517902     97.154871            2.0   \n",
       "\n",
       "   dose meso_pmr_dose exposed  \n",
       "0   0.0         49.08   False  \n",
       "1   0.0       1251.54   False  \n",
       "2  42.0        874.44    True  \n",
       "3  18.0        374.76    True  \n",
       "4  44.0        916.08    True  \n",
       "\n",
       "[5 rows x 71 columns]"
      ]
     },
     "execution_count": 25,
     "metadata": {},
     "output_type": "execute_result"
    }
   ],
   "source": [
    "df.head() # what the data looks like"
   ]
  },
  {
   "cell_type": "code",
   "execution_count": 26,
   "metadata": {},
   "outputs": [],
   "source": [
    "df.to_csv('jobs_dataframe.csv', index=False) # save dataframe of participant details and jobs they've had"
   ]
  },
  {
   "cell_type": "code",
   "execution_count": 27,
   "metadata": {},
   "outputs": [],
   "source": [
    "def asbestos_exposure_screen_reviews(df):\n",
    "    \"\"\"\n",
    "    review of our asbestos exposure screening responses\n",
    "    \"have you been exposed to asbestos?\" field completed at time of occupational hx if\n",
    "    participant volunteers exposure, interviewer suspects exposure, or has a 'trigger' occupation\n",
    "    otherwise all asked at end of interview\n",
    "    \"\"\"\n",
    "    expscreen = ddf['ipfjes_asbestosexposurescreening'][['episode_id', 'exposed', 'description', 'related_occupation_id']].copy()\n",
    "    expscreen.columns = ['patient_id', 'asbscreen', 'asbdesc', 'related_occupation_id']\n",
    "    expscreen['id'] = expscreen['related_occupation_id']\n",
    "\n",
    "    df = pd.merge(df, expscreen, on=('patient_id', 'id'), how='outer') \n",
    "    # this increases the size of the df because some screening is not associated with a job\n",
    "    # resulting in it no longer being one job per row\n",
    "    # also meaning that participant type (pt) becomes null and needs to be reset\n",
    "\n",
    "    pt_lookup = ddf['ipfjes_studyparticipantdetails'].loc[:,['episode_id', 'participant_type']].copy()\n",
    "    pt_lookup.index = pt_lookup['episode_id']\n",
    "    pt_lookup = pt_lookup['participant_type'].to_dict()\n",
    "    df['pt'] = df['patient_id'].map(pt_lookup) \n",
    "    \n",
    "    print(df[(df.asbscreen == 'Yes') & (df['asbdesc'].isnull())]) # to be reviewed"
   ]
  },
  {
   "cell_type": "code",
   "execution_count": 28,
   "metadata": {},
   "outputs": [
    {
     "name": "stdout",
     "output_type": "stream",
     "text": [
      "Empty DataFrame\n",
      "Columns: [patient_id, soc_job_ft, id, job_tasks, start_year, end_year, employer_output, address, company_name, working_area_ft, participant_id, case, duration, soc90, soc2000, ssec, dob, age, agegroup, yob, ethnicity, ever_smoked, current_smoker, packyrs, centre, gp_coords, centre_coords, distfromcentre, ct, bx, fhx, amiodarone, flecainade, nitrofurantoin, azathioprine, gefitinib, ifosfamide, melphalan, rituximab, mrc0, mrc1, mrc2, mrc3, mrc4, pc_sob, pc_cough, pc_incidental, pc_incidental_desc, pc_other, comments, mrc_score, jobcats, final_jobcat, jobcatname, coggan_shortlist, peto_shortlist, exposed_wood, exposed_metal, exposed_stone, exposed_asbestos, exposed_farm, occ_desc, meso_deaths, expected_meso_deaths, meso_pmr, meso_pmr_lci, meso_pmr_uci, exposure_score, dose, meso_pmr_dose, exposed, asbscreen, asbdesc, related_occupation_id, pt]\n",
      "Index: []\n",
      "\n",
      "[0 rows x 75 columns]\n"
     ]
    }
   ],
   "source": [
    "asbestos_exposure_screen_reviews(df) # participants with yes response to screening but no description of exposure"
   ]
  },
  {
   "cell_type": "code",
   "execution_count": 29,
   "metadata": {},
   "outputs": [],
   "source": [
    "def asbestos_screening_responses(df):\n",
    "    \"\"\"\n",
    "    generate summary stats for screening responses\n",
    "    \"\"\"\n",
    "    expscreen = ddf['ipfjes_asbestosexposurescreening'][['episode_id', 'exposed', 'description', 'related_occupation_id']].copy()\n",
    "    expscreen.columns = ['patient_id', 'asbscreen', 'asbdesc', 'related_occupation_id']\n",
    "    expscreen['id'] = expscreen['related_occupation_id']\n",
    "\n",
    "    df = pd.merge(df, expscreen, on=('patient_id', 'id'), how='outer') \n",
    "    # this increases the size of the df because some screening is not associated with a job\n",
    "    # resulting in it no longer being one job per row\n",
    "    # also meaning that participant type (pt) becomes null and needs to be reset\n",
    "\n",
    "    pt_lookup = ddf['ipfjes_studyparticipantdetails'].loc[:,['episode_id', 'participant_type']].copy()\n",
    "    pt_lookup.index = pt_lookup['episode_id']\n",
    "    pt_lookup = pt_lookup['participant_type'].to_dict()\n",
    "    df['pt'] = df['patient_id'].map(pt_lookup)\n",
    "    \n",
    "    exposed_patients = df[(df.asbscreen == 'Yes') & (~df['asbdesc'].isnull())].drop_duplicates(subset='patient_id').patient_id.values\n",
    "    print('\\n# percentage of cases and controls reporting asbestos exposure')\n",
    "    print(df[df.patient_id.isin(exposed_patients)].drop_duplicates(subset='patient_id').groupby('pt').patient_id.count() / df.groupby('pt').patient_id.nunique() * 100)\n",
    "    print('\\n# numbers of cases and controls reporting asbestos exposure')\n",
    "    print(df[df.patient_id.isin(exposed_patients)].drop_duplicates(subset='patient_id').groupby('pt').patient_id.count())\n",
    "\n",
    "    occupationally_exposed_patients = df[(df.asbscreen == 'Yes') & (~df.related_occupation_id.isnull()) & (~df['asbdesc'].isnull())].drop_duplicates(subset='patient_id').patient_id.values\n",
    "    print('\\n# percentage of cases and controls reporting asbestos exposure associated with a job')\n",
    "    print(df[df.patient_id.isin(occupationally_exposed_patients)].drop_duplicates(subset='patient_id').groupby('pt').patient_id.count() / df.groupby('pt').patient_id.nunique() * 100)\n",
    "    print('\\n# numbers of cases and controls reporting asbestos exposure associated with a job')\n",
    "    print(df[df.patient_id.isin(occupationally_exposed_patients)].drop_duplicates(subset='patient_id').groupby('pt').patient_id.count())\n",
    "\n",
    "    non_occupationally_exposed_patients = df[(df.asbscreen == 'Yes') & (df.related_occupation_id.isnull())& (~df['asbdesc'].isnull())].drop_duplicates(subset='patient_id').patient_id.values\n",
    "    print('\\n# percentage of cases and controls reporting asbestos exposure not associated with a job')\n",
    "    print(df[df.patient_id.isin(non_occupationally_exposed_patients)].drop_duplicates(subset='patient_id').groupby('pt').patient_id.count() / df.groupby('pt').patient_id.nunique() * 100)\n",
    "    print('\\n# numbers of cases and controls reporting asbestos exposure not associated with a job')\n",
    "    print(df[df.patient_id.isin(non_occupationally_exposed_patients)].drop_duplicates(subset='patient_id').groupby('pt').patient_id.count())\n",
    "    "
   ]
  },
  {
   "cell_type": "code",
   "execution_count": 30,
   "metadata": {},
   "outputs": [],
   "source": [
    "def add_fibre_ml_years(df):\n",
    "    \"\"\"\n",
    "    calculate fibre ml years using cherrie model and adds them to the dataframe\n",
    "    \"\"\"\n",
    "    # add asbestos exposure histories to df\n",
    "    asbexphx = ddf['ipfjes_asbestosexposurehistory'][['id', 'related_occupation_id', 'episode_id','description', 'asbestos_type', 'asbestos_percentage', 'handling_ft', 'handling_fk_id', 'near_or_far_field', 'room_volume', 'room_air_changes', 'local_controls_ft', 'local_controls_fk_id', 'mask_ft', 'mask_fk_id', 'mask_compliance', 'task_duration', 'task_frequency', 'task_periodicity']].copy()\n",
    "    asbexphx.columns = ['asbexphx_id', 'related_occupation_id2', 'patient_id', 'description2',\n",
    "           'asbestos_type', 'asbestos_percentage', 'handling_ft', 'handling_fk_id',\n",
    "           'near_or_far_field', 'room_volume', 'room_air_changes',\n",
    "           'local_controls_ft', 'local_controls_fk_id', 'mask_ft', 'mask_fk_id',\n",
    "           'mask_compliance', 'task_duration', 'task_frequency',\n",
    "           'task_periodicity']\n",
    "    asbexphx['id'] = asbexphx['related_occupation_id2']\n",
    "    df = pd.merge(df, asbexphx, on=('patient_id', 'id'), how='outer') \n",
    "    # results in 'null' rows (prev 1 job per row), some asbestos hx don't have a job assoc or multiple asbestos hx\n",
    "    # can belong to one job\n",
    "\n",
    "    # add substance emission potential (E)\n",
    "    E_for_a_or_c_percent = {'100%':5, '20 - 40%':4, '10 - 15%':1.2, '1%':0.4}\n",
    "    df['E'] = df['asbestos_percentage'].map(E_for_a_or_c_percent)\n",
    "    # E_for_chrysotile_by_percent = E_for_a_or_c_percent / 2\n",
    "    mask = (df['asbestos_type'] == 'Chrysotile')\n",
    "    df.loc[mask, 'E'] = df.loc[mask, 'E'] / 2\n",
    "\n",
    "    # add activity emission potential (H)\n",
    "    asbhandling = ddf['ipfjes_asbestoshandling'].copy()\n",
    "    asbhandling['Activity emission potential'] = pd.Series([0.1,0.1,1,1,1,3,3,3,3,10,10,30,30,30,100,100], index=asbhandling.index)\n",
    "    asbhandling.columns = ['handling_fk_id', 'handling_ft', 'H']\n",
    "   \n",
    "    # need to stick a 10 in handling_fk_id when handling_ft is \"breaking or ripping out\" to fix a bug\n",
    "    df.loc[df['handling_ft'] == \"breaking or ripping out\", 'handling_fk_id'] = 10\n",
    "    \n",
    "    # set handling score using handling id lookup\n",
    "    hidlookup = asbhandling[['handling_fk_id', 'H']]\n",
    "    hidlookup.index = hidlookup.handling_fk_id\n",
    "    hidlookup = hidlookup['H'].to_dict()\n",
    "    df['H'] = df['handling_fk_id'].map(hidlookup)\n",
    "    \n",
    "    # if handling id lookup is null set it using the handling name\n",
    "    mask = df['handling_fk_id'].isnull()\n",
    "    hidlookup2 = asbhandling[['handling_ft', 'H']]\n",
    "    hidlookup2.index = hidlookup2.handling_ft\n",
    "    hidlookup2 = hidlookup2['H'].to_dict()\n",
    "    df.loc[mask, 'H'] = df['handling_ft'].map(hidlookup2)\n",
    "    \n",
    "    # set handling names using the id\n",
    "    hidlookup3  = asbhandling[['handling_fk_id','handling_ft']]\n",
    "    hidlookup3.index = hidlookup3['handling_fk_id']\n",
    "    hidlookup3 = hidlookup3 ['handling_ft'].to_dict()\n",
    "\n",
    "    df['handling_ft'] = df['handling_fk_id'].map(hidlookup3.get)\n",
    "    \n",
    "    # add local controls (LC)\n",
    "    lc = ddf['ipfjes_asbestoslocalcontrol'] # 0.1 1-4. 0.3 captor hoods. 1 no effective controls\n",
    "\n",
    "    lc['LC'] = pd.Series([0.1,0.1,0.1,0.1,0.3,0.3,1], index=lc.index)\n",
    "\n",
    "    lclookup = lc[['id', 'LC']]\n",
    "    lclookup.index = lc.id\n",
    "    lclookup = lclookup['LC'].to_dict()\n",
    "    df['LC'] = df['local_controls_fk_id'].map(lclookup)\n",
    "\n",
    "    # add general ventilation parameters (D)\n",
    "    d = pd.read_csv('d.csv')\n",
    "    da = d[['NearOrFar', 'Room volume']]\n",
    "    db = d[['0.3 air changes per hour',\n",
    "           '1 air change per hour', '3 air changes per hour',\n",
    "           '10 air changes per hour']].stack().reset_index()\n",
    "    db.columns = ['level_0', 'air changes', 'D']\n",
    "    db.index = db.level_0\n",
    "    d = pd.merge(db, da, right_index=True, left_index=True)\n",
    "\n",
    "    d = d[['NearOrFar', 'Room volume', 'air changes', 'D']].copy()\n",
    "    d.columns = ['near_or_far_field', 'room_volume', 'room_air_changes', 'D']\n",
    "    d.room_volume = d.room_volume.str.replace('m3', 'm')\n",
    "    d.room_air_changes = d.room_air_changes.str.replace(' air changes per hour','')\n",
    "    d.room_air_changes = d.room_air_changes.str.replace(' air change per hour','')\n",
    "\n",
    "    df = pd.merge(df, d, on=['near_or_far_field', 'room_volume', 'room_air_changes'], how='left')\n",
    "\n",
    "    # add RPE score\n",
    "    maskscore = {1:0.005, 2:0.0001}\n",
    "    df['RPE'] = df['mask_fk_id'].map(maskscore).value_counts()\n",
    "\n",
    "    # calculate asbestos exposure (submstance emission pot * activity emission pot * local controls)\n",
    "    df['AE'] = df['E'] * df['H'] * df['LC']\n",
    "   \n",
    "    # calculate fibre ml years\n",
    "    periodicity_mins = {'day':1440, 'week':10080, 'month':43800.048, 'year':525600}\n",
    "    df['task_periodicity'].map(periodicity_mins).value_counts()\n",
    "    df['periodicity_mins'] = df['task_periodicity'].map(periodicity_mins)\n",
    "  \n",
    "    df['fibre/ml exposure'] = df['AE'] * df['task_duration'] * (df['task_frequency'] / df['periodicity_mins']) * df['duration'] * df['D']\n",
    "    # note RPE is currently left out\n",
    "\n",
    "    return df\n",
    "\n",
    "def fibremlquality(df):\n",
    "    df = add_fibre_ml_years(df)\n",
    "    # outliers appear to be due to over-estimate of time spent on task\n",
    "    \n",
    "    print(df['fibre/ml exposure'].quantile(0.95))\n",
    "    \n",
    "    print(df[df['fibre/ml exposure'] > 1000] )\n",
    "    \n",
    "    # review - likely these are all non-occupational/trivial exposures\n",
    "    print(df[(df.case.isnull()) & (df['fibre/ml exposure'].isnull())]) \n",
    "    \n",
    "    \n",
    "    df = df[['participant_id', 'start_year', 'end_year', 'duration', 'soc_job_ft', \n",
    "             'job_tasks', 'working_area_ft', 'employer_output','company_name', 'address', \n",
    "             'description2', 'occ_desc','task_duration', 'task_frequency', 'task_periodicity', \n",
    "             'E', 'H', 'LC', 'D', 'RPE', 'AE', 'periodicity_mins', 'fibre/ml exposure']]\n",
    "        \n",
    "    df[df['fibre/ml exposure'] > 1000].to_csv('asbestos_exposure_outliers.csv')\n",
    "    \n",
    "    df.to_csv('fibre_ml_for_checking.csv')\n",
    "    \n",
    "    # nulls expected because can have more than one asbestos exposed job task in a job\n"
   ]
  },
  {
   "cell_type": "code",
   "execution_count": 31,
   "metadata": {},
   "outputs": [
    {
     "name": "stdout",
     "output_type": "stream",
     "text": [
      "1052.0536415850502\n",
      "      patient_id                soc_job_ft      id  \\\n",
      "10           638       Foreman, pipe, main  2647.0   \n",
      "11           638       Foreman, pipe, main  2647.0   \n",
      "12           638       Foreman, pipe, main  2647.0   \n",
      "181          539  Electrician, maintenance  2275.0   \n",
      "222          546               Electrician  2225.0   \n",
      "360          856  Labourer, fitter's, shop  3585.0   \n",
      "786          971        Labourer, building  4070.0   \n",
      "857          278    Builder and contractor  1212.0   \n",
      "858          278    Builder and contractor  1212.0   \n",
      "907          284       Assistant, joiner's  1277.0   \n",
      "908           92       Assistant, joiner's   411.0   \n",
      "1590         235                   Plumber  1103.0   \n",
      "1597         387        Engineer, plumbing  1647.0   \n",
      "1640         515                Bricklayer  2157.0   \n",
      "1880         811      Engineer, mechanical  3387.0   \n",
      "1935         170      Carpenter and joiner   772.0   \n",
      "1950         373      Carpenter and joiner  1597.0   \n",
      "2191         480               Clerk, cost  2035.0   \n",
      "3426         992    Maker, door, fireproof  4039.0   \n",
      "3500         675        Officer, probation  2805.0   \n",
      "4009         324                Scaffolder  1430.0   \n",
      "4011         324                Scaffolder  1430.0   \n",
      "4014         889                Scaffolder  3670.0   \n",
      "4241         664                Shipwright  2704.0   \n",
      "4242         664                Shipwright  2704.0   \n",
      "4361         567   Cutter, sheet, asbestos  2370.0   \n",
      "\n",
      "                                              job_tasks start_year end_year  \\\n",
      "10    PIPE FITTING FOREMAN/SUPERVISOR - RESPONSIBLE ...       1978     2018   \n",
      "11    PIPE FITTING FOREMAN/SUPERVISOR - RESPONSIBLE ...       1978     2018   \n",
      "12    PIPE FITTING FOREMAN/SUPERVISOR - RESPONSIBLE ...       1978     2018   \n",
      "181   MAINTENANCE ELECTRICIAN, REPAIRER: WORKED ON C...       1957     1998   \n",
      "222   ELECTRICIAN - STARTED OFF AS AN APPRENTICE ELE...       1965     2010   \n",
      "360   SHOP FITTER'S LABOURER - REFURBISHMENT OF RETA...       1988     1993   \n",
      "786   LABOURER - INVOLVED WITH CONVERSION OF BUILDIN...       1975     1995   \n",
      "857   BUILDER & CONTRACTOR : INVOLVED IN THE RENOVAT...       1970     1976   \n",
      "858   BUILDER & CONTRACTOR : INVOLVED IN THE RENOVAT...       1970     1976   \n",
      "907   APPRENTICE JOINER - LEARNED ABOUT WOOD & HOW T...       1954     1968   \n",
      "908   SHIP REPAIR\\nWORKING WITH ASBESTOS SHEETS, CUT...       1966     1970   \n",
      "1590  PLUMBER (SELF EMPLOYED) - INSTALLATION, REPAIR...       1979     2013   \n",
      "1597  PLUMBING ENGINEER - INSTALLATION OF PIPE WORK ...       1976     2010   \n",
      "1640  STARTED OFF AS AN APPRENTICE BRICKLAYER, RESPO...       1975     2018   \n",
      "1880  MECHANICAL ENGINEER - RESPONSIBLE FOR THE MAIN...       1965     1978   \n",
      "1935  1965 - 1997: CARPENTER/JOINER - MAINTAINED, RE...       1965     2002   \n",
      "1950  CARPENTRY/JOINER APPRENTICESHIP - LEARNING THE...       1953     1960   \n",
      "2191  COST CLERK - ESTIMATING THE COST I.E. LABOUR, ...       1968     1969   \n",
      "3426  FIRE PROOFING DOORS; CUTTING ASBESTOS & USING ...       1985     1993   \n",
      "3500  PROBATION OFFICER - GENERAL OFFICE ADMINISTRAT...       1978     1994   \n",
      "4009  SCAFFOLDER: ERECTIION & DISMANTLING OF SCAFFOL...       1975     1987   \n",
      "4011  SCAFFOLDER: ERECTIION & DISMANTLING OF SCAFFOL...       1975     1987   \n",
      "4014  SCAFFOLDING - RESPONSIBLE FOR ERECTING/DISMANT...       1961     2006   \n",
      "4241  SHIP WRIGHT APPRENTICE - STARTED OFF AS AN APP...       1952     1993   \n",
      "4242  SHIP WRIGHT APPRENTICE - STARTED OFF AS AN APP...       1952     1993   \n",
      "4361  ASBESTOS SHEET CUTTER - WORKED IN THE SAW MILL...       1965     1968   \n",
      "\n",
      "                                        employer_output  \\\n",
      "10                               mechanical engineering   \n",
      "11                               mechanical engineering   \n",
      "12                               mechanical engineering   \n",
      "181                                caravan manufacturer   \n",
      "222                                Electricity Supplier   \n",
      "360                                            retailer   \n",
      "786                                 Building Contractor   \n",
      "857                                 Building contractor   \n",
      "858                                 Building contractor   \n",
      "907                                 Building Contractor   \n",
      "908                                                shop   \n",
      "1590                                 Plumbing & Roofing   \n",
      "1597                                Industrial Plumbers   \n",
      "1640  Waterway Services; Rail Network, Building cont...   \n",
      "1880                                     Naval services   \n",
      "1935                                            council   \n",
      "1950                           caravan building company   \n",
      "2191                      asbeistos cement manufacturer   \n",
      "3426                                building contratcor   \n",
      "3500                                 probation services   \n",
      "4009                                        Scaffolders   \n",
      "4011                                        Scaffolders   \n",
      "4014                               building contractors   \n",
      "4241                                                MOD   \n",
      "4242                                                MOD   \n",
      "4361                                  shed manufacturer   \n",
      "\n",
      "                                                address  \\\n",
      "10                         Hayes; London, Hertfordshire   \n",
      "11                         Hayes; London, Hertfordshire   \n",
      "12                         Hayes; London, Hertfordshire   \n",
      "181                                              Cowley   \n",
      "222   Haywards Heath, Crawley, various sites across ...   \n",
      "360                                              London   \n",
      "786                                              London   \n",
      "857                                               Devon   \n",
      "858                                               Devon   \n",
      "907                                           Liverpool   \n",
      "908                                 birkenhead dockyard   \n",
      "1590                                    Lancashire area   \n",
      "1597                                           Bradford   \n",
      "1640                                         Manchester   \n",
      "1880                                 All over the world   \n",
      "1935                                                      \n",
      "1950                                             Totton   \n",
      "2191                                           Tamworth   \n",
      "3426                                             London   \n",
      "3500                                             London   \n",
      "4009    Leeds, Huddersfield, Middlesborough, Billingham   \n",
      "4011    Leeds, Huddersfield, Middlesborough, Billingham   \n",
      "4014                                             London   \n",
      "4241                        Plymouth Docks, UK & abroad   \n",
      "4242                        Plymouth Docks, UK & abroad   \n",
      "4361                                       Paddock Wood   \n",
      "\n",
      "                                           company_name  \\\n",
      "10               Laker mechanical services; agency work   \n",
      "11               Laker mechanical services; agency work   \n",
      "12               Laker mechanical services; agency work   \n",
      "181                                      John Andersons   \n",
      "222                                     Sea board (SSE)   \n",
      "360              Wrights Shop Fitting (House of fraser)   \n",
      "786                                     Adolio Builders   \n",
      "857                                       self employed   \n",
      "858                                       self employed   \n",
      "907                                   Campbell & Turner   \n",
      "908                   cammell laird shiprepairs limited   \n",
      "1590                                      Self employed   \n",
      "1597                                       Ernest Lynch   \n",
      "1640  British Waterways Board, British Rail & Self E...   \n",
      "1880                                         Royal Navy   \n",
      "1935                            City Birmingham Council   \n",
      "1950                                     JK Pike & Sons   \n",
      "2191                           Turner's Asbestos Cement   \n",
      "3426                          Private Firm (Contractor)   \n",
      "3500                                  Probation Service   \n",
      "4009  Palmers Scaffolding, Turners Scaffolding, Brid...   \n",
      "4011  Palmers Scaffolding, Turners Scaffolding, Brid...   \n",
      "4014            Robert McApine, Laings, Taylor Woodrow,   \n",
      "4241                                     MOD  Davenport   \n",
      "4242                                     MOD  Davenport   \n",
      "4361                                         Halls Shed   \n",
      "\n",
      "                                        working_area_ft        ...         \\\n",
      "10                                              on site        ...          \n",
      "11                                              on site        ...          \n",
      "12                                              on site        ...          \n",
      "181                                             on site        ...          \n",
      "222                                             on site        ...          \n",
      "360                                             on site        ...          \n",
      "786                                             on site        ...          \n",
      "857                                    buildings/houses        ...          \n",
      "858                                    buildings/houses        ...          \n",
      "907                                             on site        ...          \n",
      "908   mostly working in cabins on ship, some work in...        ...          \n",
      "1590                                     inside/outside        ...          \n",
      "1597                                            on site        ...          \n",
      "1640                                            on site        ...          \n",
      "1880                                               ship        ...          \n",
      "1935                                            factory        ...          \n",
      "1950                                          work shop        ...          \n",
      "2191                                       office based        ...          \n",
      "3426                                            on site        ...          \n",
      "3500                                       office based        ...          \n",
      "4009                                            on site        ...          \n",
      "4011                                            on site        ...          \n",
      "4014                                            on site        ...          \n",
      "4241                                        on the ship        ...          \n",
      "4242                                        on the ship        ...          \n",
      "4361                                           saw mill        ...          \n",
      "\n",
      "     task_frequency task_periodicity    E      H   LC     D RPE     AE  \\\n",
      "10             10.0            month  4.0   10.0  1.0   6.0 NaN   40.0   \n",
      "11              5.0            month  4.0   10.0  1.0  12.0 NaN   40.0   \n",
      "12             10.0            month  4.0    3.0  1.0  37.0 NaN   12.0   \n",
      "181             5.0             week  4.0  100.0  1.0  13.0 NaN  400.0   \n",
      "222             5.0             week  4.0   30.0  1.0   5.0 NaN  120.0   \n",
      "360             5.0             week  4.0   10.0  1.0  37.0 NaN   40.0   \n",
      "786            40.0             year  4.0   30.0  1.0  13.0 NaN  120.0   \n",
      "857             5.0            month  4.0   30.0  1.0  37.0 NaN  120.0   \n",
      "858             5.0            month  4.0   30.0  1.0  37.0 NaN  120.0   \n",
      "907            20.0            month  4.0   30.0  1.0  37.0 NaN  120.0   \n",
      "908             1.0              day  4.0   30.0  1.0   7.0 NaN  120.0   \n",
      "1590            2.0            month  4.0   30.0  1.0  37.0 NaN  120.0   \n",
      "1597            4.0            month  4.0   30.0  1.0  37.0 NaN  120.0   \n",
      "1640            2.0              day  4.0   30.0  1.0   6.0 NaN  120.0   \n",
      "1880            2.0            month  4.0   30.0  1.0  37.0 NaN  120.0   \n",
      "1935            5.0            month  4.0  100.0  1.0   2.7 NaN  400.0   \n",
      "1950            2.0             week  4.0   30.0  1.0  37.0 NaN  120.0   \n",
      "2191            5.0             week  4.0   30.0  1.0  37.0 NaN  120.0   \n",
      "3426            5.0             week  4.0   30.0  1.0  37.0 NaN  120.0   \n",
      "3500            4.0             week  0.6   30.0  1.0  37.0 NaN   18.0   \n",
      "4009          100.0             year  4.0   30.0  1.0  17.0 NaN  120.0   \n",
      "4011          100.0             year  4.0   30.0  1.0  12.0 NaN  120.0   \n",
      "4014            5.0             week  4.0   10.0  1.0  37.0 NaN   40.0   \n",
      "4241            2.0             week  4.0   30.0  1.0   2.7 NaN  120.0   \n",
      "4242            1.0             week  4.0   30.0  1.0   6.0 NaN  120.0   \n",
      "4361            5.0             week  4.0  100.0  1.0  37.0 NaN  400.0   \n",
      "\n",
      "     periodicity_mins fibre/ml exposure  \n",
      "10          43800.048       1052.053642  \n",
      "11          43800.048       1052.053642  \n",
      "12          43800.048       1946.299237  \n",
      "181         10080.000      50761.904762  \n",
      "222         10080.000       6428.571429  \n",
      "360         10080.000       1688.492063  \n",
      "786        525600.000       5698.630137  \n",
      "857         43800.048       1459.724428  \n",
      "858         43800.048       1459.724428  \n",
      "907         43800.048      10218.070994  \n",
      "908          1440.000       1120.000000  \n",
      "1590        43800.048       3308.708703  \n",
      "1597        43800.048      33087.087028  \n",
      "1640         1440.000      20640.000000  \n",
      "1880        43800.048       1265.094504  \n",
      "1935        43800.048       1094.793321  \n",
      "1950        10080.000       1110.000000  \n",
      "2191        10080.000       1057.142857  \n",
      "3426        10080.000       4228.571429  \n",
      "3500        10080.000       1014.857143  \n",
      "4009       525600.000       2235.616438  \n",
      "4011       525600.000       1578.082192  \n",
      "4014        10080.000      23785.714286  \n",
      "4241        10080.000       1423.285714  \n",
      "4242        10080.000       1405.714286  \n",
      "4361        10080.000      10571.428571  \n",
      "\n",
      "[26 rows x 97 columns]\n",
      "      patient_id soc_job_ft  id job_tasks start_year end_year employer_output  \\\n",
      "4457          33        NaN NaN       NaN        NaN      NaN             NaN   \n",
      "4458          33        NaN NaN       NaN        NaN      NaN             NaN   \n",
      "4459         244        NaN NaN       NaN        NaN      NaN             NaN   \n",
      "4460         785        NaN NaN       NaN        NaN      NaN             NaN   \n",
      "4461         785        NaN NaN       NaN        NaN      NaN             NaN   \n",
      "4462         785        NaN NaN       NaN        NaN      NaN             NaN   \n",
      "4463         785        NaN NaN       NaN        NaN      NaN             NaN   \n",
      "4464          29        NaN NaN       NaN        NaN      NaN             NaN   \n",
      "4465         282        NaN NaN       NaN        NaN      NaN             NaN   \n",
      "4466         282        NaN NaN       NaN        NaN      NaN             NaN   \n",
      "4467         282        NaN NaN       NaN        NaN      NaN             NaN   \n",
      "4468         503        NaN NaN       NaN        NaN      NaN             NaN   \n",
      "4469         503        NaN NaN       NaN        NaN      NaN             NaN   \n",
      "4470         126        NaN NaN       NaN        NaN      NaN             NaN   \n",
      "4471         131        NaN NaN       NaN        NaN      NaN             NaN   \n",
      "4472         784        NaN NaN       NaN        NaN      NaN             NaN   \n",
      "4473          87        NaN NaN       NaN        NaN      NaN             NaN   \n",
      "4474         191        NaN NaN       NaN        NaN      NaN             NaN   \n",
      "4475         256        NaN NaN       NaN        NaN      NaN             NaN   \n",
      "4476         168        NaN NaN       NaN        NaN      NaN             NaN   \n",
      "4477         182        NaN NaN       NaN        NaN      NaN             NaN   \n",
      "4478         288        NaN NaN       NaN        NaN      NaN             NaN   \n",
      "4479         288        NaN NaN       NaN        NaN      NaN             NaN   \n",
      "4480         288        NaN NaN       NaN        NaN      NaN             NaN   \n",
      "4481         164        NaN NaN       NaN        NaN      NaN             NaN   \n",
      "4482         214        NaN NaN       NaN        NaN      NaN             NaN   \n",
      "4483         114        NaN NaN       NaN        NaN      NaN             NaN   \n",
      "4484         146        NaN NaN       NaN        NaN      NaN             NaN   \n",
      "4485         230        NaN NaN       NaN        NaN      NaN             NaN   \n",
      "4486         206        NaN NaN       NaN        NaN      NaN             NaN   \n",
      "...          ...        ...  ..       ...        ...      ...             ...   \n",
      "4513         808        NaN NaN       NaN        NaN      NaN             NaN   \n",
      "4514         808        NaN NaN       NaN        NaN      NaN             NaN   \n",
      "4515         432        NaN NaN       NaN        NaN      NaN             NaN   \n",
      "4516         633        NaN NaN       NaN        NaN      NaN             NaN   \n",
      "4517         633        NaN NaN       NaN        NaN      NaN             NaN   \n",
      "4518         474        NaN NaN       NaN        NaN      NaN             NaN   \n",
      "4519         721        NaN NaN       NaN        NaN      NaN             NaN   \n",
      "4520         721        NaN NaN       NaN        NaN      NaN             NaN   \n",
      "4521         526        NaN NaN       NaN        NaN      NaN             NaN   \n",
      "4522         532        NaN NaN       NaN        NaN      NaN             NaN   \n",
      "4523         373        NaN NaN       NaN        NaN      NaN             NaN   \n",
      "4524         702        NaN NaN       NaN        NaN      NaN             NaN   \n",
      "4525         702        NaN NaN       NaN        NaN      NaN             NaN   \n",
      "4526         572        NaN NaN       NaN        NaN      NaN             NaN   \n",
      "4527         774        NaN NaN       NaN        NaN      NaN             NaN   \n",
      "4528         774        NaN NaN       NaN        NaN      NaN             NaN   \n",
      "4529         646        NaN NaN       NaN        NaN      NaN             NaN   \n",
      "4530         646        NaN NaN       NaN        NaN      NaN             NaN   \n",
      "4531         662        NaN NaN       NaN        NaN      NaN             NaN   \n",
      "4532         538        NaN NaN       NaN        NaN      NaN             NaN   \n",
      "4533         884        NaN NaN       NaN        NaN      NaN             NaN   \n",
      "4534         882        NaN NaN       NaN        NaN      NaN             NaN   \n",
      "4535         874        NaN NaN       NaN        NaN      NaN             NaN   \n",
      "4536         931        NaN NaN       NaN        NaN      NaN             NaN   \n",
      "4537         990        NaN NaN       NaN        NaN      NaN             NaN   \n",
      "4538        1019        NaN NaN       NaN        NaN      NaN             NaN   \n",
      "4539        1021        NaN NaN       NaN        NaN      NaN             NaN   \n",
      "4540        1024        NaN NaN       NaN        NaN      NaN             NaN   \n",
      "4541        1009        NaN NaN       NaN        NaN      NaN             NaN   \n",
      "4542        1006        NaN NaN       NaN        NaN      NaN             NaN   \n",
      "\n",
      "     address company_name working_area_ft        ...        task_frequency  \\\n",
      "4457     NaN          NaN             NaN        ...                   1.0   \n",
      "4458     NaN          NaN             NaN        ...                   1.0   \n",
      "4459     NaN          NaN             NaN        ...                   1.0   \n",
      "4460     NaN          NaN             NaN        ...                   1.0   \n",
      "4461     NaN          NaN             NaN        ...                   1.0   \n",
      "4462     NaN          NaN             NaN        ...                   1.0   \n",
      "4463     NaN          NaN             NaN        ...                   1.0   \n",
      "4464     NaN          NaN             NaN        ...                   1.0   \n",
      "4465     NaN          NaN             NaN        ...                   1.0   \n",
      "4466     NaN          NaN             NaN        ...                   2.0   \n",
      "4467     NaN          NaN             NaN        ...                   1.0   \n",
      "4468     NaN          NaN             NaN        ...                   1.0   \n",
      "4469     NaN          NaN             NaN        ...                   1.0   \n",
      "4470     NaN          NaN             NaN        ...                   1.0   \n",
      "4471     NaN          NaN             NaN        ...                  20.0   \n",
      "4472     NaN          NaN             NaN        ...                   1.0   \n",
      "4473     NaN          NaN             NaN        ...                   2.0   \n",
      "4474     NaN          NaN             NaN        ...                   1.0   \n",
      "4475     NaN          NaN             NaN        ...                   4.0   \n",
      "4476     NaN          NaN             NaN        ...                   1.0   \n",
      "4477     NaN          NaN             NaN        ...                  40.0   \n",
      "4478     NaN          NaN             NaN        ...                   1.0   \n",
      "4479     NaN          NaN             NaN        ...                   0.0   \n",
      "4480     NaN          NaN             NaN        ...                   0.0   \n",
      "4481     NaN          NaN             NaN        ...                   1.0   \n",
      "4482     NaN          NaN             NaN        ...                   1.0   \n",
      "4483     NaN          NaN             NaN        ...                   NaN   \n",
      "4484     NaN          NaN             NaN        ...                   1.0   \n",
      "4485     NaN          NaN             NaN        ...                   1.0   \n",
      "4486     NaN          NaN             NaN        ...                   1.0   \n",
      "...      ...          ...             ...        ...                   ...   \n",
      "4513     NaN          NaN             NaN        ...                   1.0   \n",
      "4514     NaN          NaN             NaN        ...                   1.0   \n",
      "4515     NaN          NaN             NaN        ...                   1.0   \n",
      "4516     NaN          NaN             NaN        ...                   1.0   \n",
      "4517     NaN          NaN             NaN        ...                   1.0   \n",
      "4518     NaN          NaN             NaN        ...                  10.0   \n",
      "4519     NaN          NaN             NaN        ...                   3.0   \n",
      "4520     NaN          NaN             NaN        ...                   3.0   \n",
      "4521     NaN          NaN             NaN        ...                  15.0   \n",
      "4522     NaN          NaN             NaN        ...                   2.0   \n",
      "4523     NaN          NaN             NaN        ...                   6.0   \n",
      "4524     NaN          NaN             NaN        ...                   1.0   \n",
      "4525     NaN          NaN             NaN        ...                   1.0   \n",
      "4526     NaN          NaN             NaN        ...                   1.0   \n",
      "4527     NaN          NaN             NaN        ...                   6.0   \n",
      "4528     NaN          NaN             NaN        ...                   6.0   \n",
      "4529     NaN          NaN             NaN        ...                   1.0   \n",
      "4530     NaN          NaN             NaN        ...                   1.0   \n",
      "4531     NaN          NaN             NaN        ...                   1.0   \n",
      "4532     NaN          NaN             NaN        ...                   5.0   \n",
      "4533     NaN          NaN             NaN        ...                   1.0   \n",
      "4534     NaN          NaN             NaN        ...                   3.0   \n",
      "4535     NaN          NaN             NaN        ...                   6.0   \n",
      "4536     NaN          NaN             NaN        ...                   1.0   \n",
      "4537     NaN          NaN             NaN        ...                   6.0   \n",
      "4538     NaN          NaN             NaN        ...                   1.0   \n",
      "4539     NaN          NaN             NaN        ...                   3.0   \n",
      "4540     NaN          NaN             NaN        ...                   1.0   \n",
      "4541     NaN          NaN             NaN        ...                   1.0   \n",
      "4542     NaN          NaN             NaN        ...                   1.0   \n",
      "\n",
      "     task_periodicity    E      H   LC      D RPE       AE periodicity_mins  \\\n",
      "4457             year  0.6   30.0  1.0   0.50 NaN   18.000       525600.000   \n",
      "4458             year  0.6    3.0  1.0   0.50 NaN    1.800       525600.000   \n",
      "4459             year  4.0   30.0  1.0   0.50 NaN  120.000       525600.000   \n",
      "4460             year  4.0  100.0  1.0  18.00 NaN  400.000       525600.000   \n",
      "4461             year  0.6   10.0  1.0  37.00 NaN    6.000       525600.000   \n",
      "4462             year  0.6   10.0  1.0  37.00 NaN    6.000       525600.000   \n",
      "4463             year  0.6   10.0  1.0  37.00 NaN    6.000       525600.000   \n",
      "4464             year  0.6    1.0  1.0  37.00 NaN    0.600       525600.000   \n",
      "4465             year  0.6    1.0  1.0  37.00 NaN    0.600       525600.000   \n",
      "4466             year  0.6   30.0  1.0   0.50 NaN   18.000       525600.000   \n",
      "4467             year  0.6    1.0  1.0  37.00 NaN    0.600       525600.000   \n",
      "4468             year  0.6    0.1  1.0   0.50 NaN    0.060       525600.000   \n",
      "4469             year  0.6    3.0  1.0   0.50 NaN    1.800       525600.000   \n",
      "4470             year  4.0    1.0  1.0  37.00 NaN    4.000       525600.000   \n",
      "4471            month  4.0    0.1  1.0  37.00 NaN    0.400        43800.048   \n",
      "4472             year  1.2    0.1  1.0   0.50 NaN    0.120       525600.000   \n",
      "4473             year  4.0    0.1  1.0  18.00 NaN    0.400       525600.000   \n",
      "4474             year  2.5   30.0  1.0   0.50 NaN   75.000       525600.000   \n",
      "4475             year  0.6    3.0  1.0   0.50 NaN    1.800       525600.000   \n",
      "4476             year  0.6   10.0  1.0  18.00 NaN    6.000       525600.000   \n",
      "4477             year  1.2    1.0  1.0   0.50 NaN    1.200       525600.000   \n",
      "4478             year  4.0   10.0  1.0  37.00 NaN   40.000       525600.000   \n",
      "4479             year  0.6   30.0  1.0   0.50 NaN   18.000       525600.000   \n",
      "4480             year  0.6    1.0  1.0   0.50 NaN    0.600       525600.000   \n",
      "4481             year  0.6    0.1  0.3   0.50 NaN    0.018       525600.000   \n",
      "4482             year  0.6    0.1  1.0   0.50 NaN    0.060       525600.000   \n",
      "4483             None  NaN    NaN  NaN    NaN NaN      NaN              NaN   \n",
      "4484             year  4.0    0.1  1.0   0.50 NaN    0.400       525600.000   \n",
      "4485             year  0.6    1.0  1.0   0.50 NaN    0.600       525600.000   \n",
      "4486             year  0.6    1.0  1.0   0.50 NaN    0.600       525600.000   \n",
      "...               ...  ...    ...  ...    ...  ..      ...              ...   \n",
      "4513             year  0.6    1.0  1.0   0.50 NaN    0.600       525600.000   \n",
      "4514             year  4.0    1.0  1.0   0.50 NaN    4.000       525600.000   \n",
      "4515             year  0.6    1.0  0.1   0.50 NaN    0.060       525600.000   \n",
      "4516             year  4.0   10.0  1.0   0.50 NaN   40.000       525600.000   \n",
      "4517             year  4.0   10.0  1.0   0.50 NaN   40.000       525600.000   \n",
      "4518            month  0.6  100.0  1.0   0.50 NaN   60.000        43800.048   \n",
      "4519             year  4.0   30.0  1.0   0.50 NaN  120.000       525600.000   \n",
      "4520             year  4.0    3.0  1.0   0.50 NaN   12.000       525600.000   \n",
      "4521             year  0.6    1.0  1.0   0.50 NaN    0.600       525600.000   \n",
      "4522             year  4.0   30.0  1.0   0.50 NaN  120.000       525600.000   \n",
      "4523             year  4.0   30.0  1.0   0.50 NaN  120.000       525600.000   \n",
      "4524             year  2.5    3.0  1.0   0.50 NaN    7.500       525600.000   \n",
      "4525             year  2.5   30.0  1.0   0.50 NaN   75.000       525600.000   \n",
      "4526             year  4.0    3.0  1.0   0.50 NaN   12.000       525600.000   \n",
      "4527            month  4.0    3.0  1.0   0.50 NaN   12.000        43800.048   \n",
      "4528            month  4.0    0.1  1.0   0.50 NaN    0.400        43800.048   \n",
      "4529             year  4.0   10.0  1.0  37.00 NaN   40.000       525600.000   \n",
      "4530             year  4.0    3.0  1.0  37.00 NaN   12.000       525600.000   \n",
      "4531             year  0.6   30.0  1.0   0.50 NaN   18.000       525600.000   \n",
      "4532             week  5.0    3.0  1.0   0.05 NaN   15.000        10080.000   \n",
      "4533             year  2.5   10.0  0.1   0.50 NaN    2.500       525600.000   \n",
      "4534              day  1.2   10.0  0.1  17.00 NaN    1.200         1440.000   \n",
      "4535             year  4.0   30.0  1.0  37.00 NaN  120.000       525600.000   \n",
      "4536             year  1.2   30.0  1.0   0.50 NaN   36.000       525600.000   \n",
      "4537             year  4.0   10.0  1.0   0.50 NaN   40.000       525600.000   \n",
      "4538             year  0.6   10.0  1.0    NaN NaN    6.000       525600.000   \n",
      "4539             year  2.0   30.0  1.0    NaN NaN   60.000       525600.000   \n",
      "4540              day  4.0   30.0  1.0    NaN NaN  120.000         1440.000   \n",
      "4541              day  4.0   30.0  1.0    NaN NaN  120.000         1440.000   \n",
      "4542              day  4.0   10.0  1.0    NaN NaN   40.000         1440.000   \n",
      "\n",
      "     fibre/ml exposure  \n",
      "4457               NaN  \n",
      "4458               NaN  \n",
      "4459               NaN  \n",
      "4460               NaN  \n",
      "4461               NaN  \n",
      "4462               NaN  \n",
      "4463               NaN  \n",
      "4464               NaN  \n",
      "4465               NaN  \n",
      "4466               NaN  \n",
      "4467               NaN  \n",
      "4468               NaN  \n",
      "4469               NaN  \n",
      "4470               NaN  \n",
      "4471               NaN  \n",
      "4472               NaN  \n",
      "4473               NaN  \n",
      "4474               NaN  \n",
      "4475               NaN  \n",
      "4476               NaN  \n",
      "4477               NaN  \n",
      "4478               NaN  \n",
      "4479               NaN  \n",
      "4480               NaN  \n",
      "4481               NaN  \n",
      "4482               NaN  \n",
      "4483               NaN  \n",
      "4484               NaN  \n",
      "4485               NaN  \n",
      "4486               NaN  \n",
      "...                ...  \n",
      "4513               NaN  \n",
      "4514               NaN  \n",
      "4515               NaN  \n",
      "4516               NaN  \n",
      "4517               NaN  \n",
      "4518               NaN  \n",
      "4519               NaN  \n",
      "4520               NaN  \n",
      "4521               NaN  \n",
      "4522               NaN  \n",
      "4523               NaN  \n",
      "4524               NaN  \n",
      "4525               NaN  \n",
      "4526               NaN  \n",
      "4527               NaN  \n",
      "4528               NaN  \n",
      "4529               NaN  \n",
      "4530               NaN  \n",
      "4531               NaN  \n",
      "4532               NaN  \n",
      "4533               NaN  \n",
      "4534               NaN  \n",
      "4535               NaN  \n",
      "4536               NaN  \n",
      "4537               NaN  \n",
      "4538               NaN  \n",
      "4539               NaN  \n",
      "4540               NaN  \n",
      "4541               NaN  \n",
      "4542               NaN  \n",
      "\n",
      "[86 rows x 97 columns]\n"
     ]
    }
   ],
   "source": [
    "fibremlquality(df)"
   ]
  },
  {
   "cell_type": "code",
   "execution_count": 32,
   "metadata": {},
   "outputs": [],
   "source": [
    "# dataframe of participant details and jobs they've had + cherrie asbestos exposure assessments\n",
    "add_fibre_ml_years(df).to_csv('job_tasks_dataframe.csv', index=False)"
   ]
  },
  {
   "cell_type": "code",
   "execution_count": 33,
   "metadata": {},
   "outputs": [],
   "source": [
    "def sampling_range_for_quality_control(df):\n",
    "    \"\"\"\n",
    "    samples range of fibre count estimates\n",
    "    saves result \n",
    "    currently low medium high is set manually (should fix that)\n",
    "    \"\"\"\n",
    "    df = add_fibre_ml_years(df)\n",
    "    df = df[~df['fibre/ml exposure'].isnull()]\n",
    "    df.describe()['fibre/ml exposure']\n",
    "\n",
    "    \n",
    "\n",
    "    \n",
    "    df = df[['participant_id', 'start_year', 'end_year', 'duration', 'soc_job_ft', \n",
    "             'job_tasks', 'working_area_ft', 'employer_output','company_name', 'address', \n",
    "             'description2', 'asbestos_type','asbestos_percentage', 'handling_ft', \n",
    "             'near_or_far_field', 'room_volume', 'room_air_changes','occ_desc','task_duration', 'task_frequency', 'task_periodicity', \n",
    "             'E', 'H', 'LC', 'D', 'RPE', 'AE', 'periodicity_mins', 'fibre/ml exposure']]\n",
    "\n",
    "    df[df['fibre/ml exposure'] < 0.11].sample(5).to_csv('cherrie_lows.csv', index=False)\n",
    "    df[df['fibre/ml exposure'] > 20.93].sample(5).to_csv('cherrie_highs.csv', index=False)\n",
    "    df[(df['fibre/ml exposure'] > 0.11) & (df['fibre/ml exposure'] < 20.93)].sample(5).to_csv('cherrie_mediums.csv', index=False)"
   ]
  },
  {
   "cell_type": "code",
   "execution_count": 34,
   "metadata": {},
   "outputs": [],
   "source": [
    "sampling_range_for_quality_control(df)"
   ]
  },
  {
   "cell_type": "code",
   "execution_count": 35,
   "metadata": {},
   "outputs": [],
   "source": [
    "def removed():\n",
    "    \"\"\"\n",
    "    Print information about removed participants\n",
    "    \"\"\"\n",
    "    rm = ddf['ipfjes_removalreason'][ddf['ipfjes_removalreason'].reason_fk_id.notnull()].copy() \n",
    "\n",
    "    # add participant_id\n",
    "    ct_lookup = ddf['ipfjes_demographics'].loc[:,['patient_id', 'hospital_number']].copy()\n",
    "    ct_lookup.index = ct_lookup['patient_id'].copy()\n",
    "    ct_lookup = ct_lookup['hospital_number'].to_dict()\n",
    "    rm['participant_id'] = rm['episode_id'].map(ct_lookup)\n",
    "\n",
    "    # add participant type\n",
    "    pt_lookup = ddf['ipfjes_studyparticipantdetails'].loc[:,['episode_id', 'participant_type']].copy()\n",
    "    pt_lookup.index = pt_lookup['episode_id']\n",
    "    pt_lookup = pt_lookup['participant_type'].to_dict()\n",
    "    rm['case'] = rm['episode_id'].map(pt_lookup)\n",
    "    \n",
    "    removal_reasons = ddf['ipfjes_reasonforremoval']\n",
    "    removal_reasons.index = removal_reasons['id']\n",
    "    removal_reasons = removal_reasons['name'].to_dict()\n",
    "    removal_reasons[4] = 'no response after 3 attempts' # to fix a coding duplicate\n",
    "    rm['reason'] = rm['reason_fk_id'].map(removal_reasons)\n",
    "    return rm"
   ]
  },
  {
   "cell_type": "code",
   "execution_count": 87,
   "metadata": {},
   "outputs": [],
   "source": [
    "def highest_ssec(df):\n",
    "    \"\"\"\n",
    "    Takes a df makes a summary dataframe of highest\n",
    "    socioeconomic, read lowest, code for each participant. \n",
    "    \"\"\"\n",
    "    df.index = df.patient_id\n",
    "    highssec = df.groupby(level='patient_id').ssec.min().to_frame()\n",
    "    casestatus = df.drop_duplicates(subset='patient_id').case.to_frame()\n",
    "    summarydf = highssec.merge(casestatus, right_index=True, left_index=True)\n",
    "    print('\\n# Social class (based on lowest social class code job)\\n')\n",
    "    print (summarydf.groupby('case').ssec.describe())\n",
    "    \n",
    "def jobstats(df):\n",
    "    \"\"\"\n",
    "    Calculate basic stats on number of jobs per participant for cases and controls.\n",
    "    Calculate stats on duration of time spent in exposed jobs for cases and controls.\n",
    "    \"\"\"\n",
    "    print('\\n# Job stats: mean number of jobs per participant\\n')\n",
    "    print(df.groupby('case').patient_id.count() / df.groupby('case').patient_id.nunique())\n",
    "    \n",
    "    print('\\n# Job stats: proportion of cases and controls in medium or high exposure job\\n')\n",
    "    print(df[df['exposure_score'] > 0].drop_duplicates(subset='patient_id').groupby('case').count()['patient_id'] / df.drop_duplicates(subset='patient_id').groupby('case').count()['patient_id'])  \n",
    "    \n",
    "    print('\\n# Job stats: mean total duration in an exposed job (years)\\n')\n",
    "    exposed_job_durations = df[df['exposure_score'] > 0].groupby(['case', 'patient_id']).duration.sum().reset_index()\n",
    "    print(exposed_job_durations.groupby('case').duration.mean())\n",
    "    \n",
    "    print('\\n# Job stats: median total duration in an exposed job (years)\\n')\n",
    "    print(exposed_job_durations.groupby('case').duration.median())\n",
    "     \n",
    "    print('\\n# Job stats: summary stats for duration in an exposed job (years)\\n')\n",
    "    print(exposed_job_durations.groupby('case').duration.describe())\n",
    "    \n",
    "    exposed_job_durations['duration_bin'] = pd.cut(exposed_job_durations.duration, range(0,30,5), \n",
    "                labels=[\n",
    "                    '0 to 4',\n",
    "                    '5 to 9',\n",
    "                    '10 to 14',\n",
    "                    '15 to 19',\n",
    "                    '20 to 24',\n",
    "                    ],\n",
    "                right=False) \n",
    "    \n",
    "\n",
    "    exposed_job_durations['duration_bin'] = exposed_job_durations['duration_bin'].cat.add_categories('25 and over')\n",
    "    exposed_job_durations['duration_bin'] = exposed_job_durations['duration_bin'].fillna('25 and over')\n",
    "    \n",
    "    ax1 = exposed_job_durations[(exposed_job_durations['case'] == 1)].duration_bin.value_counts(normalize=True).loc[['0 to 4', '5 to 9', '10 to 14', '15 to 19', '20 to 24', '25 and over']].plot(kind='bar', ylim=[0,0.6], title='cases')\n",
    "    ax1.set_xlabel(\"years in medium or high risk job\")\n",
    "    ax1.set_ylabel(\"proportion of cases\")\n",
    "    plt.show()\n",
    "    \n",
    "    ax2 = exposed_job_durations[(exposed_job_durations['case'] == 0)].duration_bin.value_counts(normalize=True).loc[['0 to 4', '5 to 9', '10 to 14', '15 to 19', '20 to 24', '25 and over']].plot(kind='bar', ylim=[0,0.6], title='controls')\n",
    "    ax2.set_xlabel(\"years in medium or high risk job\")\n",
    "    ax2.set_ylabel(\"proportion of controls\")\n",
    "    plt.show()\n",
    "\n",
    "    print(\"\\n Case bins\\n\")\n",
    "    print(exposed_job_durations[(exposed_job_durations['case'] == 1)].duration_bin.value_counts(normalize=True).loc[['0 to 4', '5 to 9', '10 to 14', '15 to 19', '20 to 24', '25 and over']])\n",
    "    \n",
    "    print(\"\\n Control bins\\n\")\n",
    "    print(exposed_job_durations[(exposed_job_durations['case'] == 0)].duration_bin.value_counts(normalize=True).loc[['0 to 4', '5 to 9', '10 to 14', '15 to 19', '20 to 24', '25 and over']])\n",
    "\n",
    "\n",
    "def proportion_high_med(df):\n",
    "    \"\"\"\n",
    "    Asbestos exposure was widespread, with 65% of male and 23% of female controls having\n",
    "    worked in occupations that were classified as medium or higher risk in Peto case control study.\n",
    "    Here we show proportion of cases and controls in each category and % in medium and high exp.\n",
    "    \"\"\"\n",
    "    \n",
    "    df = df.groupby(['case','patient_id']).final_jobcat.min().reset_index()\n",
    "    df = df.groupby('case').final_jobcat.value_counts(normalize=True)\n",
    "    df = df.unstack()\n",
    "    \n",
    "    print('\\n# Proportion of participants in each Peto category of exposure (assigned by highest risk job held) (Table 2.3.2)\\n')\n",
    "    print(df)\n",
    "    \n",
    "    print('\\n# Proportion of cases ever having high or medium Peto category of exposure risk job (Table 2.3.2)\\n')\n",
    "    print(df.loc[[1]][[1.0, 2.1, 2.2, 2.3, 3.0]].values.sum())\n",
    "    \n",
    "    print('\\n# Proportion of controls ever having high or medium Peto category of exposure risk job (Table 2.3.2)\\n')\n",
    "    print(df.loc[[0]][[1.0, 2.1, 2.2, 2.3, 3.0]].values.sum())\n",
    "    \n",
    "def doses(df):\n",
    "    \"\"\"\n",
    "    patient level 'dose' (sum of exposure score * duration for each job)\n",
    "    statistics\n",
    "    \"\"\"\n",
    "    doses = df.groupby(['case','patient_id']).dose.sum().reset_index()\n",
    "    df.case = df.case.replace(1,'case')\n",
    "    df.case = df.case.replace(0,'control')\n",
    "\n",
    "    ax = doses.boxplot(column='dose', by='case')\n",
    "    ax.set_xlabel(\"\")\n",
    "    ax.set_ylabel(\"Cummulative dose\")\n",
    "    ax.get_figure().suptitle('') \n",
    "    ax.set_title(\"\")\n",
    "    print(doses.groupby('case').dose.describe())\n",
    "    doses.hist(column='dose',by='case', sharey=True, sharex=True)\n",
    "\n",
    "    "
   ]
  },
  {
   "cell_type": "code",
   "execution_count": 88,
   "metadata": {},
   "outputs": [
    {
     "name": "stderr",
     "output_type": "stream",
     "text": [
      "/home/drcjar/anaconda3/envs/ipfjes/lib/python3.5/site-packages/ipykernel_launcher.py:90: FutureWarning: 'patient_id' is both an index level and a column label.\n",
      "Defaulting to column, but this will raise an ambiguity error in a future version\n"
     ]
    },
    {
     "name": "stdout",
     "output_type": "stream",
     "text": [
      "         count       mean        std  min  25%  50%   75%    max\n",
      "case                                                            \n",
      "case     494.0  23.886640  30.797963  0.0  0.0  9.0  40.0  126.0\n",
      "control  466.0  24.015021  30.378858  0.0  0.0  6.5  42.0  118.0\n"
     ]
    },
    {
     "data": {
      "image/png": "[encoded data removed]",
      "text/plain": [
       "<Figure size 432x288 with 1 Axes>"
      ]
     },
     "metadata": {
      "needs_background": "light"
     },
     "output_type": "display_data"
    },
    {
     "data": {
      "image/png": "[encoded data removed]",
      "text/plain": [
       "<Figure size 432x288 with 2 Axes>"
      ]
     },
     "metadata": {
      "needs_background": "light"
     },
     "output_type": "display_data"
    }
   ],
   "source": [
    "doses(df)"
   ]
  },
  {
   "cell_type": "code",
   "execution_count": 82,
   "metadata": {},
   "outputs": [],
   "source": [
    "def ever_vs_never(df):\n",
    "    \"\"\"\n",
    "    OR for ever vs never exposed\n",
    "    \"\"\"\n",
    "    he = df.groupby(['case','participant_id']).final_jobcat.min().reset_index() # highest exposed\n",
    "    he = he.groupby(['case','final_jobcat']).participant_id.count().reset_index()\n",
    "    he.index = he.final_jobcat\n",
    "    \n",
    "    a = he[he['case'] == 1][['participant_id']]\n",
    "    b = he[he['case'] == 0][['participant_id']]\n",
    "    c = pd.concat([a,b], axis=1)\n",
    "    c.columns = ['cases', 'controls']\n",
    "    \n",
    "    ever = c.iloc[0:5][['cases', 'controls']].sum()\n",
    "    ever.name = 'ever'\n",
    "    never = c.iloc[5:][['cases', 'controls']].sum()\n",
    "    never.name = 'never'\n",
    "    evn = pd.concat([ever, never], axis=1).transpose()\n",
    "    evn['odds ratio'] = (evn['cases'].astype(float) / evn['controls'].astype(float)) \\\n",
    "                        / (evn.loc['never']['cases'].astype(float) / evn.loc['never']['controls'].astype(float))\n",
    "        \n",
    "    oddsratio, pvalue = stats.fisher_exact([evn['cases'].values, evn['controls'].values])\n",
    "    evn['p-value'] = pvalue\n",
    "    print(evn)\n",
    "    return evn\n",
    "\n",
    "def bycat(df):\n",
    "    \"\"\"\n",
    "    OR by cat of exposure\n",
    "    \"\"\"\n",
    "    he = df.groupby(['case','participant_id']).final_jobcat.min().reset_index() # highest exposed\n",
    "    he = he.groupby(['case','final_jobcat']).participant_id.count().reset_index()\n",
    "    he.index = he.final_jobcat\n",
    "    \n",
    "    a = he[he['case'] == 1][['participant_id']]\n",
    "    b = he[he['case'] == 0][['participant_id']]\n",
    "    c = pd.concat([a,b], axis=1)\n",
    "    c.columns = ['cases', 'controls']\n",
    "    c.index = jobgroups.values()\n",
    "    Construction = c.iloc[1] + c.iloc[2] + c.iloc[3]\n",
    "    Construction.name = 'Construction'\n",
    "    c = c.append(Construction)\n",
    "    c['odds ratio'] = (c['cases'].astype(float) / c['controls'].astype(float)) \\\n",
    "                        / (c.iloc[6]['cases'].astype(float) / c.iloc[6]['controls'].astype(float))\n",
    "        \n",
    "    odds = []\n",
    "    p = []\n",
    "    for cat in range(len(c)):\n",
    "        t = c.iloc[[cat,6]]\n",
    "        oddsratio, pvalue = stats.fisher_exact([t['cases'].values, t['controls'].values])\n",
    "        odds.append(oddsratio)\n",
    "        p.append(pvalue)\n",
    "    \n",
    "    c['p-value'] = p\n",
    "    \n",
    "    print(c.iloc[[0,7,4,5,6]])\n",
    "    print('\\n')\n",
    "    print(c.iloc[[0,1,2,3,4,5,6]])\n",
    "    \n",
    "    return c \n",
    "\n",
    "def fibremlyearsbypt(df):\n",
    "    \"\"\"\n",
    "    takes a df with fibre ml years\n",
    "    \"\"\"\n",
    "    df = add_fibre_ml_years(df)\n",
    "    df.case = df.case.replace(1,'case')\n",
    "    df.case = df.case.replace(0,'control')\n",
    "    fml_asb_exp = df.groupby(['case', 'participant_id'])['fibre/ml exposure'].sum().reset_index()\n",
    "    ax = fml_asb_exp[fml_asb_exp['fibre/ml exposure'] > 0].boxplot(column='fibre/ml exposure', by='case')\n",
    "    ax.set_xlabel(\"\")\n",
    "    ax.set_ylabel(\"fibre-ml.years\")\n",
    "    ax.get_figure().suptitle('') \n",
    "    ax.set_title(\"\")\n",
    "    print('\\n# Fibre-ml statistics for participants with > 0 fibre ml years asbestos exposure')\n",
    "    print(fml_asb_exp[fml_asb_exp['fibre/ml exposure'] > 0].groupby('case').describe())\n",
    "    "
   ]
  },
  {
   "cell_type": "code",
   "execution_count": 83,
   "metadata": {},
   "outputs": [
    {
     "name": "stderr",
     "output_type": "stream",
     "text": [
      "/home/drcjar/anaconda3/envs/ipfjes/lib/python3.5/site-packages/ipykernel_launcher.py:64: FutureWarning: 'patient_id' is both an index level and a column label.\n",
      "Defaulting to column, but this will raise an ambiguity error in a future version\n"
     ]
    },
    {
     "name": "stdout",
     "output_type": "stream",
     "text": [
      "\n",
      "# Fibre-ml statistics for participants with > 0 fibre ml years asbestos exposure\n",
      "        fibre/ml exposure                                                \\\n",
      "                    count         mean          std       min       25%   \n",
      "case                                                                      \n",
      "case                125.0  1094.341885  5574.930849  0.000012  0.385084   \n",
      "control             108.0   617.347699  3078.473749  0.000247  0.220548   \n",
      "\n",
      "                                            \n",
      "              50%        75%           max  \n",
      "case                                        \n",
      "case     6.857143  63.415525  50761.904762  \n",
      "control  4.366321  57.360131  23785.714286  \n"
     ]
    },
    {
     "data": {
      "image/png": "[encoded data removed]",
      "text/plain": [
       "<Figure size 432x288 with 1 Axes>"
      ]
     },
     "metadata": {
      "needs_background": "light"
     },
     "output_type": "display_data"
    }
   ],
   "source": [
    "fibremlyearsbypt(df)"
   ]
  },
  {
   "cell_type": "code",
   "execution_count": 58,
   "metadata": {},
   "outputs": [],
   "source": [
    "def proportion_of_exposed_fibre_ml_cats_bar_chart(df):\n",
    "    \"\"\"\n",
    "    takes a df that contains fibre ml counts, sums them per participant, bins them and plots the result\n",
    "    \"\"\"\n",
    "    df = add_fibre_ml_years(df)\n",
    "    fml_asb_exp = df.groupby(['case', 'participant_id'])['fibre/ml exposure'].sum().reset_index()\n",
    "    fml_asb_exp['fml_exposure_category'] = pd.cut(fml_asb_exp['fibre/ml exposure'], [0,0.01,0.1,1,10,100,1000,10000,100000], right=False, labels=['0-0.01',\n",
    "    '0.01-0.1',\n",
    "    '0.1-1',\n",
    "    '1-10',\n",
    "    '10-100',\n",
    "    '100-1000',\n",
    "    '1000-10000',\n",
    "    '10000-100000'])\n",
    "    \n",
    "    fml_asb_exp = fml_asb_exp[fml_asb_exp['fibre/ml exposure'] > 0]\n",
    "    print(fml_asb_exp['participant_id'].nunique())\n",
    "\n",
    "    case_counts = fml_asb_exp[fml_asb_exp['case'] == 1].fml_exposure_category.value_counts(normalize=True).values\n",
    "    control_counts = fml_asb_exp[fml_asb_exp['case'] == 0].fml_exposure_category.value_counts(normalize=True).values\n",
    "\n",
    "    ind = np.arange(len(case_counts))  # the x locations for the groups\n",
    "    width = 0.35  # the width of the bars\n",
    "\n",
    "    fig, ax = plt.subplots()\n",
    "    rects1 = ax.bar(ind - width/2, case_counts, width,\n",
    "                color='IndianRed', label='cases')\n",
    "    rects2 = ax.bar(ind + width/2, control_counts, width, \n",
    "                color='SkyBlue', label='controls')\n",
    "\n",
    "    # Add some text for labels, title and custom x-axis tick labels, etc.\n",
    "    ax.set_ylabel('proportion of total')\n",
    "    ax.set_xlabel('fibre-ml.years')\n",
    "\n",
    "#   ax.set_title('Proportion of exposed particpants in fibre-ml.year categories of exposure')\n",
    "    ax.set_xticks(ind)\n",
    "    ax.set_xticklabels(('0-0.01',\n",
    "    '0.01-0.1',\n",
    "    '0.1-1',\n",
    "    '1-10',\n",
    "    '10-100',\n",
    "    '100-1000',\n",
    "    '1000-10000',\n",
    "    '10000-100000'), rotation = 45, ha=\"right\")\n",
    "    ax.legend()\n",
    "    plt.show()\n",
    "    \n",
    "def oddsratio_metal(df):\n",
    "    \"\"\"\n",
    "    odds ratio for metal, exposed defined as word metal appearing in a job task\n",
    "    \"\"\"\n",
    "    exposedany = df.groupby(level='patient_id').exposed_metal.any().to_frame()\n",
    "    casestatus = df.drop_duplicates(subset='patient_id').case.to_frame()\n",
    "    summarydf = exposedany.merge(casestatus, right_index=True, left_index=True)\n",
    "    table = summarydf.groupby('case').exposed_metal.value_counts(sort=False).values\n",
    "    table = ([[table[0], table[2]], [table[1], table[3]]])\n",
    "    oddsratio, pvalue = stats.fisher_exact(table)\n",
    "    print(\"OddsR: \", oddsratio, \"p-Value:\", pvalue)\n",
    "\n",
    "def oddsratio_wood(df):\n",
    "    \"\"\"\n",
    "    odds ratio for wood, exposed defined as word wood appearing in a job task\n",
    "    \"\"\"\n",
    "    exposedany = df.groupby(level='patient_id').exposed_wood.any().to_frame()\n",
    "    casestatus = df.drop_duplicates(subset='patient_id').case.to_frame()\n",
    "    summarydf = exposedany.merge(casestatus, right_index=True, left_index=True)\n",
    "    table = summarydf.groupby('case').exposed_wood.value_counts(sort=False).values\n",
    "    table = ([[table[0], table[2]], [table[1], table[3]]])\n",
    "    oddsratio, pvalue = stats.fisher_exact(table)\n",
    "    print(\"OddsR: \", oddsratio, \"p-Value:\", pvalue)"
   ]
  },
  {
   "cell_type": "code",
   "execution_count": 59,
   "metadata": {},
   "outputs": [
    {
     "name": "stderr",
     "output_type": "stream",
     "text": [
      "/home/drcjar/anaconda3/envs/ipfjes/lib/python3.5/site-packages/ipykernel_launcher.py:169: FutureWarning: 'patient_id' is both an index level and a column label.\n",
      "Defaulting to column, but this will raise an ambiguity error in a future version\n"
     ]
    },
    {
     "name": "stdout",
     "output_type": "stream",
     "text": [
      "233\n"
     ]
    },
    {
     "data": {
      "image/png": "[encoded data removed]",
      "text/plain": [
       "<Figure size 432x288 with 1 Axes>"
      ]
     },
     "metadata": {
      "needs_background": "light"
     },
     "output_type": "display_data"
    }
   ],
   "source": [
    "proportion_of_exposed_fibre_ml_cats_bar_chart(df)"
   ]
  },
  {
   "cell_type": "code",
   "execution_count": 37,
   "metadata": {},
   "outputs": [],
   "source": [
    "def oddsratio_stone(df):\n",
    "    \"\"\"\n",
    "     odds ratio for stone, exposed defined as word stone or silica appearing in a job task\n",
    "    \"\"\"\n",
    "    exposedany = df.groupby(level='patient_id').exposed_stone.any().to_frame()\n",
    "    casestatus = df.drop_duplicates(subset='patient_id').case.to_frame()\n",
    "    summarydf = exposedany.merge(casestatus, right_index=True, left_index=True)\n",
    "    table = summarydf.groupby('case').exposed_stone.value_counts(sort=False).values\n",
    "    table = ([[table[0], table[2]], [table[1], table[3]]])\n",
    "    oddsratio, pvalue = stats.fisher_exact(table)\n",
    "    print(\"OddsR: \", oddsratio, \"p-Value:\", pvalue)\n",
    "    \n",
    "    \n",
    "def oddsratio_farm(df):\n",
    "    \"\"\"\n",
    "     odds ratio for farm, exposed defined as word farm appearing in a job task\n",
    "    \"\"\"\n",
    "    exposedany = df.groupby(level='patient_id').exposed_farm.any().to_frame()\n",
    "    casestatus = df.drop_duplicates(subset='patient_id').case.to_frame()\n",
    "    summarydf = exposedany.merge(casestatus, right_index=True, left_index=True)\n",
    "    table = summarydf.groupby('case').exposed_farm.value_counts(sort=False).values\n",
    "    table = ([[table[0], table[2]], [table[1], table[3]]])\n",
    "    oddsratio, pvalue = stats.fisher_exact(table)\n",
    "    print(\"OddsR: \", oddsratio, \"p-Value:\", pvalue)\n",
    "\n",
    "def oddsratio_asbestos_deprecated(df):\n",
    "    \"\"\"\n",
    "    odds ratio for asbestos, exposed defined as word asbestos appearing in a job task\n",
    "    \"\"\"\n",
    "    exposedany = df.groupby(level='patient_id').exposed_asbestos.any().to_frame()\n",
    "    casestatus = df.drop_duplicates(subset='patient_id').case.to_frame()\n",
    "    summarydf = exposedany.merge(casestatus, right_index=True, left_index=True)\n",
    "    table = summarydf.groupby('case').exposed_asbestos.value_counts(sort=False).values\n",
    "    table = ([[table[0], table[2]], [table[1], table[3]]])\n",
    "    oddsratio, pvalue = stats.fisher_exact(table)\n",
    "    print(\"OddsR: \", oddsratio, \"p-Value:\", pvalue)\n",
    "    \n",
    "def oddsratio_asbestos_short_list(df):\n",
    "    \"\"\"\n",
    "    odds ratio using ever exposed defined as having a job that appears using peto short list (Table 2.3.1)\n",
    "    \"\"\"\n",
    "    exposedany = df.groupby(level='patient_id').peto_shortlist.any().to_frame()\n",
    "    casestatus = df.drop_duplicates(subset='patient_id').case.to_frame()\n",
    "    summarydf = exposedany.merge(casestatus, right_index=True, left_index=True)\n",
    "    table = summarydf.groupby('case').peto_shortlist.value_counts(sort=False).values\n",
    "    table = ([[table[0], table[2]], [table[1], table[3]]])\n",
    "    oddsratio, pvalue = stats.fisher_exact(table)\n",
    "    print(\"OddsR: \", oddsratio, \"p-Value:\", pvalue)\n",
    "\n",
    "def oddsratio_asbestos_long_list(df):\n",
    "    \"\"\"\n",
    "    odds ratio using ever exposed defined as having a job that appears using peto long list (Table 2.3.2)\n",
    "    \"\"\"\n",
    "    exposedany = df.groupby(level='patient_id').exposed.any().to_frame()\n",
    "    casestatus = df.drop_duplicates(subset='patient_id').case.to_frame()\n",
    "    summarydf = exposedany.merge(casestatus, right_index=True, left_index=True)\n",
    "    table = summarydf.groupby('case').exposed.value_counts(sort=False).values\n",
    "    table = ([[table[0], table[2]], [table[1], table[3]]])\n",
    "    oddsratio, pvalue = stats.fisher_exact(table)\n",
    "    print(\"OddsR: \", oddsratio, \"p-Value:\", pvalue)\n",
    "\n",
    "def oddsratio_smoking(df):\n",
    "    \"\"\"\n",
    "    calculates odds ratio for smoking from df. note is \n",
    "    \"\"\"\n",
    "    exposedany = df.groupby(level='patient_id').ever_smoked.any().to_frame()\n",
    "    casestatus = df.drop_duplicates(subset='patient_id').case.to_frame()\n",
    "    summarydf = exposedany.merge(casestatus, right_index=True, left_index=True)\n",
    "    table = summarydf.groupby('case').ever_smoked.value_counts(sort=False).values\n",
    "    table = ([[table[0], table[2]], [table[1], table[3]]])\n",
    "    oddsratio, pvalue = stats.fisher_exact(table)\n",
    "    print(\"OddsR: \", oddsratio, \"p-Value:\", pvalue)\n",
    "    \n",
    "\n",
    "def comorbidities():\n",
    "    \"\"\"\n",
    "    Print information about comorbidities for cases and controls\n",
    "    \"\"\"\n",
    "    como = ddf['ipfjes_pastmedicalhistory'].loc[:,['episode_id', 'condition_ft', 'details', 'condition_fk_id']]\n",
    "    dis_lookup = ddf['opal_condition'][['id', 'name']]\n",
    "    dis_lookup.index = dis_lookup['id']\n",
    "    dis_lookup = dis_lookup['name'].to_dict()\n",
    "    como = como.replace('', np.nan)\n",
    "    como['cond'] = como['condition_fk_id'].map(lambda x: dis_lookup.get(x))\n",
    "    como.condition_ft.fillna(como.cond, inplace=True)\n",
    "    del como['cond']\n",
    "    pt_lookup = ddf['ipfjes_studyparticipantdetails'].loc[:,['episode_id', 'participant_type']].copy()\n",
    "    pt_lookup.index = pt_lookup['episode_id']\n",
    "    pt_lookup = pt_lookup['participant_type'].to_dict()\n",
    "    como['case'] = como['episode_id'].map(lambda x: pt_lookup.get(x)).copy()\n",
    "    como.to_csv('comorbidities.csv')\n",
    "\n",
    "    print('\\n')\n",
    "    print('top 10 comorbidites for cases (relative frequency)\\n')\n",
    "    print(como[como['case'] == 'case'].condition_ft.value_counts(normalize=True)[:10])\n",
    "    print('\\n')\n",
    "    print('top 10 comorbidites for controls (relative frequency)\\n')\n",
    "    print(como[como['case'] == 'control'].condition_ft.value_counts(normalize=True)[:10])\n",
    "    print('\\n')"
   ]
  },
  {
   "cell_type": "code",
   "execution_count": 38,
   "metadata": {},
   "outputs": [],
   "source": [
    "def oddsratio_pmr_cutoff(df, cutoff):\n",
    "    \"\"\"\n",
    "     odds ratio for stone, exposed defined as word stone or silica appearing in a job task\n",
    "    \"\"\"\n",
    "    df.loc[~df.index.isin(df[df['meso_pmr'] >= cutoff].groupby(level='patient_id').meso_pmr.any().index), 'meso_pmr'] = False\n",
    "    df.loc[df.index.isin(df[df['meso_pmr'] > cutoff].groupby(level='patient_id').meso_pmr.any().index), 'meso_pmr'] = True\n",
    "\n",
    "    a = df.loc[~df.index.isin(df[df['meso_pmr'] >= cutoff].groupby(level='patient_id').meso_pmr.any().index), 'meso_pmr'].to_frame()\n",
    "    b = df[df['meso_pmr'] > cutoff].groupby(level='patient_id').meso_pmr.any().to_frame()\n",
    "\n",
    "    exposedany = pd.concat([a,b])\n",
    "\n",
    "    casestatus = df.drop_duplicates(subset='patient_id').case.to_frame()\n",
    "    summarydf = exposedany.merge(casestatus, right_index=True, left_index=True)\n",
    "    table = summarydf.groupby('case').meso_pmr.value_counts(sort=False).values\n",
    "    table = ([[table[0], table[2]], [table[1], table[3]]])\n",
    "    oddsratio, pvalue = stats.fisher_exact(table)\n",
    "    print(\"OddsR: \", oddsratio, \"p-Value:\", pvalue)"
   ]
  },
  {
   "cell_type": "code",
   "execution_count": 39,
   "metadata": {},
   "outputs": [],
   "source": [
    "cutoff = 100"
   ]
  },
  {
   "cell_type": "code",
   "execution_count": 40,
   "metadata": {},
   "outputs": [],
   "source": [
    "df.loc[df.meso_pmr >= cutoff, 'meso_pmr_cutoff'] = True\n",
    "df.loc[df.meso_pmr < cutoff, 'meso_pmr_cutoff'] = False"
   ]
  },
  {
   "cell_type": "code",
   "execution_count": 41,
   "metadata": {},
   "outputs": [],
   "source": [
    "df.index = df.patient_id"
   ]
  },
  {
   "cell_type": "code",
   "execution_count": 42,
   "metadata": {},
   "outputs": [],
   "source": [
    "def odds_ratio_meso_pmr_cutoff(df, cutoff):\n",
    "    \"\"\"\n",
    "    odds ratio for stone, exposed defined as word stone or silica appearing in a job task\n",
    "    \"\"\"\n",
    "    df.loc[df.meso_pmr >= cutoff, 'meso_pmr_cutoff'] = True\n",
    "    df.loc[df.meso_pmr < cutoff, 'meso_pmr_cutoff'] = False\n",
    "    df.case = df.case.replace('case', 1)\n",
    "    df.case = df.case.replace('control', 0)\n",
    "    exposedany = df.groupby(level='patient_id').meso_pmr_cutoff.any().to_frame()\n",
    "    casestatus = df.drop_duplicates(subset='patient_id').case.to_frame()\n",
    "    summarydf = exposedany.merge(casestatus, right_index=True, left_index=True)\n",
    "    table = summarydf.groupby('case').meso_pmr_cutoff.value_counts(sort=False).values\n",
    "    table = ([[table[0], table[2]], [table[1], table[3]]])\n",
    "    oddsratio, pvalue = stats.fisher_exact(table)\n",
    "    print(\"OddsR: \", oddsratio, \"p-Value:\", pvalue)"
   ]
  },
  {
   "cell_type": "code",
   "execution_count": 43,
   "metadata": {},
   "outputs": [
    {
     "name": "stdout",
     "output_type": "stream",
     "text": [
      "OddsR:  0.9511928953112064 p-Value: 0.733984256837229\n"
     ]
    }
   ],
   "source": [
    "odds_ratio_meso_pmr_cutoff(df, 100)"
   ]
  },
  {
   "cell_type": "code",
   "execution_count": 44,
   "metadata": {},
   "outputs": [
    {
     "name": "stdout",
     "output_type": "stream",
     "text": [
      "OddsR:  1.2170542635658914 p-Value: 0.17986450333365536\n"
     ]
    }
   ],
   "source": [
    "odds_ratio_meso_pmr_cutoff(df, 200)"
   ]
  },
  {
   "cell_type": "code",
   "execution_count": 45,
   "metadata": {},
   "outputs": [
    {
     "name": "stdout",
     "output_type": "stream",
     "text": [
      "OddsR:  1.4756380510440836 p-Value: 0.07823866493843908\n"
     ]
    }
   ],
   "source": [
    "odds_ratio_meso_pmr_cutoff(df, 300)"
   ]
  },
  {
   "cell_type": "code",
   "execution_count": 46,
   "metadata": {},
   "outputs": [
    {
     "name": "stdout",
     "output_type": "stream",
     "text": [
      "OddsR:  2.2954356846473027 p-Value: 0.14281703053506317\n"
     ]
    }
   ],
   "source": [
    "odds_ratio_meso_pmr_cutoff(df, 400)"
   ]
  },
  {
   "cell_type": "code",
   "execution_count": 47,
   "metadata": {},
   "outputs": [
    {
     "data": {
      "text/html": [
       "<div>\n",
       "<style scoped>\n",
       "    .dataframe tbody tr th:only-of-type {\n",
       "        vertical-align: middle;\n",
       "    }\n",
       "\n",
       "    .dataframe tbody tr th {\n",
       "        vertical-align: top;\n",
       "    }\n",
       "\n",
       "    .dataframe thead th {\n",
       "        text-align: right;\n",
       "    }\n",
       "</style>\n",
       "<table border=\"1\" class=\"dataframe\">\n",
       "  <thead>\n",
       "    <tr style=\"text-align: right;\">\n",
       "      <th></th>\n",
       "      <th>count</th>\n",
       "      <th>mean</th>\n",
       "      <th>std</th>\n",
       "      <th>min</th>\n",
       "      <th>25%</th>\n",
       "      <th>50%</th>\n",
       "      <th>75%</th>\n",
       "      <th>max</th>\n",
       "    </tr>\n",
       "    <tr>\n",
       "      <th>case</th>\n",
       "      <th></th>\n",
       "      <th></th>\n",
       "      <th></th>\n",
       "      <th></th>\n",
       "      <th></th>\n",
       "      <th></th>\n",
       "      <th></th>\n",
       "      <th></th>\n",
       "    </tr>\n",
       "  </thead>\n",
       "  <tbody>\n",
       "    <tr>\n",
       "      <th>0</th>\n",
       "      <td>1990.0</td>\n",
       "      <td>93.125327</td>\n",
       "      <td>77.135691</td>\n",
       "      <td>0.0</td>\n",
       "      <td>48.25</td>\n",
       "      <td>65.91</td>\n",
       "      <td>113.79</td>\n",
       "      <td>528.18</td>\n",
       "    </tr>\n",
       "    <tr>\n",
       "      <th>1</th>\n",
       "      <td>2309.0</td>\n",
       "      <td>97.948138</td>\n",
       "      <td>84.857118</td>\n",
       "      <td>0.0</td>\n",
       "      <td>48.25</td>\n",
       "      <td>65.46</td>\n",
       "      <td>120.50</td>\n",
       "      <td>528.18</td>\n",
       "    </tr>\n",
       "  </tbody>\n",
       "</table>\n",
       "</div>"
      ],
      "text/plain": [
       "       count       mean        std  min    25%    50%     75%     max\n",
       "case                                                                 \n",
       "0     1990.0  93.125327  77.135691  0.0  48.25  65.91  113.79  528.18\n",
       "1     2309.0  97.948138  84.857118  0.0  48.25  65.46  120.50  528.18"
      ]
     },
     "execution_count": 47,
     "metadata": {},
     "output_type": "execute_result"
    }
   ],
   "source": [
    "df.groupby('case').meso_pmr.describe()"
   ]
  },
  {
   "cell_type": "code",
   "execution_count": 48,
   "metadata": {},
   "outputs": [],
   "source": [
    "def resultsf(df):\n",
    "    \"\"\"\n",
    "    prints (hopefully) interesting study results\n",
    "    \"\"\"\n",
    "    df.case = df.case.replace('case', 1)\n",
    "    df.case = df.case.replace('control', 0)\n",
    "    \n",
    "    print(\"Computing {} rows of data (each row is a job)\\n\".format(len(df)))\n",
    "    print('We have all the cases. Number of controls we need to recruit:\\n')\n",
    "    print((460 - len(df[df['case'] == 0].patient_id.unique()) - len(set(notepisodes()) - set(list(removed()['episode_id'].values))) - 1))\n",
    "    \n",
    "    print('\\n# Number of participants interviewed\\n')\n",
    "    print (df.patient_id.nunique())\n",
    "    \n",
    "    print('\\n# Number of participants waiting for an interview\\n')\n",
    "    print (len(set(notepisodes()) - set(list(removed()['episode_id'].values))))\n",
    "    \n",
    "    print('\\n# Number of participants temporarily removed for being from Isle of Man\\n')\n",
    "    print('3')\n",
    "\n",
    "    rm = removed() # currently breaks because of copying error\n",
    "    print(\"\\n# Number of participants removed\")\n",
    "    print(\"\\n\")\n",
    "    print(len(rm))\n",
    "    print(\"\\n\")\n",
    "    print(rm.groupby('case').participant_id.count())\n",
    "    print(\"\\n\")\n",
    "    print(rm.groupby('case').reason.value_counts())\n",
    "    print(\"\\n\")\n",
    "    print(rm[['participant_id', 'case', 'reason']].sort_values(by='participant_id'))\n",
    "    print(\"\\n\")\n",
    "    \n",
    "    print('\\n# Number of cases and controls\\n')\n",
    "    print (df.groupby('case').patient_id.nunique()) # group by participant type and count number of unique patient ids\n",
    "    \n",
    "    print('\\n# Age breakdown\\n')\n",
    "    print (df.drop_duplicates(subset='patient_id').groupby('case').age.describe())\n",
    "    # df.boxplot(by='case', column='age')\n",
    "    \n",
    "    print('\\n# Age matching\\n')\n",
    "    print(df.drop_duplicates(subset='patient_id').groupby('case').agegroup.value_counts(sort=False).unstack())\n",
    "\n",
    "    print('\\n# Ethnicity\\n')\n",
    "    \n",
    "    print (df.drop_duplicates(subset='patient_id').groupby('case').ethnicity.value_counts())\n",
    "    # drop duplicate patient ids (they exist because our main table has a row for each job), count ethnicities\n",
    "\n",
    "    print('\\n# Ever smoked\\n')\n",
    "    print (df.drop_duplicates(subset='patient_id').groupby('case').ever_smoked.value_counts())\n",
    "    # drop duplicate patient ids (they exist because our main table has a row for each job), count ever smokers\n",
    "\n",
    "    print('\\n# Ever smoked(%)\\n')\n",
    "    print(df[df['ever_smoked'] == True].drop_duplicates(subset='patient_id').groupby('case').ever_smoked.value_counts() / df.groupby('case').patient_id.nunique() * 100)\n",
    "\n",
    "    print('\\n# Current smoker\\n')\n",
    "    print (df.drop_duplicates(subset='patient_id').groupby('case').current_smoker.value_counts())\n",
    "    # drop duplicate patient ids (they exist because our main table has a row for each job), count ever smokers\n",
    "\n",
    "    print('\\n# Current smoker(%)\\n')\n",
    "    print(df[df['current_smoker'] == True].drop_duplicates(subset='patient_id').groupby('case').current_smoker.value_counts() / df.groupby('case').patient_id.nunique() * 100)\n",
    "\n",
    "    print('\\n# Pack-age (mean)\\n')\n",
    "    print(df.drop_duplicates(subset='patient_id').groupby('case').packyrs.mean())\n",
    "\n",
    "    print('\\n# Social class (based on all jobs)\\n')\n",
    "    print (df.groupby('case').ssec.describe())\n",
    "    # this is calculated based on job soc; currently is looking at all jobs which probably isnt desirable\n",
    "\n",
    "    highest_ssec(df)\n",
    "    # same as Social class above but based on lowest social code job (which is how is normally done)\n",
    "    \n",
    "    jobstats(df)\n",
    "    print(\"\\n# mean mesothelioma PMR (91-2000) for all jobs for cases and controls at study level\\n\")\n",
    "    print(df.groupby(['case']).meso_pmr.mean())\n",
    "    print(\"\\n# mean mesothelioma PMR (91-2000) for all jobs for cases and controls at participant level\\n\")\n",
    "    print(df.groupby(['case', 'participant_id']).meso_pmr.mean().groupby('case').mean())\n",
    "    print('\\n# Asbestos exposed job(%) of all jobs (according to Coggon)\\n')\n",
    "    print(df[df.soc2000.isin(ae.soc2000)].groupby('case').patient_id.count() / df.groupby('case').patient_id.count() * 100)\n",
    "    # this is calculated based on job soc; currently is looking at all jobs which probably isnt desirable\n",
    "\n",
    "    print('\\n# Asbestos exposed job(%) of all jobs(according to Peto) using short list (Table 2.3.1)\\n')\n",
    "    print(df[df.soc90.isin(ae2.soc1990)].groupby('case').patient_id.count() / df.groupby('case').patient_id.count() * 100)\n",
    "    # this is calculated based on job soc; currently is looking at all jobs which probably isnt desirable\n",
    "\n",
    "    print('\\n# Patients with at least 1 asbestos exposed job(%) (according to Coggon)\\n')\n",
    "    print(df[df.soc2000.isin(ae.soc2000)].drop_duplicates(subset='patient_id').groupby('case').patient_id.count() / df.groupby('case').patient_id.nunique() * 100)\n",
    "\n",
    "    print('\\n# Patients with at least 1 asbestos exposed job(%) (according to Peto using short list (Table 2.3.1))\\n')\n",
    "    print(df[df.soc90.isin(ae2.soc1990)].drop_duplicates(subset='patient_id').groupby('case').patient_id.count() / df.groupby('case').patient_id.nunique() * 100)\n",
    "\n",
    "    print('\\n# Number of jobs in each Peto category of exposure (Table 2.3.2)\\n')\n",
    "    print(df.groupby(['case']).jobcatname.value_counts())\n",
    "    \n",
    "    print('\\n# Percent of jobs in each Peto category of exposure (Table 2.3.2)\\n')\n",
    "    print(df.groupby(['case']).jobcatname.value_counts(normalize=True))\n",
    "    \n",
    "    proportion_high_med(df)\n",
    "    \n",
    "    df.groupby(['case']).jobcatname.value_counts(normalize=True).plot(kind='bar')\n",
    "    \n",
    "    print('\\n# \"Dose\" using Peto categories of exposure (Table 2.3.2)\\n')\n",
    "    print('\\n dose is calculated at participant level by multiplying age in job with job score')\n",
    "    print('\\nscoring system used e.g office based, category 5, scores 0\\n')\n",
    "    print(exposed)\n",
    "    print('\\n')\n",
    "    print(doses(df))\n",
    "    \n",
    "    print('\\n# OR for \"ever\" vs \"never\" for Peto categories of exposure (Table 2.3.2)\\n')\n",
    "    print('\"ever\" defined as ever having job that scores > 0\\n')\n",
    "    ever_vs_never(df)\n",
    "    \n",
    "    print('\\n# OR for Peto categories of exposure (Table 2.3.2)\\n')\n",
    "    bycat(df)\n",
    "    \n",
    "    asbestos_screening_responses(df)\n",
    "    \n",
    "    fibremlyearsbypt(df)\n",
    "    \n",
    "    proportion_of_exposed_fibre_ml_cats_bar_chart(df)\n",
    "    print('\\n# Odds ratio for smoking\\n')\n",
    "    print(oddsratio_smoking(df))\n",
    "    print('\\n# Odds ratio for wood exposure (exposed if word appears in job task description)\\n')\n",
    "    print(oddsratio_wood(df))\n",
    "    print('\\n# Odds ratio for metal exposure(exposed if word appears in job task description)\\n')\n",
    "    print(oddsratio_metal(df))\n",
    "    print('\\n# Odds ratio for stone exposure(exposed if word appears in job task description)\\n')\n",
    "    print(oddsratio_stone(df))\n",
    "    print('\\n# Odds ratio for farm exposure(exposed if word appears in job task description)\\n')\n",
    "    print(oddsratio_farm(df))\n",
    "    print('\\n# Odds ratio for asbestos exposure(exposed if word appears in job task description)\\n')\n",
    "    print(oddsratio_asbestos_deprecated(df))\n",
    "    print('\\n# Odds ratio for asbestos exposure exposed if ever have a job using short list (Table 2.3.1)\\n')\n",
    "    print(oddsratio_asbestos_short_list(df))\n",
    "    print('\\n# Odds ratio for asbestos exposure exposed if ever have medium or high risk job using long list (Table 2.3.2)\\n')\n",
    "    print(oddsratio_asbestos_long_list(df))\n",
    "    \n",
    "    \n",
    "    print('\\n# Distance from centre (by centre) in km\\n')\n",
    "    df['distfromcentre'] = df.apply(dist_from_centre, axis=1)\n",
    "    print(df[~df['gp_coords'].isnull()].drop_duplicates(subset='patient_id').groupby(['centre','case']).distfromcentre.describe())\n",
    "\n",
    "    print('\\n# Distance from centre (study av) in km\\n')\n",
    "    print(df[~df['gp_coords'].isnull()].drop_duplicates(subset='patient_id').groupby(['case']).distfromcentre.mean())\n",
    "    # figures don't look right\n",
    "    \n",
    "    print('\\n# Comorbidities')\n",
    "    comorbidities()\n",
    "    \n",
    "    print('\\n# Use of drugs know to cause UIP\\n')\n",
    "    print('\\nby cases (relative frequency)')\n",
    "    print(df[df['case'] == 1].drop_duplicates(subset='patient_id')[['amiodarone', 'flecainade', 'nitrofurantoin', 'azathioprine',\n",
    "       'gefitinib', 'ifosfamide', 'melphalan', 'rituximab']].any(axis=1).value_counts(normalize=True, ascending=True))\n",
    "    print('\\nby controls (relative frequency)')\n",
    "    print(df[df['case'] == 0].drop_duplicates(subset='patient_id')[['amiodarone', 'flecainade', 'nitrofurantoin', 'azathioprine',\n",
    "       'gefitinib', 'ifosfamide', 'melphalan', 'rituximab']].any(axis=1).value_counts(normalize=True, ascending=True))\n",
    "    \n",
    "    print('\\n# Family history of scarring lung disease\\n')\n",
    "    print('by cases (relative frequency)')\n",
    "    print(df[df['case'] == 1].drop_duplicates(subset='patient_id').fhx.value_counts(normalize=True, ascending=True))\n",
    "    print('\\nby controls (relative frequency)')\n",
    "    print(df[df['case'] == 0].drop_duplicates(subset='patient_id').fhx.value_counts(normalize=True, ascending=True))\n",
    "\n",
    "    print('\\n# mMRC \\n')\n",
    "    print('\\n mean mMRC dyspnoea score by participant type\\n')\n",
    "    print(df.drop_duplicates(subset='patient_id').groupby('case').mrc_score.mean())\n",
    "\n",
    "    print('\\n# Presenting complaints (% of cases with particular presenting complaint) \\n')\n",
    "    print((df[df['case'] == 1].drop_duplicates(subset='patient_id')[['pc_sob', 'pc_cough', 'pc_incidental']].sum()) / df[df['case'] == 1].drop_duplicates(subset='patient_id').patient_id.count() * 100)\n",
    "    "
   ]
  },
  {
   "cell_type": "code",
   "execution_count": 49,
   "metadata": {},
   "outputs": [
    {
     "name": "stderr",
     "output_type": "stream",
     "text": [
      "/home/drcjar/anaconda3/envs/ipfjes/lib/python3.5/site-packages/ipykernel_launcher.py:169: FutureWarning: 'patient_id' is both an index level and a column label.\n",
      "Defaulting to column, but this will raise an ambiguity error in a future version\n"
     ]
    },
    {
     "data": {
      "image/png": "[encoded data removed]",
      "text/plain": [
       "<Figure size 432x288 with 1 Axes>"
      ]
     },
     "metadata": {
      "needs_background": "light"
     },
     "output_type": "display_data"
    }
   ],
   "source": [
    "proportion_of_exposed_fibre_ml_cats_bar_chart(df)\n"
   ]
  },
  {
   "cell_type": "code",
   "execution_count": null,
   "metadata": {},
   "outputs": [],
   "source": [
    "df[df.gp_coords.isnull()].patient_id.unique()"
   ]
  },
  {
   "cell_type": "code",
   "execution_count": null,
   "metadata": {},
   "outputs": [],
   "source": [
    "resultsf(df)"
   ]
  },
  {
   "cell_type": "code",
   "execution_count": null,
   "metadata": {},
   "outputs": [],
   "source": [
    "df[df.packyrs > 0].drop_duplicates(subset='patient_id').groupby('case').packyrs.describe()"
   ]
  },
  {
   "cell_type": "code",
   "execution_count": null,
   "metadata": {},
   "outputs": [],
   "source": [
    "df[df.ever_smoked == True].drop_duplicates(subset='patient_id').patient_id.isin(~df[df.packyrs > 0].drop_duplicates(subset='patient_id').patient_id).value_counts()"
   ]
  },
  {
   "cell_type": "code",
   "execution_count": null,
   "metadata": {},
   "outputs": [],
   "source": [
    "set(df[df.ever_smoked].drop_duplicates(subset='patient_id').patient_id)-set(df[df.packyrs > 0].drop_duplicates(subset='patient_id').patient_id)"
   ]
  },
  {
   "cell_type": "code",
   "execution_count": null,
   "metadata": {},
   "outputs": [],
   "source": [
    "df[df.patient_id.isin([13, 55, 74, 119, 384, 546, 808])].to_csv('debuggo.csv')"
   ]
  },
  {
   "cell_type": "code",
   "execution_count": null,
   "metadata": {},
   "outputs": [],
   "source": [
    "def make_n_of_cases_and_controls_the_same(df, n):\n",
    "    \"\"\"\n",
    "    makes a random balanced sample\n",
    "    \"\"\"\n",
    "    a = df[df['case'] == 1].drop_duplicates(subset='participant_id').sample(n=n, random_state=1).participant_id.values\n",
    "    a = df[df.participant_id.isin(a)]\n",
    "    b = df[df['case'] == 0].drop_duplicates(subset='participant_id').sample(n=n, random_state=1).participant_id.values\n",
    "    b = df[df.participant_id.isin(b)]\n",
    "    c = pd.concat([a,b])\n",
    "    return c"
   ]
  },
  {
   "cell_type": "code",
   "execution_count": null,
   "metadata": {},
   "outputs": [],
   "source": [
    "resultsf(make_n_of_cases_and_controls_the_same(df, 340))"
   ]
  },
  {
   "cell_type": "code",
   "execution_count": null,
   "metadata": {},
   "outputs": [],
   "source": [
    "resultsf(df[df['end_year'].astype(int) < 1980].copy())  # sensitivity analysis"
   ]
  },
  {
   "cell_type": "code",
   "execution_count": null,
   "metadata": {},
   "outputs": [],
   "source": [
    "resultsf(df[df['duration'].astype(int) >= 5].copy()) # sensitivity analysis"
   ]
  },
  {
   "cell_type": "code",
   "execution_count": null,
   "metadata": {},
   "outputs": [],
   "source": [
    "resultsf(df[df['distfromcentre'] < 10].copy()) # sensitivity analysis"
   ]
  },
  {
   "cell_type": "code",
   "execution_count": null,
   "metadata": {},
   "outputs": [],
   "source": [
    "resultsf(df[(df.case == 1) & (df.ct == \"definite UIP\")|(df.case == 0)].copy()) # sensitivity analysis"
   ]
  },
  {
   "cell_type": "code",
   "execution_count": null,
   "metadata": {},
   "outputs": [],
   "source": [
    "df.groupby(['case','participant_id']).meso_pmr_dose.sum().reset_index()"
   ]
  },
  {
   "cell_type": "code",
   "execution_count": null,
   "metadata": {},
   "outputs": [],
   "source": [
    "def flattenstudydf(df):\n",
    "    \"\"\"\n",
    "    flattens study dataframe to be one participant per row\n",
    "    \"\"\"\n",
    "    exposed = df.groupby(['case','participant_id']).exposed.any().reset_index()\n",
    "    exps_stone = df.groupby(['case','participant_id']).exposed_stone.any().reset_index()\n",
    "    exps_wood = df.groupby(['case','participant_id']).exposed_wood.any().reset_index()\n",
    "    exps_metal = df.groupby(['case','participant_id']).exposed_metal.any().reset_index()\n",
    "    exps_farm = df.groupby(['case','participant_id']).exposed_farm.any().reset_index()\n",
    "    exps_asbestos = df.groupby(['case','participant_id']).exposed_asbestos.any().reset_index()\n",
    "    exps_dose = df.groupby(['case','participant_id']).dose.sum().reset_index()\n",
    "    ssec = df.groupby(['case','participant_id']).ssec.median().reset_index()\n",
    "    fmls = add_fibre_ml_years(df)\n",
    "    fmls = fmls.groupby(['case','participant_id'])['fibre/ml exposure'].sum().reset_index()\n",
    "    lowest_peto_cat = df.groupby(['case','participant_id']).final_jobcat.min().reset_index()\n",
    "    peto_shortlist = df.groupby(['case','participant_id'])['peto_shortlist'].any().reset_index()\n",
    "    coggan_shortlist = df.groupby(['case','participant_id'])['coggan_shortlist'].any().reset_index()\n",
    "    highest_pmr = df.groupby(['case','participant_id']).meso_pmr.max().reset_index()\n",
    "    mean_pmr = df.groupby(['case','participant_id']).meso_pmr.mean().reset_index()\n",
    "    meso_pmr_dose = df.groupby(['case','participant_id']).meso_pmr_dose.sum().reset_index()\n",
    "\n",
    "    data_frames = [exposed, exps_stone, exps_wood, exps_metal, exps_farm, exps_asbestos, exps_dose, ssec, \n",
    "                   fmls, lowest_peto_cat, peto_shortlist, coggan_shortlist, mean_pmr, highest_pmr, meso_pmr_dose]\n",
    "    df_merged = reduce(lambda  left,right: pd.merge(left,right,on=['case','participant_id'],\n",
    "                                                how='outer'), data_frames)\n",
    "    \n",
    "    df = df.drop_duplicates(subset='patient_id')\n",
    "    df = df[['patient_id', 'case', 'dob', 'age', 'yob', 'agegroup', 'ethnicity',\n",
    "       'ever_smoked', 'current_smoker', 'packyrs', 'participant_id', 'centre', 'gp_coords',\n",
    "       'centre_coords', 'distfromcentre', 'ct', 'bx', 'fhx', 'amiodarone',\n",
    "       'flecainade', 'nitrofurantoin', 'azathioprine', 'gefitinib',\n",
    "       'ifosfamide', 'melphalan', 'rituximab', 'mrc0', 'mrc1', 'mrc2', 'mrc3',\n",
    "       'mrc4', 'pc_sob', 'pc_cough', 'pc_incidental', 'pc_incidental_desc',\n",
    "       'pc_other', 'comments', 'mrc_score']]\n",
    "    \n",
    "    df = pd.merge(df, df_merged, on=['case','participant_id'],\n",
    "                                                how='outer')\n",
    "    return df"
   ]
  },
  {
   "cell_type": "code",
   "execution_count": null,
   "metadata": {},
   "outputs": [],
   "source": [
    "def rename_and_clean(df):\n",
    "    \"\"\"\n",
    "    renames columns to be a bit more conventional and cleans data\n",
    "    \"\"\"\n",
    "    assert len(df.columns) == len(['patient_id', 'case', 'dob', 'age', 'yob', 'agegroup', 'ethnicity',\n",
    "       'ever_smoked', 'current_smoker', 'packyrs', 'participant_id', 'centre',\n",
    "       'gp_coords', 'centre_coords', 'distfromcentre', 'ct', 'bx', 'fhx',\n",
    "       'amiodarone', 'flecainade', 'nitrofurantoin', 'azathioprine',\n",
    "       'gefitinib', 'ifosfamide', 'melphalan', 'rituximab', 'mrc0', 'mrc1',\n",
    "       'mrc2', 'mrc3', 'mrc4', 'pc_sob', 'pc_cough', 'pc_incidental',\n",
    "       'pc_incidental_desc', 'pc_other', 'comments', 'mrc_score', 'exposed',\n",
    "       'exposed_stone', 'exposed_wood', 'exposed_metal', 'exposed_farm',\n",
    "       'exposed_asbestos', 'dose', 'ssec', 'fibre/ml exposure', 'final_jobcat',\n",
    "       'peto_shortlist', 'coggan_shortlist', 'meso_pmr_x', 'meso_pmr_y','meso_pmr_dose'])\n",
    "    \n",
    "    df.columns = ['ipfjes_id', 'case', 'dob', 'age', 'yob', 'agegroup', 'ethnicity',\n",
    "       'ever_smoked', 'current_smoker', 'packyrs', 'participant_id', 'centre',\n",
    "       'gp_coords', 'centre_coords', 'distfromcentre', 'ct', 'bx', 'fhx',\n",
    "       'amiodarone', 'flecainade', 'nitrofurantoin', 'azathioprine',\n",
    "       'gefitinib', 'ifosfamide', 'melphalan', 'rituximab', 'mrc0', 'mrc1',\n",
    "       'mrc2', 'mrc3', 'mrc4', 'pc_sob', 'pc_cough', 'pc_incidental',\n",
    "       'pc_incidental_desc', 'pc_other', 'comments', 'mrc_score', 'peto_exposed',\n",
    "       'exposed_stone', 'exposed_wood', 'exposed_metal', 'exposed_farm',\n",
    "       'exposed_asbestos', 'peto_dose', 'median_ssec', 'fibre_ml_exposure', 'lowest_peto_cat',\n",
    "       'peto_shortlist', 'coggan_shortlist', 'mean_pmr', 'highest_pmr','meso_pmr_dose']\n",
    "    \n",
    "    df.case = df.case.replace('case', 1)\n",
    "    df.case = df.case.replace('control', 0)\n",
    "    \n",
    "    agecat = {\"40 to 44\":0, \"50 to 54\":1, \"55 to 59\":2, \"60 to 64\":3, \"65 to 69\":4, \"70 to 74\":5, \"75 to 79\":6, \"80 to 84\":7, \"85 to 90\":8, \"90 to 94\":9}\n",
    "    ethcat = {'White':0, 'Asian / Asian British':1, 'Arab':2,\n",
    "           'Mixed / Multiple ethnic groups':3, 'Other ethnic group':4,\n",
    "           'Black / African/ Caribbean/ Black British':5}\n",
    "    ctcat = {'definite UIP':2, 'possible UIP':1, 'no CT':0, 'other':0, None:0}\n",
    "    bxcat = {'no Biopsy':0, 'definite UIP':1, None:0}\n",
    "             \n",
    "    df['agecat'] = df.agegroup.map(agecat)\n",
    "    df['ethcat'] = df.ethnicity.map(ethcat)\n",
    "    df['ctcat'] = df.ct.map(ctcat)\n",
    "    df['bxcat'] = df.bx.map(bxcat)\n",
    "    \n",
    "    df['packyrs'] = df['packyrs'].fillna(0).astype(int)\n",
    "    df['ever_smoked'] = df['ever_smoked'].fillna(0).astype(int)\n",
    "    df['current_smoker'] = df['current_smoker'].fillna(0).astype(int)\n",
    "    df['peto_exposed'] = df['peto_exposed'].fillna(0).astype(int)\n",
    "    df['exposed_stone'] = df['exposed_stone'].fillna(0).astype(int)\n",
    "    df['exposed_wood'] = df['exposed_wood'].fillna(0).astype(int)\n",
    "    df['exposed_metal'] = df['exposed_metal'].fillna(0).astype(int)\n",
    "    df['exposed_farm'] = df['exposed_farm'].fillna(0).astype(int)\n",
    "    df['exposed_asbestos'] = df['exposed_asbestos'].fillna(0).astype(int)\n",
    "    df['fhx'] = df['fhx'].fillna(0).astype(int)\n",
    "    df['pc_sob'] = df['pc_sob'].fillna(0).astype(int)\n",
    "    df['pc_cough'] = df['pc_cough'].fillna(0).astype(int)\n",
    "    centre_id = pd.read_csv('ipfjes-centre-ids.csv', index_col='Centre ID')\n",
    "    centre_lookup = centre_id['Organisation'].to_dict()\n",
    "    df['centre_name'] = df['centre'].map(lambda x: centre_lookup.get(x)).copy()\n",
    "    dummy = pd.get_dummies(df['centre_name'])\n",
    "    df = pd.concat([df, dummy], axis=1)\n",
    "    dummy = pd.get_dummies(df['ethnicity'])\n",
    "    df = pd.concat([df, dummy], axis=1)\n",
    "    dummy = pd.get_dummies(df['ct'])\n",
    "    df = pd.concat([df, dummy], axis=1)\n",
    "    # dummy = pd.get_dummies(df['bx'])\n",
    "    # df = pd.concat([df, dummy], axis=1)\n",
    "    df['peto_shortlist'] = df['peto_shortlist'].fillna(0).astype(int)\n",
    "    df['coggan_shortlist'] = df['coggan_shortlist'].fillna(0).astype(int)\n",
    "    # if have never smoked can set null current smoker to 0\n",
    "    df.loc[(df['current_smoker'].isnull()) & (df['ever_smoked'] == 0), 'current_smoker'] = 0 \n",
    "    \n",
    "    df.loc[:,['amiodarone', 'flecainade', 'nitrofurantoin', 'azathioprine',\n",
    "       'gefitinib', 'ifosfamide', 'melphalan', 'rituximab', 'mrc0', 'mrc1',\n",
    "       'mrc2', 'mrc3', 'mrc4']] = df.loc[:,['amiodarone', 'flecainade', 'nitrofurantoin', 'azathioprine',\n",
    "       'gefitinib', 'ifosfamide', 'melphalan', 'rituximab', 'mrc0', 'mrc1',\n",
    "       'mrc2', 'mrc3', 'mrc4']].fillna(0).astype(int)\n",
    "    df.loc[:,'ever_drug_exposed'] = df[['amiodarone', 'flecainade', 'nitrofurantoin', 'azathioprine',\n",
    "           'gefitinib', 'ifosfamide', 'melphalan', 'rituximab']].any(axis=1).astype(int)\n",
    "    return df"
   ]
  },
  {
   "cell_type": "code",
   "execution_count": null,
   "metadata": {},
   "outputs": [],
   "source": [
    "df.groupby('case').exposed_metal.value_counts().sum()"
   ]
  },
  {
   "cell_type": "code",
   "execution_count": null,
   "metadata": {},
   "outputs": [],
   "source": [
    "df.columns"
   ]
  },
  {
   "cell_type": "code",
   "execution_count": null,
   "metadata": {},
   "outputs": [],
   "source": [
    "# sens analysis\n",
    "df1 = rename_and_clean(flattenstudydf(df[df['end_year'].astype(int) < 1980].copy()))\n",
    "df1.to_csv('flat_dataframe_1980.csv', index=False) # dataframe flattened to participant level\n",
    "\n",
    "df1 = rename_and_clean(flattenstudydf(df[df['duration'].astype(int) >= 5].copy()))\n",
    "df1.to_csv('flat_dataframe_5_years_or_more.csv', index=False) # dataframe flattened to participant level\n",
    "\n",
    "df1 = rename_and_clean(flattenstudydf(df[df['distfromcentre'] < 10].copy()))\n",
    "df1.to_csv('flat_dataframe_10_km_less.csv', index=False) # dataframe flattened to participant level\n",
    "\n",
    "df1 = rename_and_clean(flattenstudydf(df[df['end_year'].astype(int) < (df.yob.astype(int) + 45)].copy()))\n",
    "df1.to_csv('jobs_before_45.csv', index=False) # dataframe flattened to participant level\n",
    "\n",
    "df = rename_and_clean(flattenstudydf(df))\n",
    "df.to_csv('flat_dataframe.csv', index=False) # dataframe flattened to participant level"
   ]
  },
  {
   "cell_type": "code",
   "execution_count": null,
   "metadata": {},
   "outputs": [],
   "source": [
    "# data for sharing # \n",
    "# jobs_dataframe.csv\n",
    "# job_tasks_dataframe.csv\n",
    "# flat_dataframe.csv"
   ]
  },
  {
   "cell_type": "code",
   "execution_count": null,
   "metadata": {},
   "outputs": [],
   "source": [
    "df.head()"
   ]
  },
  {
   "cell_type": "code",
   "execution_count": null,
   "metadata": {},
   "outputs": [],
   "source": [
    "df[df['case'] == 1]['ct'].value_counts()"
   ]
  },
  {
   "cell_type": "code",
   "execution_count": null,
   "metadata": {},
   "outputs": [],
   "source": [
    "df[(df['case'] == 1) & (df['ct'] == 'no CT')].ipfjes_id.values"
   ]
  },
  {
   "cell_type": "code",
   "execution_count": null,
   "metadata": {},
   "outputs": [],
   "source": [
    "df[df['case'] == 1]['bx'].value_counts()"
   ]
  },
  {
   "cell_type": "code",
   "execution_count": null,
   "metadata": {},
   "outputs": [],
   "source": [
    "\"\"\"\n",
    "Comments summary\n",
    "\"\"\"\n",
    "\n",
    "print('bird contact in comments \\n')\n",
    "print(df[df[~df.comments.isnull()]['comments'].str.contains('aviary|pigeon|budgerigar')].case.value_counts(sort=False))\n",
    "\n",
    "\n",
    "print('\\nmemory probs in comments \\n')\n",
    "print(df[df[~df.comments.isnull()]['comments'].str.contains('memory')].case.value_counts(sort=False))\n",
    "\n",
    "print('\\ndid not do interview themselves in comments \\n')\n",
    "print(df[df[~df.comments.isnull()]['comments'].str.contains('wife|daughter')].case.value_counts(sort=False))"
   ]
  },
  {
   "cell_type": "code",
   "execution_count": null,
   "metadata": {},
   "outputs": [],
   "source": [
    "df.groupby('case').exposed_wood.value_counts()"
   ]
  },
  {
   "cell_type": "code",
   "execution_count": null,
   "metadata": {},
   "outputs": [],
   "source": [
    "df.groupby('case').exposed_wood.value_counts(normalize=True)"
   ]
  },
  {
   "cell_type": "code",
   "execution_count": null,
   "metadata": {},
   "outputs": [],
   "source": [
    "df.groupby('case').exposed_metal.value_counts()"
   ]
  },
  {
   "cell_type": "code",
   "execution_count": null,
   "metadata": {},
   "outputs": [],
   "source": [
    "df.groupby('case').exposed_metal.value_counts(normalize=True)"
   ]
  },
  {
   "cell_type": "code",
   "execution_count": null,
   "metadata": {},
   "outputs": [],
   "source": [
    "df.groupby('case').exposed_stone.value_counts()"
   ]
  },
  {
   "cell_type": "code",
   "execution_count": null,
   "metadata": {},
   "outputs": [],
   "source": [
    "df.groupby('case').exposed_stone.value_counts(normalize=True)"
   ]
  },
  {
   "cell_type": "code",
   "execution_count": null,
   "metadata": {
    "scrolled": true
   },
   "outputs": [],
   "source": [
    "df[(df['exposed_stone'] == 1) & (df['exposed_metal'] == 1) & (df['exposed_wood'] == 1)]\n",
    "# one case and one control exposed to all three"
   ]
  },
  {
   "cell_type": "code",
   "execution_count": null,
   "metadata": {},
   "outputs": [],
   "source": [
    "df[(df['exposed_stone'] == 1) & (df['exposed_metal'] == 1)].case.value_counts()\n",
    "# 8 cases exposed to stone and metal. 1 control exposed to stone and metal. "
   ]
  },
  {
   "cell_type": "code",
   "execution_count": null,
   "metadata": {},
   "outputs": [],
   "source": [
    "df[(df['exposed_stone'] == 1) & (df['exposed_wood'] == 1)].case.value_counts()\n"
   ]
  },
  {
   "cell_type": "code",
   "execution_count": null,
   "metadata": {},
   "outputs": [],
   "source": [
    "df[(df['exposed_metal'] == 1) & (df['exposed_wood'] == 1)].case.value_counts()\n"
   ]
  },
  {
   "cell_type": "code",
   "execution_count": null,
   "metadata": {},
   "outputs": [],
   "source": [
    "df[(df['exposed_stone'] == 1) & (df['exposed_metal'] == 1)].ipfjes_id"
   ]
  },
  {
   "cell_type": "code",
   "execution_count": null,
   "metadata": {},
   "outputs": [],
   "source": [
    "df[(df['exposed_stone'] == 1) | (df['exposed_metal'] == 1) | (df['exposed_wood'] == 1)].case.value_counts()"
   ]
  },
  {
   "cell_type": "code",
   "execution_count": null,
   "metadata": {},
   "outputs": [],
   "source": [
    "df[(df['exposed_stone'] == 1) | (df['exposed_metal'] == 1) | (df['exposed_wood'] == 1)].case.value_counts(normalize=True)"
   ]
  },
  {
   "cell_type": "code",
   "execution_count": null,
   "metadata": {},
   "outputs": [],
   "source": [
    "df.case.value_counts()"
   ]
  },
  {
   "cell_type": "code",
   "execution_count": null,
   "metadata": {},
   "outputs": [],
   "source": [
    "df['exposed_smw'] = 0\n",
    "# stone, metal, wood"
   ]
  },
  {
   "cell_type": "code",
   "execution_count": null,
   "metadata": {},
   "outputs": [],
   "source": [
    "df.loc[(df['exposed_stone'] == 1) | (df['exposed_metal'] == 1) | (df['exposed_wood'] == 1), 'exposed_smw'] = 1"
   ]
  },
  {
   "cell_type": "code",
   "execution_count": null,
   "metadata": {},
   "outputs": [],
   "source": [
    "df['exposed_smw'].value_counts()"
   ]
  },
  {
   "cell_type": "code",
   "execution_count": null,
   "metadata": {},
   "outputs": [],
   "source": [
    "df['exposed_smw'].value_counts(normalize=True)"
   ]
  },
  {
   "cell_type": "code",
   "execution_count": null,
   "metadata": {},
   "outputs": [],
   "source": [
    "df.groupby('case')['peto_exposed'].value_counts(normalize=True)"
   ]
  },
  {
   "cell_type": "code",
   "execution_count": null,
   "metadata": {
    "scrolled": true
   },
   "outputs": [],
   "source": [
    "df.groupby('case')['exposed_smw'].value_counts(normalize=True)"
   ]
  },
  {
   "cell_type": "code",
   "execution_count": null,
   "metadata": {},
   "outputs": [],
   "source": [
    "df[df['fibre_ml_exposure'] > 0].case.value_counts(sort=False)"
   ]
  },
  {
   "cell_type": "code",
   "execution_count": null,
   "metadata": {},
   "outputs": [],
   "source": [
    "df[(df.fibre_ml_exposure < 5) & (df.fibre_ml_exposure > 0)].case.value_counts(sort=False)"
   ]
  },
  {
   "cell_type": "code",
   "execution_count": null,
   "metadata": {},
   "outputs": [],
   "source": [
    "df[(df.fibre_ml_exposure >= 5) & (df.fibre_ml_exposure < 10)].case.value_counts(sort=False)"
   ]
  },
  {
   "cell_type": "code",
   "execution_count": null,
   "metadata": {},
   "outputs": [],
   "source": [
    "df[(df.fibre_ml_exposure >= 10) & (df.fibre_ml_exposure < 15)].case.value_counts(sort=False)"
   ]
  },
  {
   "cell_type": "code",
   "execution_count": null,
   "metadata": {},
   "outputs": [],
   "source": [
    "df[(df.fibre_ml_exposure >= 15) & (df.fibre_ml_exposure < 20)].case.value_counts(sort=False)"
   ]
  },
  {
   "cell_type": "code",
   "execution_count": null,
   "metadata": {},
   "outputs": [],
   "source": [
    "df[(df.fibre_ml_exposure >= 20) & (df.fibre_ml_exposure < 25)].case.value_counts(sort=False)"
   ]
  },
  {
   "cell_type": "code",
   "execution_count": null,
   "metadata": {},
   "outputs": [],
   "source": [
    "df[df.fibre_ml_exposure > 25].case.value_counts(sort=False)"
   ]
  },
  {
   "cell_type": "code",
   "execution_count": null,
   "metadata": {},
   "outputs": [],
   "source": [
    "df[(df['exposed_stone'] == 1) & (df['exposed_asbestos'] == 1)].ipfjes_id"
   ]
  },
  {
   "cell_type": "markdown",
   "metadata": {},
   "source": [
    "df. columns"
   ]
  },
  {
   "cell_type": "code",
   "execution_count": null,
   "metadata": {},
   "outputs": [],
   "source": [
    "df.columns"
   ]
  },
  {
   "cell_type": "code",
   "execution_count": null,
   "metadata": {},
   "outputs": [],
   "source": [
    "df.groupby('case').median_ssec.value_counts(sort=False).unstack().transpose()"
   ]
  },
  {
   "cell_type": "code",
   "execution_count": null,
   "metadata": {},
   "outputs": [],
   "source": [
    "df.groupby('case').bx.value_counts(sort=False)"
   ]
  },
  {
   "cell_type": "code",
   "execution_count": null,
   "metadata": {},
   "outputs": [],
   "source": [
    "df[(df['case'] == 0) & (df['ct'] == 'definite UIP')]"
   ]
  },
  {
   "cell_type": "code",
   "execution_count": null,
   "metadata": {},
   "outputs": [],
   "source": [
    "df.groupby('case').pc_other.value_counts()"
   ]
  },
  {
   "cell_type": "code",
   "execution_count": null,
   "metadata": {},
   "outputs": [],
   "source": [
    "df.columns"
   ]
  },
  {
   "cell_type": "code",
   "execution_count": null,
   "metadata": {},
   "outputs": [],
   "source": [
    "df.groupby('case').centre.value_counts(sort=False).unstack().transpose()"
   ]
  },
  {
   "cell_type": "code",
   "execution_count": null,
   "metadata": {},
   "outputs": [],
   "source": [
    "df[df['case'] == 0].yob.astype(int).describe()"
   ]
  },
  {
   "cell_type": "code",
   "execution_count": null,
   "metadata": {
    "scrolled": true
   },
   "outputs": [],
   "source": [
    "df[df['case'] == 1].yob.astype(int).describe()"
   ]
  },
  {
   "cell_type": "code",
   "execution_count": null,
   "metadata": {},
   "outputs": [],
   "source": [
    "df[df['case'] == 1].pc_sob.value_counts()"
   ]
  },
  {
   "cell_type": "code",
   "execution_count": null,
   "metadata": {},
   "outputs": [],
   "source": [
    "df[df['case'] == 1].pc_cough.value_counts()"
   ]
  },
  {
   "cell_type": "code",
   "execution_count": null,
   "metadata": {},
   "outputs": [],
   "source": [
    "df[(df['case'] == 1) & (df['pc_cough'] == 1) &  (df['pc_sob'] == 1) ].pc_sob.value_counts()"
   ]
  },
  {
   "cell_type": "code",
   "execution_count": null,
   "metadata": {
    "scrolled": true
   },
   "outputs": [],
   "source": [
    "df.groupby('case')['ever_drug_exposed'].value_counts()"
   ]
  },
  {
   "cell_type": "code",
   "execution_count": null,
   "metadata": {},
   "outputs": [],
   "source": [
    "df.groupby('case')['ever_drug_exposed'].value_counts(normalize=True)"
   ]
  },
  {
   "cell_type": "code",
   "execution_count": null,
   "metadata": {},
   "outputs": [],
   "source": [
    "pts_with_RA = [ 35,  90, 172, 223, 271, 272, 306, 304, 314, 368, 375, 377, 404,\n",
    "       416, 435, 465, 526, 532, 590, 612, 623, 629, 691, 695, 743, 966,\n",
    "       954]"
   ]
  },
  {
   "cell_type": "code",
   "execution_count": null,
   "metadata": {},
   "outputs": [],
   "source": [
    "df[df['exposed_stone'] == 1].ipfjes_id.isin(pts_with_RA).value_counts() # no "
   ]
  },
  {
   "cell_type": "code",
   "execution_count": null,
   "metadata": {},
   "outputs": [],
   "source": [
    "df[df.fibre_ml_exposure > 25].centre_name.value_counts()"
   ]
  },
  {
   "cell_type": "code",
   "execution_count": null,
   "metadata": {},
   "outputs": [],
   "source": [
    "df[(df.fibre_ml_exposure > 25) & (df.case == 1)].centre_name.value_counts()"
   ]
  },
  {
   "cell_type": "code",
   "execution_count": null,
   "metadata": {},
   "outputs": [],
   "source": [
    "df[(df.fibre_ml_exposure > 25) & (df.case == 0)].centre_name.value_counts()"
   ]
  },
  {
   "cell_type": "code",
   "execution_count": null,
   "metadata": {},
   "outputs": [],
   "source": [
    "df[(df.fibre_ml_exposure > 25) & (df.case == 1) & (df.centre_name == 'Heart of England NHS Foundation Trust')]"
   ]
  },
  {
   "cell_type": "code",
   "execution_count": null,
   "metadata": {},
   "outputs": [],
   "source": [
    "df[(df.fibre_ml_exposure > 25) & (df.case == 1) & (df.centre_name == 'Heart of England NHS Foundation Trust')].to_csv('birmingham_flat.csv', index=False)"
   ]
  },
  {
   "cell_type": "code",
   "execution_count": null,
   "metadata": {},
   "outputs": [],
   "source": [
    "df1 = pd.read_csv('jobs_dataframe.csv')\n",
    "df2 = pd.read_csv('job_tasks_dataframe.csv')"
   ]
  },
  {
   "cell_type": "code",
   "execution_count": null,
   "metadata": {},
   "outputs": [],
   "source": [
    "len(df2[df2['fibre/ml exposure'] > 0])"
   ]
  },
  {
   "cell_type": "code",
   "execution_count": null,
   "metadata": {},
   "outputs": [],
   "source": [
    "df1[df1.patient_id.isin([142, 480])].to_csv('birmingham_jobs.csv', index=False)"
   ]
  },
  {
   "cell_type": "code",
   "execution_count": null,
   "metadata": {},
   "outputs": [],
   "source": [
    "df2[df2.patient_id.isin([142, 480])].to_csv('birmingham_asbestos_exposure.csv', index=False)"
   ]
  },
  {
   "cell_type": "code",
   "execution_count": null,
   "metadata": {},
   "outputs": [],
   "source": [
    "df1[df1.patient_id.isin(df[df.fibre_ml_exposure > 25].ipfjes_id.values)]"
   ]
  },
  {
   "cell_type": "code",
   "execution_count": null,
   "metadata": {},
   "outputs": [],
   "source": [
    "df1.columns"
   ]
  },
  {
   "cell_type": "code",
   "execution_count": null,
   "metadata": {},
   "outputs": [],
   "source": [
    "df3 = df2[df2.patient_id.isin(df[df.fibre_ml_exposure > 25].ipfjes_id.values)]"
   ]
  },
  {
   "cell_type": "code",
   "execution_count": null,
   "metadata": {},
   "outputs": [],
   "source": [
    "df3.columns"
   ]
  },
  {
   "cell_type": "code",
   "execution_count": null,
   "metadata": {},
   "outputs": [],
   "source": [
    "df3[(df3['fibre/ml exposure'] > 25) * (df3.final_jobcat == 3)]"
   ]
  },
  {
   "cell_type": "code",
   "execution_count": null,
   "metadata": {},
   "outputs": [],
   "source": [
    "df3[df3['fibre/ml exposure'] > 25].soc_job_ft.value_counts()"
   ]
  },
  {
   "cell_type": "code",
   "execution_count": null,
   "metadata": {},
   "outputs": [],
   "source": [
    "df1[df1.patient_id.isin(df[df.fibre_ml_exposure > 25].ipfjes_id.values)].to_csv('over25s.csv')"
   ]
  },
  {
   "cell_type": "code",
   "execution_count": null,
   "metadata": {},
   "outputs": [],
   "source": [
    "df2[df2.patient_id.isin(df[df.fibre_ml_exposure > 25].ipfjes_id.values)].to_csv('over25s2.csv')"
   ]
  },
  {
   "cell_type": "code",
   "execution_count": null,
   "metadata": {},
   "outputs": [],
   "source": [
    "df4 = df2[df2.patient_id.isin(df[df.fibre_ml_exposure > 25].ipfjes_id.values)]"
   ]
  },
  {
   "cell_type": "code",
   "execution_count": null,
   "metadata": {},
   "outputs": [],
   "source": [
    "df[df.fibre_ml_exposure > 25].ipfjes_id.nunique()"
   ]
  },
  {
   "cell_type": "code",
   "execution_count": null,
   "metadata": {},
   "outputs": [],
   "source": [
    "df4[df4['fibre/ml exposure'] > 25].patient_id.nunique()"
   ]
  },
  {
   "cell_type": "code",
   "execution_count": null,
   "metadata": {},
   "outputs": [],
   "source": [
    "# 67 of 76 participants with > 25 fibre ml year exposure estimates had a least one single job task with fibre ml > 25"
   ]
  },
  {
   "cell_type": "code",
   "execution_count": null,
   "metadata": {},
   "outputs": [],
   "source": []
  },
  {
   "cell_type": "code",
   "execution_count": null,
   "metadata": {},
   "outputs": [],
   "source": [
    "df4[(df4['fibre/ml exposure'] > 25)].final_jobcat.value_counts()"
   ]
  },
  {
   "cell_type": "code",
   "execution_count": null,
   "metadata": {},
   "outputs": [],
   "source": [
    "df4.final_jobcat.value_counts().sum()"
   ]
  },
  {
   "cell_type": "code",
   "execution_count": null,
   "metadata": {},
   "outputs": [],
   "source": [
    "df4[(df4['fibre/ml exposure'] > 25) & (df4['final_jobcat'] == 5)].to_csv('lowhigh25s.csv')"
   ]
  },
  {
   "cell_type": "code",
   "execution_count": null,
   "metadata": {},
   "outputs": [],
   "source": [
    "# 7 out of 10 'low highs' were far field exposures"
   ]
  },
  {
   "cell_type": "code",
   "execution_count": null,
   "metadata": {},
   "outputs": [],
   "source": [
    "df = pd.read_csv('flat_dataframe.csv')"
   ]
  },
  {
   "cell_type": "code",
   "execution_count": null,
   "metadata": {},
   "outputs": [],
   "source": [
    "df.groupby('case').distfromcentre.mean()"
   ]
  },
  {
   "cell_type": "code",
   "execution_count": null,
   "metadata": {},
   "outputs": [],
   "source": [
    "import seaborn as sns; sns.set(color_codes=True)\n",
    "\n",
    "df.boxplot(column='distfromcentre', by='case', vert=False, figsize=(5,5))"
   ]
  },
  {
   "cell_type": "code",
   "execution_count": null,
   "metadata": {},
   "outputs": [],
   "source": [
    "df.boxplot(column='distfromcentre', by='peto_exposed', vert=False, figsize=(5,5)) # being exposed is assoc with being closer to centre"
   ]
  },
  {
   "cell_type": "code",
   "execution_count": null,
   "metadata": {},
   "outputs": [],
   "source": [
    "import scipy.stats as stats\n",
    "\n",
    "stats.pearsonr(df['case'], df['distfromcentre'])"
   ]
  },
  {
   "cell_type": "code",
   "execution_count": null,
   "metadata": {},
   "outputs": [],
   "source": [
    "stats.pearsonr(df['distfromcentre'], df['peto_exposed'])"
   ]
  },
  {
   "cell_type": "code",
   "execution_count": null,
   "metadata": {},
   "outputs": [],
   "source": [
    "def pearsonr_ci(x,y,alpha=0.05):\n",
    "    ''' calculate Pearson correlation along with the confidence interval using scipy and numpy\n",
    "    Parameters\n",
    "    ----------\n",
    "    x, y : iterable object such as a list or np.array\n",
    "      Input for correlation calculation\n",
    "    alpha : float\n",
    "      Significance level. 0.05 by default\n",
    "    Returns\n",
    "    -------\n",
    "    r : float\n",
    "      Pearson's correlation coefficient\n",
    "    pval : float\n",
    "      The corresponding p value\n",
    "    lo, hi : float\n",
    "      The lower and upper bound of confidence intervals\n",
    "    '''\n",
    "\n",
    "    r, p = stats.pearsonr(x,y)\n",
    "    r_z = np.arctanh(r)\n",
    "    se = 1/np.sqrt(x.size-3)\n",
    "    z = stats.norm.ppf(1-alpha/2)\n",
    "    lo_z, hi_z = r_z-z*se, r_z+z*se\n",
    "    lo, hi = np.tanh((lo_z, hi_z))\n",
    "    return r, p, lo, hi"
   ]
  },
  {
   "cell_type": "code",
   "execution_count": null,
   "metadata": {},
   "outputs": [],
   "source": [
    "pearsonr_ci(df['distfromcentre'],df['case'],alpha=0.05)"
   ]
  },
  {
   "cell_type": "code",
   "execution_count": null,
   "metadata": {},
   "outputs": [],
   "source": [
    "pearsonr_ci(df['distfromcentre'],df['peto_exposed'],alpha=0.05)"
   ]
  },
  {
   "cell_type": "code",
   "execution_count": null,
   "metadata": {},
   "outputs": [],
   "source": [
    "pearsonr_ci(df['mrc_score'],df['case'],alpha=0.05)"
   ]
  },
  {
   "cell_type": "code",
   "execution_count": null,
   "metadata": {},
   "outputs": [],
   "source": [
    "df[df.fibre_ml_exposure > 25].mrc_score.describe()"
   ]
  },
  {
   "cell_type": "code",
   "execution_count": null,
   "metadata": {},
   "outputs": [],
   "source": [
    "df[df.fibre_ml_exposure <= 25].mrc_score.describe()"
   ]
  },
  {
   "cell_type": "code",
   "execution_count": null,
   "metadata": {},
   "outputs": [],
   "source": [
    "df[(df.fibre_ml_exposure > 25) & (df.case == 1)].mrc_score.describe()"
   ]
  },
  {
   "cell_type": "code",
   "execution_count": null,
   "metadata": {},
   "outputs": [],
   "source": [
    "df[(df.fibre_ml_exposure <= 25) & (df.case == 1)].mrc_score.describe()"
   ]
  },
  {
   "cell_type": "code",
   "execution_count": null,
   "metadata": {},
   "outputs": [],
   "source": [
    "df.groupby('ever_smoked').mrc_score.describe()"
   ]
  },
  {
   "cell_type": "code",
   "execution_count": null,
   "metadata": {},
   "outputs": [],
   "source": [
    "something on folk with more asb exposure being more sob?"
   ]
  },
  {
   "cell_type": "code",
   "execution_count": null,
   "metadata": {},
   "outputs": [],
   "source": [
    "something on folk with more asb exposure being more sob"
   ]
  },
  {
   "cell_type": "code",
   "execution_count": null,
   "metadata": {},
   "outputs": [],
   "source": [
    "something on folk with more asb exposure being more sob"
   ]
  },
  {
   "cell_type": "code",
   "execution_count": null,
   "metadata": {},
   "outputs": [],
   "source": [
    "something on folk with more asb exposure being more sob"
   ]
  },
  {
   "cell_type": "code",
   "execution_count": null,
   "metadata": {},
   "outputs": [],
   "source": [
    "# something on folk with more asb exposure being more sob"
   ]
  },
  {
   "cell_type": "code",
   "execution_count": null,
   "metadata": {},
   "outputs": [],
   "source": [
    "df.columns"
   ]
  },
  {
   "cell_type": "code",
   "execution_count": null,
   "metadata": {},
   "outputs": [],
   "source": [
    "df['fibre_ml_exposure_over_00'] = df.fibre_ml_exposure > 200"
   ]
  },
  {
   "cell_type": "code",
   "execution_count": null,
   "metadata": {},
   "outputs": [],
   "source": [
    "df.groupby('case')['fibre_ml_exposure_over_200'].value_counts()"
   ]
  },
  {
   "cell_type": "code",
   "execution_count": null,
   "metadata": {},
   "outputs": [],
   "source": [
    "df.groupby('case')['fibre_ml_exposure_over_200'].value_counts(normalize=True)"
   ]
  },
  {
   "cell_type": "code",
   "execution_count": null,
   "metadata": {},
   "outputs": [],
   "source": []
  },
  {
   "cell_type": "code",
   "execution_count": null,
   "metadata": {},
   "outputs": [],
   "source": [
    "len(df)"
   ]
  },
  {
   "cell_type": "code",
   "execution_count": null,
   "metadata": {},
   "outputs": [],
   "source": []
  }
 ],
 "metadata": {
  "kernelspec": {
   "display_name": "Python 3",
   "language": "python",
   "name": "python3"
  },
  "language_info": {
   "codemirror_mode": {
    "name": "ipython",
    "version": 3
   },
   "file_extension": ".py",
   "mimetype": "text/x-python",
   "name": "python",
   "nbconvert_exporter": "python",
   "pygments_lexer": "ipython3",
   "version": "3.5.4"
  }
 },
 "nbformat": 4,
 "nbformat_minor": 2
}
