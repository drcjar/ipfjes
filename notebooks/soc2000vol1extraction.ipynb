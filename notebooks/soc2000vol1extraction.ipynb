{
 "cells": [
  {
   "cell_type": "code",
   "execution_count": 1,
   "metadata": {
    "collapsed": false
   },
   "outputs": [],
   "source": [
    "from pdfminer.pdfinterp import PDFResourceManager, PDFPageInterpreter\n",
    "from pdfminer.converter import TextConverter\n",
    "from pdfminer.layout import LAParams\n",
    "from pdfminer.pdfpage import PDFPage\n",
    "from cStringIO import StringIO\n",
    "\n",
    "def convert_pdf_to_txt(path):\n",
    "    rsrcmgr = PDFResourceManager()\n",
    "    retstr = StringIO()\n",
    "    codec = 'utf-8'\n",
    "    laparams = LAParams()\n",
    "    device = TextConverter(rsrcmgr, retstr, codec=codec, laparams=laparams)\n",
    "    fp = file(path, 'rb')\n",
    "    interpreter = PDFPageInterpreter(rsrcmgr, device)\n",
    "    password = \"\"\n",
    "    maxpages = 0\n",
    "    caching = True\n",
    "    pagenos=set()\n",
    "\n",
    "    for page in PDFPage.get_pages(fp, pagenos, maxpages=maxpages, password=password,caching=caching, check_extractable=True):\n",
    "        interpreter.process_page(page)\n",
    "\n",
    "    text = retstr.getvalue()\n",
    "\n",
    "    fp.close()\n",
    "    device.close()\n",
    "    retstr.close()\n",
    "    return text"
   ]
  },
  {
   "cell_type": "code",
   "execution_count": 2,
   "metadata": {
    "collapsed": true
   },
   "outputs": [],
   "source": [
    "import xlrd\n",
    "import pandas as pd\n",
    "\n",
    "def get_soc_codes():\n",
    "    df = pd.read_excel('../data/soc2000index_tcm77-179123.xls', sheetname=1 ) \n",
    "    soc_codes = df.SOC2000.unique().tolist()\n",
    "    return soc_codes"
   ]
  },
  {
   "cell_type": "code",
   "execution_count": 3,
   "metadata": {
    "collapsed": true
   },
   "outputs": [],
   "source": [
    "def soc_descriptor(soc_code):\n",
    "    return tasks"
   ]
  },
  {
   "cell_type": "code",
   "execution_count": 4,
   "metadata": {
    "collapsed": true
   },
   "outputs": [],
   "source": [
    "def soc_unit_group(soc_code):\n",
    "    return unit_group"
   ]
  },
  {
   "cell_type": "code",
   "execution_count": 6,
   "metadata": {
    "collapsed": false
   },
   "outputs": [],
   "source": [
    "soc_codes = get_soc_codes()\n",
    "soc_codes.sort()\n",
    "text = convert_pdf_to_txt(\"../data/soc2000/soc2000vol1v5_tcm77-179121.pdf\")\n",
    "lines = text.split('\\n')"
   ]
  },
  {
   "cell_type": "code",
   "execution_count": 7,
   "metadata": {
    "collapsed": false
   },
   "outputs": [],
   "source": [
    "soc_desc = dict()\n",
    "for i, item in enumerate(soc_codes):\n",
    "    try:\n",
    "        a = text.rfind(str(eval(soc_codes[i]))) # to avoid hitting index\n",
    "        b = text.rfind(str(eval(soc_codes[i+1])))\n",
    "        soc_desc[soc_codes[i]] = text[a:b]\n",
    "    except SyntaxError:\n",
    "        continue"
   ]
  },
  {
   "cell_type": "code",
   "execution_count": 9,
   "metadata": {
    "collapsed": false
   },
   "outputs": [
    {
     "ename": "LookupError",
     "evalue": "\n**********************************************************************\n  Resource u'tokenizers/punkt/english.pickle' not found.  Please\n  use the NLTK Downloader to obtain the resource:  >>>\n  nltk.download()\n  Searched in:\n    - '/home/drcjar/nltk_data'\n    - '/usr/share/nltk_data'\n    - '/usr/local/share/nltk_data'\n    - '/usr/lib/nltk_data'\n    - '/usr/local/lib/nltk_data'\n    - u''\n**********************************************************************",
     "output_type": "error",
     "traceback": [
      "\u001b[0;31m---------------------------------------------------------------------------\u001b[0m",
      "\u001b[0;31mLookupError\u001b[0m                               Traceback (most recent call last)",
      "\u001b[0;32m<ipython-input-9-e6d424ac0e17>\u001b[0m in \u001b[0;36m<module>\u001b[0;34m()\u001b[0m\n\u001b[1;32m      1\u001b[0m \u001b[0;32mimport\u001b[0m \u001b[0mnltk\u001b[0m\u001b[0;34m\u001b[0m\u001b[0m\n\u001b[1;32m      2\u001b[0m \u001b[0;32mimport\u001b[0m \u001b[0mre\u001b[0m\u001b[0;34m\u001b[0m\u001b[0m\n\u001b[0;32m----> 3\u001b[0;31m \u001b[0msentences\u001b[0m \u001b[0;34m=\u001b[0m \u001b[0mnltk\u001b[0m\u001b[0;34m.\u001b[0m\u001b[0msent_tokenize\u001b[0m\u001b[0;34m(\u001b[0m\u001b[0mtext\u001b[0m\u001b[0;34m[\u001b[0m\u001b[0;34m:\u001b[0m\u001b[0;36m5000\u001b[0m\u001b[0;34m]\u001b[0m\u001b[0;34m)\u001b[0m\u001b[0;34m\u001b[0m\u001b[0m\n\u001b[0m",
      "\u001b[0;32m/home/drcjar/.virtualenvs/litsearch/local/lib/python2.7/site-packages/nltk/tokenize/__init__.pyc\u001b[0m in \u001b[0;36msent_tokenize\u001b[0;34m(text, language)\u001b[0m\n\u001b[1;32m     91\u001b[0m     \u001b[0;34m:\u001b[0m\u001b[0mparam\u001b[0m \u001b[0mlanguage\u001b[0m\u001b[0;34m:\u001b[0m \u001b[0mthe\u001b[0m \u001b[0mmodel\u001b[0m \u001b[0mname\u001b[0m \u001b[0;32min\u001b[0m \u001b[0mthe\u001b[0m \u001b[0mPunkt\u001b[0m \u001b[0mcorpus\u001b[0m\u001b[0;34m\u001b[0m\u001b[0m\n\u001b[1;32m     92\u001b[0m     \"\"\"\n\u001b[0;32m---> 93\u001b[0;31m     \u001b[0mtokenizer\u001b[0m \u001b[0;34m=\u001b[0m \u001b[0mload\u001b[0m\u001b[0;34m(\u001b[0m\u001b[0;34m'tokenizers/punkt/{0}.pickle'\u001b[0m\u001b[0;34m.\u001b[0m\u001b[0mformat\u001b[0m\u001b[0;34m(\u001b[0m\u001b[0mlanguage\u001b[0m\u001b[0;34m)\u001b[0m\u001b[0;34m)\u001b[0m\u001b[0;34m\u001b[0m\u001b[0m\n\u001b[0m\u001b[1;32m     94\u001b[0m     \u001b[0;32mreturn\u001b[0m \u001b[0mtokenizer\u001b[0m\u001b[0;34m.\u001b[0m\u001b[0mtokenize\u001b[0m\u001b[0;34m(\u001b[0m\u001b[0mtext\u001b[0m\u001b[0;34m)\u001b[0m\u001b[0;34m\u001b[0m\u001b[0m\n\u001b[1;32m     95\u001b[0m \u001b[0;34m\u001b[0m\u001b[0m\n",
      "\u001b[0;32m/home/drcjar/.virtualenvs/litsearch/local/lib/python2.7/site-packages/nltk/data.pyc\u001b[0m in \u001b[0;36mload\u001b[0;34m(resource_url, format, cache, verbose, logic_parser, fstruct_reader, encoding)\u001b[0m\n\u001b[1;32m    806\u001b[0m \u001b[0;34m\u001b[0m\u001b[0m\n\u001b[1;32m    807\u001b[0m     \u001b[0;31m# Load the resource.\u001b[0m\u001b[0;34m\u001b[0m\u001b[0;34m\u001b[0m\u001b[0m\n\u001b[0;32m--> 808\u001b[0;31m     \u001b[0mopened_resource\u001b[0m \u001b[0;34m=\u001b[0m \u001b[0m_open\u001b[0m\u001b[0;34m(\u001b[0m\u001b[0mresource_url\u001b[0m\u001b[0;34m)\u001b[0m\u001b[0;34m\u001b[0m\u001b[0m\n\u001b[0m\u001b[1;32m    809\u001b[0m \u001b[0;34m\u001b[0m\u001b[0m\n\u001b[1;32m    810\u001b[0m     \u001b[0;32mif\u001b[0m \u001b[0mformat\u001b[0m \u001b[0;34m==\u001b[0m \u001b[0;34m'raw'\u001b[0m\u001b[0;34m:\u001b[0m\u001b[0;34m\u001b[0m\u001b[0m\n",
      "\u001b[0;32m/home/drcjar/.virtualenvs/litsearch/local/lib/python2.7/site-packages/nltk/data.pyc\u001b[0m in \u001b[0;36m_open\u001b[0;34m(resource_url)\u001b[0m\n\u001b[1;32m    924\u001b[0m \u001b[0;34m\u001b[0m\u001b[0m\n\u001b[1;32m    925\u001b[0m     \u001b[0;32mif\u001b[0m \u001b[0mprotocol\u001b[0m \u001b[0;32mis\u001b[0m \u001b[0mNone\u001b[0m \u001b[0;32mor\u001b[0m \u001b[0mprotocol\u001b[0m\u001b[0;34m.\u001b[0m\u001b[0mlower\u001b[0m\u001b[0;34m(\u001b[0m\u001b[0;34m)\u001b[0m \u001b[0;34m==\u001b[0m \u001b[0;34m'nltk'\u001b[0m\u001b[0;34m:\u001b[0m\u001b[0;34m\u001b[0m\u001b[0m\n\u001b[0;32m--> 926\u001b[0;31m         \u001b[0;32mreturn\u001b[0m \u001b[0mfind\u001b[0m\u001b[0;34m(\u001b[0m\u001b[0mpath_\u001b[0m\u001b[0;34m,\u001b[0m \u001b[0mpath\u001b[0m \u001b[0;34m+\u001b[0m \u001b[0;34m[\u001b[0m\u001b[0;34m''\u001b[0m\u001b[0;34m]\u001b[0m\u001b[0;34m)\u001b[0m\u001b[0;34m.\u001b[0m\u001b[0mopen\u001b[0m\u001b[0;34m(\u001b[0m\u001b[0;34m)\u001b[0m\u001b[0;34m\u001b[0m\u001b[0m\n\u001b[0m\u001b[1;32m    927\u001b[0m     \u001b[0;32melif\u001b[0m \u001b[0mprotocol\u001b[0m\u001b[0;34m.\u001b[0m\u001b[0mlower\u001b[0m\u001b[0;34m(\u001b[0m\u001b[0;34m)\u001b[0m \u001b[0;34m==\u001b[0m \u001b[0;34m'file'\u001b[0m\u001b[0;34m:\u001b[0m\u001b[0;34m\u001b[0m\u001b[0m\n\u001b[1;32m    928\u001b[0m         \u001b[0;31m# urllib might not use mode='rb', so handle this one ourselves:\u001b[0m\u001b[0;34m\u001b[0m\u001b[0;34m\u001b[0m\u001b[0m\n",
      "\u001b[0;32m/home/drcjar/.virtualenvs/litsearch/local/lib/python2.7/site-packages/nltk/data.pyc\u001b[0m in \u001b[0;36mfind\u001b[0;34m(resource_name, paths)\u001b[0m\n\u001b[1;32m    646\u001b[0m     \u001b[0msep\u001b[0m \u001b[0;34m=\u001b[0m \u001b[0;34m'*'\u001b[0m \u001b[0;34m*\u001b[0m \u001b[0;36m70\u001b[0m\u001b[0;34m\u001b[0m\u001b[0m\n\u001b[1;32m    647\u001b[0m     \u001b[0mresource_not_found\u001b[0m \u001b[0;34m=\u001b[0m \u001b[0;34m'\\n%s\\n%s\\n%s'\u001b[0m \u001b[0;34m%\u001b[0m \u001b[0;34m(\u001b[0m\u001b[0msep\u001b[0m\u001b[0;34m,\u001b[0m \u001b[0mmsg\u001b[0m\u001b[0;34m,\u001b[0m \u001b[0msep\u001b[0m\u001b[0;34m)\u001b[0m\u001b[0;34m\u001b[0m\u001b[0m\n\u001b[0;32m--> 648\u001b[0;31m     \u001b[0;32mraise\u001b[0m \u001b[0mLookupError\u001b[0m\u001b[0;34m(\u001b[0m\u001b[0mresource_not_found\u001b[0m\u001b[0;34m)\u001b[0m\u001b[0;34m\u001b[0m\u001b[0m\n\u001b[0m\u001b[1;32m    649\u001b[0m \u001b[0;34m\u001b[0m\u001b[0m\n\u001b[1;32m    650\u001b[0m \u001b[0;34m\u001b[0m\u001b[0m\n",
      "\u001b[0;31mLookupError\u001b[0m: \n**********************************************************************\n  Resource u'tokenizers/punkt/english.pickle' not found.  Please\n  use the NLTK Downloader to obtain the resource:  >>>\n  nltk.download()\n  Searched in:\n    - '/home/drcjar/nltk_data'\n    - '/usr/share/nltk_data'\n    - '/usr/local/share/nltk_data'\n    - '/usr/lib/nltk_data'\n    - '/usr/local/lib/nltk_data'\n    - u''\n**********************************************************************"
     ]
    }
   ],
   "source": [
    "import nltk\n",
    "import re\n",
    "sentences = nltk.sent_tokenize(text[:5000])"
   ]
  },
  {
   "cell_type": "code",
   "execution_count": null,
   "metadata": {
    "collapsed": false
   },
   "outputs": [],
   "source": [
    "text[:500]"
   ]
  },
  {
   "cell_type": "code",
   "execution_count": 22,
   "metadata": {
    "collapsed": false
   },
   "outputs": [],
   "source": [
    "s = soc_desc['3561']"
   ]
  },
  {
   "cell_type": "code",
   "execution_count": 28,
   "metadata": {
    "collapsed": false
   },
   "outputs": [],
   "source": [
    "s = s.replace('\\n\\xe2\\x80\\xa2\\n','')\n",
    "s = s.replace('\\xe2\\x80\\xa2','')"
   ]
  },
  {
   "cell_type": "code",
   "execution_count": 60,
   "metadata": {
    "collapsed": false
   },
   "outputs": [
    {
     "name": "stdout",
     "output_type": "stream",
     "text": [
      "3561 PUBLIC SERVICE ASSOCIATE\n",
      "\n",
      "PROFESSIONALS\n",
      "\n",
      "Public service associate professionals supervise and\n",
      "undertake general administrative work in national\n",
      "and local government departments, and organise the\n",
      "activities of local offices of national government\n",
      "departments.\n",
      "\n",
      "TYPICAL ENTRY ROUTES AND\n",
      "ASSOCIATED QUALIFICATIONS\n",
      "\n",
      "Entrants typically possess A levels/H grades or an\n",
      "equivalent  qualification,  although  many  entrants\n",
      "possess a degree.  Entry may be possible by promotion\n",
      "from clerical grades for those with suitable experience.\n",
      "Training  is  typically  provided  on-the-job,\n",
      "supplemented by specialised courses.  Professional\n",
      "qualifications are available in some areas.\n",
      "\n",
      "TASKS\n",
      "\n",
      "co-ordinates  activities  of  office  staff,  assigns\n",
      "tasks and responsibilities and makes changes in\n",
      "procedures to deal with variations in workload;\n",
      "\n",
      "assists senior government officers with policy\n",
      "work, external liaison or general administrative\n",
      "work;\n",
      "\n",
      "supervises a variety of administrative functions\n",
      "in government departments such as recruitment\n",
      "and training, the negotiation and arrangement of\n",
      "contracts,  building  and  capital  management,\n",
      "monitoring  and  authorising  department\n",
      "expenditure etc.;\n",
      "\n",
      " organises  resources  for  the  acceptance  and\n",
      "recording of vacancy details, the selection of\n",
      "suitable  applicants  and  other  Job  Centre\n",
      "activities;\n",
      "\n",
      "Standard Occupational Classification 2000 Volume 1        149\n",
      "\n",
      "M\n",
      "\n",
      "a\n",
      "j\n",
      "o\n",
      "r\n",
      " \n",
      "\n",
      "G\n",
      "r\n",
      "o\n",
      "u\n",
      "p\n",
      "\n",
      " \n",
      "\n",
      "3\n",
      "\n",
      "1\n",
      "\n",
      "2\n",
      "\n",
      "3\n",
      "\n",
      "4\n",
      "\n",
      "5\n",
      "\n",
      "6\n",
      "\n",
      "7\n",
      "\n",
      "8\n",
      "\n",
      "9\n",
      "\n",
      "\f",
      "3\n",
      "\n",
      " \n",
      "\n",
      "p\n",
      "u\n",
      "o\n",
      "r\n",
      "G\n",
      "\n",
      " \n",
      "r\n",
      "o\n",
      "j\n",
      "a\n",
      "\n",
      "M\n",
      "\n",
      "1\n",
      "\n",
      "2\n",
      "\n",
      "3\n",
      "\n",
      "4\n",
      "\n",
      "5\n",
      "\n",
      "6\n",
      "\n",
      "7\n",
      "\n",
      "8\n",
      "\n",
      "9\n",
      "\n",
      "authorises the payment of social security benefits,\n",
      "arranges  for  domiciliary  visits  to  assess  the\n",
      "financial  circumstances  of  claimants  and\n",
      "investigates  any  state  insurance  contribution\n",
      "problems;\n",
      "\n",
      "advises  public  or  companies  on  general  tax\n",
      "problems and arranges for the issue, receipt and\n",
      "examination of tax forms, assessment of PAYE\n",
      "codes and the computation of tax arrears and\n",
      "rebates.\n",
      "\n",
      "arranges  meetings  between  management  and\n",
      "employees  or  trades  unions  and  assists  with\n",
      "negotiations concerning pay and conditions of\n",
      "employment;\n",
      "\n",
      "advises on training and recruitment, negotiating\n",
      "procedures,  salary  agreements  and  other\n",
      "personnel and industrial relations issues;\n",
      "\n",
      " provides  practical  recruitment  and  selection\n",
      "services  to  clients  such  as  preparing\n",
      "advertisements, checking application forms and\n",
      "interviewing candidates.\n",
      "\n",
      "RELATED JOB TITLES\n",
      "\n",
      "Higher executive officer (government)\n",
      "Principal officer (local government)\n",
      "Senior executive officer (government)\n",
      "\n",
      "RELATED JOB TITLES\n",
      "\n",
      "Industrial relations officer\n",
      "Personnel officer\n",
      "Recruitment consultant\n",
      "\n",
      "\n"
     ]
    }
   ],
   "source": [
    "print(s)"
   ]
  },
  {
   "cell_type": "code",
   "execution_count": 69,
   "metadata": {
    "collapsed": false
   },
   "outputs": [],
   "source": [
    "target = re.escape('Standard Occupational Classification 2000 Volume 1')"
   ]
  },
  {
   "cell_type": "code",
   "execution_count": 72,
   "metadata": {
    "collapsed": false
   },
   "outputs": [
    {
     "ename": "SyntaxError",
     "evalue": "invalid syntax (<ipython-input-72-4ffaf3238ba2>, line 1)",
     "output_type": "error",
     "traceback": [
      "\u001b[0;36m  File \u001b[0;32m\"<ipython-input-72-4ffaf3238ba2>\"\u001b[0;36m, line \u001b[0;32m1\u001b[0m\n\u001b[0;31m    re.compile(target+*?)\u001b[0m\n\u001b[0m                      ^\u001b[0m\n\u001b[0;31mSyntaxError\u001b[0m\u001b[0;31m:\u001b[0m invalid syntax\n"
     ]
    }
   ],
   "source": [
    "re.compile(target+*?)"
   ]
  },
  {
   "cell_type": "markdown",
   "metadata": {
    "collapsed": false
   },
   "source": [
    "### i = 5\n",
    "a = text.rfind(str(eval(soc_codes[i]))) # to avoid hitting index\n",
    "b = text.rfind(str(eval(soc_codes[i])+1))"
   ]
  },
  {
   "cell_type": "code",
   "execution_count": 167,
   "metadata": {
    "code_folding": [],
    "collapsed": false
   },
   "outputs": [
    {
     "name": "stdout",
     "output_type": "stream",
     "text": [
      "4112 CIVIL SERVICE\n",
      "\n",
      "ADMINISTRATIVE OFFICERS\n",
      "AND ASSISTANTS\n",
      "\n",
      "Civil Service administrative officers and assistants\n",
      "undertake  a  variety  of  clerical  work  in  national\n",
      "government  departments,  and  in  local  offices  of\n",
      "national government departments.\n",
      "\n",
      "TYPICAL ENTRY ROUTES AND\n",
      "ASSOCIATED QUALIFICATIONS\n",
      "\n",
      "Entry  is  most  common  with  GCSEs/S  grades.\n",
      "Evidence of keyboard skills may also be required in\n",
      "some posts.  Off- and on-the-job training is provided.\n",
      "NVQs/SVQs  in Administration  are  available  at\n",
      "Levels 2 and 3.\n",
      "\n",
      "TYPICAL ENTRY ROUTES AND\n",
      "ASSOCIATED QUALIFICATIONS\n",
      "\n",
      "Entry  is  possible  with  GCSEs/S  grades,  and/or\n",
      "relevant  practical  experience.    NVQs/SVQs  in\n",
      "Administration  are  available  at  Levels  2  and  3.\n",
      "Modern Apprenticeships leading to NVQ/SVQ at\n",
      "Level 3 are also available.\n",
      "\n",
      "TASKS\n",
      "\n",
      "• maintains  and  updates  correspondence,\n",
      "documents, data and other records for storage in\n",
      "files or on computer;\n",
      "classifies,  sorts  and  files  publications,\n",
      "correspondence etc. in offices and libraries;\n",
      "responds to telephone enquiries and other forms\n",
      "of correspondence;\n",
      "\n",
      "•\n",
      "\n",
      "•\n",
      "\n",
      "• undertakes a variety of clerical tasks specific to\n",
      "the operations of Inland Revenue offices, Job\n",
      "Centres, Benefits Agency offices and other local\n",
      "offices of national government;\n",
      "\n",
      "• performs miscellaneous clerical tasks such as\n",
      "proof reading printed material, drafting letters,\n",
      "taking minutes etc.\n",
      "\n",
      "RELATED JOB TITLES\n",
      "\n",
      "Administrative assistant (government)\n",
      "Administrative officer (government)\n",
      "Revenue assistant (government)\n",
      "\n",
      "\n"
     ]
    }
   ],
   "source": [
    "print(text[a:b])"
   ]
  },
  {
   "cell_type": "code",
   "execution_count": 169,
   "metadata": {
    "collapsed": false
   },
   "outputs": [
    {
     "name": "stdout",
     "output_type": "stream",
     "text": [
      "4112 CIVIL SERVICE\n",
      "\n",
      "ADMINISTRATIVE OFFICERS\n",
      "AND ASSISTANTS\n",
      "\n",
      "Civil Service administrative officers and assistants\n",
      "undertake  a  variety  of  clerical  work  in  national\n",
      "government  departments,  and  in  local  offices  of\n",
      "national government departments.\n",
      "\n",
      "TYPICAL ENTRY ROUTES AND\n",
      "ASSOCIATED QUALIFICATIONS\n",
      "\n",
      "Entry  is  most  common  with  GCSEs/S  grades.\n",
      "Evidence of keyboard skills may also be required in\n",
      "some posts.  Off- and on-the-job training is provided.\n",
      "NVQs/SVQs  in Administration  are  available  at\n",
      "Levels 2 and 3.\n",
      "\n",
      "TYPICAL ENTRY ROUTES AND\n",
      "ASSOCIATED QUALIFICATIONS\n",
      "\n",
      "Entry  is  possible  with  GCSEs/S  grades,  and/or\n",
      "relevant  practical  experience.    NVQs/SVQs  in\n",
      "Administration  are  available  at  Levels  2  and  3.\n",
      "Modern Apprenticeships leading to NVQ/SVQ at\n",
      "Level 3 are also available.\n",
      "\n",
      "TASKS\n",
      "\n",
      "• maintains  and  updates  correspondence,\n",
      "documents, data and other records for storage in\n",
      "files or on computer;\n",
      "classifies,  sorts  and  files  publications,\n",
      "correspondence etc. in offices and libraries;\n",
      "responds to telephone enquiries and other forms\n",
      "of correspondence;\n",
      "\n",
      "•\n",
      "\n",
      "•\n",
      "\n",
      "• undertakes a variety of clerical tasks specific to\n",
      "the operations of Inland Revenue offices, Job\n",
      "Centres, Benefits Agency offices and other local\n",
      "offices of national government;\n",
      "\n",
      "• performs miscellaneous clerical tasks such as\n",
      "proof reading printed material, drafting letters,\n",
      "taking minutes etc.\n",
      "\n",
      "RELATED JOB TITLES\n",
      "\n",
      "Administrative assistant (government)\n",
      "Administrative officer (government)\n",
      "Revenue assistant (government)\n",
      "\n",
      "\n"
     ]
    }
   ],
   "source": [
    "print(soc_desc['4112'])"
   ]
  },
  {
   "cell_type": "code",
   "execution_count": 18,
   "metadata": {
    "collapsed": false
   },
   "outputs": [
    {
     "data": {
      "text/plain": [
       "array([u'2441', u'2441', u'4112', ..., u'9139', u'9111', u'2112'], dtype=object)"
      ]
     },
     "execution_count": 18,
     "metadata": {},
     "output_type": "execute_result"
    }
   ],
   "source": [
    "soc_codes"
   ]
  },
  {
   "cell_type": "code",
   "execution_count": null,
   "metadata": {
    "collapsed": true
   },
   "outputs": [],
   "source": []
  },
  {
   "cell_type": "code",
   "execution_count": null,
   "metadata": {
    "collapsed": true
   },
   "outputs": [],
   "source": []
  }
 ],
 "metadata": {
  "kernelspec": {
   "display_name": "Python 2",
   "language": "python",
   "name": "python2"
  },
  "language_info": {
   "codemirror_mode": {
    "name": "ipython",
    "version": 2
   },
   "file_extension": ".py",
   "mimetype": "text/x-python",
   "name": "python",
   "nbconvert_exporter": "python",
   "pygments_lexer": "ipython2",
   "version": "2.7.12"
  }
 },
 "nbformat": 4,
 "nbformat_minor": 1
}
