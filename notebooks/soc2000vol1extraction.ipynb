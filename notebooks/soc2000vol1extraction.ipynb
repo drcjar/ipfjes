{
 "cells": [
  {
   "cell_type": "code",
   "execution_count": 1,
   "metadata": {
    "collapsed": true
   },
   "outputs": [],
   "source": [
    "from pdfminer.pdfinterp import PDFResourceManager, PDFPageInterpreter\n",
    "from pdfminer.converter import TextConverter\n",
    "from pdfminer.layout import LAParams\n",
    "from pdfminer.pdfpage import PDFPage\n",
    "from cStringIO import StringIO\n",
    "import re\n",
    "import xlrd\n",
    "import pandas as pd"
   ]
  },
  {
   "cell_type": "code",
   "execution_count": 2,
   "metadata": {
    "collapsed": false
   },
   "outputs": [],
   "source": [
    "def convert_pdf_to_txt(path):\n",
    "    '''\n",
    "    converts a pdf to text using pdfminer\n",
    "    '''\n",
    "    rsrcmgr = PDFResourceManager()\n",
    "    retstr = StringIO()\n",
    "    codec = 'utf-8'\n",
    "    laparams = LAParams()\n",
    "    device = TextConverter(rsrcmgr, retstr, codec=codec, laparams=laparams)\n",
    "    fp = file(path, 'rb')\n",
    "    interpreter = PDFPageInterpreter(rsrcmgr, device)\n",
    "    password = \"\"\n",
    "    maxpages = 0\n",
    "    caching = True\n",
    "    pagenos=set()\n",
    "\n",
    "    for page in PDFPage.get_pages(fp, pagenos, maxpages=maxpages, password=password,caching=caching, check_extractable=True):\n",
    "        interpreter.process_page(page)\n",
    "\n",
    "    text = retstr.getvalue()\n",
    "\n",
    "    fp.close()\n",
    "    device.close()\n",
    "    retstr.close()\n",
    "    return text"
   ]
  },
  {
   "cell_type": "code",
   "execution_count": 3,
   "metadata": {
    "collapsed": true
   },
   "outputs": [],
   "source": [
    "def get_soc_codes():\n",
    "    '''\n",
    "    returns a sorted list of soc_codes from ons data file\n",
    "    '''\n",
    "    df = pd.read_excel('../data/soc2000index_tcm77-179123.xls', sheetname=1 ) \n",
    "    soc_codes = df.SOC2000.unique().tolist()\n",
    "    soc_codes.sort()\n",
    "    soc_codes.remove( u'}}}}') # remove as not a soc code (used to help look up)\n",
    "    return soc_codes"
   ]
  },
  {
   "cell_type": "code",
   "execution_count": 4,
   "metadata": {
    "collapsed": true
   },
   "outputs": [],
   "source": [
    "def clean_text(text):\n",
    "    \"\"\"\n",
    "    clean the text\n",
    "    \"\"\"\n",
    "    text = text.replace('Standard Occupational Classification 2000 Volume 1','')\n",
    "    text = text.replace('\\xe2\\x80\\xa2','')\n",
    "    text = text.replace('\\ncaf\\xc3\\xa9s','')\n",
    "    text = text.replace('\\xc3\\xa8', 'e')\n",
    "    text = text.replace('\\xc3\\xa7', 'c')\n",
    "    text = text.replace('(cid:149)','')\n",
    "    text = text.replace('\\xda','')\n",
    "    return text"
   ]
  },
  {
   "cell_type": "code",
   "execution_count": 5,
   "metadata": {
    "collapsed": true
   },
   "outputs": [],
   "source": [
    "def clean_desc(string):\n",
    "    \"\"\"\n",
    "    clean soc descriptor strings\n",
    "    \"\"\"\n",
    "    match = re.search(r'\\s[0-9]{2,3}.*9', string, re.DOTALL)\n",
    "    if match:\n",
    "        string = re.sub(match.group(),'', string)\n",
    "    return string"
   ]
  },
  {
   "cell_type": "code",
   "execution_count": 6,
   "metadata": {
    "collapsed": true
   },
   "outputs": [],
   "source": [
    "def make_soc_desc_lookup(text, soc_codes):\n",
    "    \"\"\"\n",
    "    make a dictionary from the text {soc_code:description of the job}\n",
    "    \"\"\"\n",
    "    soc_desc = dict()\n",
    "    for i, item in enumerate(soc_codes):\n",
    "        if i < (len(soc_codes)-1):\n",
    "            a = text.rfind(str(eval(soc_codes[i]))) # to avoid hitting index\n",
    "            b = text.rfind(str(eval(soc_codes[i+1])))\n",
    "            soc_desc[soc_codes[i]] = text[a:b]\n",
    "        else:\n",
    "            a = text.rfind(str(eval(soc_codes[i]))) # to avoid hitting index\n",
    "            soc_desc[soc_codes[i]] = text[a:]\n",
    "    return soc_desc"
   ]
  },
  {
   "cell_type": "code",
   "execution_count": 7,
   "metadata": {
    "collapsed": true
   },
   "outputs": [],
   "source": [
    "def soc_descriptor(soc_code):\n",
    "    \"\"\"\n",
    "    return a description for a soc code\n",
    "    \"\"\"\n",
    "    desc = soc_desc.get(soc_code)\n",
    "    if desc:\n",
    "        print(desc)\n",
    "    else:\n",
    "        print ('valid soc_codes are {0}'.format(soc_desc.keys()))\n",
    "    return desc"
   ]
  },
  {
   "cell_type": "code",
   "execution_count": 8,
   "metadata": {
    "collapsed": false
   },
   "outputs": [],
   "source": [
    "def main():\n",
    "    \"\"\"\n",
    "    get a sorted list of soc codes, get the text of the soc code descriptions from a pdf,\n",
    "    make a clean(ish) dict lookup\n",
    "    \"\"\"\n",
    "    soc_codes = get_soc_codes()\n",
    "    \n",
    "    text = convert_pdf_to_txt(\"../data/soc2000/single-pages-output-cropped.pdf\")\n",
    "    # this was our third attempt at parsing the text from the pdf!\n",
    "    # pdf has two column layout\n",
    "    # success achieved following https://stackoverflow.com/questions/29319533/convert-pdf-with-columns-to-text\n",
    "    #\n",
    "    #  1. gs     -o left-sections.pdf     -sDEVICE=pdfwrite     -g3000x8500     -c \"<</PageOffset [0 0]>> setpagedevice\"     -f soc2000vol1v5_tcm77-179121.pdf  \n",
    "    #  2. gs     -o right-sections.pdf     -sDEVICE=pdfwrite     -g3000x8500     -c \"<</PageOffset [-300 0]>> setpagedevice\"     -f soc2000vol1v5_tcm77-179121.pdf \n",
    "    #  3. use krop to trim junk from edges of pdf\n",
    "    #  4. pdftk   A=right-sections.pdf   B=left-sections.pdf shuffle B A   output single-pages-output.pdf\n",
    "    #\n",
    "    # text = convert_pdf_to_txt(\"../data/soc2000/soc2000vol1v5_tcm77-179121.pdf\")\n",
    "    # with open('../data/soc2000/soc2000-layout.txt', 'r') as myfile:\n",
    "    #    text = myfile.read() # using text file prepared with pdftotext -layout\n",
    "    \n",
    "    text = clean_text(text)\n",
    "    soc_desc = make_soc_desc_lookup(text, soc_codes)\n",
    "    #for i, item in enumerate(soc_desc):\n",
    "    #    soc_desc[item] = clean_desc(soc_desc[item]) # currently broken\n",
    "    \n",
    "    return soc_codes, text, soc_desc"
   ]
  },
  {
   "cell_type": "code",
   "execution_count": 9,
   "metadata": {
    "collapsed": false
   },
   "outputs": [],
   "source": [
    "def short_desc_lookup(soc_code):\n",
    "    \"\"\"\n",
    "    extract short desc for a soc code\n",
    "    \"\"\"\n",
    "    string = soc_desc[soc_code]\n",
    "    a = string.find(soc_code) \n",
    "    b = string.find('TYPICAL ENTRY ROUTES AND\\nASSOCIATED QUALIFICATIONS')\n",
    "    return string[a:b]"
   ]
  },
  {
   "cell_type": "code",
   "execution_count": 10,
   "metadata": {
    "collapsed": true
   },
   "outputs": [],
   "source": [
    "def tasks_lookup(soc_code):\n",
    "    \"\"\"\n",
    "    extract tasks for a soc code\n",
    "    \"\"\"\n",
    "    string = soc_desc[soc_code]\n",
    "    a = string.find('TASKS') \n",
    "    b = string.find('RELATED JOB TITLES')\n",
    "    string = string[a:b].replace('TASKS','')\n",
    "    string = string.strip()\n",
    "    string = 'TASKS\\n\\n' + string + '\\n\\n'\n",
    "    return string"
   ]
  },
  {
   "cell_type": "code",
   "execution_count": 11,
   "metadata": {
    "collapsed": true
   },
   "outputs": [],
   "source": [
    "def entry_lookup(soc_code):\n",
    "    \"\"\"\n",
    "    extract entry route for a soc code\n",
    "    \"\"\"\n",
    "    string = soc_desc[soc_code]\n",
    "    a = string.find('TYPICAL ENTRY') \n",
    "    b = string.find('TASKS')\n",
    "    string = string[a:b].replace('TYPICAL ENTRY ROUTES AND\\nASSOCIATED QUALIFICATIONS\\n\\n','')\n",
    "    string = string.strip()\n",
    "    string = 'TYPICAL ENTRY ROUTES AND\\nASSOCIATED QUALIFICATIONS\\n\\n' + string + '\\n\\n'\n",
    "    return string"
   ]
  },
  {
   "cell_type": "code",
   "execution_count": 12,
   "metadata": {
    "collapsed": false
   },
   "outputs": [],
   "source": [
    "def related_lookup(soc_code):\n",
    "    \"\"\"\n",
    "    extract related jobs for a soc code\n",
    "    \"\"\"\n",
    "    string = soc_desc[soc_code]\n",
    "    a = string.find('RELATED JOB TITLES') \n",
    "    b = string.find('\\x0c\\x0c')\n",
    "    string = string[a:b].replace('RELATED JOB TITLES\\n\\n','')\n",
    "    string = string.strip()\n",
    "    string = 'RELATED JOB TITLES\\n\\n' + string + '\\n\\n'\n",
    "    return string"
   ]
  },
  {
   "cell_type": "code",
   "execution_count": 13,
   "metadata": {
    "collapsed": true
   },
   "outputs": [],
   "source": [
    "def lookup_soc(soc_code):\n",
    "    '''\n",
    "    prints info for a given soc2000 code\n",
    "    '''\n",
    "    print short_desc_lookup(soc_code)\n",
    "    print entry_lookup(soc_code)\n",
    "    print tasks_lookup(soc_code)\n",
    "    print related_lookup(soc_code)"
   ]
  },
  {
   "cell_type": "code",
   "execution_count": 14,
   "metadata": {
    "collapsed": false
   },
   "outputs": [],
   "source": [
    "soc_codes, text, soc_desc = main()"
   ]
  },
  {
   "cell_type": "code",
   "execution_count": 15,
   "metadata": {
    "collapsed": true
   },
   "outputs": [],
   "source": [
    "df = pd.read_excel('../data/soc2000index_tcm77-179123.xls', sheetname=1 ) \n",
    "df = df[df['SOC2000'].isin(soc_codes)]"
   ]
  },
  {
   "cell_type": "code",
   "execution_count": 16,
   "metadata": {
    "collapsed": false
   },
   "outputs": [],
   "source": [
    "df['short_desc'] = df['SOC2000'].map(lambda x: short_desc_lookup(x))\n",
    "df['tasks'] = df['SOC2000'].map(lambda x: tasks_lookup(x))\n",
    "df['entry'] = df['SOC2000'].map(lambda x: entry_lookup(x))\n",
    "df['related'] = df['SOC2000'].map(lambda x: related_lookup(x))"
   ]
  },
  {
   "cell_type": "code",
   "execution_count": 17,
   "metadata": {
    "collapsed": false
   },
   "outputs": [],
   "source": [
    "df = df[['SOC','SOC2000','INDEXOCC', 'short_desc', 'entry', 'tasks', 'related']]\n"
   ]
  },
  {
   "cell_type": "code",
   "execution_count": 18,
   "metadata": {
    "collapsed": false
   },
   "outputs": [
    {
     "data": {
      "text/html": [
       "<div>\n",
       "<table border=\"1\" class=\"dataframe\">\n",
       "  <thead>\n",
       "    <tr style=\"text-align: right;\">\n",
       "      <th></th>\n",
       "      <th>SOC</th>\n",
       "      <th>SOC2000</th>\n",
       "      <th>INDEXOCC</th>\n",
       "      <th>short_desc</th>\n",
       "      <th>entry</th>\n",
       "      <th>tasks</th>\n",
       "      <th>related</th>\n",
       "    </tr>\n",
       "  </thead>\n",
       "  <tbody>\n",
       "    <tr>\n",
       "      <th>3424</th>\n",
       "      <td>570</td>\n",
       "      <td>5315</td>\n",
       "      <td>Carpenter</td>\n",
       "      <td>5315 CARPENTERS AND JOINERS\\n\\nCarpenters and ...</td>\n",
       "      <td>TYPICAL ENTRY ROUTES AND\\nASSOCIATED QUALIFICA...</td>\n",
       "      <td>TASKS\\n\\nexamines  drawings  and  specificatio...</td>\n",
       "      <td>RELATED JOB TITLES\\n\\nBoat builder\\nBuilder's ...</td>\n",
       "    </tr>\n",
       "    <tr>\n",
       "      <th>3425</th>\n",
       "      <td>570</td>\n",
       "      <td>5315</td>\n",
       "      <td>Carpenter and joiner</td>\n",
       "      <td>5315 CARPENTERS AND JOINERS\\n\\nCarpenters and ...</td>\n",
       "      <td>TYPICAL ENTRY ROUTES AND\\nASSOCIATED QUALIFICA...</td>\n",
       "      <td>TASKS\\n\\nexamines  drawings  and  specificatio...</td>\n",
       "      <td>RELATED JOB TITLES\\n\\nBoat builder\\nBuilder's ...</td>\n",
       "    </tr>\n",
       "    <tr>\n",
       "      <th>3426</th>\n",
       "      <td>599</td>\n",
       "      <td>5315</td>\n",
       "      <td>Carpenter-diver</td>\n",
       "      <td>5315 CARPENTERS AND JOINERS\\n\\nCarpenters and ...</td>\n",
       "      <td>TYPICAL ENTRY ROUTES AND\\nASSOCIATED QUALIFICA...</td>\n",
       "      <td>TASKS\\n\\nexamines  drawings  and  specificatio...</td>\n",
       "      <td>RELATED JOB TITLES\\n\\nBoat builder\\nBuilder's ...</td>\n",
       "    </tr>\n",
       "  </tbody>\n",
       "</table>\n",
       "</div>"
      ],
      "text/plain": [
       "      SOC SOC2000              INDEXOCC  \\\n",
       "3424  570    5315             Carpenter   \n",
       "3425  570    5315  Carpenter and joiner   \n",
       "3426  599    5315       Carpenter-diver   \n",
       "\n",
       "                                             short_desc  \\\n",
       "3424  5315 CARPENTERS AND JOINERS\\n\\nCarpenters and ...   \n",
       "3425  5315 CARPENTERS AND JOINERS\\n\\nCarpenters and ...   \n",
       "3426  5315 CARPENTERS AND JOINERS\\n\\nCarpenters and ...   \n",
       "\n",
       "                                                  entry  \\\n",
       "3424  TYPICAL ENTRY ROUTES AND\\nASSOCIATED QUALIFICA...   \n",
       "3425  TYPICAL ENTRY ROUTES AND\\nASSOCIATED QUALIFICA...   \n",
       "3426  TYPICAL ENTRY ROUTES AND\\nASSOCIATED QUALIFICA...   \n",
       "\n",
       "                                                  tasks  \\\n",
       "3424  TASKS\\n\\nexamines  drawings  and  specificatio...   \n",
       "3425  TASKS\\n\\nexamines  drawings  and  specificatio...   \n",
       "3426  TASKS\\n\\nexamines  drawings  and  specificatio...   \n",
       "\n",
       "                                                related  \n",
       "3424  RELATED JOB TITLES\\n\\nBoat builder\\nBuilder's ...  \n",
       "3425  RELATED JOB TITLES\\n\\nBoat builder\\nBuilder's ...  \n",
       "3426  RELATED JOB TITLES\\n\\nBoat builder\\nBuilder's ...  "
      ]
     },
     "execution_count": 18,
     "metadata": {},
     "output_type": "execute_result"
    }
   ],
   "source": [
    "# ?http://blog.yhat.com/posts/fuzzy-matching-with-yhat.html\n",
    "\n",
    "df[df.INDEXOCC.str.contains('Carpenter')]"
   ]
  },
  {
   "cell_type": "code",
   "execution_count": 19,
   "metadata": {
    "collapsed": false
   },
   "outputs": [
    {
     "name": "stdout",
     "output_type": "stream",
     "text": [
      "5315 CARPENTERS AND JOINERS\n",
      "\n",
      "Carpenters and joiners construct, erect, install and\n",
      "repair wooden structures and fittings used in internal\n",
      "and  external  frameworks  and  cut,  shape,  fit  and\n",
      "assemble wood to make templates, jigs, scale models\n",
      "and scenic equipment for theatres.\n",
      "\n",
      "\n",
      "TYPICAL ENTRY ROUTES AND\n",
      "ASSOCIATED QUALIFICATIONS\n",
      "\n",
      "There are no formal academic entry requirements,\n",
      "though GCSEs/S grades are advantageous.  Entry is\n",
      "typically  through  a  Modern Apprenticeship  or\n",
      "National Traineeship approved by the Construction\n",
      "Industry Training Board leading to an NVQ/SVQ in\n",
      "General Construction at Level 3.\n",
      "\n",
      "\n",
      "TASKS\n",
      "\n",
      "examines  drawings  and  specifications  to\n",
      "determine job requirements;\n",
      "\n",
      "selects and measures appropriate wood and cuts,\n",
      "shapes  and  drills  to  specification  using  saws,\n",
      "planes, chisels and other power or hand tools;\n",
      "\n",
      "aligns  and  fixes  prepared  wood  pieces  by\n",
      "screwing, nailing, gluing and dowelling to form\n",
      "frames,  shop  fronts,  counter  units,  decking,\n",
      "theatrical  sets,  furniture,  small  wooden  craft,\n",
      "scale models and wooden templates;\n",
      "\n",
      "checks accuracy of work with square, rule and\n",
      "spirit level;\n",
      "\n",
      " maintains and repairs woodwork and fittings.\n",
      "\n",
      "\n",
      "RELATED JOB TITLES\n",
      "\n",
      "Boat builder\n",
      "Builder's joiner\n",
      "Carpenter\n",
      "Carpenter and joiner\n",
      "Shop fitter\n",
      "\n",
      "\n"
     ]
    }
   ],
   "source": [
    "lookup_soc('5315')"
   ]
  },
  {
   "cell_type": "code",
   "execution_count": 20,
   "metadata": {
    "collapsed": false
   },
   "outputs": [],
   "source": [
    "df = df.sort_values(by='SOC2000')"
   ]
  },
  {
   "cell_type": "code",
   "execution_count": 22,
   "metadata": {
    "collapsed": false
   },
   "outputs": [],
   "source": [
    "df.to_csv('../data/soc2000vol1.csv', encoding='utf-8')"
   ]
  },
  {
   "cell_type": "code",
   "execution_count": null,
   "metadata": {
    "collapsed": true
   },
   "outputs": [],
   "source": [
    "df."
   ]
  }
 ],
 "metadata": {
  "kernelspec": {
   "display_name": "Python 2",
   "language": "python",
   "name": "python2"
  },
  "language_info": {
   "codemirror_mode": {
    "name": "ipython",
    "version": 2
   },
   "file_extension": ".py",
   "mimetype": "text/x-python",
   "name": "python",
   "nbconvert_exporter": "python",
   "pygments_lexer": "ipython2",
   "version": "2.7.12"
  }
 },
 "nbformat": 4,
 "nbformat_minor": 1
}
