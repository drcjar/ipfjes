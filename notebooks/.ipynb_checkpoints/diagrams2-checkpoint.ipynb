{
 "cells": [
  {
   "cell_type": "code",
   "execution_count": 1,
   "metadata": {
    "collapsed": true
   },
   "outputs": [],
   "source": [
    "# http://matthiaseisen.com/articles/graphviz/\n",
    "# we'd really like to make a nicer version of our case recruitment, case control, and flowchart pics\n",
    "\n",
    "import graphviz as gv\n",
    "import functools\n",
    "from IPython.display import SVG"
   ]
  },
  {
   "cell_type": "code",
   "execution_count": 2,
   "metadata": {
    "collapsed": true
   },
   "outputs": [],
   "source": [
    "graph = functools.partial(gv.Graph, format='svg')\n",
    "digraph = functools.partial(gv.Digraph, format='svg')\n",
    "\n",
    "def add_nodes(graph, nodes):\n",
    "    for n in nodes:\n",
    "        if isinstance(n, tuple):\n",
    "            graph.node(n[0], **n[1])\n",
    "        else:\n",
    "            graph.node(n)\n",
    "    return graph\n",
    "\n",
    "def add_edges(graph, edges):\n",
    "    for e in edges:\n",
    "        if isinstance(e[0], tuple):\n",
    "            graph.edge(*e[0], **e[1])\n",
    "        else:\n",
    "            graph.edge(*e)\n",
    "    return graph\n",
    "\n",
    "def apply_styles(graph, styles):\n",
    "    graph.graph_attr.update(\n",
    "        ('graph' in styles and styles['graph']) or {}\n",
    "    )\n",
    "    graph.node_attr.update(\n",
    "        ('nodes' in styles and styles['nodes']) or {}\n",
    "    )\n",
    "    graph.edge_attr.update(\n",
    "        ('edges' in styles and styles['edges']) or {}\n",
    "    )\n",
    "    return graph"
   ]
  },
  {
   "cell_type": "code",
   "execution_count": 3,
   "metadata": {
    "collapsed": true
   },
   "outputs": [],
   "source": [
    "styles = {\n",
    "    'graph': {\n",
    "        'label': 'Case recruitment',\n",
    "        'fontsize': '14',\n",
    "        'fontcolor': 'black',\n",
    "        'bgcolor': 'white',\n",
    "        'rankdir': 'TB',\n",
    "    },\n",
    "    'nodes': {\n",
    "        'fontname': 'Helvetica',\n",
    "        'shape': 'square',\n",
    "        'fontcolor': 'black',\n",
    "        'color': 'black',\n",
    "        'style': '',\n",
    "        'fillcolor': '',\n",
    "    },\n",
    "    'edges': {\n",
    "        'style': '',\n",
    "        'color': 'black',\n",
    "        'arrowhead': 'open',\n",
    "        'fontname': 'Courier',\n",
    "        'fontsize': '12',\n",
    "        'fontcolor': 'black',\n",
    "    }\n",
    "}\n",
    "\n",
    "styles2 = {\n",
    "    'graph': {\n",
    "        'label': '',\n",
    "        'fontsize': '14',\n",
    "        'fontcolor': 'black',\n",
    "        'bgcolor': 'white',\n",
    "        'rank': 'same',\n",
    "    },\n",
    "    'nodes': {\n",
    "        'fontname': 'Helvetica',\n",
    "        'shape': 'square',\n",
    "        'fontcolor': 'black',\n",
    "        'color': 'black',\n",
    "        'style': '',\n",
    "        'fillcolor': '',\n",
    "        \n",
    "    },\n",
    "    'edges': {\n",
    "        'style': '',\n",
    "        'color': 'black',\n",
    "        'arrowhead': 'open',\n",
    "        'fontname': 'Courier',\n",
    "        'fontsize': '12',\n",
    "        'fontcolor': 'black',\n",
    "    }\n",
    "}\n",
    "\n",
    "styles3 = {\n",
    "    'graph': {\n",
    "        'label': 'Control recruitment',\n",
    "        'fontsize': '14',\n",
    "        'fontcolor': 'black',\n",
    "        'bgcolor': 'white',\n",
    "        'rankdir': 'TB',\n",
    "    },\n",
    "    'nodes': {\n",
    "        'fontname': 'Helvetica',\n",
    "        'shape': 'square',\n",
    "        'fontcolor': 'black',\n",
    "        'color': 'black',\n",
    "        'style': '',\n",
    "        'fillcolor': '',\n",
    "    },\n",
    "    'edges': {\n",
    "        'style': '',\n",
    "        'color': 'black',\n",
    "        'arrowhead': 'open',\n",
    "        'fontname': 'Courier',\n",
    "        'fontsize': '12',\n",
    "        'fontcolor': 'black',\n",
    "    }\n",
    "}"
   ]
  },
  {
   "cell_type": "code",
   "execution_count": 4,
   "metadata": {
    "collapsed": true
   },
   "outputs": [],
   "source": [
    "# cases\n",
    "inclusion_criteria = 'Inclusion criteria:\\n Male \\n Diagnosis of IPF between\\n 02.17 and 10.19'\n",
    "recruitment_process = 'Patients provided with:\\n Participant information sheet\\n Participant job history sheet\\n \\\n",
    "and enrolled at \\n outpatient department attendance.\\n Blood drawn and\\n Case Report Form completed'\n",
    "exclusion_criteria = 'Exclusion criteria:\\n Unable to consent\\n Ever worked outside\\n the UK\\n(does not include \\\n",
    "work \\n outside the UK \\n by members of the \\n armed forces\\n or merchant navy)'\n",
    "\n",
    "# controls\n",
    "inclusion_criteria2 = 'Inclusion criteria:\\n Male \\n Outpatient department\\n attendee between\\n 02.17 and 10.19'\n",
    "clinic_selection = 'A control clinic is randomly selected\\n (from all clinics, not limited to respiratory)'\n",
    "clinic_selection2 = 'Local team\\n write to clinic lead clinician\\n to obtain permission to recruit\\n from clinic'\n",
    "exclusion_criteria2 = 'Exclusion criteria:\\n Unable to consent\\n Ever worked outside\\n the UK\\n(does not include \\\n",
    "work \\n outside the UK \\n by members of the \\n armed forces\\n or merchant navy\\n Diagnosis of IPF)'\n",
    "\n",
    "monthly_update = 'Central research team updated\\n monthly'"
   ]
  },
  {
   "cell_type": "code",
   "execution_count": 5,
   "metadata": {},
   "outputs": [
    {
     "data": {
      "text/plain": [
       "'img/g1.svg'"
      ]
     },
     "execution_count": 5,
     "metadata": {},
     "output_type": "execute_result"
    }
   ],
   "source": [
    "g1 = add_edges(\n",
    "    add_nodes(digraph(), [\n",
    "        ('A', {'label': inclusion_criteria}),\n",
    "      # ('B', {'label': 'Node B'}),\n",
    "    ]),\n",
    "    [\n",
    "      # (('A', 'B'), {'label': 'Edge 1'}),  \n",
    "      ]\n",
    "\n",
    ")\n",
    "\n",
    "g1 = apply_styles(g1, styles)\n",
    "g1.render('img/g1')\n",
    "# SVG('img/g1.svg')"
   ]
  },
  {
   "cell_type": "code",
   "execution_count": 6,
   "metadata": {
    "scrolled": true
   },
   "outputs": [
    {
     "data": {
      "text/plain": [
       "'img/g2.svg'"
      ]
     },
     "execution_count": 6,
     "metadata": {},
     "output_type": "execute_result"
    }
   ],
   "source": [
    "g2 = add_edges(\n",
    "    add_nodes(digraph(), [\n",
    "        ('B', {'label': recruitment_process}),\n",
    "        ('C', {'label': exclusion_criteria}),\n",
    "    ]),\n",
    "    [\n",
    "       (('B', 'C'), {'label': ''}),  \n",
    "      ]\n",
    "\n",
    ")\n",
    "\n",
    "g2 = apply_styles(g2, styles2)\n",
    "g2.render('img/g2')\n",
    "# SVG('img/g2.svg')"
   ]
  },
  {
   "cell_type": "code",
   "execution_count": 7,
   "metadata": {},
   "outputs": [
    {
     "data": {
      "text/plain": [
       "'img/g1.svg'"
      ]
     },
     "execution_count": 7,
     "metadata": {},
     "output_type": "execute_result"
    }
   ],
   "source": [
    "g3 = add_edges(\n",
    "    add_nodes(digraph(), [\n",
    "        ('D', {'label': monthly_update}),\n",
    "      # ('B', {'label': 'Node B'}),\n",
    "    ]),\n",
    "    [\n",
    "      # (('A', 'B'), {'label': 'Edge 1'}),  \n",
    "      ]\n",
    "\n",
    ")\n",
    "\n",
    "g3 = apply_styles(g3, styles)\n",
    "g3.render('img/g1')\n",
    "# SVG('img/g1.svg')"
   ]
  },
  {
   "cell_type": "code",
   "execution_count": 8,
   "metadata": {},
   "outputs": [
    {
     "data": {
      "image/svg+xml": [
       "<svg height=\"707pt\" viewBox=\"0.00 0.00 408.00 707.00\" width=\"408pt\" xmlns=\"http://www.w3.org/2000/svg\" xmlns:xlink=\"http://www.w3.org/1999/xlink\">\n",
       "<g class=\"graph\" id=\"graph0\" transform=\"scale(1 1) rotate(0) translate(4 703)\">\n",
       "<title>%3</title>\n",
       "<polygon fill=\"white\" points=\"-4,4 -4,-703 404,-703 404,4 -4,4\" stroke=\"none\"/>\n",
       "<text font-family=\"Times,serif\" font-size=\"14.00\" text-anchor=\"middle\" x=\"200\" y=\"-7.8\">Case recruitment</text>\n",
       "<!-- A -->\n",
       "<g class=\"node\" id=\"node1\"><title>A</title>\n",
       "<polygon fill=\"none\" points=\"200.5,-699 26.5,-699 26.5,-525 200.5,-525 200.5,-699\" stroke=\"black\"/>\n",
       "<text font-family=\"Helvetica,sans-Serif\" font-size=\"14.00\" text-anchor=\"middle\" x=\"113.5\" y=\"-630.8\">Inclusion criteria:</text>\n",
       "<text font-family=\"Helvetica,sans-Serif\" font-size=\"14.00\" text-anchor=\"middle\" x=\"113.5\" y=\"-615.8\"> Male </text>\n",
       "<text font-family=\"Helvetica,sans-Serif\" font-size=\"14.00\" text-anchor=\"middle\" x=\"113.5\" y=\"-600.8\"> Diagnosis of IPF between</text>\n",
       "<text font-family=\"Helvetica,sans-Serif\" font-size=\"14.00\" text-anchor=\"middle\" x=\"113.5\" y=\"-585.8\"> 02.17 and 10.19</text>\n",
       "</g>\n",
       "<!-- B -->\n",
       "<g class=\"node\" id=\"node2\"><title>B</title>\n",
       "<polygon fill=\"none\" points=\"227,-489 0,-489 0,-262 227,-262 227,-489\" stroke=\"black\"/>\n",
       "<text font-family=\"Helvetica,sans-Serif\" font-size=\"14.00\" text-anchor=\"middle\" x=\"113.5\" y=\"-416.8\">Patients provided with:</text>\n",
       "<text font-family=\"Helvetica,sans-Serif\" font-size=\"14.00\" text-anchor=\"middle\" x=\"113.5\" y=\"-401.8\"> Participant information sheet</text>\n",
       "<text font-family=\"Helvetica,sans-Serif\" font-size=\"14.00\" text-anchor=\"middle\" x=\"113.5\" y=\"-386.8\"> Participant job history sheet</text>\n",
       "<text font-family=\"Helvetica,sans-Serif\" font-size=\"14.00\" text-anchor=\"middle\" x=\"113.5\" y=\"-371.8\"> and enrolled at </text>\n",
       "<text font-family=\"Helvetica,sans-Serif\" font-size=\"14.00\" text-anchor=\"middle\" x=\"113.5\" y=\"-356.8\"> outpatient department attendance.</text>\n",
       "<text font-family=\"Helvetica,sans-Serif\" font-size=\"14.00\" text-anchor=\"middle\" x=\"113.5\" y=\"-341.8\"> Blood drawn and</text>\n",
       "<text font-family=\"Helvetica,sans-Serif\" font-size=\"14.00\" text-anchor=\"middle\" x=\"113.5\" y=\"-326.8\"> Case Report Form completed</text>\n",
       "</g>\n",
       "<!-- A&#45;&gt;B -->\n",
       "<g class=\"edge\" id=\"edge2\"><title>A-&gt;B</title>\n",
       "<path d=\"M113.5,-524.68C113.5,-516.326 113.5,-507.747 113.5,-499.128\" fill=\"none\" stroke=\"black\"/>\n",
       "<polygon fill=\"black\" points=\"113.5,-489.004 118,-499.004 113.5,-494.004 113.5,-499.004 113.5,-499.004 113.5,-499.004 113.5,-494.004 109,-499.005 113.5,-489.004 113.5,-489.004\" stroke=\"black\"/>\n",
       "</g>\n",
       "<!-- C -->\n",
       "<g class=\"node\" id=\"node3\"><title>C</title>\n",
       "<polygon fill=\"none\" points=\"400,-453 245,-453 245,-298 400,-298 400,-453\" stroke=\"black\"/>\n",
       "<text font-family=\"Helvetica,sans-Serif\" font-size=\"14.00\" text-anchor=\"middle\" x=\"322.5\" y=\"-431.8\">Exclusion criteria:</text>\n",
       "<text font-family=\"Helvetica,sans-Serif\" font-size=\"14.00\" text-anchor=\"middle\" x=\"322.5\" y=\"-416.8\"> Unable to consent</text>\n",
       "<text font-family=\"Helvetica,sans-Serif\" font-size=\"14.00\" text-anchor=\"middle\" x=\"322.5\" y=\"-401.8\"> Ever worked outside</text>\n",
       "<text font-family=\"Helvetica,sans-Serif\" font-size=\"14.00\" text-anchor=\"middle\" x=\"322.5\" y=\"-386.8\"> the UK</text>\n",
       "<text font-family=\"Helvetica,sans-Serif\" font-size=\"14.00\" text-anchor=\"middle\" x=\"322.5\" y=\"-371.8\">(does not include work </text>\n",
       "<text font-family=\"Helvetica,sans-Serif\" font-size=\"14.00\" text-anchor=\"middle\" x=\"322.5\" y=\"-356.8\"> outside the UK </text>\n",
       "<text font-family=\"Helvetica,sans-Serif\" font-size=\"14.00\" text-anchor=\"middle\" x=\"322.5\" y=\"-341.8\"> by members of the </text>\n",
       "<text font-family=\"Helvetica,sans-Serif\" font-size=\"14.00\" text-anchor=\"middle\" x=\"322.5\" y=\"-326.8\"> armed forces</text>\n",
       "<text font-family=\"Helvetica,sans-Serif\" font-size=\"14.00\" text-anchor=\"middle\" x=\"322.5\" y=\"-311.8\"> or merchant navy)</text>\n",
       "</g>\n",
       "<!-- B&#45;&gt;C -->\n",
       "<g class=\"edge\" id=\"edge1\"><title>B-&gt;C</title>\n",
       "<path d=\"M227.389,-375.5C229.844,-375.5 232.3,-375.5 234.755,-375.5\" fill=\"none\" stroke=\"black\"/>\n",
       "<polygon fill=\"black\" points=\"244.851,-375.5 234.851,-380 239.851,-375.5 234.851,-375.5 234.851,-375.5 234.851,-375.5 239.851,-375.5 234.85,-371 244.851,-375.5 244.851,-375.5\" stroke=\"black\"/>\n",
       "</g>\n",
       "<!-- D -->\n",
       "<g class=\"node\" id=\"node4\"><title>D</title>\n",
       "<polygon fill=\"none\" points=\"215,-226 12,-226 12,-23 215,-23 215,-226\" stroke=\"black\"/>\n",
       "<text font-family=\"Helvetica,sans-Serif\" font-size=\"14.00\" text-anchor=\"middle\" x=\"113.5\" y=\"-128.3\">Central research team updated</text>\n",
       "<text font-family=\"Helvetica,sans-Serif\" font-size=\"14.00\" text-anchor=\"middle\" x=\"113.5\" y=\"-113.3\"> monthly</text>\n",
       "</g>\n",
       "<!-- B&#45;&gt;D -->\n",
       "<g class=\"edge\" id=\"edge3\"><title>B-&gt;D</title>\n",
       "<path d=\"M113.5,-261.657C113.5,-253.24 113.5,-244.753 113.5,-236.349\" fill=\"none\" stroke=\"black\"/>\n",
       "<polygon fill=\"black\" points=\"113.5,-226.15 118,-236.15 113.5,-231.15 113.5,-236.15 113.5,-236.15 113.5,-236.15 113.5,-231.15 109,-236.15 113.5,-226.15 113.5,-226.15\" stroke=\"black\"/>\n",
       "</g>\n",
       "</g>\n",
       "</svg>"
      ],
      "text/plain": [
       "<IPython.core.display.SVG object>"
      ]
     },
     "execution_count": 8,
     "metadata": {},
     "output_type": "execute_result"
    }
   ],
   "source": [
    "g1.subgraph(g2)\n",
    "g1.edge('A', 'B')\n",
    "# SVG(g1.render('img/g1'))\n",
    "\n",
    "g1.subgraph(g3)\n",
    "g1.edge('B', 'D')\n",
    "SVG(g1.render('img/case_recruitment'))"
   ]
  },
  {
   "cell_type": "code",
   "execution_count": 9,
   "metadata": {},
   "outputs": [
    {
     "data": {
      "text/plain": [
       "'img/g4.svg'"
      ]
     },
     "execution_count": 9,
     "metadata": {},
     "output_type": "execute_result"
    }
   ],
   "source": [
    "g4 = add_edges(\n",
    "    add_nodes(digraph(), [\n",
    "        ('A', {'label': inclusion_criteria2}),\n",
    "        ('B', {'label': clinic_selection}),\n",
    "        ('C', {'label': clinic_selection2}),\n",
    "\n",
    "    ]),\n",
    "    [\n",
    "      (('A', 'B'), {'label': ''}),  \n",
    "      (('B', 'C'), {'label': ''}),  \n",
    "\n",
    "      ]\n",
    "\n",
    ")\n",
    "\n",
    "g4 = apply_styles(g4, styles3)\n",
    "g4.render('img/g4')\n",
    "# SVG('img/g4.svg')"
   ]
  },
  {
   "cell_type": "code",
   "execution_count": 10,
   "metadata": {},
   "outputs": [
    {
     "data": {
      "text/plain": [
       "'img/g5.svg'"
      ]
     },
     "execution_count": 10,
     "metadata": {},
     "output_type": "execute_result"
    }
   ],
   "source": [
    "g5 = add_edges(\n",
    "    add_nodes(digraph(), [\n",
    "        ('D', {'label': recruitment_process}),\n",
    "        ('E', {'label': exclusion_criteria2}),\n",
    "    ]),\n",
    "    [\n",
    "       (('D', 'E'), {'label': ''}),  \n",
    "      ]\n",
    "\n",
    ")\n",
    "\n",
    "g5 = apply_styles(g5, styles2)\n",
    "g5.render('img/g5')\n",
    "# SVG('img/g5.svg')"
   ]
  },
  {
   "cell_type": "code",
   "execution_count": 11,
   "metadata": {},
   "outputs": [
    {
     "data": {
      "text/plain": [
       "'img/g6.svg'"
      ]
     },
     "execution_count": 11,
     "metadata": {},
     "output_type": "execute_result"
    }
   ],
   "source": [
    "g6 = add_edges(\n",
    "    add_nodes(digraph(), [\n",
    "        ('F', {'label': monthly_update}),\n",
    "      # ('B', {'label': 'Node B'}),\n",
    "    ]),\n",
    "    [\n",
    "      # (('A', 'B'), {'label': 'Edge 1'}),  \n",
    "      ]\n",
    "\n",
    ")\n",
    "\n",
    "g6 = apply_styles(g6, styles3)\n",
    "g6.render('img/g6')\n",
    "#SVG('img/g6.svg')"
   ]
  },
  {
   "cell_type": "code",
   "execution_count": 12,
   "metadata": {},
   "outputs": [
    {
     "data": {
      "image/svg+xml": [
       "<svg height=\"1226pt\" viewBox=\"0.00 0.00 431.50 1226.00\" width=\"432pt\" xmlns=\"http://www.w3.org/2000/svg\" xmlns:xlink=\"http://www.w3.org/1999/xlink\">\n",
       "<g class=\"graph\" id=\"graph0\" transform=\"scale(1 1) rotate(0) translate(4 1222)\">\n",
       "<title>%3</title>\n",
       "<polygon fill=\"white\" points=\"-4,4 -4,-1222 427.5,-1222 427.5,4 -4,4\" stroke=\"none\"/>\n",
       "<text font-family=\"Times,serif\" font-size=\"14.00\" text-anchor=\"middle\" x=\"211.75\" y=\"-7.8\">Control recruitment</text>\n",
       "<!-- A -->\n",
       "<g class=\"node\" id=\"node1\"><title>A</title>\n",
       "<polygon fill=\"none\" points=\"211.5,-1218 55.5,-1218 55.5,-1062 211.5,-1062 211.5,-1218\" stroke=\"black\"/>\n",
       "<text font-family=\"Helvetica,sans-Serif\" font-size=\"14.00\" text-anchor=\"middle\" x=\"133.5\" y=\"-1166.3\">Inclusion criteria:</text>\n",
       "<text font-family=\"Helvetica,sans-Serif\" font-size=\"14.00\" text-anchor=\"middle\" x=\"133.5\" y=\"-1151.3\"> Male </text>\n",
       "<text font-family=\"Helvetica,sans-Serif\" font-size=\"14.00\" text-anchor=\"middle\" x=\"133.5\" y=\"-1136.3\"> Outpatient department</text>\n",
       "<text font-family=\"Helvetica,sans-Serif\" font-size=\"14.00\" text-anchor=\"middle\" x=\"133.5\" y=\"-1121.3\"> attendee between</text>\n",
       "<text font-family=\"Helvetica,sans-Serif\" font-size=\"14.00\" text-anchor=\"middle\" x=\"133.5\" y=\"-1106.3\"> 02.17 and 10.19</text>\n",
       "</g>\n",
       "<!-- B -->\n",
       "<g class=\"node\" id=\"node2\"><title>B</title>\n",
       "<polygon fill=\"none\" points=\"267,-1026 0,-1026 0,-759 267,-759 267,-1026\" stroke=\"black\"/>\n",
       "<text font-family=\"Helvetica,sans-Serif\" font-size=\"14.00\" text-anchor=\"middle\" x=\"133.5\" y=\"-896.3\">A control clinic is randomly selected</text>\n",
       "<text font-family=\"Helvetica,sans-Serif\" font-size=\"14.00\" text-anchor=\"middle\" x=\"133.5\" y=\"-881.3\"> (from all clinics, not limited to respiratory)</text>\n",
       "</g>\n",
       "<!-- A&#45;&gt;B -->\n",
       "<g class=\"edge\" id=\"edge1\"><title>A-&gt;B</title>\n",
       "<path d=\"M133.5,-1062C133.5,-1053.62 133.5,-1044.91 133.5,-1036.06\" fill=\"none\" stroke=\"black\"/>\n",
       "<polygon fill=\"black\" points=\"133.5,-1026.02 138,-1036.02 133.5,-1031.02 133.5,-1036.02 133.5,-1036.02 133.5,-1036.02 133.5,-1031.02 129,-1036.02 133.5,-1026.02 133.5,-1026.02\" stroke=\"black\"/>\n",
       "</g>\n",
       "<!-- C -->\n",
       "<g class=\"node\" id=\"node3\"><title>C</title>\n",
       "<polygon fill=\"none\" points=\"232.5,-723 34.5,-723 34.5,-525 232.5,-525 232.5,-723\" stroke=\"black\"/>\n",
       "<text font-family=\"Helvetica,sans-Serif\" font-size=\"14.00\" text-anchor=\"middle\" x=\"133.5\" y=\"-642.8\">Local team</text>\n",
       "<text font-family=\"Helvetica,sans-Serif\" font-size=\"14.00\" text-anchor=\"middle\" x=\"133.5\" y=\"-627.8\"> write to clinic lead clinician</text>\n",
       "<text font-family=\"Helvetica,sans-Serif\" font-size=\"14.00\" text-anchor=\"middle\" x=\"133.5\" y=\"-612.8\"> to obtain permission to recruit</text>\n",
       "<text font-family=\"Helvetica,sans-Serif\" font-size=\"14.00\" text-anchor=\"middle\" x=\"133.5\" y=\"-597.8\"> from clinic</text>\n",
       "</g>\n",
       "<!-- B&#45;&gt;C -->\n",
       "<g class=\"edge\" id=\"edge2\"><title>B-&gt;C</title>\n",
       "<path d=\"M133.5,-758.64C133.5,-750.113 133.5,-741.583 133.5,-733.191\" fill=\"none\" stroke=\"black\"/>\n",
       "<polygon fill=\"black\" points=\"133.5,-723.031 138,-733.031 133.5,-728.031 133.5,-733.031 133.5,-733.031 133.5,-733.031 133.5,-728.031 129,-733.032 133.5,-723.031 133.5,-723.031\" stroke=\"black\"/>\n",
       "</g>\n",
       "<!-- D -->\n",
       "<g class=\"node\" id=\"node4\"><title>D</title>\n",
       "<polygon fill=\"none\" points=\"247,-489 20,-489 20,-262 247,-262 247,-489\" stroke=\"black\"/>\n",
       "<text font-family=\"Helvetica,sans-Serif\" font-size=\"14.00\" text-anchor=\"middle\" x=\"133.5\" y=\"-416.8\">Patients provided with:</text>\n",
       "<text font-family=\"Helvetica,sans-Serif\" font-size=\"14.00\" text-anchor=\"middle\" x=\"133.5\" y=\"-401.8\"> Participant information sheet</text>\n",
       "<text font-family=\"Helvetica,sans-Serif\" font-size=\"14.00\" text-anchor=\"middle\" x=\"133.5\" y=\"-386.8\"> Participant job history sheet</text>\n",
       "<text font-family=\"Helvetica,sans-Serif\" font-size=\"14.00\" text-anchor=\"middle\" x=\"133.5\" y=\"-371.8\"> and enrolled at </text>\n",
       "<text font-family=\"Helvetica,sans-Serif\" font-size=\"14.00\" text-anchor=\"middle\" x=\"133.5\" y=\"-356.8\"> outpatient department attendance.</text>\n",
       "<text font-family=\"Helvetica,sans-Serif\" font-size=\"14.00\" text-anchor=\"middle\" x=\"133.5\" y=\"-341.8\"> Blood drawn and</text>\n",
       "<text font-family=\"Helvetica,sans-Serif\" font-size=\"14.00\" text-anchor=\"middle\" x=\"133.5\" y=\"-326.8\"> Case Report Form completed</text>\n",
       "</g>\n",
       "<!-- C&#45;&gt;D -->\n",
       "<g class=\"edge\" id=\"edge4\"><title>C-&gt;D</title>\n",
       "<path d=\"M133.5,-524.868C133.5,-516.473 133.5,-507.915 133.5,-499.36\" fill=\"none\" stroke=\"black\"/>\n",
       "<polygon fill=\"black\" points=\"133.5,-489.328 138,-499.328 133.5,-494.328 133.5,-499.328 133.5,-499.328 133.5,-499.328 133.5,-494.328 129,-499.328 133.5,-489.328 133.5,-489.328\" stroke=\"black\"/>\n",
       "</g>\n",
       "<!-- E -->\n",
       "<g class=\"node\" id=\"node5\"><title>E</title>\n",
       "<polygon fill=\"none\" points=\"423.5,-454.5 265.5,-454.5 265.5,-296.5 423.5,-296.5 423.5,-454.5\" stroke=\"black\"/>\n",
       "<text font-family=\"Helvetica,sans-Serif\" font-size=\"14.00\" text-anchor=\"middle\" x=\"344.5\" y=\"-439.3\">Exclusion criteria:</text>\n",
       "<text font-family=\"Helvetica,sans-Serif\" font-size=\"14.00\" text-anchor=\"middle\" x=\"344.5\" y=\"-424.3\"> Unable to consent</text>\n",
       "<text font-family=\"Helvetica,sans-Serif\" font-size=\"14.00\" text-anchor=\"middle\" x=\"344.5\" y=\"-409.3\"> Ever worked outside</text>\n",
       "<text font-family=\"Helvetica,sans-Serif\" font-size=\"14.00\" text-anchor=\"middle\" x=\"344.5\" y=\"-394.3\"> the UK</text>\n",
       "<text font-family=\"Helvetica,sans-Serif\" font-size=\"14.00\" text-anchor=\"middle\" x=\"344.5\" y=\"-379.3\">(does not include work </text>\n",
       "<text font-family=\"Helvetica,sans-Serif\" font-size=\"14.00\" text-anchor=\"middle\" x=\"344.5\" y=\"-364.3\"> outside the UK </text>\n",
       "<text font-family=\"Helvetica,sans-Serif\" font-size=\"14.00\" text-anchor=\"middle\" x=\"344.5\" y=\"-349.3\"> by members of the </text>\n",
       "<text font-family=\"Helvetica,sans-Serif\" font-size=\"14.00\" text-anchor=\"middle\" x=\"344.5\" y=\"-334.3\"> armed forces</text>\n",
       "<text font-family=\"Helvetica,sans-Serif\" font-size=\"14.00\" text-anchor=\"middle\" x=\"344.5\" y=\"-319.3\"> or merchant navy</text>\n",
       "<text font-family=\"Helvetica,sans-Serif\" font-size=\"14.00\" text-anchor=\"middle\" x=\"344.5\" y=\"-304.3\"> Diagnosis of IPF)</text>\n",
       "</g>\n",
       "<!-- D&#45;&gt;E -->\n",
       "<g class=\"edge\" id=\"edge3\"><title>D-&gt;E</title>\n",
       "<path d=\"M247.242,-375.5C249.902,-375.5 252.561,-375.5 255.22,-375.5\" fill=\"none\" stroke=\"black\"/>\n",
       "<polygon fill=\"black\" points=\"265.478,-375.5 255.478,-380 260.478,-375.5 255.478,-375.5 255.478,-375.5 255.478,-375.5 260.478,-375.5 255.478,-371 265.478,-375.5 265.478,-375.5\" stroke=\"black\"/>\n",
       "</g>\n",
       "<!-- F -->\n",
       "<g class=\"node\" id=\"node6\"><title>F</title>\n",
       "<polygon fill=\"none\" points=\"235,-226 32,-226 32,-23 235,-23 235,-226\" stroke=\"black\"/>\n",
       "<text font-family=\"Helvetica,sans-Serif\" font-size=\"14.00\" text-anchor=\"middle\" x=\"133.5\" y=\"-128.3\">Central research team updated</text>\n",
       "<text font-family=\"Helvetica,sans-Serif\" font-size=\"14.00\" text-anchor=\"middle\" x=\"133.5\" y=\"-113.3\"> monthly</text>\n",
       "</g>\n",
       "<!-- D&#45;&gt;F -->\n",
       "<g class=\"edge\" id=\"edge5\"><title>D-&gt;F</title>\n",
       "<path d=\"M133.5,-261.657C133.5,-253.24 133.5,-244.753 133.5,-236.349\" fill=\"none\" stroke=\"black\"/>\n",
       "<polygon fill=\"black\" points=\"133.5,-226.15 138,-236.15 133.5,-231.15 133.5,-236.15 133.5,-236.15 133.5,-236.15 133.5,-231.15 129,-236.15 133.5,-226.15 133.5,-226.15\" stroke=\"black\"/>\n",
       "</g>\n",
       "</g>\n",
       "</svg>"
      ],
      "text/plain": [
       "<IPython.core.display.SVG object>"
      ]
     },
     "execution_count": 12,
     "metadata": {},
     "output_type": "execute_result"
    }
   ],
   "source": [
    "g4.subgraph(g5)\n",
    "g4.edge('C', 'D')\n",
    "#SVG(g4.render('img/g4'))\n",
    "\n",
    "g4.subgraph(g6)\n",
    "g4.edge('D', 'F')\n",
    "SVG(g4.render('img/control_recruitement'))\n",
    "\n"
   ]
  },
  {
   "cell_type": "code",
   "execution_count": null,
   "metadata": {
    "collapsed": true
   },
   "outputs": [],
   "source": []
  }
 ],
 "metadata": {
  "kernelspec": {
   "display_name": "Python 3",
   "language": "python",
   "name": "python3"
  },
  "language_info": {
   "codemirror_mode": {
    "name": "ipython",
    "version": 3
   },
   "file_extension": ".py",
   "mimetype": "text/x-python",
   "name": "python",
   "nbconvert_exporter": "python",
   "pygments_lexer": "ipython3",
   "version": "3.5.2"
  }
 },
 "nbformat": 4,
 "nbformat_minor": 2
}
