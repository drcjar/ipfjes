{
 "cells": [
  {
   "cell_type": "code",
   "execution_count": 1,
   "metadata": {
    "collapsed": true
   },
   "outputs": [],
   "source": [
    "from pdfminer.pdfinterp import PDFResourceManager, PDFPageInterpreter\n",
    "from pdfminer.converter import TextConverter\n",
    "from pdfminer.layout import LAParams\n",
    "from pdfminer.pdfpage import PDFPage\n",
    "from cStringIO import StringIO\n",
    "import re\n",
    "import xlrd\n",
    "import pandas as pd"
   ]
  },
  {
   "cell_type": "code",
   "execution_count": 2,
   "metadata": {
    "collapsed": false
   },
   "outputs": [],
   "source": [
    "def convert_pdf_to_txt(path):\n",
    "    '''\n",
    "    converts a pdf to text using pdfminer\n",
    "    '''\n",
    "    rsrcmgr = PDFResourceManager()\n",
    "    retstr = StringIO()\n",
    "    codec = 'utf-8'\n",
    "    laparams = LAParams()\n",
    "    device = TextConverter(rsrcmgr, retstr, codec=codec, laparams=laparams)\n",
    "    fp = file(path, 'rb')\n",
    "    interpreter = PDFPageInterpreter(rsrcmgr, device)\n",
    "    password = \"\"\n",
    "    maxpages = 0\n",
    "    caching = True\n",
    "    pagenos=set()\n",
    "\n",
    "    for page in PDFPage.get_pages(fp, pagenos, maxpages=maxpages, password=password,caching=caching, check_extractable=True):\n",
    "        interpreter.process_page(page)\n",
    "\n",
    "    text = retstr.getvalue()\n",
    "\n",
    "    fp.close()\n",
    "    device.close()\n",
    "    retstr.close()\n",
    "    return text"
   ]
  },
  {
   "cell_type": "code",
   "execution_count": 3,
   "metadata": {
    "collapsed": true
   },
   "outputs": [],
   "source": [
    "def get_soc_codes():\n",
    "    '''\n",
    "    returns a sorted list of soc_codes from ons data file\n",
    "    '''\n",
    "    df = pd.read_excel('../data/soc2000index_tcm77-179123.xls', sheetname=1 ) \n",
    "    soc_codes = df.SOC2000.unique().tolist()\n",
    "    soc_codes.sort()\n",
    "    soc_codes.remove( u'}}}}') # remove as not a soc code (used to help look up)\n",
    "    return soc_codes"
   ]
  },
  {
   "cell_type": "code",
   "execution_count": 4,
   "metadata": {
    "collapsed": true
   },
   "outputs": [],
   "source": [
    "def clean_text(text):\n",
    "    \"\"\"\n",
    "    clean the text\n",
    "    \"\"\"\n",
    "    text = text.replace('Standard Occupational Classification 2000 Volume 1','')\n",
    "    text = text.replace('\\xe2\\x80\\xa2','')\n",
    "    text = text.replace('\\ncaf\\xc3\\xa9s','')\n",
    "    text = text.replace('\\xc3\\xa8', 'e')\n",
    "    text = text.replace('\\xc3\\xa7', 'c')\n",
    "    text = text.replace('(cid:149)','')\n",
    "    return text"
   ]
  },
  {
   "cell_type": "code",
   "execution_count": 5,
   "metadata": {
    "collapsed": true
   },
   "outputs": [],
   "source": [
    "def clean_desc(string):\n",
    "    \"\"\"\n",
    "    clean soc descriptor strings\n",
    "    \"\"\"\n",
    "    match = re.search(r'\\s[0-9]{2,3}.*9', string, re.DOTALL)\n",
    "    if match:\n",
    "        string = re.sub(match.group(),'', string)\n",
    "    return string"
   ]
  },
  {
   "cell_type": "code",
   "execution_count": 6,
   "metadata": {
    "collapsed": true
   },
   "outputs": [],
   "source": [
    "def make_soc_desc_lookup(text, soc_codes):\n",
    "    \"\"\"\n",
    "    make a dictionary from the text {soc_code:description of the job}\n",
    "    \"\"\"\n",
    "    soc_desc = dict()\n",
    "    for i, item in enumerate(soc_codes):\n",
    "        if i < (len(soc_codes)-1):\n",
    "            a = text.rfind(str(eval(soc_codes[i]))) # to avoid hitting index\n",
    "            b = text.rfind(str(eval(soc_codes[i+1])))\n",
    "            soc_desc[soc_codes[i]] = text[a:b]\n",
    "        else:\n",
    "            a = text.rfind(str(eval(soc_codes[i]))) # to avoid hitting index\n",
    "            soc_desc[soc_codes[i]] = text[a:]\n",
    "    return soc_desc"
   ]
  },
  {
   "cell_type": "code",
   "execution_count": 7,
   "metadata": {
    "collapsed": true
   },
   "outputs": [],
   "source": [
    "def soc_descriptor(soc_code):\n",
    "    \"\"\"\n",
    "    return a description for a soc code\n",
    "    \"\"\"\n",
    "    desc = soc_desc.get(soc_code)\n",
    "    if desc:\n",
    "        print(desc)\n",
    "    else:\n",
    "        print ('valid soc_codes are {0}'.format(soc_desc.keys()))\n",
    "    return desc"
   ]
  },
  {
   "cell_type": "code",
   "execution_count": 8,
   "metadata": {
    "collapsed": false
   },
   "outputs": [],
   "source": [
    "def main():\n",
    "    \"\"\"\n",
    "    get a sorted list of soc codes, get the text of the soc code descriptions from a pdf,\n",
    "    make a clean(ish) dict lookup\n",
    "    \"\"\"\n",
    "    soc_codes = get_soc_codes()\n",
    "    \n",
    "    text = convert_pdf_to_txt(\"../data/soc2000/single-pages-output-cropped.pdf\")\n",
    "    # this was our third attempt at parsing the text from the pdf!\n",
    "    # pdf has two column layout\n",
    "    # success achieved following https://stackoverflow.com/questions/29319533/convert-pdf-with-columns-to-text\n",
    "    #\n",
    "    #  1. gs     -o left-sections.pdf     -sDEVICE=pdfwrite     -g3000x8500     -c \"<</PageOffset [0 0]>> setpagedevice\"     -f soc2000vol1v5_tcm77-179121.pdf  \n",
    "    #  2. gs     -o right-sections.pdf     -sDEVICE=pdfwrite     -g3000x8500     -c \"<</PageOffset [-300 0]>> setpagedevice\"     -f soc2000vol1v5_tcm77-179121.pdf \n",
    "    #  3. use krop to trim junk from edges of pdf\n",
    "    #  4. pdftk   A=right-sections.pdf   B=left-sections.pdf shuffle B A   output single-pages-output.pdf\n",
    "    #\n",
    "    # text = convert_pdf_to_txt(\"../data/soc2000/soc2000vol1v5_tcm77-179121.pdf\")\n",
    "    # with open('../data/soc2000/soc2000-layout.txt', 'r') as myfile:\n",
    "    #    text = myfile.read() # using text file prepared with pdftotext -layout\n",
    "    \n",
    "    text = clean_text(text)\n",
    "    soc_desc = make_soc_desc_lookup(text, soc_codes)\n",
    "    #for i, item in enumerate(soc_desc):\n",
    "    #    soc_desc[item] = clean_desc(soc_desc[item]) # currently broken\n",
    "    \n",
    "    return soc_codes, text, soc_desc"
   ]
  },
  {
   "cell_type": "code",
   "execution_count": 9,
   "metadata": {
    "collapsed": false
   },
   "outputs": [],
   "source": [
    "def short_desc_lookup(soc_code):\n",
    "    \"\"\"\n",
    "    extract short desc for a soc code\n",
    "    \"\"\"\n",
    "    string = soc_desc[soc_code]\n",
    "    a = string.find(soc_code) \n",
    "    b = string.find('TYPICAL ENTRY ROUTES AND\\nASSOCIATED QUALIFICATIONS')\n",
    "    return string[a:b]"
   ]
  },
  {
   "cell_type": "code",
   "execution_count": 47,
   "metadata": {
    "collapsed": true
   },
   "outputs": [],
   "source": [
    "def tasks_lookup(soc_code):\n",
    "    \"\"\"\n",
    "    extract tasks for a soc code\n",
    "    \"\"\"\n",
    "    string = soc_desc[soc_code]\n",
    "    a = string.find('TASKS') \n",
    "    b = string.find('RELATED JOB TITLES')\n",
    "    string = string[a:b].replace('TASKS','')\n",
    "    string = string.strip()\n",
    "    string = 'TASKS\\n\\n' + string + '\\n\\n'\n",
    "    return string"
   ]
  },
  {
   "cell_type": "code",
   "execution_count": 11,
   "metadata": {
    "collapsed": true
   },
   "outputs": [],
   "source": [
    "def entry_lookup(soc_code):\n",
    "    \"\"\"\n",
    "    extract entry route for a soc code\n",
    "    \"\"\"\n",
    "    string = soc_desc[soc_code]\n",
    "    a = string.find('TYPICAL ENTRY') \n",
    "    b = string.find('TASKS')\n",
    "    string = string[a:b].replace('TYPICAL ENTRY ROUTES AND\\nASSOCIATED QUALIFICATIONS\\n\\n','')\n",
    "    string = string.strip()\n",
    "    string = 'TYPICAL ENTRY ROUTES AND\\nASSOCIATED QUALIFICATIONS\\n\\n' + string + '\\n\\n'\n",
    "    return string"
   ]
  },
  {
   "cell_type": "code",
   "execution_count": 50,
   "metadata": {
    "collapsed": false
   },
   "outputs": [],
   "source": [
    "def related_lookup(soc_code):\n",
    "    \"\"\"\n",
    "    extract related jobs for a soc code\n",
    "    \"\"\"\n",
    "    string = soc_desc[soc_code]\n",
    "    a = string.find('RELATED JOB TITLES') \n",
    "    b = string.find('\\x0c\\x0c')\n",
    "    string = string[a:b].replace('RELATED JOB TITLES\\n\\n','')\n",
    "    string = string.strip()\n",
    "    string = 'RELATED JOB TITLES\\n\\n' + string + '\\n\\n'\n",
    "    return string"
   ]
  },
  {
   "cell_type": "code",
   "execution_count": 51,
   "metadata": {
    "collapsed": false
   },
   "outputs": [],
   "source": [
    "soc_codes, text, soc_desc = main()"
   ]
  },
  {
   "cell_type": "code",
   "execution_count": 14,
   "metadata": {
    "collapsed": false,
    "scrolled": true
   },
   "outputs": [],
   "source": [
    "# uncomment and add tests to check all\n",
    "# standard format is 4 digit code, job title, typical entry routes and \n",
    "# qualifications, tasks, related job titles\n",
    "# can use headings to make more structured\n",
    "#\n",
    "#for soc_code in soc_codes:\n",
    "#    soc_descriptor(soc_code)"
   ]
  },
  {
   "cell_type": "code",
   "execution_count": 27,
   "metadata": {
    "collapsed": true
   },
   "outputs": [],
   "source": [
    "df = pd.read_excel('../data/soc2000index_tcm77-179123.xls', sheetname=1 ) \n"
   ]
  },
  {
   "cell_type": "code",
   "execution_count": 28,
   "metadata": {
    "collapsed": false
   },
   "outputs": [],
   "source": [
    "df = df[df['SOC2000'].isin(soc_codes)]"
   ]
  },
  {
   "cell_type": "code",
   "execution_count": 29,
   "metadata": {
    "collapsed": false
   },
   "outputs": [],
   "source": [
    "df['short_desc'] = df['SOC2000'].map(lambda x: short_desc_lookup(x))\n",
    "df['tasks'] = df['SOC2000'].map(lambda x: tasks_lookup(x))\n",
    "df['entry'] = df['SOC2000'].map(lambda x: entry_lookup(x))\n",
    "df['related'] = df['SOC2000'].map(lambda x: related_lookup(x))"
   ]
  },
  {
   "cell_type": "code",
   "execution_count": 30,
   "metadata": {
    "collapsed": false
   },
   "outputs": [],
   "source": [
    "df = df[['SOC','SOC2000','INDEXOCC', 'short_desc', 'entry', 'tasks', 'related']]\n",
    "df.entry = df.entry.str.replace('TYPICAL ENTRY ROUTES AND\\nASSOCIATED QUALIFICATIONS\\n\\n','')\n",
    "df.tasks = df.tasks.str.replace('TASKS','')\n",
    "df.tasks = df.tasks.str.strip()\n",
    "df.related = df.related.str.replace('RELATED JOB TITLES\\n\\n','')"
   ]
  },
  {
   "cell_type": "code",
   "execution_count": 31,
   "metadata": {
    "collapsed": false
   },
   "outputs": [
    {
     "data": {
      "text/html": [
       "<div>\n",
       "<table border=\"1\" class=\"dataframe\">\n",
       "  <thead>\n",
       "    <tr style=\"text-align: right;\">\n",
       "      <th></th>\n",
       "      <th>SOC</th>\n",
       "      <th>SOC2000</th>\n",
       "      <th>INDEXOCC</th>\n",
       "      <th>short_desc</th>\n",
       "      <th>entry</th>\n",
       "      <th>tasks</th>\n",
       "      <th>related</th>\n",
       "    </tr>\n",
       "  </thead>\n",
       "  <tbody>\n",
       "    <tr>\n",
       "      <th>3424</th>\n",
       "      <td>570</td>\n",
       "      <td>5315</td>\n",
       "      <td>Carpenter</td>\n",
       "      <td>5315 CARPENTERS AND JOINERS\\n\\nCarpenters and ...</td>\n",
       "      <td>There are no formal academic entry requirement...</td>\n",
       "      <td>examines  drawings  and  specifications  to\\nd...</td>\n",
       "      <td>Boat builder\\nBuilder's joiner\\nCarpenter\\nCar...</td>\n",
       "    </tr>\n",
       "    <tr>\n",
       "      <th>3425</th>\n",
       "      <td>570</td>\n",
       "      <td>5315</td>\n",
       "      <td>Carpenter and joiner</td>\n",
       "      <td>5315 CARPENTERS AND JOINERS\\n\\nCarpenters and ...</td>\n",
       "      <td>There are no formal academic entry requirement...</td>\n",
       "      <td>examines  drawings  and  specifications  to\\nd...</td>\n",
       "      <td>Boat builder\\nBuilder's joiner\\nCarpenter\\nCar...</td>\n",
       "    </tr>\n",
       "    <tr>\n",
       "      <th>3426</th>\n",
       "      <td>599</td>\n",
       "      <td>5315</td>\n",
       "      <td>Carpenter-diver</td>\n",
       "      <td>5315 CARPENTERS AND JOINERS\\n\\nCarpenters and ...</td>\n",
       "      <td>There are no formal academic entry requirement...</td>\n",
       "      <td>examines  drawings  and  specifications  to\\nd...</td>\n",
       "      <td>Boat builder\\nBuilder's joiner\\nCarpenter\\nCar...</td>\n",
       "    </tr>\n",
       "  </tbody>\n",
       "</table>\n",
       "</div>"
      ],
      "text/plain": [
       "      SOC SOC2000              INDEXOCC  \\\n",
       "3424  570    5315             Carpenter   \n",
       "3425  570    5315  Carpenter and joiner   \n",
       "3426  599    5315       Carpenter-diver   \n",
       "\n",
       "                                             short_desc  \\\n",
       "3424  5315 CARPENTERS AND JOINERS\\n\\nCarpenters and ...   \n",
       "3425  5315 CARPENTERS AND JOINERS\\n\\nCarpenters and ...   \n",
       "3426  5315 CARPENTERS AND JOINERS\\n\\nCarpenters and ...   \n",
       "\n",
       "                                                  entry  \\\n",
       "3424  There are no formal academic entry requirement...   \n",
       "3425  There are no formal academic entry requirement...   \n",
       "3426  There are no formal academic entry requirement...   \n",
       "\n",
       "                                                  tasks  \\\n",
       "3424  examines  drawings  and  specifications  to\\nd...   \n",
       "3425  examines  drawings  and  specifications  to\\nd...   \n",
       "3426  examines  drawings  and  specifications  to\\nd...   \n",
       "\n",
       "                                                related  \n",
       "3424  Boat builder\\nBuilder's joiner\\nCarpenter\\nCar...  \n",
       "3425  Boat builder\\nBuilder's joiner\\nCarpenter\\nCar...  \n",
       "3426  Boat builder\\nBuilder's joiner\\nCarpenter\\nCar...  "
      ]
     },
     "execution_count": 31,
     "metadata": {},
     "output_type": "execute_result"
    }
   ],
   "source": [
    "# ?http://blog.yhat.com/posts/fuzzy-matching-with-yhat.html\n",
    "\n",
    "df[df.INDEXOCC.str.contains('Carpenter')]"
   ]
  },
  {
   "cell_type": "code",
   "execution_count": 43,
   "metadata": {
    "collapsed": true
   },
   "outputs": [],
   "source": [
    "def lookup_soc(soc_code):\n",
    "    '''\n",
    "    prints info for a given soc2000 code\n",
    "    '''\n",
    "    print short_desc_lookup(soc_code)\n",
    "    print entry_lookup(soc_code)\n",
    "    print tasks_lookup(soc_code)\n",
    "    print related_lookup(soc_code)"
   ]
  },
  {
   "cell_type": "code",
   "execution_count": 54,
   "metadata": {
    "collapsed": false
   },
   "outputs": [
    {
     "name": "stdout",
     "output_type": "stream",
     "text": [
      "5222 TOOL MAKERS, TOOL\n",
      "\n",
      "FITTERS AND MARKERS-OUT\n",
      "\n",
      "Tool makers, tool fitters and markers-out mark out\n",
      "metal  for  machining  and  fit,  assemble  and  repair\n",
      "machine and press tools, dies, jigs, fixtures and other\n",
      "tools.\n",
      "\n",
      "\f",
      "\n",
      "TYPICAL ENTRY ROUTES AND\n",
      "ASSOCIATED QUALIFICATIONS\n",
      "\n",
      "There are no formal academic requirements although\n",
      "some  employers  may  require  GCSEs/S  grades.\n",
      "Training is usually received on-the-job. NVQs/SVQs\n",
      "at Level 2 are available.\n",
      "\n",
      "\n",
      "TASKS\n",
      "\n",
      "examines  drawings  and  specifications  to\n",
      "determine appropriate method and  sequence of\n",
      "operations;\n",
      "\n",
      " marks  out  reference  points  using  measuring\n",
      "instruments and tools such as punches, rules and\n",
      "squares;\n",
      "\n",
      " operates  hand  and  machine  tools  to  shape\n",
      "workpieces to specifications and checks accuracy\n",
      "of machining;\n",
      "\n",
      "\n",
      "\n",
      "\n",
      "\n",
      "assembles prepared parts, checks their alignment\n",
      "with micrometers, optical projectors and other\n",
      "measuring equipment and adjusts as necessary;\n",
      "\n",
      "repairs damaged or worn tools.\n",
      "\n",
      "\n",
      "RELATED JOB TITLES\n",
      "\n",
      "Die sinker (metal trades)\n",
      "Jig and tool fitter\n",
      "Marker-off (engineering)\n",
      "Tool maker (metal trades)\n",
      "Tool room fitter\n",
      "\n",
      "\n"
     ]
    }
   ],
   "source": [
    "lookup_soc('5222')"
   ]
  },
  {
   "cell_type": "code",
   "execution_count": 58,
   "metadata": {
    "collapsed": false
   },
   "outputs": [
    {
     "data": {
      "text/html": [
       "<div>\n",
       "<table border=\"1\" class=\"dataframe\">\n",
       "  <thead>\n",
       "    <tr style=\"text-align: right;\">\n",
       "      <th></th>\n",
       "      <th>SOC</th>\n",
       "      <th>SOC2000</th>\n",
       "      <th>INDEXOCC</th>\n",
       "      <th>short_desc</th>\n",
       "      <th>entry</th>\n",
       "      <th>tasks</th>\n",
       "      <th>related</th>\n",
       "    </tr>\n",
       "  </thead>\n",
       "  <tbody>\n",
       "    <tr>\n",
       "      <th>71</th>\n",
       "      <td>820</td>\n",
       "      <td>8114</td>\n",
       "      <td>Acidifier</td>\n",
       "      <td>8114 CHEMICAL AND RELATED\\n\\nPROCESS OPERATIVE...</td>\n",
       "      <td>There are no formal academic entry requirement...</td>\n",
       "      <td>loads  prescribed  quantities  of  ingredients...</td>\n",
       "      <td>Colour mixer\\nDye house operative (textile mfr...</td>\n",
       "    </tr>\n",
       "    <tr>\n",
       "      <th>566</th>\n",
       "      <td>820</td>\n",
       "      <td>8114</td>\n",
       "      <td>Annealer</td>\n",
       "      <td>8114 CHEMICAL AND RELATED\\n\\nPROCESS OPERATIVE...</td>\n",
       "      <td>There are no formal academic entry requirement...</td>\n",
       "      <td>loads  prescribed  quantities  of  ingredients...</td>\n",
       "      <td>Colour mixer\\nDye house operative (textile mfr...</td>\n",
       "    </tr>\n",
       "    <tr>\n",
       "      <th>648</th>\n",
       "      <td>506</td>\n",
       "      <td>8149</td>\n",
       "      <td>Asphalter, mastic</td>\n",
       "      <td>8149 CONSTRUCTION\\n\\nOPERATIVES NEC\\n\\nWorkers...</td>\n",
       "      <td>There are no formal academic entry requirement...</td>\n",
       "      <td>fills machine with insulating mixture, positio...</td>\n",
       "      <td>Building site foreman\\nCeiling fixer\\nPipe lay...</td>\n",
       "    </tr>\n",
       "    <tr>\n",
       "      <th>681</th>\n",
       "      <td>820</td>\n",
       "      <td>8114</td>\n",
       "      <td>Assembler, cell</td>\n",
       "      <td>8114 CHEMICAL AND RELATED\\n\\nPROCESS OPERATIVE...</td>\n",
       "      <td>There are no formal academic entry requirement...</td>\n",
       "      <td>loads  prescribed  quantities  of  ingredients...</td>\n",
       "      <td>Colour mixer\\nDye house operative (textile mfr...</td>\n",
       "    </tr>\n",
       "    <tr>\n",
       "      <th>992</th>\n",
       "      <td>820</td>\n",
       "      <td>8114</td>\n",
       "      <td>Assistant, craft</td>\n",
       "      <td>8114 CHEMICAL AND RELATED\\n\\nPROCESS OPERATIVE...</td>\n",
       "      <td>There are no formal academic entry requirement...</td>\n",
       "      <td>loads  prescribed  quantities  of  ingredients...</td>\n",
       "      <td>Colour mixer\\nDye house operative (textile mfr...</td>\n",
       "    </tr>\n",
       "  </tbody>\n",
       "</table>\n",
       "</div>"
      ],
      "text/plain": [
       "     SOC SOC2000           INDEXOCC  \\\n",
       "71   820    8114          Acidifier   \n",
       "566  820    8114           Annealer   \n",
       "648  506    8149  Asphalter, mastic   \n",
       "681  820    8114    Assembler, cell   \n",
       "992  820    8114   Assistant, craft   \n",
       "\n",
       "                                            short_desc  \\\n",
       "71   8114 CHEMICAL AND RELATED\\n\\nPROCESS OPERATIVE...   \n",
       "566  8114 CHEMICAL AND RELATED\\n\\nPROCESS OPERATIVE...   \n",
       "648  8149 CONSTRUCTION\\n\\nOPERATIVES NEC\\n\\nWorkers...   \n",
       "681  8114 CHEMICAL AND RELATED\\n\\nPROCESS OPERATIVE...   \n",
       "992  8114 CHEMICAL AND RELATED\\n\\nPROCESS OPERATIVE...   \n",
       "\n",
       "                                                 entry  \\\n",
       "71   There are no formal academic entry requirement...   \n",
       "566  There are no formal academic entry requirement...   \n",
       "648  There are no formal academic entry requirement...   \n",
       "681  There are no formal academic entry requirement...   \n",
       "992  There are no formal academic entry requirement...   \n",
       "\n",
       "                                                 tasks  \\\n",
       "71   loads  prescribed  quantities  of  ingredients...   \n",
       "566  loads  prescribed  quantities  of  ingredients...   \n",
       "648  fills machine with insulating mixture, positio...   \n",
       "681  loads  prescribed  quantities  of  ingredients...   \n",
       "992  loads  prescribed  quantities  of  ingredients...   \n",
       "\n",
       "                                               related  \n",
       "71   Colour mixer\\nDye house operative (textile mfr...  \n",
       "566  Colour mixer\\nDye house operative (textile mfr...  \n",
       "648  Building site foreman\\nCeiling fixer\\nPipe lay...  \n",
       "681  Colour mixer\\nDye house operative (textile mfr...  \n",
       "992  Colour mixer\\nDye house operative (textile mfr...  "
      ]
     },
     "execution_count": 58,
     "metadata": {},
     "output_type": "execute_result"
    }
   ],
   "source": [
    "df[df.tasks.str.contains('asbestos')].head()"
   ]
  },
  {
   "cell_type": "code",
   "execution_count": 59,
   "metadata": {
    "collapsed": false
   },
   "outputs": [
    {
     "name": "stdout",
     "output_type": "stream",
     "text": [
      "8149 CONSTRUCTION\n",
      "\n",
      "OPERATIVES NEC\n",
      "\n",
      "Workers  in  this  unit  group  operate  insulating\n",
      "equipment, fix plasterboard or dry linings to ceilings\n",
      "and  walls,  help  construct,  maintain,  repair  and\n",
      "demolish buildings and clean and resurface eroded\n",
      "stonework, and lay, join and examine pipe sections\n",
      "for drainage, gas, water or similar piping systems.\n",
      "\n",
      "\n",
      "TYPICAL ENTRY ROUTES AND\n",
      "ASSOCIATED QUALIFICATIONS\n",
      "\n",
      "There are no formal academic entry requirements.\n",
      "Training is typically provided on-the-job.  NVQs/\n",
      "SVQs  in  General  Construction  Operations  are\n",
      "available at Levels 1, 2 and 3.\n",
      "\n",
      "\n",
      "TASKS\n",
      "\n",
      "fills machine with insulating mixture, positions\n",
      "hose, drills access hole and fills cavities or coats\n",
      "surfaces to prevent loss or absorption of heat and\n",
      "provide fire protection;\n",
      "\n",
      "selects  appropriate  plasterboard  or  dry  lining\n",
      "panels, cuts them to required size and fixes them\n",
      "to ceilings and walls;\n",
      "\n",
      "\f",
      "\n",
      "\n",
      "\n",
      "\n",
      "\n",
      "\n",
      "\n",
      "\n",
      "cuts, shapes and fits wood, lays bricks and tiles,\n",
      "cleans  exterior  surfaces  of  buildings  and\n",
      "resurfaces  eroded  stone  or  brickwork,  and\n",
      "performs  other  tasks  in  the  construction,\n",
      "alteration, repair and demolition of buildings;\n",
      "\n",
      "selects  appropriate  asbestos,  clay,  concrete,\n",
      "plastic or metal pipe sections and lowers them\n",
      "into prepared trenches using hoisting equipment;\n",
      "\n",
      "joints pipe by sealing with rubber, cement, lead,\n",
      "etc., connects piping to manholes and attaches\n",
      "pipe junctions as required;\n",
      "\n",
      "tests joints with electronic test equipment or by\n",
      "filling piping with water, smoke or compressed\n",
      "air.\n",
      "\n",
      "\n",
      "RELATED JOB TITLES\n",
      "\n",
      "Building site foreman\n",
      "Ceiling fixer\n",
      "Pipe layer\n",
      "Thermal insulation engineer\n",
      "\n",
      "\n"
     ]
    }
   ],
   "source": [
    "lookup_soc('8149')"
   ]
  },
  {
   "cell_type": "code",
   "execution_count": 71,
   "metadata": {
    "collapsed": false
   },
   "outputs": [],
   "source": [
    "highpmrsoc90codes = [211, 516, 521, 532, 533, 534, 541, 570, 893, 896, 913]\n",
    "# a la peto"
   ]
  },
  {
   "cell_type": "code",
   "execution_count": 70,
   "metadata": {
    "collapsed": false
   },
   "outputs": [
    {
     "data": {
      "text/html": [
       "<div>\n",
       "<table border=\"1\" class=\"dataframe\">\n",
       "  <thead>\n",
       "    <tr style=\"text-align: right;\">\n",
       "      <th></th>\n",
       "      <th>SOC</th>\n",
       "      <th>SOC2000</th>\n",
       "      <th>INDEXOCC</th>\n",
       "      <th>short_desc</th>\n",
       "      <th>entry</th>\n",
       "      <th>tasks</th>\n",
       "      <th>related</th>\n",
       "    </tr>\n",
       "  </thead>\n",
       "  <tbody>\n",
       "    <tr>\n",
       "      <th>29</th>\n",
       "      <td>893</td>\n",
       "      <td>8124</td>\n",
       "      <td>APA</td>\n",
       "      <td>8124 ENERGY PLANT OPERATIVES\\n\\nWorkers in thi...</td>\n",
       "      <td>There are no formal academic entry requirement...</td>\n",
       "      <td>determines job requirements from switchboard\\n...</td>\n",
       "      <td>Auxiliary plant attendant\\nBoiler attendant\\n\\...</td>\n",
       "    </tr>\n",
       "    <tr>\n",
       "      <th>81</th>\n",
       "      <td>516</td>\n",
       "      <td>5223</td>\n",
       "      <td>Adjuster, brake</td>\n",
       "      <td>5223 METAL WORKING\\nPRODUCTION AND\\nMAINTENANC...</td>\n",
       "      <td>Entrants usually possess GCSEs/S grades, a GNV...</td>\n",
       "      <td>examines  drawings  and  specifications  to\\nd...</td>\n",
       "      <td>Aircraft engineer\\nAircraft fitter\\nAircraft g...</td>\n",
       "    </tr>\n",
       "    <tr>\n",
       "      <th>89</th>\n",
       "      <td>516</td>\n",
       "      <td>5223</td>\n",
       "      <td>Adjuster, machine</td>\n",
       "      <td>5223 METAL WORKING\\nPRODUCTION AND\\nMAINTENANC...</td>\n",
       "      <td>Entrants usually possess GCSEs/S grades, a GNV...</td>\n",
       "      <td>examines  drawings  and  specifications  to\\nd...</td>\n",
       "      <td>Aircraft engineer\\nAircraft fitter\\nAircraft g...</td>\n",
       "    </tr>\n",
       "    <tr>\n",
       "      <th>91</th>\n",
       "      <td>516</td>\n",
       "      <td>5223</td>\n",
       "      <td>Adjuster, spring, set</td>\n",
       "      <td>5223 METAL WORKING\\nPRODUCTION AND\\nMAINTENANC...</td>\n",
       "      <td>Entrants usually possess GCSEs/S grades, a GNV...</td>\n",
       "      <td>examines  drawings  and  specifications  to\\nd...</td>\n",
       "      <td>Aircraft engineer\\nAircraft fitter\\nAircraft g...</td>\n",
       "    </tr>\n",
       "    <tr>\n",
       "      <th>96</th>\n",
       "      <td>516</td>\n",
       "      <td>5223</td>\n",
       "      <td>Adjuster</td>\n",
       "      <td>5223 METAL WORKING\\nPRODUCTION AND\\nMAINTENANC...</td>\n",
       "      <td>Entrants usually possess GCSEs/S grades, a GNV...</td>\n",
       "      <td>examines  drawings  and  specifications  to\\nd...</td>\n",
       "      <td>Aircraft engineer\\nAircraft fitter\\nAircraft g...</td>\n",
       "    </tr>\n",
       "  </tbody>\n",
       "</table>\n",
       "</div>"
      ],
      "text/plain": [
       "    SOC SOC2000               INDEXOCC  \\\n",
       "29  893    8124                    APA   \n",
       "81  516    5223        Adjuster, brake   \n",
       "89  516    5223      Adjuster, machine   \n",
       "91  516    5223  Adjuster, spring, set   \n",
       "96  516    5223               Adjuster   \n",
       "\n",
       "                                           short_desc  \\\n",
       "29  8124 ENERGY PLANT OPERATIVES\\n\\nWorkers in thi...   \n",
       "81  5223 METAL WORKING\\nPRODUCTION AND\\nMAINTENANC...   \n",
       "89  5223 METAL WORKING\\nPRODUCTION AND\\nMAINTENANC...   \n",
       "91  5223 METAL WORKING\\nPRODUCTION AND\\nMAINTENANC...   \n",
       "96  5223 METAL WORKING\\nPRODUCTION AND\\nMAINTENANC...   \n",
       "\n",
       "                                                entry  \\\n",
       "29  There are no formal academic entry requirement...   \n",
       "81  Entrants usually possess GCSEs/S grades, a GNV...   \n",
       "89  Entrants usually possess GCSEs/S grades, a GNV...   \n",
       "91  Entrants usually possess GCSEs/S grades, a GNV...   \n",
       "96  Entrants usually possess GCSEs/S grades, a GNV...   \n",
       "\n",
       "                                                tasks  \\\n",
       "29  determines job requirements from switchboard\\n...   \n",
       "81  examines  drawings  and  specifications  to\\nd...   \n",
       "89  examines  drawings  and  specifications  to\\nd...   \n",
       "91  examines  drawings  and  specifications  to\\nd...   \n",
       "96  examines  drawings  and  specifications  to\\nd...   \n",
       "\n",
       "                                              related  \n",
       "29  Auxiliary plant attendant\\nBoiler attendant\\n\\...  \n",
       "81  Aircraft engineer\\nAircraft fitter\\nAircraft g...  \n",
       "89  Aircraft engineer\\nAircraft fitter\\nAircraft g...  \n",
       "91  Aircraft engineer\\nAircraft fitter\\nAircraft g...  \n",
       "96  Aircraft engineer\\nAircraft fitter\\nAircraft g...  "
      ]
     },
     "execution_count": 70,
     "metadata": {},
     "output_type": "execute_result"
    }
   ],
   "source": [
    "df[df.SOC.isin([str(i) for i in highpmrsoc90codes])].head()"
   ]
  },
  {
   "cell_type": "code",
   "execution_count": 67,
   "metadata": {
    "collapsed": false
   },
   "outputs": [
    {
     "data": {
      "text/plain": [
       "'[211, 516, 521, 532, 533, 534, 541, 570, 893, 896, 913]'"
      ]
     },
     "execution_count": 67,
     "metadata": {},
     "output_type": "execute_result"
    }
   ],
   "source": [
    "str(highpmrsoc90codes)"
   ]
  },
  {
   "cell_type": "code",
   "execution_count": 75,
   "metadata": {
    "collapsed": false
   },
   "outputs": [
    {
     "name": "stdout",
     "output_type": "stream",
     "text": [
      "SOC                                                         211\n",
      "SOC2000                                                    2122\n",
      "INDEXOCC                                       Architect, naval\n",
      "short_desc    2122 MECHANICAL ENGINEERS\\n\\nMechanical engine...\n",
      "entry         Mechanical engineers usually possess an accred...\n",
      "tasks         undertakes research and advises on energy use,...\n",
      "related       Aeronautical engineer (professional)\\nAutomobi...\n",
      "Name: 595, dtype: object\n"
     ]
    }
   ],
   "source": [
    "print(df[df.SOC == '211'].iloc[0])"
   ]
  },
  {
   "cell_type": "code",
   "execution_count": null,
   "metadata": {
    "collapsed": true
   },
   "outputs": [],
   "source": []
  }
 ],
 "metadata": {
  "kernelspec": {
   "display_name": "Python 2",
   "language": "python",
   "name": "python2"
  },
  "language_info": {
   "codemirror_mode": {
    "name": "ipython",
    "version": 2
   },
   "file_extension": ".py",
   "mimetype": "text/x-python",
   "name": "python",
   "nbconvert_exporter": "python",
   "pygments_lexer": "ipython2",
   "version": "2.7.12"
  }
 },
 "nbformat": 4,
 "nbformat_minor": 1
}
