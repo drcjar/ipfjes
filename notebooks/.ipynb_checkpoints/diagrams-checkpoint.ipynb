{
 "cells": [
  {
   "cell_type": "code",
   "execution_count": 1,
   "metadata": {
    "collapsed": true
   },
   "outputs": [],
   "source": [
    "# http://matthiaseisen.com/articles/graphviz/\n",
    "# we'd really like to make a nicer version of our case recruitment, case control, and flowchart pics"
   ]
  },
  {
   "cell_type": "code",
   "execution_count": 2,
   "metadata": {
    "collapsed": true
   },
   "outputs": [],
   "source": [
    "import graphviz as gv\n",
    "import functools\n",
    "from IPython.display import SVG"
   ]
  },
  {
   "cell_type": "code",
   "execution_count": 3,
   "metadata": {
    "collapsed": true
   },
   "outputs": [],
   "source": [
    "g1 = gv.Digraph(format='svg')\n",
    "g1.node('A')\n",
    "g1.node('B')\n",
    "g1.edge('A', 'B')"
   ]
  },
  {
   "cell_type": "code",
   "execution_count": 4,
   "metadata": {},
   "outputs": [
    {
     "name": "stdout",
     "output_type": "stream",
     "text": [
      "digraph {\n",
      "\tA\n",
      "\tB\n",
      "\tA -> B\n",
      "}\n"
     ]
    }
   ],
   "source": [
    "print(g1.source)"
   ]
  },
  {
   "cell_type": "code",
   "execution_count": 5,
   "metadata": {
    "collapsed": true
   },
   "outputs": [],
   "source": [
    "filename = g1.render(filename='fig/g1')"
   ]
  },
  {
   "cell_type": "code",
   "execution_count": 6,
   "metadata": {},
   "outputs": [
    {
     "name": "stdout",
     "output_type": "stream",
     "text": [
      "fig/g1.svg\n"
     ]
    }
   ],
   "source": [
    "print (filename)"
   ]
  },
  {
   "cell_type": "code",
   "execution_count": 7,
   "metadata": {},
   "outputs": [
    {
     "data": {
      "image/svg+xml": [
       "<svg height=\"116pt\" viewBox=\"0.00 0.00 62.00 116.00\" width=\"62pt\" xmlns=\"http://www.w3.org/2000/svg\" xmlns:xlink=\"http://www.w3.org/1999/xlink\">\n",
       "<g class=\"graph\" id=\"graph0\" transform=\"scale(1 1) rotate(0) translate(4 112)\">\n",
       "<title>%3</title>\n",
       "<polygon fill=\"white\" points=\"-4,4 -4,-112 58,-112 58,4 -4,4\" stroke=\"none\"/>\n",
       "<!-- A -->\n",
       "<g class=\"node\" id=\"node1\"><title>A</title>\n",
       "<ellipse cx=\"27\" cy=\"-90\" fill=\"none\" rx=\"27\" ry=\"18\" stroke=\"black\"/>\n",
       "<text font-family=\"Times,serif\" font-size=\"14.00\" text-anchor=\"middle\" x=\"27\" y=\"-86.3\">A</text>\n",
       "</g>\n",
       "<!-- B -->\n",
       "<g class=\"node\" id=\"node2\"><title>B</title>\n",
       "<ellipse cx=\"27\" cy=\"-18\" fill=\"none\" rx=\"27\" ry=\"18\" stroke=\"black\"/>\n",
       "<text font-family=\"Times,serif\" font-size=\"14.00\" text-anchor=\"middle\" x=\"27\" y=\"-14.3\">B</text>\n",
       "</g>\n",
       "<!-- A&#45;&gt;B -->\n",
       "<g class=\"edge\" id=\"edge1\"><title>A-&gt;B</title>\n",
       "<path d=\"M27,-71.6966C27,-63.9827 27,-54.7125 27,-46.1124\" fill=\"none\" stroke=\"black\"/>\n",
       "<polygon fill=\"black\" points=\"30.5001,-46.1043 27,-36.1043 23.5001,-46.1044 30.5001,-46.1043\" stroke=\"black\"/>\n",
       "</g>\n",
       "</g>\n",
       "</svg>"
      ],
      "text/plain": [
       "<IPython.core.display.SVG object>"
      ]
     },
     "execution_count": 7,
     "metadata": {},
     "output_type": "execute_result"
    }
   ],
   "source": [
    "SVG(filename)"
   ]
  },
  {
   "cell_type": "code",
   "execution_count": 8,
   "metadata": {},
   "outputs": [],
   "source": [
    "graph = functools.partial(gv.Graph, format='svg')\n",
    "digraph = functools.partial(gv.Digraph, format='svg')"
   ]
  },
  {
   "cell_type": "code",
   "execution_count": 9,
   "metadata": {
    "collapsed": true
   },
   "outputs": [],
   "source": [
    "g3 = graph()\n"
   ]
  },
  {
   "cell_type": "code",
   "execution_count": 10,
   "metadata": {
    "collapsed": true
   },
   "outputs": [],
   "source": [
    "nodes = ['A', 'B', ('C', {})]"
   ]
  },
  {
   "cell_type": "code",
   "execution_count": 11,
   "metadata": {
    "collapsed": true
   },
   "outputs": [],
   "source": [
    "edges = [\n",
    "    ('A', 'B'),\n",
    "    ('B', 'C'),\n",
    "    (('A', 'C'), {}),\n",
    "]"
   ]
  },
  {
   "cell_type": "code",
   "execution_count": 12,
   "metadata": {
    "collapsed": true
   },
   "outputs": [],
   "source": [
    "def add_nodes(graph, nodes):\n",
    "    for n in nodes:\n",
    "        if isinstance(n, tuple):\n",
    "            graph.node(n[0], **n[1])\n",
    "        else:\n",
    "            graph.node(n)\n",
    "    return graph\n"
   ]
  },
  {
   "cell_type": "code",
   "execution_count": 13,
   "metadata": {
    "collapsed": true
   },
   "outputs": [],
   "source": [
    "def add_edges(graph, edges):\n",
    "    for e in edges:\n",
    "        if isinstance(e[0], tuple):\n",
    "            graph.edge(*e[0], **e[1])\n",
    "        else:\n",
    "            graph.edge(*e)\n",
    "    return graph"
   ]
  },
  {
   "cell_type": "code",
   "execution_count": 14,
   "metadata": {},
   "outputs": [
    {
     "data": {
      "text/plain": [
       "'img/g5.svg'"
      ]
     },
     "execution_count": 14,
     "metadata": {},
     "output_type": "execute_result"
    }
   ],
   "source": [
    "add_edges(\n",
    "    add_nodes(digraph(), ['A', 'B', 'C']),\n",
    "    [('A', 'B'), ('A', 'C'), ('B', 'C')]\n",
    ").render('img/g5')\n"
   ]
  },
  {
   "cell_type": "code",
   "execution_count": 15,
   "metadata": {},
   "outputs": [
    {
     "data": {
      "image/svg+xml": [
       "<svg height=\"188pt\" viewBox=\"0.00 0.00 89.00 188.00\" width=\"89pt\" xmlns=\"http://www.w3.org/2000/svg\" xmlns:xlink=\"http://www.w3.org/1999/xlink\">\n",
       "<g class=\"graph\" id=\"graph0\" transform=\"scale(1 1) rotate(0) translate(4 184)\">\n",
       "<title>%3</title>\n",
       "<polygon fill=\"white\" points=\"-4,4 -4,-184 85,-184 85,4 -4,4\" stroke=\"none\"/>\n",
       "<!-- A -->\n",
       "<g class=\"node\" id=\"node1\"><title>A</title>\n",
       "<ellipse cx=\"54\" cy=\"-162\" fill=\"none\" rx=\"27\" ry=\"18\" stroke=\"black\"/>\n",
       "<text font-family=\"Times,serif\" font-size=\"14.00\" text-anchor=\"middle\" x=\"54\" y=\"-158.3\">A</text>\n",
       "</g>\n",
       "<!-- B -->\n",
       "<g class=\"node\" id=\"node2\"><title>B</title>\n",
       "<ellipse cx=\"27\" cy=\"-90\" fill=\"none\" rx=\"27\" ry=\"18\" stroke=\"black\"/>\n",
       "<text font-family=\"Times,serif\" font-size=\"14.00\" text-anchor=\"middle\" x=\"27\" y=\"-86.3\">B</text>\n",
       "</g>\n",
       "<!-- A&#45;&gt;B -->\n",
       "<g class=\"edge\" id=\"edge1\"><title>A-&gt;B</title>\n",
       "<path d=\"M47.6014,-144.411C44.4864,-136.335 40.6663,-126.431 37.1654,-117.355\" fill=\"none\" stroke=\"black\"/>\n",
       "<polygon fill=\"black\" points=\"40.4045,-116.027 33.5403,-107.956 33.8735,-118.546 40.4045,-116.027\" stroke=\"black\"/>\n",
       "</g>\n",
       "<!-- C -->\n",
       "<g class=\"node\" id=\"node3\"><title>C</title>\n",
       "<ellipse cx=\"54\" cy=\"-18\" fill=\"none\" rx=\"27\" ry=\"18\" stroke=\"black\"/>\n",
       "<text font-family=\"Times,serif\" font-size=\"14.00\" text-anchor=\"middle\" x=\"54\" y=\"-14.3\">C</text>\n",
       "</g>\n",
       "<!-- A&#45;&gt;C -->\n",
       "<g class=\"edge\" id=\"edge2\"><title>A-&gt;C</title>\n",
       "<path d=\"M57.6538,-143.908C59.6758,-133.569 61.9808,-120.09 63,-108 64.3441,-92.0566 64.3441,-87.9434 63,-72 62.2834,-63.4991 60.9311,-54.3119 59.4884,-46.0122\" fill=\"none\" stroke=\"black\"/>\n",
       "<polygon fill=\"black\" points=\"62.9142,-45.2892 57.6538,-36.0925 56.0309,-46.5623 62.9142,-45.2892\" stroke=\"black\"/>\n",
       "</g>\n",
       "<!-- B&#45;&gt;C -->\n",
       "<g class=\"edge\" id=\"edge3\"><title>B-&gt;C</title>\n",
       "<path d=\"M33.3986,-72.411C36.5136,-64.3352 40.3337,-54.4312 43.8346,-45.3547\" fill=\"none\" stroke=\"black\"/>\n",
       "<polygon fill=\"black\" points=\"47.1265,-46.5458 47.4597,-35.9562 40.5955,-44.0267 47.1265,-46.5458\" stroke=\"black\"/>\n",
       "</g>\n",
       "</g>\n",
       "</svg>"
      ],
      "text/plain": [
       "<IPython.core.display.SVG object>"
      ]
     },
     "execution_count": 15,
     "metadata": {},
     "output_type": "execute_result"
    }
   ],
   "source": [
    "SVG('img/g5.svg')"
   ]
  },
  {
   "cell_type": "code",
   "execution_count": 16,
   "metadata": {},
   "outputs": [
    {
     "data": {
      "text/plain": [
       "'img/g5.svg'"
      ]
     },
     "execution_count": 16,
     "metadata": {},
     "output_type": "execute_result"
    }
   ],
   "source": [
    "add_edges(\n",
    "    add_nodes(digraph(), [\n",
    "        ('A', {'label': 'Node A'}),\n",
    "        ('B', {'label': 'Node B'}),\n",
    "        'C'\n",
    "    ]),\n",
    "    [\n",
    "        (('A', 'B'), {'label': 'Edge 1'}),\n",
    "        (('A', 'C'), {'label': 'Edge 2'}),\n",
    "        ('B', 'C')\n",
    "    ]\n",
    ").render('img/g5')"
   ]
  },
  {
   "cell_type": "code",
   "execution_count": 17,
   "metadata": {},
   "outputs": [
    {
     "data": {
      "image/svg+xml": [
       "<svg height=\"204pt\" viewBox=\"0.00 0.00 147.35 204.00\" width=\"147pt\" xmlns=\"http://www.w3.org/2000/svg\" xmlns:xlink=\"http://www.w3.org/1999/xlink\">\n",
       "<g class=\"graph\" id=\"graph0\" transform=\"scale(1 1) rotate(0) translate(4 200)\">\n",
       "<title>%3</title>\n",
       "<polygon fill=\"white\" points=\"-4,4 -4,-200 143.347,-200 143.347,4 -4,4\" stroke=\"none\"/>\n",
       "<!-- A -->\n",
       "<g class=\"node\" id=\"node1\"><title>A</title>\n",
       "<ellipse cx=\"85.3466\" cy=\"-178\" fill=\"none\" rx=\"38.1938\" ry=\"18\" stroke=\"black\"/>\n",
       "<text font-family=\"Times,serif\" font-size=\"14.00\" text-anchor=\"middle\" x=\"85.3466\" y=\"-174.3\">Node A</text>\n",
       "</g>\n",
       "<!-- B -->\n",
       "<g class=\"node\" id=\"node2\"><title>B</title>\n",
       "<ellipse cx=\"38.3466\" cy=\"-91\" fill=\"none\" rx=\"38.1938\" ry=\"18\" stroke=\"black\"/>\n",
       "<text font-family=\"Times,serif\" font-size=\"14.00\" text-anchor=\"middle\" x=\"38.3466\" y=\"-87.3\">Node B</text>\n",
       "</g>\n",
       "<!-- A&#45;&gt;B -->\n",
       "<g class=\"edge\" id=\"edge1\"><title>A-&gt;B</title>\n",
       "<path d=\"M72.0594,-160.824C67.6928,-155.083 63.0214,-148.444 59.3466,-142 55.149,-134.639 51.3073,-126.274 48.0901,-118.521\" fill=\"none\" stroke=\"black\"/>\n",
       "<polygon fill=\"black\" points=\"51.3122,-117.151 44.3691,-109.148 44.8062,-119.734 51.3122,-117.151\" stroke=\"black\"/>\n",
       "<text font-family=\"Times,serif\" font-size=\"14.00\" text-anchor=\"middle\" x=\"78.8466\" y=\"-130.8\">Edge 1</text>\n",
       "</g>\n",
       "<!-- C -->\n",
       "<g class=\"node\" id=\"node3\"><title>C</title>\n",
       "<ellipse cx=\"87.3466\" cy=\"-18\" fill=\"none\" rx=\"27\" ry=\"18\" stroke=\"black\"/>\n",
       "<text font-family=\"Times,serif\" font-size=\"14.00\" text-anchor=\"middle\" x=\"87.3466\" y=\"-14.3\">C</text>\n",
       "</g>\n",
       "<!-- A&#45;&gt;C -->\n",
       "<g class=\"edge\" id=\"edge2\"><title>A-&gt;C</title>\n",
       "<path d=\"M92.9434,-160.251C95.1426,-154.578 97.2459,-148.125 98.3466,-142 104.253,-109.135 98.9009,-70.7315 93.8033,-45.6939\" fill=\"none\" stroke=\"black\"/>\n",
       "<polygon fill=\"black\" points=\"97.2059,-44.8691 91.6678,-35.837 90.3646,-46.3514 97.2059,-44.8691\" stroke=\"black\"/>\n",
       "<text font-family=\"Times,serif\" font-size=\"14.00\" text-anchor=\"middle\" x=\"119.847\" y=\"-87.3\">Edge 2</text>\n",
       "</g>\n",
       "<!-- B&#45;&gt;C -->\n",
       "<g class=\"edge\" id=\"edge3\"><title>B-&gt;C</title>\n",
       "<path d=\"M49.7113,-73.5327C55.9214,-64.5345 63.73,-53.22 70.6225,-43.2329\" fill=\"none\" stroke=\"black\"/>\n",
       "<polygon fill=\"black\" points=\"73.5811,-45.1079 76.3805,-34.8896 67.8199,-41.1318 73.5811,-45.1079\" stroke=\"black\"/>\n",
       "</g>\n",
       "</g>\n",
       "</svg>"
      ],
      "text/plain": [
       "<IPython.core.display.SVG object>"
      ]
     },
     "execution_count": 17,
     "metadata": {},
     "output_type": "execute_result"
    }
   ],
   "source": [
    "SVG('img/g5.svg')"
   ]
  },
  {
   "cell_type": "code",
   "execution_count": 18,
   "metadata": {
    "collapsed": true
   },
   "outputs": [],
   "source": [
    "g6 = add_edges(\n",
    "    add_nodes(digraph(), [\n",
    "        ('A', {'label': 'Node A'}),\n",
    "        ('B', {'label': 'Node B'}),\n",
    "        'C'\n",
    "    ]),\n",
    "    [\n",
    "        (('A', 'B'), {'label': 'Edge 1'}),\n",
    "        (('A', 'C'), {'label': 'Edge 2'}),\n",
    "        ('B', 'C')\n",
    "    ]\n",
    ")"
   ]
  },
  {
   "cell_type": "code",
   "execution_count": 19,
   "metadata": {},
   "outputs": [
    {
     "data": {
      "image/svg+xml": [
       "<?xml version=\"1.0\" encoding=\"UTF-8\" standalone=\"no\"?>\n",
       "<!DOCTYPE svg PUBLIC \"-//W3C//DTD SVG 1.1//EN\"\n",
       " \"http://www.w3.org/Graphics/SVG/1.1/DTD/svg11.dtd\">\n",
       "<!-- Generated by graphviz version 2.38.0 (20140413.2041)\n",
       " -->\n",
       "<!-- Title: %3 Pages: 1 -->\n",
       "<svg width=\"147pt\" height=\"204pt\"\n",
       " viewBox=\"0.00 0.00 147.35 204.00\" xmlns=\"http://www.w3.org/2000/svg\" xmlns:xlink=\"http://www.w3.org/1999/xlink\">\n",
       "<g id=\"graph0\" class=\"graph\" transform=\"scale(1 1) rotate(0) translate(4 200)\">\n",
       "<title>%3</title>\n",
       "<polygon fill=\"white\" stroke=\"none\" points=\"-4,4 -4,-200 143.347,-200 143.347,4 -4,4\"/>\n",
       "<!-- A -->\n",
       "<g id=\"node1\" class=\"node\"><title>A</title>\n",
       "<ellipse fill=\"none\" stroke=\"black\" cx=\"85.3466\" cy=\"-178\" rx=\"38.1938\" ry=\"18\"/>\n",
       "<text text-anchor=\"middle\" x=\"85.3466\" y=\"-174.3\" font-family=\"Times,serif\" font-size=\"14.00\">Node A</text>\n",
       "</g>\n",
       "<!-- B -->\n",
       "<g id=\"node2\" class=\"node\"><title>B</title>\n",
       "<ellipse fill=\"none\" stroke=\"black\" cx=\"38.3466\" cy=\"-91\" rx=\"38.1938\" ry=\"18\"/>\n",
       "<text text-anchor=\"middle\" x=\"38.3466\" y=\"-87.3\" font-family=\"Times,serif\" font-size=\"14.00\">Node B</text>\n",
       "</g>\n",
       "<!-- A&#45;&gt;B -->\n",
       "<g id=\"edge1\" class=\"edge\"><title>A&#45;&gt;B</title>\n",
       "<path fill=\"none\" stroke=\"black\" d=\"M72.0594,-160.824C67.6928,-155.083 63.0214,-148.444 59.3466,-142 55.149,-134.639 51.3073,-126.274 48.0901,-118.521\"/>\n",
       "<polygon fill=\"black\" stroke=\"black\" points=\"51.3122,-117.151 44.3691,-109.148 44.8062,-119.734 51.3122,-117.151\"/>\n",
       "<text text-anchor=\"middle\" x=\"78.8466\" y=\"-130.8\" font-family=\"Times,serif\" font-size=\"14.00\">Edge 1</text>\n",
       "</g>\n",
       "<!-- C -->\n",
       "<g id=\"node3\" class=\"node\"><title>C</title>\n",
       "<ellipse fill=\"none\" stroke=\"black\" cx=\"87.3466\" cy=\"-18\" rx=\"27\" ry=\"18\"/>\n",
       "<text text-anchor=\"middle\" x=\"87.3466\" y=\"-14.3\" font-family=\"Times,serif\" font-size=\"14.00\">C</text>\n",
       "</g>\n",
       "<!-- A&#45;&gt;C -->\n",
       "<g id=\"edge2\" class=\"edge\"><title>A&#45;&gt;C</title>\n",
       "<path fill=\"none\" stroke=\"black\" d=\"M92.9434,-160.251C95.1426,-154.578 97.2459,-148.125 98.3466,-142 104.253,-109.135 98.9009,-70.7315 93.8033,-45.6939\"/>\n",
       "<polygon fill=\"black\" stroke=\"black\" points=\"97.2059,-44.8691 91.6678,-35.837 90.3646,-46.3514 97.2059,-44.8691\"/>\n",
       "<text text-anchor=\"middle\" x=\"119.847\" y=\"-87.3\" font-family=\"Times,serif\" font-size=\"14.00\">Edge 2</text>\n",
       "</g>\n",
       "<!-- B&#45;&gt;C -->\n",
       "<g id=\"edge3\" class=\"edge\"><title>B&#45;&gt;C</title>\n",
       "<path fill=\"none\" stroke=\"black\" d=\"M49.7113,-73.5327C55.9214,-64.5345 63.73,-53.22 70.6225,-43.2329\"/>\n",
       "<polygon fill=\"black\" stroke=\"black\" points=\"73.5811,-45.1079 76.3805,-34.8896 67.8199,-41.1318 73.5811,-45.1079\"/>\n",
       "</g>\n",
       "</g>\n",
       "</svg>\n"
      ],
      "text/plain": [
       "<graphviz.dot.Digraph at 0x7f870858e908>"
      ]
     },
     "execution_count": 19,
     "metadata": {},
     "output_type": "execute_result"
    }
   ],
   "source": [
    "g6"
   ]
  },
  {
   "cell_type": "code",
   "execution_count": 34,
   "metadata": {
    "collapsed": true
   },
   "outputs": [],
   "source": [
    "# http://www.graphviz.org/doc/info/attrs.html\n",
    "\n",
    "styles = {\n",
    "    'graph': {\n",
    "        'label': 'A Fancy Graph',\n",
    "        'fontsize': '16',\n",
    "        'fontcolor': 'black',\n",
    "        'bgcolor': 'white',\n",
    "        'rankdir': 'TB',\n",
    "    },\n",
    "    'nodes': {\n",
    "        'fontname': 'Helvetica',\n",
    "        'shape': 'square',\n",
    "        'fontcolor': 'black',\n",
    "        'color': 'black',\n",
    "        'style': '',\n",
    "        'fillcolor': '',\n",
    "    },\n",
    "    'edges': {\n",
    "        'style': '',\n",
    "        'color': 'black',\n",
    "        'arrowhead': 'open',\n",
    "        'fontname': 'Courier',\n",
    "        'fontsize': '12',\n",
    "        'fontcolor': 'black',\n",
    "    }\n",
    "}\n",
    "\n",
    "\n",
    "styles2 = {\n",
    "    'graph': {\n",
    "        'label': 'A Fancy Graph',\n",
    "        'fontsize': '16',\n",
    "        'fontcolor': 'black',\n",
    "        'bgcolor': 'white',\n",
    "        'rank': 'same',\n",
    "    },\n",
    "    'nodes': {\n",
    "        'fontname': 'Helvetica',\n",
    "        'shape': 'square',\n",
    "        'fontcolor': 'black',\n",
    "        'color': 'black',\n",
    "        'style': '',\n",
    "        'fillcolor': '',\n",
    "        \n",
    "    },\n",
    "    'edges': {\n",
    "        'style': '',\n",
    "        'color': 'black',\n",
    "        'arrowhead': 'open',\n",
    "        'fontname': 'Courier',\n",
    "        'fontsize': '12',\n",
    "        'fontcolor': 'black',\n",
    "    }\n",
    "}\n",
    "\n",
    "styles3 = {\n",
    "    'graph': {\n",
    "        'label': 'A Fancy Graph',\n",
    "        'fontsize': '16',\n",
    "        'fontcolor': 'black',\n",
    "        'bgcolor': 'white',\n",
    "        'rank': 'same',\n",
    "    },\n",
    "    'nodes': {\n",
    "        'fontname': 'Helvetica',\n",
    "        'shape': 'square',\n",
    "        'fontcolor': 'black',\n",
    "        'color': 'black',\n",
    "        'style': '',\n",
    "        'fillcolor': '',\n",
    "        \n",
    "    },\n",
    "    'edges': {\n",
    "        'style': '',\n",
    "        'color': 'black',\n",
    "        'arrowhead': 'open',\n",
    "        'fontname': 'Courier',\n",
    "        'fontsize': '12',\n",
    "        'fontcolor': 'black',\n",
    "    }\n",
    "}"
   ]
  },
  {
   "cell_type": "code",
   "execution_count": 21,
   "metadata": {
    "collapsed": true
   },
   "outputs": [],
   "source": [
    "def apply_styles(graph, styles):\n",
    "    graph.graph_attr.update(\n",
    "        ('graph' in styles and styles['graph']) or {}\n",
    "    )\n",
    "    graph.node_attr.update(\n",
    "        ('nodes' in styles and styles['nodes']) or {}\n",
    "    )\n",
    "    graph.edge_attr.update(\n",
    "        ('edges' in styles and styles['edges']) or {}\n",
    "    )\n",
    "    return graph\n"
   ]
  },
  {
   "cell_type": "code",
   "execution_count": 22,
   "metadata": {},
   "outputs": [
    {
     "data": {
      "image/svg+xml": [
       "<svg height=\"280pt\" viewBox=\"0.00 0.00 141.00 280.00\" width=\"141pt\" xmlns=\"http://www.w3.org/2000/svg\" xmlns:xlink=\"http://www.w3.org/1999/xlink\">\n",
       "<g class=\"graph\" id=\"graph0\" transform=\"scale(1 1) rotate(0) translate(4 276)\">\n",
       "<title>%3</title>\n",
       "<polygon fill=\"white\" points=\"-4,4 -4,-276 137,-276 137,4 -4,4\" stroke=\"none\"/>\n",
       "<text font-family=\"Times,serif\" font-size=\"16.00\" text-anchor=\"middle\" x=\"66.5\" y=\"-9.2\">A Fancy Graph</text>\n",
       "<!-- A -->\n",
       "<g class=\"node\" id=\"node1\"><title>A</title>\n",
       "<polygon fill=\"none\" points=\"98,-272 36,-272 36,-210 98,-210 98,-272\" stroke=\"black\"/>\n",
       "<text font-family=\"Helvetica,sans-Serif\" font-size=\"14.00\" text-anchor=\"middle\" x=\"67\" y=\"-237.3\">Node A</text>\n",
       "</g>\n",
       "<!-- B -->\n",
       "<g class=\"node\" id=\"node2\"><title>B</title>\n",
       "<polygon fill=\"none\" points=\"62,-161 3.55271e-15,-161 3.55271e-15,-99 62,-99 62,-161\" stroke=\"black\"/>\n",
       "<text font-family=\"Helvetica,sans-Serif\" font-size=\"14.00\" text-anchor=\"middle\" x=\"31\" y=\"-126.3\">Node B</text>\n",
       "</g>\n",
       "<!-- A&#45;&gt;B -->\n",
       "<g class=\"edge\" id=\"edge1\"><title>A-&gt;B</title>\n",
       "<path d=\"M46.2184,-209.976C43.0082,-204.218 40.0754,-198.082 38,-192 35.7563,-185.425 34.2013,-178.244 33.1298,-171.193\" fill=\"none\" stroke=\"black\"/>\n",
       "<polygon fill=\"black\" points=\"31.8819,-161.039 37.5681,-170.415 32.4918,-166.001 33.1017,-170.964 33.1017,-170.964 33.1017,-170.964 32.4918,-166.001 28.6353,-171.513 31.8819,-161.039 31.8819,-161.039\" stroke=\"black\"/>\n",
       "<text font-family=\"Courier,monospace\" font-size=\"12.00\" text-anchor=\"middle\" x=\"61\" y=\"-182.4\">Edge 1</text>\n",
       "</g>\n",
       "<!-- C -->\n",
       "<g class=\"node\" id=\"node3\"><title>C</title>\n",
       "<polygon fill=\"none\" points=\"93,-62 57,-62 57,-26 93,-26 93,-62\" stroke=\"black\"/>\n",
       "<text font-family=\"Helvetica,sans-Serif\" font-size=\"14.00\" text-anchor=\"middle\" x=\"75\" y=\"-40.3\">C</text>\n",
       "</g>\n",
       "<!-- A&#45;&gt;C -->\n",
       "<g class=\"edge\" id=\"edge2\"><title>A-&gt;C</title>\n",
       "<path d=\"M79.3915,-209.947C81.3051,-204.089 82.9818,-197.925 84,-192 91.0967,-150.705 85.4197,-102.042 80.4148,-72.3656\" fill=\"none\" stroke=\"black\"/>\n",
       "<polygon fill=\"black\" points=\"78.6262,-62.3401 84.8127,-71.3943 79.5044,-67.2624 80.3826,-72.1846 80.3826,-72.1846 80.3826,-72.1846 79.5044,-67.2624 75.9526,-72.975 78.6262,-62.3401 78.6262,-62.3401\" stroke=\"black\"/>\n",
       "<text font-family=\"Courier,monospace\" font-size=\"12.00\" text-anchor=\"middle\" x=\"110\" y=\"-126.9\">Edge 2</text>\n",
       "</g>\n",
       "<!-- B&#45;&gt;C -->\n",
       "<g class=\"edge\" id=\"edge3\"><title>B-&gt;C</title>\n",
       "<path d=\"M46.885,-98.6741C51.5851,-89.7012 56.6896,-79.9561 61.2433,-71.2627\" fill=\"none\" stroke=\"black\"/>\n",
       "<polygon fill=\"black\" points=\"65.9232,-62.3284 65.2693,-73.2748 63.6031,-66.7576 61.2831,-71.1868 61.2831,-71.1868 61.2831,-71.1868 63.6031,-66.7576 57.2968,-69.0987 65.9232,-62.3284 65.9232,-62.3284\" stroke=\"black\"/>\n",
       "</g>\n",
       "</g>\n",
       "</svg>"
      ],
      "text/plain": [
       "<IPython.core.display.SVG object>"
      ]
     },
     "execution_count": 22,
     "metadata": {},
     "output_type": "execute_result"
    }
   ],
   "source": [
    "g6 = apply_styles(g6, styles)\n",
    "g6.render('img/g6')\n",
    "SVG('img/g6.svg')"
   ]
  },
  {
   "cell_type": "code",
   "execution_count": 23,
   "metadata": {
    "collapsed": true
   },
   "outputs": [],
   "source": [
    "g7 = add_edges(\n",
    "    add_nodes(digraph(), [\n",
    "        ('A', {'label': 'Node A'}),\n",
    "        ('B', {'label': 'Node B'}),\n",
    "        ('C', {'label': 'Node C'}),\n",
    "        ('D', {'label': 'Node D'}),\n",
    "        ('E', {'label': 'Node E'}),\n",
    "\n",
    "\n",
    "    ]),\n",
    "    [\n",
    "        (('A', 'B'), {'label': 'Edge 1'}),\n",
    "        (('B', 'C'), {'label': 'Edge 2'}),\n",
    "        (('C', 'D'), {'label': 'Edge 3'}),\n",
    "        (('D', 'E'), {'label': 'Edge 4'}),   \n",
    "      ]\n",
    "\n",
    ")"
   ]
  },
  {
   "cell_type": "code",
   "execution_count": 24,
   "metadata": {
    "collapsed": true
   },
   "outputs": [],
   "source": [
    "g8 = add_edges(\n",
    "    add_nodes(digraph(), [\n",
    "        ('F', {'label': 'Node F'}),\n",
    "\n",
    "\n",
    "    ]),\n",
    "    [\n",
    "       ]\n",
    "\n",
    ")"
   ]
  },
  {
   "cell_type": "code",
   "execution_count": 25,
   "metadata": {},
   "outputs": [
    {
     "data": {
      "image/svg+xml": [
       "<svg height=\"540pt\" viewBox=\"0.00 0.00 122.00 540.00\" width=\"122pt\" xmlns=\"http://www.w3.org/2000/svg\" xmlns:xlink=\"http://www.w3.org/1999/xlink\">\n",
       "<g class=\"graph\" id=\"graph0\" transform=\"scale(1 1) rotate(0) translate(4 536)\">\n",
       "<title>%3</title>\n",
       "<polygon fill=\"white\" points=\"-4,4 -4,-536 118,-536 118,4 -4,4\" stroke=\"none\"/>\n",
       "<text font-family=\"Times,serif\" font-size=\"16.00\" text-anchor=\"middle\" x=\"57\" y=\"-9.2\">A Fancy Graph</text>\n",
       "<!-- A -->\n",
       "<g class=\"node\" id=\"node1\"><title>A</title>\n",
       "<polygon fill=\"none\" points=\"80.5,-532 18.5,-532 18.5,-470 80.5,-470 80.5,-532\" stroke=\"black\"/>\n",
       "<text font-family=\"Helvetica,sans-Serif\" font-size=\"14.00\" text-anchor=\"middle\" x=\"49.5\" y=\"-497.3\">Node A</text>\n",
       "</g>\n",
       "<!-- B -->\n",
       "<g class=\"node\" id=\"node2\"><title>B</title>\n",
       "<polygon fill=\"none\" points=\"80.5,-421 18.5,-421 18.5,-359 80.5,-359 80.5,-421\" stroke=\"black\"/>\n",
       "<text font-family=\"Helvetica,sans-Serif\" font-size=\"14.00\" text-anchor=\"middle\" x=\"49.5\" y=\"-386.3\">Node B</text>\n",
       "</g>\n",
       "<!-- A&#45;&gt;B -->\n",
       "<g class=\"edge\" id=\"edge1\"><title>A-&gt;B</title>\n",
       "<path d=\"M49.5,-469.927C49.5,-458.112 49.5,-444.365 49.5,-431.687\" fill=\"none\" stroke=\"black\"/>\n",
       "<polygon fill=\"black\" points=\"49.5,-421.354 54.0001,-431.353 49.5,-426.354 49.5001,-431.354 49.5001,-431.354 49.5001,-431.354 49.5,-426.354 45.0001,-431.354 49.5,-421.354 49.5,-421.354\" stroke=\"black\"/>\n",
       "<text font-family=\"Courier,monospace\" font-size=\"12.00\" text-anchor=\"middle\" x=\"72.5\" y=\"-442.4\">Edge 1</text>\n",
       "</g>\n",
       "<!-- C -->\n",
       "<g class=\"node\" id=\"node3\"><title>C</title>\n",
       "<polygon fill=\"none\" points=\"80.5,-310 18.5,-310 18.5,-248 80.5,-248 80.5,-310\" stroke=\"black\"/>\n",
       "<text font-family=\"Helvetica,sans-Serif\" font-size=\"14.00\" text-anchor=\"middle\" x=\"49.5\" y=\"-275.3\">Node C</text>\n",
       "</g>\n",
       "<!-- B&#45;&gt;C -->\n",
       "<g class=\"edge\" id=\"edge2\"><title>B-&gt;C</title>\n",
       "<path d=\"M49.5,-358.927C49.5,-347.112 49.5,-333.365 49.5,-320.687\" fill=\"none\" stroke=\"black\"/>\n",
       "<polygon fill=\"black\" points=\"49.5,-310.354 54.0001,-320.353 49.5,-315.354 49.5001,-320.354 49.5001,-320.354 49.5001,-320.354 49.5,-315.354 45.0001,-320.354 49.5,-310.354 49.5,-310.354\" stroke=\"black\"/>\n",
       "<text font-family=\"Courier,monospace\" font-size=\"12.00\" text-anchor=\"middle\" x=\"72.5\" y=\"-331.4\">Edge 2</text>\n",
       "</g>\n",
       "<!-- D -->\n",
       "<g class=\"node\" id=\"node4\"><title>D</title>\n",
       "<polygon fill=\"none\" points=\"80.5,-199 18.5,-199 18.5,-137 80.5,-137 80.5,-199\" stroke=\"black\"/>\n",
       "<text font-family=\"Helvetica,sans-Serif\" font-size=\"14.00\" text-anchor=\"middle\" x=\"49.5\" y=\"-164.3\">Node D</text>\n",
       "</g>\n",
       "<!-- C&#45;&gt;D -->\n",
       "<g class=\"edge\" id=\"edge3\"><title>C-&gt;D</title>\n",
       "<path d=\"M49.5,-247.927C49.5,-236.112 49.5,-222.365 49.5,-209.687\" fill=\"none\" stroke=\"black\"/>\n",
       "<polygon fill=\"black\" points=\"49.5,-199.354 54.0001,-209.353 49.5,-204.354 49.5001,-209.354 49.5001,-209.354 49.5001,-209.354 49.5,-204.354 45.0001,-209.354 49.5,-199.354 49.5,-199.354\" stroke=\"black\"/>\n",
       "<text font-family=\"Courier,monospace\" font-size=\"12.00\" text-anchor=\"middle\" x=\"72.5\" y=\"-220.4\">Edge 3</text>\n",
       "</g>\n",
       "<!-- E -->\n",
       "<g class=\"node\" id=\"node5\"><title>E</title>\n",
       "<polygon fill=\"none\" points=\"80.5,-88 18.5,-88 18.5,-26 80.5,-26 80.5,-88\" stroke=\"black\"/>\n",
       "<text font-family=\"Helvetica,sans-Serif\" font-size=\"14.00\" text-anchor=\"middle\" x=\"49.5\" y=\"-53.3\">Node E</text>\n",
       "</g>\n",
       "<!-- D&#45;&gt;E -->\n",
       "<g class=\"edge\" id=\"edge4\"><title>D-&gt;E</title>\n",
       "<path d=\"M49.5,-136.927C49.5,-125.112 49.5,-111.365 49.5,-98.6866\" fill=\"none\" stroke=\"black\"/>\n",
       "<polygon fill=\"black\" points=\"49.5,-88.3535 54.0001,-98.3535 49.5,-93.3535 49.5001,-98.3535 49.5001,-98.3535 49.5001,-98.3535 49.5,-93.3535 45.0001,-98.3536 49.5,-88.3535 49.5,-88.3535\" stroke=\"black\"/>\n",
       "<text font-family=\"Courier,monospace\" font-size=\"12.00\" text-anchor=\"middle\" x=\"72.5\" y=\"-109.4\">Edge 4</text>\n",
       "</g>\n",
       "</g>\n",
       "</svg>"
      ],
      "text/plain": [
       "<IPython.core.display.SVG object>"
      ]
     },
     "execution_count": 25,
     "metadata": {},
     "output_type": "execute_result"
    }
   ],
   "source": [
    "g7 = apply_styles(g7, styles)\n",
    "g7.render('img/g7')\n",
    "SVG('img/g7.svg')"
   ]
  },
  {
   "cell_type": "code",
   "execution_count": 26,
   "metadata": {},
   "outputs": [],
   "source": [
    "g9 = apply_styles(g8, styles)"
   ]
  },
  {
   "cell_type": "code",
   "execution_count": 27,
   "metadata": {},
   "outputs": [
    {
     "data": {
      "image/svg+xml": [
       "<?xml version=\"1.0\" encoding=\"UTF-8\" standalone=\"no\"?>\n",
       "<!DOCTYPE svg PUBLIC \"-//W3C//DTD SVG 1.1//EN\"\n",
       " \"http://www.w3.org/Graphics/SVG/1.1/DTD/svg11.dtd\">\n",
       "<!-- Generated by graphviz version 2.38.0 (20140413.2041)\n",
       " -->\n",
       "<!-- Title: %3 Pages: 1 -->\n",
       "<svg width=\"122pt\" height=\"540pt\"\n",
       " viewBox=\"0.00 0.00 122.00 540.00\" xmlns=\"http://www.w3.org/2000/svg\" xmlns:xlink=\"http://www.w3.org/1999/xlink\">\n",
       "<g id=\"graph0\" class=\"graph\" transform=\"scale(1 1) rotate(0) translate(4 536)\">\n",
       "<title>%3</title>\n",
       "<polygon fill=\"white\" stroke=\"none\" points=\"-4,4 -4,-536 118,-536 118,4 -4,4\"/>\n",
       "<text text-anchor=\"middle\" x=\"57\" y=\"-9.2\" font-family=\"Times,serif\" font-size=\"16.00\">A Fancy Graph</text>\n",
       "<!-- A -->\n",
       "<g id=\"node1\" class=\"node\"><title>A</title>\n",
       "<polygon fill=\"none\" stroke=\"black\" points=\"80.5,-532 18.5,-532 18.5,-470 80.5,-470 80.5,-532\"/>\n",
       "<text text-anchor=\"middle\" x=\"49.5\" y=\"-497.3\" font-family=\"Helvetica,sans-Serif\" font-size=\"14.00\">Node A</text>\n",
       "</g>\n",
       "<!-- B -->\n",
       "<g id=\"node2\" class=\"node\"><title>B</title>\n",
       "<polygon fill=\"none\" stroke=\"black\" points=\"80.5,-421 18.5,-421 18.5,-359 80.5,-359 80.5,-421\"/>\n",
       "<text text-anchor=\"middle\" x=\"49.5\" y=\"-386.3\" font-family=\"Helvetica,sans-Serif\" font-size=\"14.00\">Node B</text>\n",
       "</g>\n",
       "<!-- A&#45;&gt;B -->\n",
       "<g id=\"edge1\" class=\"edge\"><title>A&#45;&gt;B</title>\n",
       "<path fill=\"none\" stroke=\"black\" d=\"M49.5,-469.927C49.5,-458.112 49.5,-444.365 49.5,-431.687\"/>\n",
       "<polygon fill=\"black\" stroke=\"black\" points=\"49.5,-421.354 54.0001,-431.353 49.5,-426.354 49.5001,-431.354 49.5001,-431.354 49.5001,-431.354 49.5,-426.354 45.0001,-431.354 49.5,-421.354 49.5,-421.354\"/>\n",
       "<text text-anchor=\"middle\" x=\"72.5\" y=\"-442.4\" font-family=\"Courier,monospace\" font-size=\"12.00\">Edge 1</text>\n",
       "</g>\n",
       "<!-- C -->\n",
       "<g id=\"node3\" class=\"node\"><title>C</title>\n",
       "<polygon fill=\"none\" stroke=\"black\" points=\"80.5,-310 18.5,-310 18.5,-248 80.5,-248 80.5,-310\"/>\n",
       "<text text-anchor=\"middle\" x=\"49.5\" y=\"-275.3\" font-family=\"Helvetica,sans-Serif\" font-size=\"14.00\">Node C</text>\n",
       "</g>\n",
       "<!-- B&#45;&gt;C -->\n",
       "<g id=\"edge2\" class=\"edge\"><title>B&#45;&gt;C</title>\n",
       "<path fill=\"none\" stroke=\"black\" d=\"M49.5,-358.927C49.5,-347.112 49.5,-333.365 49.5,-320.687\"/>\n",
       "<polygon fill=\"black\" stroke=\"black\" points=\"49.5,-310.354 54.0001,-320.353 49.5,-315.354 49.5001,-320.354 49.5001,-320.354 49.5001,-320.354 49.5,-315.354 45.0001,-320.354 49.5,-310.354 49.5,-310.354\"/>\n",
       "<text text-anchor=\"middle\" x=\"72.5\" y=\"-331.4\" font-family=\"Courier,monospace\" font-size=\"12.00\">Edge 2</text>\n",
       "</g>\n",
       "<!-- D -->\n",
       "<g id=\"node4\" class=\"node\"><title>D</title>\n",
       "<polygon fill=\"none\" stroke=\"black\" points=\"80.5,-199 18.5,-199 18.5,-137 80.5,-137 80.5,-199\"/>\n",
       "<text text-anchor=\"middle\" x=\"49.5\" y=\"-164.3\" font-family=\"Helvetica,sans-Serif\" font-size=\"14.00\">Node D</text>\n",
       "</g>\n",
       "<!-- C&#45;&gt;D -->\n",
       "<g id=\"edge3\" class=\"edge\"><title>C&#45;&gt;D</title>\n",
       "<path fill=\"none\" stroke=\"black\" d=\"M49.5,-247.927C49.5,-236.112 49.5,-222.365 49.5,-209.687\"/>\n",
       "<polygon fill=\"black\" stroke=\"black\" points=\"49.5,-199.354 54.0001,-209.353 49.5,-204.354 49.5001,-209.354 49.5001,-209.354 49.5001,-209.354 49.5,-204.354 45.0001,-209.354 49.5,-199.354 49.5,-199.354\"/>\n",
       "<text text-anchor=\"middle\" x=\"72.5\" y=\"-220.4\" font-family=\"Courier,monospace\" font-size=\"12.00\">Edge 3</text>\n",
       "</g>\n",
       "<!-- E -->\n",
       "<g id=\"node5\" class=\"node\"><title>E</title>\n",
       "<polygon fill=\"none\" stroke=\"black\" points=\"80.5,-88 18.5,-88 18.5,-26 80.5,-26 80.5,-88\"/>\n",
       "<text text-anchor=\"middle\" x=\"49.5\" y=\"-53.3\" font-family=\"Helvetica,sans-Serif\" font-size=\"14.00\">Node E</text>\n",
       "</g>\n",
       "<!-- D&#45;&gt;E -->\n",
       "<g id=\"edge4\" class=\"edge\"><title>D&#45;&gt;E</title>\n",
       "<path fill=\"none\" stroke=\"black\" d=\"M49.5,-136.927C49.5,-125.112 49.5,-111.365 49.5,-98.6866\"/>\n",
       "<polygon fill=\"black\" stroke=\"black\" points=\"49.5,-88.3535 54.0001,-98.3535 49.5,-93.3535 49.5001,-98.3535 49.5001,-98.3535 49.5001,-98.3535 49.5,-93.3535 45.0001,-98.3536 49.5,-88.3535 49.5,-88.3535\"/>\n",
       "<text text-anchor=\"middle\" x=\"72.5\" y=\"-109.4\" font-family=\"Courier,monospace\" font-size=\"12.00\">Edge 4</text>\n",
       "</g>\n",
       "</g>\n",
       "</svg>\n"
      ],
      "text/plain": [
       "<graphviz.dot.Digraph at 0x7f8708526898>"
      ]
     },
     "execution_count": 27,
     "metadata": {},
     "output_type": "execute_result"
    }
   ],
   "source": [
    "g7"
   ]
  },
  {
   "cell_type": "code",
   "execution_count": 28,
   "metadata": {
    "collapsed": true
   },
   "outputs": [],
   "source": [
    "g10 = add_edges(\n",
    "    add_nodes(digraph(), [\n",
    "        ('G', {'label': 'Node G'}),\n",
    "        ('H', {'label': 'Node H'}),\n",
    "     \n",
    "    ]),\n",
    "    [\n",
    "        (('G', 'H'), {'label': 'Edge 1'}),\n",
    "    ]\n",
    ")"
   ]
  },
  {
   "cell_type": "code",
   "execution_count": 29,
   "metadata": {},
   "outputs": [],
   "source": [
    "g10 = apply_styles(g10, styles2)"
   ]
  },
  {
   "cell_type": "code",
   "execution_count": 30,
   "metadata": {},
   "outputs": [],
   "source": [
    "g7.subgraph(g10)\n",
    "g7.edge('E', 'G', rank='same')"
   ]
  },
  {
   "cell_type": "code",
   "execution_count": 31,
   "metadata": {},
   "outputs": [
    {
     "data": {
      "image/svg+xml": [
       "<svg height=\"641pt\" viewBox=\"0.00 0.00 198.00 641.00\" width=\"198pt\" xmlns=\"http://www.w3.org/2000/svg\" xmlns:xlink=\"http://www.w3.org/1999/xlink\">\n",
       "<g class=\"graph\" id=\"graph0\" transform=\"scale(1 1) rotate(0) translate(4 637)\">\n",
       "<title>%3</title>\n",
       "<polygon fill=\"white\" points=\"-4,4 -4,-637 194,-637 194,4 -4,4\" stroke=\"none\"/>\n",
       "<text font-family=\"Times,serif\" font-size=\"16.00\" text-anchor=\"middle\" x=\"95\" y=\"-9.2\">A Fancy Graph</text>\n",
       "<!-- A -->\n",
       "<g class=\"node\" id=\"node1\"><title>A</title>\n",
       "<polygon fill=\"none\" points=\"63,-633 1,-633 1,-571 63,-571 63,-633\" stroke=\"black\"/>\n",
       "<text font-family=\"Helvetica,sans-Serif\" font-size=\"14.00\" text-anchor=\"middle\" x=\"32\" y=\"-598.3\">Node A</text>\n",
       "</g>\n",
       "<!-- B -->\n",
       "<g class=\"node\" id=\"node2\"><title>B</title>\n",
       "<polygon fill=\"none\" points=\"63,-522 1,-522 1,-460 63,-460 63,-522\" stroke=\"black\"/>\n",
       "<text font-family=\"Helvetica,sans-Serif\" font-size=\"14.00\" text-anchor=\"middle\" x=\"32\" y=\"-487.3\">Node B</text>\n",
       "</g>\n",
       "<!-- A&#45;&gt;B -->\n",
       "<g class=\"edge\" id=\"edge1\"><title>A-&gt;B</title>\n",
       "<path d=\"M32,-570.927C32,-559.112 32,-545.365 32,-532.687\" fill=\"none\" stroke=\"black\"/>\n",
       "<polygon fill=\"black\" points=\"32,-522.354 36.5001,-532.353 32,-527.354 32.0001,-532.354 32.0001,-532.354 32.0001,-532.354 32,-527.354 27.5001,-532.354 32,-522.354 32,-522.354\" stroke=\"black\"/>\n",
       "<text font-family=\"Courier,monospace\" font-size=\"12.00\" text-anchor=\"middle\" x=\"55\" y=\"-543.4\">Edge 1</text>\n",
       "</g>\n",
       "<!-- C -->\n",
       "<g class=\"node\" id=\"node3\"><title>C</title>\n",
       "<polygon fill=\"none\" points=\"63,-411 1,-411 1,-349 63,-349 63,-411\" stroke=\"black\"/>\n",
       "<text font-family=\"Helvetica,sans-Serif\" font-size=\"14.00\" text-anchor=\"middle\" x=\"32\" y=\"-376.3\">Node C</text>\n",
       "</g>\n",
       "<!-- B&#45;&gt;C -->\n",
       "<g class=\"edge\" id=\"edge2\"><title>B-&gt;C</title>\n",
       "<path d=\"M32,-459.927C32,-448.112 32,-434.365 32,-421.687\" fill=\"none\" stroke=\"black\"/>\n",
       "<polygon fill=\"black\" points=\"32,-411.354 36.5001,-421.353 32,-416.354 32.0001,-421.354 32.0001,-421.354 32.0001,-421.354 32,-416.354 27.5001,-421.354 32,-411.354 32,-411.354\" stroke=\"black\"/>\n",
       "<text font-family=\"Courier,monospace\" font-size=\"12.00\" text-anchor=\"middle\" x=\"55\" y=\"-432.4\">Edge 2</text>\n",
       "</g>\n",
       "<!-- D -->\n",
       "<g class=\"node\" id=\"node4\"><title>D</title>\n",
       "<polygon fill=\"none\" points=\"63,-300 1,-300 1,-238 63,-238 63,-300\" stroke=\"black\"/>\n",
       "<text font-family=\"Helvetica,sans-Serif\" font-size=\"14.00\" text-anchor=\"middle\" x=\"32\" y=\"-265.3\">Node D</text>\n",
       "</g>\n",
       "<!-- C&#45;&gt;D -->\n",
       "<g class=\"edge\" id=\"edge3\"><title>C-&gt;D</title>\n",
       "<path d=\"M32,-348.927C32,-337.112 32,-323.365 32,-310.687\" fill=\"none\" stroke=\"black\"/>\n",
       "<polygon fill=\"black\" points=\"32,-300.354 36.5001,-310.353 32,-305.354 32.0001,-310.354 32.0001,-310.354 32.0001,-310.354 32,-305.354 27.5001,-310.354 32,-300.354 32,-300.354\" stroke=\"black\"/>\n",
       "<text font-family=\"Courier,monospace\" font-size=\"12.00\" text-anchor=\"middle\" x=\"55\" y=\"-321.4\">Edge 3</text>\n",
       "</g>\n",
       "<!-- E -->\n",
       "<g class=\"node\" id=\"node5\"><title>E</title>\n",
       "<polygon fill=\"none\" points=\"63,-189 1,-189 1,-127 63,-127 63,-189\" stroke=\"black\"/>\n",
       "<text font-family=\"Helvetica,sans-Serif\" font-size=\"14.00\" text-anchor=\"middle\" x=\"32\" y=\"-154.3\">Node E</text>\n",
       "</g>\n",
       "<!-- D&#45;&gt;E -->\n",
       "<g class=\"edge\" id=\"edge4\"><title>D-&gt;E</title>\n",
       "<path d=\"M32,-237.927C32,-226.112 32,-212.365 32,-199.687\" fill=\"none\" stroke=\"black\"/>\n",
       "<polygon fill=\"black\" points=\"32,-189.354 36.5001,-199.353 32,-194.354 32.0001,-199.354 32.0001,-199.354 32.0001,-199.354 32,-194.354 27.5001,-199.354 32,-189.354 32,-189.354\" stroke=\"black\"/>\n",
       "<text font-family=\"Courier,monospace\" font-size=\"12.00\" text-anchor=\"middle\" x=\"55\" y=\"-210.4\">Edge 4</text>\n",
       "</g>\n",
       "<!-- G -->\n",
       "<g class=\"node\" id=\"node6\"><title>G</title>\n",
       "<polygon fill=\"none\" points=\"64,-90 0,-90 0,-26 64,-26 64,-90\" stroke=\"black\"/>\n",
       "<text font-family=\"Helvetica,sans-Serif\" font-size=\"14.00\" text-anchor=\"middle\" x=\"32\" y=\"-54.3\">Node G</text>\n",
       "</g>\n",
       "<!-- E&#45;&gt;G -->\n",
       "<g class=\"edge\" id=\"edge6\"><title>E-&gt;G</title>\n",
       "<path d=\"M32,-126.797C32,-118.47 32,-109.289 32,-100.445\" fill=\"none\" stroke=\"black\"/>\n",
       "<polygon fill=\"black\" points=\"32,-90.2888 36.5001,-100.289 32,-95.2888 32.0001,-100.289 32.0001,-100.289 32.0001,-100.289 32,-95.2888 27.5001,-100.289 32,-90.2888 32,-90.2888\" stroke=\"black\"/>\n",
       "</g>\n",
       "<!-- H -->\n",
       "<g class=\"node\" id=\"node7\"><title>H</title>\n",
       "<polygon fill=\"none\" points=\"190,-89 128,-89 128,-27 190,-27 190,-89\" stroke=\"black\"/>\n",
       "<text font-family=\"Helvetica,sans-Serif\" font-size=\"14.00\" text-anchor=\"middle\" x=\"159\" y=\"-54.3\">Node H</text>\n",
       "</g>\n",
       "<!-- G&#45;&gt;H -->\n",
       "<g class=\"edge\" id=\"edge5\"><title>G-&gt;H</title>\n",
       "<path d=\"M64.0475,-58C80.2341,-58 100.069,-58 117.416,-58\" fill=\"none\" stroke=\"black\"/>\n",
       "<polygon fill=\"black\" points=\"127.841,-58 117.841,-62.5001 122.841,-58 117.841,-58.0001 117.841,-58.0001 117.841,-58.0001 122.841,-58 117.841,-53.5001 127.841,-58 127.841,-58\" stroke=\"black\"/>\n",
       "<text font-family=\"Courier,monospace\" font-size=\"12.00\" text-anchor=\"middle\" x=\"96\" y=\"-64.4\">Edge 1</text>\n",
       "</g>\n",
       "</g>\n",
       "</svg>"
      ],
      "text/plain": [
       "<IPython.core.display.SVG object>"
      ]
     },
     "execution_count": 31,
     "metadata": {},
     "output_type": "execute_result"
    }
   ],
   "source": [
    "SVG(g7.render('img/g7'))"
   ]
  },
  {
   "cell_type": "code",
   "execution_count": 32,
   "metadata": {},
   "outputs": [
    {
     "data": {
      "image/svg+xml": [
       "<?xml version=\"1.0\" encoding=\"UTF-8\" standalone=\"no\"?>\n",
       "<!DOCTYPE svg PUBLIC \"-//W3C//DTD SVG 1.1//EN\"\n",
       " \"http://www.w3.org/Graphics/SVG/1.1/DTD/svg11.dtd\">\n",
       "<!-- Generated by graphviz version 2.38.0 (20140413.2041)\n",
       " -->\n",
       "<!-- Title: %3 Pages: 1 -->\n",
       "<svg width=\"198pt\" height=\"641pt\"\n",
       " viewBox=\"0.00 0.00 198.00 641.00\" xmlns=\"http://www.w3.org/2000/svg\" xmlns:xlink=\"http://www.w3.org/1999/xlink\">\n",
       "<g id=\"graph0\" class=\"graph\" transform=\"scale(1 1) rotate(0) translate(4 637)\">\n",
       "<title>%3</title>\n",
       "<polygon fill=\"white\" stroke=\"none\" points=\"-4,4 -4,-637 194,-637 194,4 -4,4\"/>\n",
       "<text text-anchor=\"middle\" x=\"95\" y=\"-9.2\" font-family=\"Times,serif\" font-size=\"16.00\">A Fancy Graph</text>\n",
       "<!-- A -->\n",
       "<g id=\"node1\" class=\"node\"><title>A</title>\n",
       "<polygon fill=\"none\" stroke=\"black\" points=\"63,-633 1,-633 1,-571 63,-571 63,-633\"/>\n",
       "<text text-anchor=\"middle\" x=\"32\" y=\"-598.3\" font-family=\"Helvetica,sans-Serif\" font-size=\"14.00\">Node A</text>\n",
       "</g>\n",
       "<!-- B -->\n",
       "<g id=\"node2\" class=\"node\"><title>B</title>\n",
       "<polygon fill=\"none\" stroke=\"black\" points=\"63,-522 1,-522 1,-460 63,-460 63,-522\"/>\n",
       "<text text-anchor=\"middle\" x=\"32\" y=\"-487.3\" font-family=\"Helvetica,sans-Serif\" font-size=\"14.00\">Node B</text>\n",
       "</g>\n",
       "<!-- A&#45;&gt;B -->\n",
       "<g id=\"edge1\" class=\"edge\"><title>A&#45;&gt;B</title>\n",
       "<path fill=\"none\" stroke=\"black\" d=\"M32,-570.927C32,-559.112 32,-545.365 32,-532.687\"/>\n",
       "<polygon fill=\"black\" stroke=\"black\" points=\"32,-522.354 36.5001,-532.353 32,-527.354 32.0001,-532.354 32.0001,-532.354 32.0001,-532.354 32,-527.354 27.5001,-532.354 32,-522.354 32,-522.354\"/>\n",
       "<text text-anchor=\"middle\" x=\"55\" y=\"-543.4\" font-family=\"Courier,monospace\" font-size=\"12.00\">Edge 1</text>\n",
       "</g>\n",
       "<!-- C -->\n",
       "<g id=\"node3\" class=\"node\"><title>C</title>\n",
       "<polygon fill=\"none\" stroke=\"black\" points=\"63,-411 1,-411 1,-349 63,-349 63,-411\"/>\n",
       "<text text-anchor=\"middle\" x=\"32\" y=\"-376.3\" font-family=\"Helvetica,sans-Serif\" font-size=\"14.00\">Node C</text>\n",
       "</g>\n",
       "<!-- B&#45;&gt;C -->\n",
       "<g id=\"edge2\" class=\"edge\"><title>B&#45;&gt;C</title>\n",
       "<path fill=\"none\" stroke=\"black\" d=\"M32,-459.927C32,-448.112 32,-434.365 32,-421.687\"/>\n",
       "<polygon fill=\"black\" stroke=\"black\" points=\"32,-411.354 36.5001,-421.353 32,-416.354 32.0001,-421.354 32.0001,-421.354 32.0001,-421.354 32,-416.354 27.5001,-421.354 32,-411.354 32,-411.354\"/>\n",
       "<text text-anchor=\"middle\" x=\"55\" y=\"-432.4\" font-family=\"Courier,monospace\" font-size=\"12.00\">Edge 2</text>\n",
       "</g>\n",
       "<!-- D -->\n",
       "<g id=\"node4\" class=\"node\"><title>D</title>\n",
       "<polygon fill=\"none\" stroke=\"black\" points=\"63,-300 1,-300 1,-238 63,-238 63,-300\"/>\n",
       "<text text-anchor=\"middle\" x=\"32\" y=\"-265.3\" font-family=\"Helvetica,sans-Serif\" font-size=\"14.00\">Node D</text>\n",
       "</g>\n",
       "<!-- C&#45;&gt;D -->\n",
       "<g id=\"edge3\" class=\"edge\"><title>C&#45;&gt;D</title>\n",
       "<path fill=\"none\" stroke=\"black\" d=\"M32,-348.927C32,-337.112 32,-323.365 32,-310.687\"/>\n",
       "<polygon fill=\"black\" stroke=\"black\" points=\"32,-300.354 36.5001,-310.353 32,-305.354 32.0001,-310.354 32.0001,-310.354 32.0001,-310.354 32,-305.354 27.5001,-310.354 32,-300.354 32,-300.354\"/>\n",
       "<text text-anchor=\"middle\" x=\"55\" y=\"-321.4\" font-family=\"Courier,monospace\" font-size=\"12.00\">Edge 3</text>\n",
       "</g>\n",
       "<!-- E -->\n",
       "<g id=\"node5\" class=\"node\"><title>E</title>\n",
       "<polygon fill=\"none\" stroke=\"black\" points=\"63,-189 1,-189 1,-127 63,-127 63,-189\"/>\n",
       "<text text-anchor=\"middle\" x=\"32\" y=\"-154.3\" font-family=\"Helvetica,sans-Serif\" font-size=\"14.00\">Node E</text>\n",
       "</g>\n",
       "<!-- D&#45;&gt;E -->\n",
       "<g id=\"edge4\" class=\"edge\"><title>D&#45;&gt;E</title>\n",
       "<path fill=\"none\" stroke=\"black\" d=\"M32,-237.927C32,-226.112 32,-212.365 32,-199.687\"/>\n",
       "<polygon fill=\"black\" stroke=\"black\" points=\"32,-189.354 36.5001,-199.353 32,-194.354 32.0001,-199.354 32.0001,-199.354 32.0001,-199.354 32,-194.354 27.5001,-199.354 32,-189.354 32,-189.354\"/>\n",
       "<text text-anchor=\"middle\" x=\"55\" y=\"-210.4\" font-family=\"Courier,monospace\" font-size=\"12.00\">Edge 4</text>\n",
       "</g>\n",
       "<!-- G -->\n",
       "<g id=\"node6\" class=\"node\"><title>G</title>\n",
       "<polygon fill=\"none\" stroke=\"black\" points=\"64,-90 0,-90 0,-26 64,-26 64,-90\"/>\n",
       "<text text-anchor=\"middle\" x=\"32\" y=\"-54.3\" font-family=\"Helvetica,sans-Serif\" font-size=\"14.00\">Node G</text>\n",
       "</g>\n",
       "<!-- E&#45;&gt;G -->\n",
       "<g id=\"edge6\" class=\"edge\"><title>E&#45;&gt;G</title>\n",
       "<path fill=\"none\" stroke=\"black\" d=\"M32,-126.797C32,-118.47 32,-109.289 32,-100.445\"/>\n",
       "<polygon fill=\"black\" stroke=\"black\" points=\"32,-90.2888 36.5001,-100.289 32,-95.2888 32.0001,-100.289 32.0001,-100.289 32.0001,-100.289 32,-95.2888 27.5001,-100.289 32,-90.2888 32,-90.2888\"/>\n",
       "</g>\n",
       "<!-- H -->\n",
       "<g id=\"node7\" class=\"node\"><title>H</title>\n",
       "<polygon fill=\"none\" stroke=\"black\" points=\"190,-89 128,-89 128,-27 190,-27 190,-89\"/>\n",
       "<text text-anchor=\"middle\" x=\"159\" y=\"-54.3\" font-family=\"Helvetica,sans-Serif\" font-size=\"14.00\">Node H</text>\n",
       "</g>\n",
       "<!-- G&#45;&gt;H -->\n",
       "<g id=\"edge5\" class=\"edge\"><title>G&#45;&gt;H</title>\n",
       "<path fill=\"none\" stroke=\"black\" d=\"M64.0475,-58C80.2341,-58 100.069,-58 117.416,-58\"/>\n",
       "<polygon fill=\"black\" stroke=\"black\" points=\"127.841,-58 117.841,-62.5001 122.841,-58 117.841,-58.0001 117.841,-58.0001 117.841,-58.0001 122.841,-58 117.841,-53.5001 127.841,-58 127.841,-58\"/>\n",
       "<text text-anchor=\"middle\" x=\"96\" y=\"-64.4\" font-family=\"Courier,monospace\" font-size=\"12.00\">Edge 1</text>\n",
       "</g>\n",
       "</g>\n",
       "</svg>\n"
      ],
      "text/plain": [
       "<graphviz.dot.Digraph at 0x7f8708526898>"
      ]
     },
     "execution_count": 32,
     "metadata": {},
     "output_type": "execute_result"
    }
   ],
   "source": [
    "g7"
   ]
  },
  {
   "cell_type": "code",
   "execution_count": 33,
   "metadata": {},
   "outputs": [
    {
     "data": {
      "image/svg+xml": [
       "<?xml version=\"1.0\" encoding=\"UTF-8\" standalone=\"no\"?>\n",
       "<!DOCTYPE svg PUBLIC \"-//W3C//DTD SVG 1.1//EN\"\n",
       " \"http://www.w3.org/Graphics/SVG/1.1/DTD/svg11.dtd\">\n",
       "<!-- Generated by graphviz version 2.38.0 (20140413.2041)\n",
       " -->\n",
       "<!-- Title: %3 Pages: 1 -->\n",
       "<svg width=\"122pt\" height=\"209pt\"\n",
       " viewBox=\"0.00 0.00 122.00 209.00\" xmlns=\"http://www.w3.org/2000/svg\" xmlns:xlink=\"http://www.w3.org/1999/xlink\">\n",
       "<g id=\"graph0\" class=\"graph\" transform=\"scale(1 1) rotate(0) translate(4 205)\">\n",
       "<title>%3</title>\n",
       "<polygon fill=\"white\" stroke=\"none\" points=\"-4,4 -4,-205 118,-205 118,4 -4,4\"/>\n",
       "<text text-anchor=\"middle\" x=\"57\" y=\"-9.2\" font-family=\"Times,serif\" font-size=\"16.00\">A Fancy Graph</text>\n",
       "<!-- G -->\n",
       "<g id=\"node1\" class=\"node\"><title>G</title>\n",
       "<polygon fill=\"none\" stroke=\"black\" points=\"82,-201 18,-201 18,-137 82,-137 82,-201\"/>\n",
       "<text text-anchor=\"middle\" x=\"50\" y=\"-165.3\" font-family=\"Helvetica,sans-Serif\" font-size=\"14.00\">Node G</text>\n",
       "</g>\n",
       "<!-- H -->\n",
       "<g id=\"node2\" class=\"node\"><title>H</title>\n",
       "<polygon fill=\"none\" stroke=\"black\" points=\"81,-88 19,-88 19,-26 81,-26 81,-88\"/>\n",
       "<text text-anchor=\"middle\" x=\"50\" y=\"-53.3\" font-family=\"Helvetica,sans-Serif\" font-size=\"14.00\">Node H</text>\n",
       "</g>\n",
       "<!-- G&#45;&gt;H -->\n",
       "<g id=\"edge1\" class=\"edge\"><title>G&#45;&gt;H</title>\n",
       "<path fill=\"none\" stroke=\"black\" d=\"M50,-136.773C50,-124.863 50,-111.112 50,-98.4657\"/>\n",
       "<polygon fill=\"black\" stroke=\"black\" points=\"50,-88.1671 54.5001,-98.167 50,-93.1671 50.0001,-98.1671 50.0001,-98.1671 50.0001,-98.1671 50,-93.1671 45.5001,-98.1671 50,-88.1671 50,-88.1671\"/>\n",
       "<text text-anchor=\"middle\" x=\"73\" y=\"-109.4\" font-family=\"Courier,monospace\" font-size=\"12.00\">Edge 1</text>\n",
       "</g>\n",
       "</g>\n",
       "</svg>\n"
      ],
      "text/plain": [
       "<graphviz.dot.Digraph at 0x7f8708526710>"
      ]
     },
     "execution_count": 33,
     "metadata": {},
     "output_type": "execute_result"
    }
   ],
   "source": [
    "g10"
   ]
  },
  {
   "cell_type": "code",
   "execution_count": null,
   "metadata": {
    "collapsed": true
   },
   "outputs": [],
   "source": [
    "g11 = add_edges(\n",
    "    add_nodes(digraph(), [\n",
    "        ('I', {'label': 'Node I'}),\n",
    "        ('J', {'label': 'Node J'}),\n",
    "     \n",
    "    ]),\n",
    "    [\n",
    "        (('I', 'J'), {'label': 'Edge 1'}),\n",
    "    ]\n",
    ")"
   ]
  }
 ],
 "metadata": {
  "kernelspec": {
   "display_name": "Python 3",
   "language": "python",
   "name": "python3"
  },
  "language_info": {
   "codemirror_mode": {
    "name": "ipython",
    "version": 3
   },
   "file_extension": ".py",
   "mimetype": "text/x-python",
   "name": "python",
   "nbconvert_exporter": "python",
   "pygments_lexer": "ipython3",
   "version": "3.5.2"
  }
 },
 "nbformat": 4,
 "nbformat_minor": 2
}
